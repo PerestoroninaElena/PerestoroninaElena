{
  "cells": [
    {
      "cell_type": "markdown",
      "metadata": {
        "id": "ytudIg_PG_Rm"
      },
      "source": [
        "# ОПИСАНИЕ ПРОЕКТА #"
      ]
    },
    {
      "cell_type": "markdown",
      "metadata": {
        "id": "qMzwMwfwG_Rn"
      },
      "source": [
        "## Анализ данных АВ-теста, проведенного в крупном интернет-магазине ##"
      ]
    },
    {
      "cell_type": "markdown",
      "metadata": {
        "id": "UPoTAbDYG_Ro"
      },
      "source": [
        "Задача данного проекта - приоритизировать гипотезы для увеличения выручки крупного интернет-магазина, подготовленные совместно с отделом маркетинга. Для приоритизации гипотез будут применены фреймфорки ICE и RICE (с изучением и рассмотрением изменений   при применении RICE вместо ICE). Также будут и проанализированы результаты A/B-теста: мы проанализируем, как ведут себя группа А и группа В, к которой применили тестируемую гипотезу, как и на какие показатели повлияла данная гипотеза (в жданном случае мы рассматриваем среднее количество заказов на пользователя и средний чек), привело ли изменение к положительной динамике и росту выручки, как и чем закончить тестирование.  "
      ]
    },
    {
      "cell_type": "code",
      "execution_count": null,
      "metadata": {
        "id": "Oabf_yz9G_Rp"
      },
      "outputs": [],
      "source": [
        "# импортируем необходимые библиотеки\n",
        "import pandas as pd\n",
        "import numpy as np\n",
        "import datetime as dt\n",
        "#from datetime import date, datetime as dt\n",
        "from matplotlib import pyplot as plt\n",
        "import math\n",
        "import scipy.stats as stats\n",
        "import warnings\n",
        "warnings.filterwarnings(\"ignore\")"
      ]
    },
    {
      "cell_type": "code",
      "execution_count": null,
      "metadata": {
        "id": "xw8ZqFojG_Rq"
      },
      "outputs": [],
      "source": [
        "# Загрузим необходимые датасеты\n",
        "hypothesis=pd.read_csv('/datasets/hypothesis.csv')\n",
        "orders=pd.read_csv('/datasets/orders.csv')\n",
        "visitors=pd.read_csv('/datasets/visitors.csv')"
      ]
    },
    {
      "cell_type": "code",
      "execution_count": null,
      "metadata": {
        "id": "ufzIfnVTG_Rq"
      },
      "outputs": [],
      "source": [
        "# определим функцию для описания и проверки датасетов\n",
        "def data_review (data):\n",
        "    print('Первые 10 строк:')\n",
        "    display(data.head(10))\n",
        "    print('Последние 10 строк:')\n",
        "    display(data.tail(10))\n",
        "    print('ТИПЫ ДАННЫХ\\n')\n",
        "    display(data.info())\n",
        "#    print('СТАТИСТИЧЕСКАЯ СВОДКА')\n",
        "#   display(data.describe()) - строка в данном проекте не нужна\n",
        "    print('ПРОПУСКИ\\n')\n",
        "\n",
        "    for element in data.columns:\n",
        "        if data[element].isna().sum() > 0:\n",
        "            print(element, ' - ', data[element].isna().sum(), 'пропусков')\n",
        "            count = +1\n",
        "        else: print('Пропусков НЕТ\\n')\n",
        "    print('\\nПРОЦЕНТ ПРОПУСКОВ ИЗ ВСЕГО ДАТАСЕТА')\n",
        "    display(data.isna().mean().sort_values(ascending=False)*100)\n",
        "    print('\\nДУБЛИКАТЫ\\n')\n",
        "    if data.duplicated().sum() > 0:\n",
        "        print('Дубликатов: ', data.duplicated().sum())\n",
        "    else:\n",
        "        print('Дубликатов НЕТ')"
      ]
    },
    {
      "cell_type": "code",
      "execution_count": null,
      "metadata": {
        "id": "ggaQO1lEG_Rq",
        "outputId": "352cf426-bf56-4bc2-acca-d60021c3f3cc"
      },
      "outputs": [
        {
          "name": "stdout",
          "output_type": "stream",
          "text": [
            "Первые 10 строк:\n"
          ]
        },
        {
          "data": {
            "text/html": [
              "<div>\n",
              "<style scoped>\n",
              "    .dataframe tbody tr th:only-of-type {\n",
              "        vertical-align: middle;\n",
              "    }\n",
              "\n",
              "    .dataframe tbody tr th {\n",
              "        vertical-align: top;\n",
              "    }\n",
              "\n",
              "    .dataframe thead th {\n",
              "        text-align: right;\n",
              "    }\n",
              "</style>\n",
              "<table border=\"1\" class=\"dataframe\">\n",
              "  <thead>\n",
              "    <tr style=\"text-align: right;\">\n",
              "      <th></th>\n",
              "      <th>Hypothesis</th>\n",
              "      <th>Reach</th>\n",
              "      <th>Impact</th>\n",
              "      <th>Confidence</th>\n",
              "      <th>Efforts</th>\n",
              "    </tr>\n",
              "  </thead>\n",
              "  <tbody>\n",
              "    <tr>\n",
              "      <th>0</th>\n",
              "      <td>Добавить два новых канала привлечения трафика,...</td>\n",
              "      <td>3</td>\n",
              "      <td>10</td>\n",
              "      <td>8</td>\n",
              "      <td>6</td>\n",
              "    </tr>\n",
              "    <tr>\n",
              "      <th>1</th>\n",
              "      <td>Запустить собственную службу доставки, что сок...</td>\n",
              "      <td>2</td>\n",
              "      <td>5</td>\n",
              "      <td>4</td>\n",
              "      <td>10</td>\n",
              "    </tr>\n",
              "    <tr>\n",
              "      <th>2</th>\n",
              "      <td>Добавить блоки рекомендаций товаров на сайт ин...</td>\n",
              "      <td>8</td>\n",
              "      <td>3</td>\n",
              "      <td>7</td>\n",
              "      <td>3</td>\n",
              "    </tr>\n",
              "    <tr>\n",
              "      <th>3</th>\n",
              "      <td>Изменить структура категорий, что увеличит кон...</td>\n",
              "      <td>8</td>\n",
              "      <td>3</td>\n",
              "      <td>3</td>\n",
              "      <td>8</td>\n",
              "    </tr>\n",
              "    <tr>\n",
              "      <th>4</th>\n",
              "      <td>Изменить цвет фона главной страницы, чтобы уве...</td>\n",
              "      <td>3</td>\n",
              "      <td>1</td>\n",
              "      <td>1</td>\n",
              "      <td>1</td>\n",
              "    </tr>\n",
              "    <tr>\n",
              "      <th>5</th>\n",
              "      <td>Добавить страницу отзывов клиентов о магазине,...</td>\n",
              "      <td>3</td>\n",
              "      <td>2</td>\n",
              "      <td>2</td>\n",
              "      <td>3</td>\n",
              "    </tr>\n",
              "    <tr>\n",
              "      <th>6</th>\n",
              "      <td>Показать на главной странице баннеры с актуаль...</td>\n",
              "      <td>5</td>\n",
              "      <td>3</td>\n",
              "      <td>8</td>\n",
              "      <td>3</td>\n",
              "    </tr>\n",
              "    <tr>\n",
              "      <th>7</th>\n",
              "      <td>Добавить форму подписки на все основные страни...</td>\n",
              "      <td>10</td>\n",
              "      <td>7</td>\n",
              "      <td>8</td>\n",
              "      <td>5</td>\n",
              "    </tr>\n",
              "    <tr>\n",
              "      <th>8</th>\n",
              "      <td>Запустить акцию, дающую скидку на товар в день...</td>\n",
              "      <td>1</td>\n",
              "      <td>9</td>\n",
              "      <td>9</td>\n",
              "      <td>5</td>\n",
              "    </tr>\n",
              "  </tbody>\n",
              "</table>\n",
              "</div>"
            ],
            "text/plain": [
              "                                          Hypothesis  Reach  Impact  \\\n",
              "0  Добавить два новых канала привлечения трафика,...      3      10   \n",
              "1  Запустить собственную службу доставки, что сок...      2       5   \n",
              "2  Добавить блоки рекомендаций товаров на сайт ин...      8       3   \n",
              "3  Изменить структура категорий, что увеличит кон...      8       3   \n",
              "4  Изменить цвет фона главной страницы, чтобы уве...      3       1   \n",
              "5  Добавить страницу отзывов клиентов о магазине,...      3       2   \n",
              "6  Показать на главной странице баннеры с актуаль...      5       3   \n",
              "7  Добавить форму подписки на все основные страни...     10       7   \n",
              "8  Запустить акцию, дающую скидку на товар в день...      1       9   \n",
              "\n",
              "   Confidence  Efforts  \n",
              "0           8        6  \n",
              "1           4       10  \n",
              "2           7        3  \n",
              "3           3        8  \n",
              "4           1        1  \n",
              "5           2        3  \n",
              "6           8        3  \n",
              "7           8        5  \n",
              "8           9        5  "
            ]
          },
          "metadata": {},
          "output_type": "display_data"
        },
        {
          "name": "stdout",
          "output_type": "stream",
          "text": [
            "Последние 10 строк:\n"
          ]
        },
        {
          "data": {
            "text/html": [
              "<div>\n",
              "<style scoped>\n",
              "    .dataframe tbody tr th:only-of-type {\n",
              "        vertical-align: middle;\n",
              "    }\n",
              "\n",
              "    .dataframe tbody tr th {\n",
              "        vertical-align: top;\n",
              "    }\n",
              "\n",
              "    .dataframe thead th {\n",
              "        text-align: right;\n",
              "    }\n",
              "</style>\n",
              "<table border=\"1\" class=\"dataframe\">\n",
              "  <thead>\n",
              "    <tr style=\"text-align: right;\">\n",
              "      <th></th>\n",
              "      <th>Hypothesis</th>\n",
              "      <th>Reach</th>\n",
              "      <th>Impact</th>\n",
              "      <th>Confidence</th>\n",
              "      <th>Efforts</th>\n",
              "    </tr>\n",
              "  </thead>\n",
              "  <tbody>\n",
              "    <tr>\n",
              "      <th>0</th>\n",
              "      <td>Добавить два новых канала привлечения трафика,...</td>\n",
              "      <td>3</td>\n",
              "      <td>10</td>\n",
              "      <td>8</td>\n",
              "      <td>6</td>\n",
              "    </tr>\n",
              "    <tr>\n",
              "      <th>1</th>\n",
              "      <td>Запустить собственную службу доставки, что сок...</td>\n",
              "      <td>2</td>\n",
              "      <td>5</td>\n",
              "      <td>4</td>\n",
              "      <td>10</td>\n",
              "    </tr>\n",
              "    <tr>\n",
              "      <th>2</th>\n",
              "      <td>Добавить блоки рекомендаций товаров на сайт ин...</td>\n",
              "      <td>8</td>\n",
              "      <td>3</td>\n",
              "      <td>7</td>\n",
              "      <td>3</td>\n",
              "    </tr>\n",
              "    <tr>\n",
              "      <th>3</th>\n",
              "      <td>Изменить структура категорий, что увеличит кон...</td>\n",
              "      <td>8</td>\n",
              "      <td>3</td>\n",
              "      <td>3</td>\n",
              "      <td>8</td>\n",
              "    </tr>\n",
              "    <tr>\n",
              "      <th>4</th>\n",
              "      <td>Изменить цвет фона главной страницы, чтобы уве...</td>\n",
              "      <td>3</td>\n",
              "      <td>1</td>\n",
              "      <td>1</td>\n",
              "      <td>1</td>\n",
              "    </tr>\n",
              "    <tr>\n",
              "      <th>5</th>\n",
              "      <td>Добавить страницу отзывов клиентов о магазине,...</td>\n",
              "      <td>3</td>\n",
              "      <td>2</td>\n",
              "      <td>2</td>\n",
              "      <td>3</td>\n",
              "    </tr>\n",
              "    <tr>\n",
              "      <th>6</th>\n",
              "      <td>Показать на главной странице баннеры с актуаль...</td>\n",
              "      <td>5</td>\n",
              "      <td>3</td>\n",
              "      <td>8</td>\n",
              "      <td>3</td>\n",
              "    </tr>\n",
              "    <tr>\n",
              "      <th>7</th>\n",
              "      <td>Добавить форму подписки на все основные страни...</td>\n",
              "      <td>10</td>\n",
              "      <td>7</td>\n",
              "      <td>8</td>\n",
              "      <td>5</td>\n",
              "    </tr>\n",
              "    <tr>\n",
              "      <th>8</th>\n",
              "      <td>Запустить акцию, дающую скидку на товар в день...</td>\n",
              "      <td>1</td>\n",
              "      <td>9</td>\n",
              "      <td>9</td>\n",
              "      <td>5</td>\n",
              "    </tr>\n",
              "  </tbody>\n",
              "</table>\n",
              "</div>"
            ],
            "text/plain": [
              "                                          Hypothesis  Reach  Impact  \\\n",
              "0  Добавить два новых канала привлечения трафика,...      3      10   \n",
              "1  Запустить собственную службу доставки, что сок...      2       5   \n",
              "2  Добавить блоки рекомендаций товаров на сайт ин...      8       3   \n",
              "3  Изменить структура категорий, что увеличит кон...      8       3   \n",
              "4  Изменить цвет фона главной страницы, чтобы уве...      3       1   \n",
              "5  Добавить страницу отзывов клиентов о магазине,...      3       2   \n",
              "6  Показать на главной странице баннеры с актуаль...      5       3   \n",
              "7  Добавить форму подписки на все основные страни...     10       7   \n",
              "8  Запустить акцию, дающую скидку на товар в день...      1       9   \n",
              "\n",
              "   Confidence  Efforts  \n",
              "0           8        6  \n",
              "1           4       10  \n",
              "2           7        3  \n",
              "3           3        8  \n",
              "4           1        1  \n",
              "5           2        3  \n",
              "6           8        3  \n",
              "7           8        5  \n",
              "8           9        5  "
            ]
          },
          "metadata": {},
          "output_type": "display_data"
        },
        {
          "name": "stdout",
          "output_type": "stream",
          "text": [
            "ТИПЫ ДАННЫХ\n",
            "\n",
            "<class 'pandas.core.frame.DataFrame'>\n",
            "RangeIndex: 9 entries, 0 to 8\n",
            "Data columns (total 5 columns):\n",
            " #   Column      Non-Null Count  Dtype \n",
            "---  ------      --------------  ----- \n",
            " 0   Hypothesis  9 non-null      object\n",
            " 1   Reach       9 non-null      int64 \n",
            " 2   Impact      9 non-null      int64 \n",
            " 3   Confidence  9 non-null      int64 \n",
            " 4   Efforts     9 non-null      int64 \n",
            "dtypes: int64(4), object(1)\n",
            "memory usage: 488.0+ bytes\n"
          ]
        },
        {
          "data": {
            "text/plain": [
              "None"
            ]
          },
          "metadata": {},
          "output_type": "display_data"
        },
        {
          "name": "stdout",
          "output_type": "stream",
          "text": [
            "ПРОПУСКИ\n",
            "\n",
            "Пропусков НЕТ\n",
            "\n",
            "Пропусков НЕТ\n",
            "\n",
            "Пропусков НЕТ\n",
            "\n",
            "Пропусков НЕТ\n",
            "\n",
            "Пропусков НЕТ\n",
            "\n",
            "\n",
            "ПРОЦЕНТ ПРОПУСКОВ ИЗ ВСЕГО ДАТАСЕТА\n"
          ]
        },
        {
          "data": {
            "text/plain": [
              "Hypothesis    0.0\n",
              "Reach         0.0\n",
              "Impact        0.0\n",
              "Confidence    0.0\n",
              "Efforts       0.0\n",
              "dtype: float64"
            ]
          },
          "metadata": {},
          "output_type": "display_data"
        },
        {
          "name": "stdout",
          "output_type": "stream",
          "text": [
            "\n",
            "ДУБЛИКАТЫ\n",
            "\n",
            "Дубликатов НЕТ\n"
          ]
        }
      ],
      "source": [
        "data_review (hypothesis)"
      ]
    },
    {
      "cell_type": "markdown",
      "metadata": {
        "id": "EqzIbLUHG_Rr"
      },
      "source": [
        "Проверка датасета hypothesis показывает, что в нем 9 строк (по количеству гипотез), пропусков и дубликатов нет. Изменим только названия колонок на нижний регистр"
      ]
    },
    {
      "cell_type": "code",
      "execution_count": null,
      "metadata": {
        "id": "3cex2B2TG_Rr",
        "outputId": "6bf6b43c-c744-4e92-c9e3-051db24c7c37"
      },
      "outputs": [
        {
          "name": "stdout",
          "output_type": "stream",
          "text": [
            "                                                                                            hypothesis  \\\n",
            "0   Добавить два новых канала привлечения трафика, что позволит привлекать на 30% больше пользователей   \n",
            "1                            Запустить собственную службу доставки, что сократит срок доставки заказов   \n",
            "2  Добавить блоки рекомендаций товаров на сайт интернет магазина, чтобы повысить конверсию и средни...   \n",
            "3  Изменить структура категорий, что увеличит конверсию, т.к. пользователи быстрее найдут нужный товар   \n",
            "4                     Изменить цвет фона главной страницы, чтобы увеличить вовлеченность пользователей   \n",
            "5             Добавить страницу отзывов клиентов о магазине, что позволит увеличить количество заказов   \n",
            "6  Показать на главной странице баннеры с актуальными акциями и распродажами, чтобы увеличить конве...   \n",
            "7     Добавить форму подписки на все основные страницы, чтобы собрать базу клиентов для email-рассылок   \n",
            "8                                              Запустить акцию, дающую скидку на товар в день рождения   \n",
            "\n",
            "   reach  impact  confidence  efforts  \n",
            "0      3      10           8        6  \n",
            "1      2       5           4       10  \n",
            "2      8       3           7        3  \n",
            "3      8       3           3        8  \n",
            "4      3       1           1        1  \n",
            "5      3       2           2        3  \n",
            "6      5       3           8        3  \n",
            "7     10       7           8        5  \n",
            "8      1       9           9        5  \n"
          ]
        }
      ],
      "source": [
        "hypothesis.columns = map(str.lower, hypothesis.columns)\n",
        "pd.options.display.max_colwidth = 100\n",
        "print (hypothesis)"
      ]
    },
    {
      "cell_type": "markdown",
      "metadata": {
        "id": "S7FQBn8uG_Rs"
      },
      "source": [
        "## ЧАСТЬ 1. Приоритизация гипотез ##"
      ]
    },
    {
      "cell_type": "markdown",
      "metadata": {
        "id": "cdnCKYfvG_Rs"
      },
      "source": [
        "Применим фреймворк ICE для приоритизации гипотез и отсортируем их по убыванию приоритета."
      ]
    },
    {
      "cell_type": "markdown",
      "metadata": {
        "id": "Y7zYgBgQG_Rs"
      },
      "source": [
        "![image.png](data:image/png;base64,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)"
      ]
    },
    {
      "cell_type": "code",
      "execution_count": null,
      "metadata": {
        "id": "JKF1gtRlG_Rs",
        "outputId": "6c252dd0-be18-4015-8127-228fd9462f60"
      },
      "outputs": [
        {
          "name": "stdout",
          "output_type": "stream",
          "text": [
            "                                                                                            hypothesis  \\\n",
            "8                                              Запустить акцию, дающую скидку на товар в день рождения   \n",
            "0   Добавить два новых канала привлечения трафика, что позволит привлекать на 30% больше пользователей   \n",
            "7     Добавить форму подписки на все основные страницы, чтобы собрать базу клиентов для email-рассылок   \n",
            "6  Показать на главной странице баннеры с актуальными акциями и распродажами, чтобы увеличить конве...   \n",
            "2  Добавить блоки рекомендаций товаров на сайт интернет магазина, чтобы повысить конверсию и средни...   \n",
            "1                            Запустить собственную службу доставки, что сократит срок доставки заказов   \n",
            "5             Добавить страницу отзывов клиентов о магазине, что позволит увеличить количество заказов   \n",
            "3  Изменить структура категорий, что увеличит конверсию, т.к. пользователи быстрее найдут нужный товар   \n",
            "4                     Изменить цвет фона главной страницы, чтобы увеличить вовлеченность пользователей   \n",
            "\n",
            "     ICE  \n",
            "8  16.20  \n",
            "0  13.33  \n",
            "7  11.20  \n",
            "6   8.00  \n",
            "2   7.00  \n",
            "1   2.00  \n",
            "5   1.33  \n",
            "3   1.12  \n",
            "4   1.00  \n"
          ]
        }
      ],
      "source": [
        "hypothesis['ICE']=round((hypothesis['impact']*hypothesis['confidence'])/hypothesis['efforts'], 2)\n",
        "print (hypothesis[['hypothesis','ICE']].sort_values(by='ICE', ascending=False))"
      ]
    },
    {
      "cell_type": "markdown",
      "metadata": {
        "id": "VJxgmzpgG_Rt"
      },
      "source": [
        "Применим фреймворк RICE для приоритизации гипотез. Отсортируйте их по убыванию приоритета."
      ]
    },
    {
      "cell_type": "markdown",
      "metadata": {
        "id": "NMPVocw6G_Rt"
      },
      "source": [
        "![image.png](data:image/png;base64,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)"
      ]
    },
    {
      "cell_type": "code",
      "execution_count": null,
      "metadata": {
        "id": "htSo_AsyG_Rt",
        "outputId": "2968178c-bc87-47f4-c5f3-b3926b998bee"
      },
      "outputs": [
        {
          "name": "stdout",
          "output_type": "stream",
          "text": [
            "                                                                                            hypothesis  \\\n",
            "7     Добавить форму подписки на все основные страницы, чтобы собрать базу клиентов для email-рассылок   \n",
            "2  Добавить блоки рекомендаций товаров на сайт интернет магазина, чтобы повысить конверсию и средни...   \n",
            "0   Добавить два новых канала привлечения трафика, что позволит привлекать на 30% больше пользователей   \n",
            "6  Показать на главной странице баннеры с актуальными акциями и распродажами, чтобы увеличить конве...   \n",
            "8                                              Запустить акцию, дающую скидку на товар в день рождения   \n",
            "3  Изменить структура категорий, что увеличит конверсию, т.к. пользователи быстрее найдут нужный товар   \n",
            "1                            Запустить собственную службу доставки, что сократит срок доставки заказов   \n",
            "5             Добавить страницу отзывов клиентов о магазине, что позволит увеличить количество заказов   \n",
            "4                     Изменить цвет фона главной страницы, чтобы увеличить вовлеченность пользователей   \n",
            "\n",
            "    RICE  \n",
            "7  112.0  \n",
            "2   56.0  \n",
            "0   40.0  \n",
            "6   40.0  \n",
            "8   16.2  \n",
            "3    9.0  \n",
            "1    4.0  \n",
            "5    4.0  \n",
            "4    3.0  \n"
          ]
        }
      ],
      "source": [
        "hypothesis['RICE']=(hypothesis['reach']*hypothesis['impact']*hypothesis['confidence'])/hypothesis['efforts']\n",
        "print (hypothesis[['hypothesis','RICE']].sort_values(by='RICE', ascending=False))"
      ]
    },
    {
      "cell_type": "code",
      "execution_count": null,
      "metadata": {
        "id": "3NlrsQsuG_Rt",
        "outputId": "d6430037-af5f-4fc0-f85e-db9141de03e3"
      },
      "outputs": [
        {
          "name": "stdout",
          "output_type": "stream",
          "text": [
            "Изменить структура категорий, что увеличит конверсию, т.к. пользователи быстрее найдут нужный товар\n"
          ]
        }
      ],
      "source": [
        "print (hypothesis.loc[3,'hypothesis'])  #вспомогательная строка, чтобы иметь под рукой полное название гипотезы"
      ]
    },
    {
      "cell_type": "markdown",
      "metadata": {
        "id": "RCbUk5OpG_Rt"
      },
      "source": [
        "Как изменилась приоритизация гипотез при применении RICE вместо ICE: гипотеза \"Добавить форму подписки на все основные страницы, чтобы собрать базу клиентов для email-рассылок\"  переместилась с 3го места на 1е из-за того, что компонент охвата Reach у данной гипотезы равен 10. Такая же ситуация у гипотезы\" Добавить блоки рекомендаций товаров на сайт интернет магазина, чтобы повысить конверсию и средний чек заказа (Reach = 8). При этом высокий параметр охвата не сильно приоритизировал гипотезу \"Изменить структура категорий, что увеличит конверсию, т.к. пользователи быстрее найдут нужный товар\", т.к. по ней компонент затратности Effort высок и нивелирует компонент охвата в отношении привлекательности гипотезы.  "
      ]
    },
    {
      "cell_type": "markdown",
      "metadata": {
        "id": "EAcrDMxTG_Ru"
      },
      "source": [
        "## ЧАСТЬ 2. Анализ А/В-теста"
      ]
    },
    {
      "cell_type": "markdown",
      "metadata": {
        "id": "sD_N-ZULG_Ru"
      },
      "source": [
        "Мы провели A/B-тест и получили результаты, которые описаны в файлах /datasets/orders.csv и /datasets/visitors.csv.\n",
        "Задача - проанализировать A/B-тест:"
      ]
    },
    {
      "cell_type": "code",
      "execution_count": null,
      "metadata": {
        "id": "Y3R_HweTG_Ru",
        "outputId": "e7887e11-eb58-4289-cf65-82611100a9d5"
      },
      "outputs": [
        {
          "name": "stdout",
          "output_type": "stream",
          "text": [
            "Первые 10 строк:\n"
          ]
        },
        {
          "data": {
            "text/html": [
              "<div>\n",
              "<style scoped>\n",
              "    .dataframe tbody tr th:only-of-type {\n",
              "        vertical-align: middle;\n",
              "    }\n",
              "\n",
              "    .dataframe tbody tr th {\n",
              "        vertical-align: top;\n",
              "    }\n",
              "\n",
              "    .dataframe thead th {\n",
              "        text-align: right;\n",
              "    }\n",
              "</style>\n",
              "<table border=\"1\" class=\"dataframe\">\n",
              "  <thead>\n",
              "    <tr style=\"text-align: right;\">\n",
              "      <th></th>\n",
              "      <th>transactionId</th>\n",
              "      <th>visitorId</th>\n",
              "      <th>date</th>\n",
              "      <th>revenue</th>\n",
              "      <th>group</th>\n",
              "    </tr>\n",
              "  </thead>\n",
              "  <tbody>\n",
              "    <tr>\n",
              "      <th>0</th>\n",
              "      <td>3667963787</td>\n",
              "      <td>3312258926</td>\n",
              "      <td>2019-08-15</td>\n",
              "      <td>1650</td>\n",
              "      <td>B</td>\n",
              "    </tr>\n",
              "    <tr>\n",
              "      <th>1</th>\n",
              "      <td>2804400009</td>\n",
              "      <td>3642806036</td>\n",
              "      <td>2019-08-15</td>\n",
              "      <td>730</td>\n",
              "      <td>B</td>\n",
              "    </tr>\n",
              "    <tr>\n",
              "      <th>2</th>\n",
              "      <td>2961555356</td>\n",
              "      <td>4069496402</td>\n",
              "      <td>2019-08-15</td>\n",
              "      <td>400</td>\n",
              "      <td>A</td>\n",
              "    </tr>\n",
              "    <tr>\n",
              "      <th>3</th>\n",
              "      <td>3797467345</td>\n",
              "      <td>1196621759</td>\n",
              "      <td>2019-08-15</td>\n",
              "      <td>9759</td>\n",
              "      <td>B</td>\n",
              "    </tr>\n",
              "    <tr>\n",
              "      <th>4</th>\n",
              "      <td>2282983706</td>\n",
              "      <td>2322279887</td>\n",
              "      <td>2019-08-15</td>\n",
              "      <td>2308</td>\n",
              "      <td>B</td>\n",
              "    </tr>\n",
              "    <tr>\n",
              "      <th>5</th>\n",
              "      <td>182168103</td>\n",
              "      <td>935554773</td>\n",
              "      <td>2019-08-15</td>\n",
              "      <td>2210</td>\n",
              "      <td>B</td>\n",
              "    </tr>\n",
              "    <tr>\n",
              "      <th>6</th>\n",
              "      <td>398296753</td>\n",
              "      <td>2900797465</td>\n",
              "      <td>2019-08-15</td>\n",
              "      <td>1860</td>\n",
              "      <td>B</td>\n",
              "    </tr>\n",
              "    <tr>\n",
              "      <th>7</th>\n",
              "      <td>2626614568</td>\n",
              "      <td>78758296</td>\n",
              "      <td>2019-08-15</td>\n",
              "      <td>1044</td>\n",
              "      <td>A</td>\n",
              "    </tr>\n",
              "    <tr>\n",
              "      <th>8</th>\n",
              "      <td>1576988021</td>\n",
              "      <td>295230930</td>\n",
              "      <td>2019-08-15</td>\n",
              "      <td>13710</td>\n",
              "      <td>A</td>\n",
              "    </tr>\n",
              "    <tr>\n",
              "      <th>9</th>\n",
              "      <td>1506739906</td>\n",
              "      <td>1882260405</td>\n",
              "      <td>2019-08-15</td>\n",
              "      <td>1855</td>\n",
              "      <td>B</td>\n",
              "    </tr>\n",
              "  </tbody>\n",
              "</table>\n",
              "</div>"
            ],
            "text/plain": [
              "   transactionId   visitorId        date  revenue group\n",
              "0     3667963787  3312258926  2019-08-15     1650     B\n",
              "1     2804400009  3642806036  2019-08-15      730     B\n",
              "2     2961555356  4069496402  2019-08-15      400     A\n",
              "3     3797467345  1196621759  2019-08-15     9759     B\n",
              "4     2282983706  2322279887  2019-08-15     2308     B\n",
              "5      182168103   935554773  2019-08-15     2210     B\n",
              "6      398296753  2900797465  2019-08-15     1860     B\n",
              "7     2626614568    78758296  2019-08-15     1044     A\n",
              "8     1576988021   295230930  2019-08-15    13710     A\n",
              "9     1506739906  1882260405  2019-08-15     1855     B"
            ]
          },
          "metadata": {},
          "output_type": "display_data"
        },
        {
          "name": "stdout",
          "output_type": "stream",
          "text": [
            "Последние 10 строк:\n"
          ]
        },
        {
          "data": {
            "text/html": [
              "<div>\n",
              "<style scoped>\n",
              "    .dataframe tbody tr th:only-of-type {\n",
              "        vertical-align: middle;\n",
              "    }\n",
              "\n",
              "    .dataframe tbody tr th {\n",
              "        vertical-align: top;\n",
              "    }\n",
              "\n",
              "    .dataframe thead th {\n",
              "        text-align: right;\n",
              "    }\n",
              "</style>\n",
              "<table border=\"1\" class=\"dataframe\">\n",
              "  <thead>\n",
              "    <tr style=\"text-align: right;\">\n",
              "      <th></th>\n",
              "      <th>transactionId</th>\n",
              "      <th>visitorId</th>\n",
              "      <th>date</th>\n",
              "      <th>revenue</th>\n",
              "      <th>group</th>\n",
              "    </tr>\n",
              "  </thead>\n",
              "  <tbody>\n",
              "    <tr>\n",
              "      <th>1187</th>\n",
              "      <td>2274188238</td>\n",
              "      <td>132143192</td>\n",
              "      <td>2019-08-14</td>\n",
              "      <td>750</td>\n",
              "      <td>A</td>\n",
              "    </tr>\n",
              "    <tr>\n",
              "      <th>1188</th>\n",
              "      <td>1692103379</td>\n",
              "      <td>1022829655</td>\n",
              "      <td>2019-08-14</td>\n",
              "      <td>112</td>\n",
              "      <td>A</td>\n",
              "    </tr>\n",
              "    <tr>\n",
              "      <th>1189</th>\n",
              "      <td>4082620617</td>\n",
              "      <td>393266494</td>\n",
              "      <td>2019-08-14</td>\n",
              "      <td>31550</td>\n",
              "      <td>B</td>\n",
              "    </tr>\n",
              "    <tr>\n",
              "      <th>1190</th>\n",
              "      <td>38478481</td>\n",
              "      <td>1197745035</td>\n",
              "      <td>2019-08-14</td>\n",
              "      <td>8600</td>\n",
              "      <td>B</td>\n",
              "    </tr>\n",
              "    <tr>\n",
              "      <th>1191</th>\n",
              "      <td>3592955527</td>\n",
              "      <td>608641596</td>\n",
              "      <td>2019-08-14</td>\n",
              "      <td>16490</td>\n",
              "      <td>B</td>\n",
              "    </tr>\n",
              "    <tr>\n",
              "      <th>1192</th>\n",
              "      <td>2662137336</td>\n",
              "      <td>3733762160</td>\n",
              "      <td>2019-08-14</td>\n",
              "      <td>6490</td>\n",
              "      <td>B</td>\n",
              "    </tr>\n",
              "    <tr>\n",
              "      <th>1193</th>\n",
              "      <td>2203539145</td>\n",
              "      <td>370388673</td>\n",
              "      <td>2019-08-14</td>\n",
              "      <td>3190</td>\n",
              "      <td>A</td>\n",
              "    </tr>\n",
              "    <tr>\n",
              "      <th>1194</th>\n",
              "      <td>1807773912</td>\n",
              "      <td>573423106</td>\n",
              "      <td>2019-08-14</td>\n",
              "      <td>10550</td>\n",
              "      <td>A</td>\n",
              "    </tr>\n",
              "    <tr>\n",
              "      <th>1195</th>\n",
              "      <td>1947021204</td>\n",
              "      <td>1614305549</td>\n",
              "      <td>2019-08-14</td>\n",
              "      <td>100</td>\n",
              "      <td>A</td>\n",
              "    </tr>\n",
              "    <tr>\n",
              "      <th>1196</th>\n",
              "      <td>3936777065</td>\n",
              "      <td>2108080724</td>\n",
              "      <td>2019-08-15</td>\n",
              "      <td>202740</td>\n",
              "      <td>B</td>\n",
              "    </tr>\n",
              "  </tbody>\n",
              "</table>\n",
              "</div>"
            ],
            "text/plain": [
              "      transactionId   visitorId        date  revenue group\n",
              "1187     2274188238   132143192  2019-08-14      750     A\n",
              "1188     1692103379  1022829655  2019-08-14      112     A\n",
              "1189     4082620617   393266494  2019-08-14    31550     B\n",
              "1190       38478481  1197745035  2019-08-14     8600     B\n",
              "1191     3592955527   608641596  2019-08-14    16490     B\n",
              "1192     2662137336  3733762160  2019-08-14     6490     B\n",
              "1193     2203539145   370388673  2019-08-14     3190     A\n",
              "1194     1807773912   573423106  2019-08-14    10550     A\n",
              "1195     1947021204  1614305549  2019-08-14      100     A\n",
              "1196     3936777065  2108080724  2019-08-15   202740     B"
            ]
          },
          "metadata": {},
          "output_type": "display_data"
        },
        {
          "name": "stdout",
          "output_type": "stream",
          "text": [
            "ТИПЫ ДАННЫХ\n",
            "\n",
            "<class 'pandas.core.frame.DataFrame'>\n",
            "RangeIndex: 1197 entries, 0 to 1196\n",
            "Data columns (total 5 columns):\n",
            " #   Column         Non-Null Count  Dtype \n",
            "---  ------         --------------  ----- \n",
            " 0   transactionId  1197 non-null   int64 \n",
            " 1   visitorId      1197 non-null   int64 \n",
            " 2   date           1197 non-null   object\n",
            " 3   revenue        1197 non-null   int64 \n",
            " 4   group          1197 non-null   object\n",
            "dtypes: int64(3), object(2)\n",
            "memory usage: 46.9+ KB\n"
          ]
        },
        {
          "data": {
            "text/plain": [
              "None"
            ]
          },
          "metadata": {},
          "output_type": "display_data"
        },
        {
          "name": "stdout",
          "output_type": "stream",
          "text": [
            "ПРОПУСКИ\n",
            "\n",
            "Пропусков НЕТ\n",
            "\n",
            "Пропусков НЕТ\n",
            "\n",
            "Пропусков НЕТ\n",
            "\n",
            "Пропусков НЕТ\n",
            "\n",
            "Пропусков НЕТ\n",
            "\n",
            "\n",
            "ПРОЦЕНТ ПРОПУСКОВ ИЗ ВСЕГО ДАТАСЕТА\n"
          ]
        },
        {
          "data": {
            "text/plain": [
              "transactionId    0.0\n",
              "visitorId        0.0\n",
              "date             0.0\n",
              "revenue          0.0\n",
              "group            0.0\n",
              "dtype: float64"
            ]
          },
          "metadata": {},
          "output_type": "display_data"
        },
        {
          "name": "stdout",
          "output_type": "stream",
          "text": [
            "\n",
            "ДУБЛИКАТЫ\n",
            "\n",
            "Дубликатов НЕТ\n"
          ]
        }
      ],
      "source": [
        "data_review (orders)"
      ]
    },
    {
      "cell_type": "code",
      "execution_count": null,
      "metadata": {
        "id": "o0dM3wJ_G_Ru",
        "outputId": "8d9642aa-6e3a-4829-c8f6-f3a77a2d5678"
      },
      "outputs": [
        {
          "name": "stdout",
          "output_type": "stream",
          "text": [
            "Первые 10 строк:\n"
          ]
        },
        {
          "data": {
            "text/html": [
              "<div>\n",
              "<style scoped>\n",
              "    .dataframe tbody tr th:only-of-type {\n",
              "        vertical-align: middle;\n",
              "    }\n",
              "\n",
              "    .dataframe tbody tr th {\n",
              "        vertical-align: top;\n",
              "    }\n",
              "\n",
              "    .dataframe thead th {\n",
              "        text-align: right;\n",
              "    }\n",
              "</style>\n",
              "<table border=\"1\" class=\"dataframe\">\n",
              "  <thead>\n",
              "    <tr style=\"text-align: right;\">\n",
              "      <th></th>\n",
              "      <th>date</th>\n",
              "      <th>group</th>\n",
              "      <th>visitors</th>\n",
              "    </tr>\n",
              "  </thead>\n",
              "  <tbody>\n",
              "    <tr>\n",
              "      <th>0</th>\n",
              "      <td>2019-08-01</td>\n",
              "      <td>A</td>\n",
              "      <td>719</td>\n",
              "    </tr>\n",
              "    <tr>\n",
              "      <th>1</th>\n",
              "      <td>2019-08-02</td>\n",
              "      <td>A</td>\n",
              "      <td>619</td>\n",
              "    </tr>\n",
              "    <tr>\n",
              "      <th>2</th>\n",
              "      <td>2019-08-03</td>\n",
              "      <td>A</td>\n",
              "      <td>507</td>\n",
              "    </tr>\n",
              "    <tr>\n",
              "      <th>3</th>\n",
              "      <td>2019-08-04</td>\n",
              "      <td>A</td>\n",
              "      <td>717</td>\n",
              "    </tr>\n",
              "    <tr>\n",
              "      <th>4</th>\n",
              "      <td>2019-08-05</td>\n",
              "      <td>A</td>\n",
              "      <td>756</td>\n",
              "    </tr>\n",
              "    <tr>\n",
              "      <th>5</th>\n",
              "      <td>2019-08-06</td>\n",
              "      <td>A</td>\n",
              "      <td>667</td>\n",
              "    </tr>\n",
              "    <tr>\n",
              "      <th>6</th>\n",
              "      <td>2019-08-07</td>\n",
              "      <td>A</td>\n",
              "      <td>644</td>\n",
              "    </tr>\n",
              "    <tr>\n",
              "      <th>7</th>\n",
              "      <td>2019-08-08</td>\n",
              "      <td>A</td>\n",
              "      <td>610</td>\n",
              "    </tr>\n",
              "    <tr>\n",
              "      <th>8</th>\n",
              "      <td>2019-08-09</td>\n",
              "      <td>A</td>\n",
              "      <td>617</td>\n",
              "    </tr>\n",
              "    <tr>\n",
              "      <th>9</th>\n",
              "      <td>2019-08-10</td>\n",
              "      <td>A</td>\n",
              "      <td>406</td>\n",
              "    </tr>\n",
              "  </tbody>\n",
              "</table>\n",
              "</div>"
            ],
            "text/plain": [
              "         date group  visitors\n",
              "0  2019-08-01     A       719\n",
              "1  2019-08-02     A       619\n",
              "2  2019-08-03     A       507\n",
              "3  2019-08-04     A       717\n",
              "4  2019-08-05     A       756\n",
              "5  2019-08-06     A       667\n",
              "6  2019-08-07     A       644\n",
              "7  2019-08-08     A       610\n",
              "8  2019-08-09     A       617\n",
              "9  2019-08-10     A       406"
            ]
          },
          "metadata": {},
          "output_type": "display_data"
        },
        {
          "name": "stdout",
          "output_type": "stream",
          "text": [
            "Последние 10 строк:\n"
          ]
        },
        {
          "data": {
            "text/html": [
              "<div>\n",
              "<style scoped>\n",
              "    .dataframe tbody tr th:only-of-type {\n",
              "        vertical-align: middle;\n",
              "    }\n",
              "\n",
              "    .dataframe tbody tr th {\n",
              "        vertical-align: top;\n",
              "    }\n",
              "\n",
              "    .dataframe thead th {\n",
              "        text-align: right;\n",
              "    }\n",
              "</style>\n",
              "<table border=\"1\" class=\"dataframe\">\n",
              "  <thead>\n",
              "    <tr style=\"text-align: right;\">\n",
              "      <th></th>\n",
              "      <th>date</th>\n",
              "      <th>group</th>\n",
              "      <th>visitors</th>\n",
              "    </tr>\n",
              "  </thead>\n",
              "  <tbody>\n",
              "    <tr>\n",
              "      <th>52</th>\n",
              "      <td>2019-08-22</td>\n",
              "      <td>B</td>\n",
              "      <td>650</td>\n",
              "    </tr>\n",
              "    <tr>\n",
              "      <th>53</th>\n",
              "      <td>2019-08-23</td>\n",
              "      <td>B</td>\n",
              "      <td>546</td>\n",
              "    </tr>\n",
              "    <tr>\n",
              "      <th>54</th>\n",
              "      <td>2019-08-24</td>\n",
              "      <td>B</td>\n",
              "      <td>378</td>\n",
              "    </tr>\n",
              "    <tr>\n",
              "      <th>55</th>\n",
              "      <td>2019-08-25</td>\n",
              "      <td>B</td>\n",
              "      <td>679</td>\n",
              "    </tr>\n",
              "    <tr>\n",
              "      <th>56</th>\n",
              "      <td>2019-08-26</td>\n",
              "      <td>B</td>\n",
              "      <td>676</td>\n",
              "    </tr>\n",
              "    <tr>\n",
              "      <th>57</th>\n",
              "      <td>2019-08-27</td>\n",
              "      <td>B</td>\n",
              "      <td>720</td>\n",
              "    </tr>\n",
              "    <tr>\n",
              "      <th>58</th>\n",
              "      <td>2019-08-28</td>\n",
              "      <td>B</td>\n",
              "      <td>654</td>\n",
              "    </tr>\n",
              "    <tr>\n",
              "      <th>59</th>\n",
              "      <td>2019-08-29</td>\n",
              "      <td>B</td>\n",
              "      <td>531</td>\n",
              "    </tr>\n",
              "    <tr>\n",
              "      <th>60</th>\n",
              "      <td>2019-08-30</td>\n",
              "      <td>B</td>\n",
              "      <td>490</td>\n",
              "    </tr>\n",
              "    <tr>\n",
              "      <th>61</th>\n",
              "      <td>2019-08-31</td>\n",
              "      <td>B</td>\n",
              "      <td>718</td>\n",
              "    </tr>\n",
              "  </tbody>\n",
              "</table>\n",
              "</div>"
            ],
            "text/plain": [
              "          date group  visitors\n",
              "52  2019-08-22     B       650\n",
              "53  2019-08-23     B       546\n",
              "54  2019-08-24     B       378\n",
              "55  2019-08-25     B       679\n",
              "56  2019-08-26     B       676\n",
              "57  2019-08-27     B       720\n",
              "58  2019-08-28     B       654\n",
              "59  2019-08-29     B       531\n",
              "60  2019-08-30     B       490\n",
              "61  2019-08-31     B       718"
            ]
          },
          "metadata": {},
          "output_type": "display_data"
        },
        {
          "name": "stdout",
          "output_type": "stream",
          "text": [
            "ТИПЫ ДАННЫХ\n",
            "\n",
            "<class 'pandas.core.frame.DataFrame'>\n",
            "RangeIndex: 62 entries, 0 to 61\n",
            "Data columns (total 3 columns):\n",
            " #   Column    Non-Null Count  Dtype \n",
            "---  ------    --------------  ----- \n",
            " 0   date      62 non-null     object\n",
            " 1   group     62 non-null     object\n",
            " 2   visitors  62 non-null     int64 \n",
            "dtypes: int64(1), object(2)\n",
            "memory usage: 1.6+ KB\n"
          ]
        },
        {
          "data": {
            "text/plain": [
              "None"
            ]
          },
          "metadata": {},
          "output_type": "display_data"
        },
        {
          "name": "stdout",
          "output_type": "stream",
          "text": [
            "ПРОПУСКИ\n",
            "\n",
            "Пропусков НЕТ\n",
            "\n",
            "Пропусков НЕТ\n",
            "\n",
            "Пропусков НЕТ\n",
            "\n",
            "\n",
            "ПРОЦЕНТ ПРОПУСКОВ ИЗ ВСЕГО ДАТАСЕТА\n"
          ]
        },
        {
          "data": {
            "text/plain": [
              "date        0.0\n",
              "group       0.0\n",
              "visitors    0.0\n",
              "dtype: float64"
            ]
          },
          "metadata": {},
          "output_type": "display_data"
        },
        {
          "name": "stdout",
          "output_type": "stream",
          "text": [
            "\n",
            "ДУБЛИКАТЫ\n",
            "\n",
            "Дубликатов НЕТ\n"
          ]
        }
      ],
      "source": [
        "data_review (visitors)"
      ]
    },
    {
      "cell_type": "markdown",
      "metadata": {
        "id": "dYkTfIIvG_Rv"
      },
      "source": [
        "В датасете orders 1197 записей, пропусков и дубликатов нет. Изменим названия колонок на нижний регистр в \"змеином стиле\" и изменим тип данных колонки date на правильный"
      ]
    },
    {
      "cell_type": "code",
      "execution_count": null,
      "metadata": {
        "id": "JJGNCrMtG_Rv"
      },
      "outputs": [],
      "source": [
        "orders.columns = ['transaction_id', 'visitor_id', 'date', 'revenue', 'group']\n",
        "orders['date'] = orders['date'].map(\n",
        "    lambda x: dt.datetime.strptime(x, '%Y-%m-%d')\n",
        ")"
      ]
    },
    {
      "cell_type": "code",
      "execution_count": null,
      "metadata": {
        "id": "GmbQPLe-G_Rv"
      },
      "outputs": [],
      "source": [
        "visitors['date'] = visitors['date'].map(\n",
        "    lambda x: dt.datetime.strptime(x, '%Y-%m-%d')\n",
        ")"
      ]
    },
    {
      "cell_type": "markdown",
      "metadata": {
        "id": "VE8ETEJOG_Rv"
      },
      "source": [
        "В датасете visitors 62 записи, пропусков и дубликатов нет. Изменим названия колонок на нижний регистр в \"змеином стиле\" и изменим тип данных колонки date на правильный"
      ]
    },
    {
      "cell_type": "markdown",
      "metadata": {
        "id": "rimdbE9MG_Rv"
      },
      "source": [
        "1.\tПостроим график кумулятивной выручки по группам. Сделайте выводы и предположения."
      ]
    },
    {
      "cell_type": "code",
      "execution_count": null,
      "metadata": {
        "id": "JbCV4p4oG_Rw",
        "outputId": "733d956a-99a4-4858-c048-da2868f49835"
      },
      "outputs": [
        {
          "data": {
            "text/plain": [
              "<matplotlib.legend.Legend at 0x7f9c494ce550>"
            ]
          },
          "execution_count": 13,
          "metadata": {},
          "output_type": "execute_result"
        },
        {
          "data": {
            "image/png": "[encoded data removed]",
            "text/plain": [
              "<Figure size 864x504 with 1 Axes>"
            ]
          },
          "metadata": {
            "needs_background": "light"
          },
          "output_type": "display_data"
        }
      ],
      "source": [
        "datesGroups = orders [['date', 'group']].drop_duplicates()\n",
        "\n",
        "ordersAggregated = datesGroups.apply(\n",
        "    lambda x: orders[\n",
        "        np.logical_and(\n",
        "            orders['date'] <= x['date'], orders['group'] == x['group']\n",
        "        )\n",
        "    ].agg(\n",
        "        {   'date': 'max',\n",
        "            'group': 'max',\n",
        "            'transaction_id': 'nunique',\n",
        "            'visitor_id': 'nunique',\n",
        "            'revenue': 'sum',\n",
        "        }\n",
        "    ),\n",
        "    axis=1,\n",
        ").sort_values(by=['date', 'group'])\n",
        "\n",
        "visitorsAggregated = datesGroups.apply(\n",
        "    lambda x: visitors[\n",
        "        np.logical_and(\n",
        "            visitors['date'] <= x['date'], visitors['group'] == x['group']\n",
        "        )\n",
        "    ].agg({    'date': 'max',\n",
        "               'group': 'max',\n",
        "               'visitors': 'sum'}),\n",
        "    axis=1,\n",
        ").sort_values(by=['date', 'group'])\n",
        "\n",
        "cumulativeData = ordersAggregated.merge(\n",
        "    visitorsAggregated, left_on=['date', 'group'], right_on=['date', 'group']\n",
        ")\n",
        "cumulativeData.columns = [\n",
        "    'date',\n",
        "    'group',\n",
        "    'orders',\n",
        "    'buyers',\n",
        "    'revenue',\n",
        "    'visitors',\n",
        "]\n",
        "\n",
        "cumulativeData.head(5)\n",
        "\n",
        "import matplotlib.pyplot as plt\n",
        "\n",
        "\n",
        "# датафрейм с кумулятивным количеством заказов и кумулятивной выручкой по дням в группе А\n",
        "cumulativeRevenueA = cumulativeData[cumulativeData['group']=='A'][['date','revenue', 'orders']]\n",
        "\n",
        "# датафрейм с кумулятивным количеством заказов и кумулятивной выручкой по дням в группе B\n",
        "cumulativeRevenueB = cumulativeData[cumulativeData['group']=='B'][['date','revenue', 'orders']]\n",
        "\n",
        "\n",
        "plt.figure(figsize=(12,7))\n",
        "plt.plot(cumulativeRevenueA['date'], cumulativeRevenueA['revenue'], label='A', color='red') # Строим график выручки группы А\n",
        "plt.plot(cumulativeRevenueB['date'], cumulativeRevenueB['revenue'], label='B', color='blue') # Строим график выручки группы B\n",
        "plt.title('График выручки по группам А и В')\n",
        "plt.xticks(rotation=90)\n",
        "plt.xlabel('дата')\n",
        "plt.ylabel('выручка')\n",
        "plt.legend()"
      ]
    },
    {
      "cell_type": "markdown",
      "metadata": {
        "id": "4QHMBSlRG_Rw"
      },
      "source": [
        "Вывод: Выручка по группе А почти равномерно увеличивается в течение всего теста, выручка по группе В также растет достаточно равномерно, но имеет резкий всплеск, это может свидетельствовать о всплеске числа заказов, либо о появлении очень дорогих заказов в выборке."
      ]
    },
    {
      "cell_type": "markdown",
      "metadata": {
        "id": "s3cALCEWG_Rw"
      },
      "source": [
        "2.\tПостроим график кумулятивного среднего чека по группам. Сделайте выводы и предположения."
      ]
    },
    {
      "cell_type": "code",
      "execution_count": null,
      "metadata": {
        "id": "7k0B7MHpG_Rw",
        "outputId": "065016e0-9269-43a3-9f27-51acb12d70de"
      },
      "outputs": [
        {
          "data": {
            "text/plain": [
              "<matplotlib.legend.Legend at 0x7f9c40cb1fa0>"
            ]
          },
          "execution_count": 14,
          "metadata": {},
          "output_type": "execute_result"
        },
        {
          "data": {
            "image/png": "[encoded data removed]",
            "text/plain": [
              "<Figure size 864x504 with 1 Axes>"
            ]
          },
          "metadata": {
            "needs_background": "light"
          },
          "output_type": "display_data"
        }
      ],
      "source": [
        "plt.figure(figsize=(12,7))\n",
        "plt.plot(cumulativeRevenueA['date'], cumulativeRevenueA['revenue']/cumulativeRevenueA['orders'], label='A', color='red')\n",
        "plt.plot(cumulativeRevenueB['date'], cumulativeRevenueB['revenue']/cumulativeRevenueB['orders'], label='B', color='blue')\n",
        "plt.title('График кумулятивного среднего чека по группам А и В')\n",
        "plt.xticks(rotation=90)\n",
        "plt.xlabel('дата')\n",
        "plt.ylabel('Кумулятивный средний чек')\n",
        "plt.legend()"
      ]
    },
    {
      "cell_type": "markdown",
      "metadata": {
        "id": "E8LXR1yhG_Rx"
      },
      "source": [
        "<b> ВЫВОД <b> На первой половине графике средние чеки в среднем равномерны, а ближе к концу теста график А установился на одном уровне около 7000, а график по группе В показывает резкий скачок и с небольшим падением остается на уровне около 9000. Даже если были крупные заказы, то установление на более высоком уровне говорит, о лучших показателях в группе В после 18.08.2019."
      ]
    },
    {
      "cell_type": "markdown",
      "metadata": {
        "id": "9UC4urqXG_Rx"
      },
      "source": [
        "3.\tПостроим график относительного изменения кумулятивного среднего чека группы B к группе A. Сделаем выводы и предположения."
      ]
    },
    {
      "cell_type": "code",
      "execution_count": null,
      "metadata": {
        "id": "PX3tu_c_G_Rx",
        "outputId": "cadc8509-c867-4dcf-b4df-f3af6ed7975a"
      },
      "outputs": [
        {
          "data": {
            "text/plain": [
              "<matplotlib.lines.Line2D at 0x7f9c410ba7c0>"
            ]
          },
          "execution_count": 15,
          "metadata": {},
          "output_type": "execute_result"
        },
        {
          "data": {
            "image/png": "[encoded data removed]",
            "text/plain": [
              "<Figure size 864x504 with 1 Axes>"
            ]
          },
          "metadata": {
            "needs_background": "light"
          },
          "output_type": "display_data"
        }
      ],
      "source": [
        "# собираем данные в одном датафрейме\n",
        "mergedCumulativeRevenue = cumulativeRevenueA.merge(cumulativeRevenueB, left_on='date', right_on='date', how='left', suffixes=['A', 'B'])\n",
        "\n",
        "# cтроим отношение средних чеков\n",
        "plt.figure(figsize=(12,7))\n",
        "plt.plot(mergedCumulativeRevenue['date'], (mergedCumulativeRevenue['revenueB']/mergedCumulativeRevenue['ordersB'])/(mergedCumulativeRevenue['revenueA']/mergedCumulativeRevenue['ordersA'])-1)\n",
        "plt.title('График относительного изменения кумулятивного среднего чека группы B к группе A')\n",
        "plt.xticks(rotation=90)\n",
        "plt.xlabel('дата')\n",
        "plt.ylabel('Относительное изменение')\n",
        "\n",
        "plt.axhline(y=0, color='black', linestyle='--') # добавляем ось X"
      ]
    },
    {
      "cell_type": "markdown",
      "metadata": {
        "id": "V6OcgWJzG_Rx"
      },
      "source": [
        "<b> ВЫВОД <b> В нескольких точках график различия между сегментами резко «скачет». Это может быть обусловлено крупными заказами и выбросами. В целом же график отражает преимущество кумулятивного среднего чека группы В."
      ]
    },
    {
      "cell_type": "markdown",
      "metadata": {
        "id": "4In3oh-nG_Ry"
      },
      "source": [
        "4.\tПостройте график кумулятивного среднего количества заказов на посетителя по группам. Сделайте выводы и предположения.\n"
      ]
    },
    {
      "cell_type": "code",
      "execution_count": null,
      "metadata": {
        "id": "7jwDtGKxG_Ry",
        "outputId": "aaff5084-fefc-4e54-950f-3d4137c9e4d1"
      },
      "outputs": [
        {
          "data": {
            "text/plain": [
              "<matplotlib.legend.Legend at 0x7f9c41042220>"
            ]
          },
          "execution_count": 16,
          "metadata": {},
          "output_type": "execute_result"
        },
        {
          "data": {
            "image/png": "[encoded data removed]",
            "text/plain": [
              "<Figure size 864x504 with 1 Axes>"
            ]
          },
          "metadata": {
            "needs_background": "light"
          },
          "output_type": "display_data"
        }
      ],
      "source": [
        "# считаем среднее количество заказов на посетителя\n",
        "cumulativeData['avg_orders'] = cumulativeData['orders']/cumulativeData['visitors']\n",
        "\n",
        "# отделяем данные по группе A\n",
        "cumulativeDataA = cumulativeData[cumulativeData['group']=='A']\n",
        "\n",
        "# отделяем данные по группе B\n",
        "cumulativeDataB = cumulativeData[cumulativeData['group']=='B']\n",
        "\n",
        "# строим графики\n",
        "plt.figure(figsize=(12,7))\n",
        "plt.plot(cumulativeDataA['date'], cumulativeDataA['avg_orders'], label='A', color='red')\n",
        "plt.plot(cumulativeDataB['date'], cumulativeDataB['avg_orders'], label='B', color='blue')\n",
        "plt.title('График кумулятивного среднего количества заказов на посетителя по группам А и В')\n",
        "plt.xticks(rotation=90)\n",
        "plt.xlabel('дата')\n",
        "plt.ylabel('среднее куммулятивное количество заказов на пользователя')\n",
        "plt.legend()\n",
        "\n",
        "# задаем масштаб осей\n",
        "#plt.axis([\"2019-08-01\", '2019-09-01', 0, 0.015])"
      ]
    },
    {
      "cell_type": "markdown",
      "metadata": {
        "id": "iGxwXzzPG_Ry"
      },
      "source": [
        "<b> Вывод <b> Графики среднего количество заказов на клиента в первые пять дней наблюдений скачут, затем показатели группы В устанавливаются на более высоком уровне"
      ]
    },
    {
      "cell_type": "markdown",
      "metadata": {
        "id": "XI3-z3NaG_Ry"
      },
      "source": [
        "5.\tПостройте график относительного изменения кумулятивного среднего количества заказов на посетителя группы B к группе A. Сделайте выводы и предположения."
      ]
    },
    {
      "cell_type": "code",
      "execution_count": null,
      "metadata": {
        "id": "kss2M-7YG_Ry",
        "outputId": "bbe6cf4a-0743-488a-ad29-9e5bfab6694a"
      },
      "outputs": [
        {
          "data": {
            "text/plain": [
              "<matplotlib.lines.Line2D at 0x7f9c40fd28b0>"
            ]
          },
          "execution_count": 17,
          "metadata": {},
          "output_type": "execute_result"
        },
        {
          "data": {
            "image/png": "[encoded data removed]",
            "text/plain": [
              "<Figure size 864x504 with 1 Axes>"
            ]
          },
          "metadata": {
            "needs_background": "light"
          },
          "output_type": "display_data"
        }
      ],
      "source": [
        "mergedCumulativeConversions = cumulativeDataA[['date','avg_orders']].merge(cumulativeDataB[['date','avg_orders']], left_on='date', right_on='date', how='left', suffixes=['A', 'B'])\n",
        "\n",
        "plt.figure(figsize=(12,7))\n",
        "plt.plot(mergedCumulativeConversions['date'],\n",
        "         mergedCumulativeConversions['avg_ordersB']/mergedCumulativeConversions['avg_ordersA']-1,\n",
        "         label=\"Относительный прирост кумулятивного среднего количества заказов на посетителя группы B относительно группы A\",\n",
        "        color='blue')\n",
        "plt.title('График относительного изменения кумулятивного среднего количества заказов на посетителя группы B к группе A')\n",
        "plt.xticks(rotation=90)\n",
        "plt.xlabel('дата')\n",
        "plt.ylabel('изменения кумулятивного среднего количества заказов')\n",
        "\n",
        "plt.axhline(y=0, color='black', linestyle='--')\n",
        "plt.axhline(y=-0.1, color='grey', linestyle='--')"
      ]
    },
    {
      "cell_type": "markdown",
      "metadata": {
        "id": "yTto2KI-G_Rz"
      },
      "source": [
        "<b> ВЫВОД <b> В начале теста преимущество \"скакало\" между группами, но затем группа В вырвалась вперёд и постепенно растёт.\n",
        "В целом отношение среднего количества заказов на посетителя установилось в пользу группы В, но  делать какие-либо выводы по тесту без очистки данных нельзя, возможно, они изменят картину."
      ]
    },
    {
      "cell_type": "markdown",
      "metadata": {
        "id": "APzeU213G_Rz"
      },
      "source": [
        "6.\tПостройте точечный график количества заказов по пользователям. Сделайте выводы и предположения."
      ]
    },
    {
      "cell_type": "code",
      "execution_count": null,
      "metadata": {
        "scrolled": true,
        "id": "O_8cI70xG_Rz",
        "outputId": "a87a5769-c4cd-446d-a4c1-6167e452d114"
      },
      "outputs": [
        {
          "data": {
            "text/plain": [
              "Text(0, 0.5, 'заказы')"
            ]
          },
          "execution_count": 18,
          "metadata": {},
          "output_type": "execute_result"
        },
        {
          "data": {
            "image/png": "[encoded data removed]",
            "text/plain": [
              "<Figure size 864x504 with 1 Axes>"
            ]
          },
          "metadata": {
            "needs_background": "light"
          },
          "output_type": "display_data"
        }
      ],
      "source": [
        "ordersByUsers = (\n",
        "    orders.groupby('visitor_id', as_index=False)\n",
        "    .agg({'transaction_id': 'nunique'})\n",
        ")\n",
        "ordersByUsers.columns = ['user_id', 'orders']\n",
        "\n",
        "# серия из чисел от 0 до количества наблюдений в ordersByUsers\n",
        "x_values = pd.Series(range(0, len(ordersByUsers)))\n",
        "plt.figure(figsize=(12,7))\n",
        "plt.scatter(x_values, ordersByUsers['orders'])\n",
        "plt.title('График количества заказов по пользователям')\n",
        "plt.xlabel('пользователи')\n",
        "plt.ylabel('заказы')"
      ]
    },
    {
      "cell_type": "markdown",
      "metadata": {
        "id": "yTqD0K5LG_Rz"
      },
      "source": [
        "7.\tПосчитаем 95-й и 99-й перцентили количества заказов на пользователя. Выберем границу для определения аномальных пользователей."
      ]
    },
    {
      "cell_type": "code",
      "execution_count": null,
      "metadata": {
        "id": "Um1p8HPuG_Rz",
        "outputId": "a65b6f8f-6ba4-4015-8468-b7bd61612fd8"
      },
      "outputs": [
        {
          "name": "stdout",
          "output_type": "stream",
          "text": [
            "[2. 4.]\n"
          ]
        }
      ],
      "source": [
        "print(np.percentile(ordersByUsers['orders'], [95, 99]))"
      ]
    },
    {
      "cell_type": "markdown",
      "metadata": {
        "id": "4l0Sv2ndG_R0"
      },
      "source": [
        "Возьмем за границу нормальных заказов 95й персентиль - 2 заказа."
      ]
    },
    {
      "cell_type": "markdown",
      "metadata": {
        "id": "TiLI0wh8G_R0"
      },
      "source": [
        "8.\tПостроим точечный график стоимостей заказов. Сделаем выводы и предположения."
      ]
    },
    {
      "cell_type": "code",
      "execution_count": null,
      "metadata": {
        "scrolled": true,
        "id": "fDT3QSt9G_R0",
        "outputId": "0dbb0673-4f8d-454c-90b8-f373bf66e251"
      },
      "outputs": [
        {
          "data": {
            "text/plain": [
              "<matplotlib.collections.PathCollection at 0x7f9c40d76220>"
            ]
          },
          "execution_count": 24,
          "metadata": {},
          "output_type": "execute_result"
        },
        {
          "data": {
            "image/png": "[encoded data removed]",
            "text/plain": [
              "<Figure size 864x504 with 1 Axes>"
            ]
          },
          "metadata": {
            "needs_background": "light"
          },
          "output_type": "display_data"
        }
      ],
      "source": [
        "x_values = pd.Series(range(0, len(orders['revenue'])))\n",
        "plt.figure(figsize=(12,7))\n",
        "plt.title('График стоимостей заказов')\n",
        "plt.xlabel('пользователи')\n",
        "plt.ylabel('стоимость')\n",
        "plt.scatter(x_values, orders['revenue'])"
      ]
    },
    {
      "cell_type": "markdown",
      "metadata": {
        "id": "dlQ45JzkG_R0"
      },
      "source": [
        "9.\tПосчитаем 95-й и 99-й перцентили стоимости заказов. Выберем границу для определения аномальных заказов."
      ]
    },
    {
      "cell_type": "code",
      "execution_count": null,
      "metadata": {
        "id": "sTNwGR_IG_R1",
        "outputId": "0191686f-cb47-45e2-b349-ea40ee07554f"
      },
      "outputs": [
        {
          "name": "stdout",
          "output_type": "stream",
          "text": [
            "[28000.  58233.2]\n"
          ]
        }
      ],
      "source": [
        "print(np.percentile(orders['revenue'], [95, 99]))"
      ]
    },
    {
      "cell_type": "markdown",
      "metadata": {
        "id": "YER8UWGcG_R1"
      },
      "source": [
        "Не более 5% пользователей оформляли заказы на сумму более 28 000. И 1% пользователей заказывали на сумму более 58 233."
      ]
    },
    {
      "cell_type": "markdown",
      "metadata": {
        "id": "aq9uVZlqG_R1"
      },
      "source": [
        "В качестве порога примем значение 95го персентиля - 28000"
      ]
    },
    {
      "cell_type": "markdown",
      "metadata": {
        "id": "h3u2mwFeG_R1"
      },
      "source": [
        "10.\tПосчитаем статистическую значимость различий в среднем количестве заказов на посетителя между группами по «сырым» данным.  \n",
        "Напараметрический тест Уилкоксона-Манна-Уитни используем  для расчета р-value, , так как у нас имеются выбросы, а сам тест работает с рангами, не учитывая сами значения. Так же сформируем нулевую и альтернативную гипотезы. Нулевая гипотеза говорит о том, что статистическая значимость в количестве заказов и среднем чеке не значительна и сделать вывод о различии нельзя, альтернативная гипотеза говорит о том, что статистическая значимость в количестве заказов и среднемк чеке значитаельная и между выборками имеется статистическая значимость. Порогом статистической значимости установим alpha=.05"
      ]
    },
    {
      "cell_type": "code",
      "execution_count": null,
      "metadata": {
        "id": "rHUxyjFxG_R2",
        "outputId": "acfca6e5-4bec-4191-aeb9-966bb5ab573d"
      },
      "outputs": [
        {
          "name": "stdout",
          "output_type": "stream",
          "text": [
            "        date  ordersPerDateA  revenuePerDateA  ordersPerDateB  \\\n",
            "0 2019-08-01              24           148579              21   \n",
            "1 2019-08-02              20            93822              24   \n",
            "2 2019-08-03              24           112473              16   \n",
            "3 2019-08-04              16            70825              17   \n",
            "4 2019-08-05              25           124218              23   \n",
            "\n",
            "   revenuePerDateB  ordersCummulativeA  revenueCummulativeA  \\\n",
            "0           101217                  24               148579   \n",
            "1           165531                  44               242401   \n",
            "2           114248                  68               354874   \n",
            "3           108571                  84               425699   \n",
            "4            92428                 109               549917   \n",
            "\n",
            "   ordersCummulativeB  revenueCummulativeB  visitorsPerDateA  \\\n",
            "0                  21               101217               719   \n",
            "1                  45               266748               619   \n",
            "2                  61               380996               507   \n",
            "3                  78               489567               717   \n",
            "4                 101               581995               756   \n",
            "\n",
            "   visitorsPerDateB  visitorsCummulativeA  visitorsCummulativeB  \n",
            "0               713                   719                   713  \n",
            "1               581                  1338                  1294  \n",
            "2               509                  1845                  1803  \n",
            "3               770                  2562                  2573  \n",
            "4               707                  3318                  3280  \n",
            "P-value: 0.017\n",
            "Относительные различия: 0.138\n"
          ]
        }
      ],
      "source": [
        "visitorsADaily = visitors[visitors['group'] == 'A'][['date', 'visitors']]\n",
        "visitorsADaily.columns = ['date', 'visitorsPerDateA']\n",
        "\n",
        "visitorsACummulative = visitorsADaily.apply(\n",
        "    lambda x: visitorsADaily[visitorsADaily['date'] <= x['date']].agg(\n",
        "        {'date': 'max', 'visitorsPerDateA': 'sum'}\n",
        "    ),\n",
        "    axis=1,\n",
        ")\n",
        "visitorsACummulative.columns = ['date', 'visitorsCummulativeA']\n",
        "\n",
        "visitorsBDaily = visitors[visitors['group'] == 'B'][['date', 'visitors']]\n",
        "visitorsBDaily.columns = ['date', 'visitorsPerDateB']\n",
        "\n",
        "visitorsBCummulative = visitorsBDaily.apply(\n",
        "    lambda x: visitorsBDaily[visitorsBDaily['date'] <= x['date']].agg(\n",
        "        {'date': 'max', 'visitorsPerDateB': 'sum'}\n",
        "    ),\n",
        "    axis=1,\n",
        ")\n",
        "visitorsBCummulative.columns = ['date', 'visitorsCummulativeB']\n",
        "\n",
        "ordersADaily = (\n",
        "    orders[orders['group'] == 'A'][['date', 'transaction_id', 'visitor_id', 'revenue']]\n",
        "    .groupby('date', as_index=False)\n",
        "    .agg({'transaction_id': pd.Series.nunique, 'revenue': 'sum'})\n",
        ")\n",
        "ordersADaily.columns = ['date', 'ordersPerDateA', 'revenuePerDateA']\n",
        "\n",
        "ordersACummulative = ordersADaily.apply(\n",
        "    lambda x: ordersADaily[ordersADaily['date'] <= x['date']].agg(\n",
        "        {'date': 'max', 'ordersPerDateA': 'sum', 'revenuePerDateA': 'sum'}\n",
        "    ),\n",
        "    axis=1,\n",
        ").sort_values(by=['date'])\n",
        "ordersACummulative.columns = [\n",
        "    'date',\n",
        "    'ordersCummulativeA',\n",
        "    'revenueCummulativeA',\n",
        "]\n",
        "\n",
        "ordersBDaily = (\n",
        "    orders[orders['group'] == 'B'][['date', 'transaction_id', 'visitor_id', 'revenue']]\n",
        "    .groupby('date', as_index=False)\n",
        "    .agg({'transaction_id': pd.Series.nunique, 'revenue': 'sum'})\n",
        ")\n",
        "ordersBDaily.columns = ['date', 'ordersPerDateB', 'revenuePerDateB']\n",
        "\n",
        "ordersBCummulative = ordersBDaily.apply(\n",
        "    lambda x: ordersBDaily[ordersBDaily['date'] <= x['date']].agg(\n",
        "        {'date': 'max', 'ordersPerDateB': 'sum', 'revenuePerDateB': 'sum'}\n",
        "    ),\n",
        "    axis=1,\n",
        ").sort_values(by=['date'])\n",
        "ordersBCummulative.columns = [\n",
        "    'date',\n",
        "    'ordersCummulativeB',\n",
        "    'revenueCummulativeB',\n",
        "]\n",
        "\n",
        "data = (\n",
        "    ordersADaily.merge(\n",
        "        ordersBDaily, left_on='date', right_on='date', how='left'\n",
        "    )\n",
        "    .merge(ordersACummulative, left_on='date', right_on='date', how='left')\n",
        "    .merge(ordersBCummulative, left_on='date', right_on='date', how='left')\n",
        "    .merge(visitorsADaily, left_on='date', right_on='date', how='left')\n",
        "    .merge(visitorsBDaily, left_on='date', right_on='date', how='left')\n",
        "    .merge(visitorsACummulative, left_on='date', right_on='date', how='left')\n",
        "    .merge(visitorsBCummulative, left_on='date', right_on='date', how='left')\n",
        ")\n",
        "\n",
        "print(data.head(5))\n",
        "\n",
        "ordersByUsersA = (\n",
        "    orders[orders['group'] == 'A']\n",
        "    .groupby('visitor_id', as_index=False)\n",
        "    .agg({'transaction_id': pd.Series.nunique})\n",
        ")\n",
        "ordersByUsersA.columns = ['user_id', 'orders']\n",
        "\n",
        "ordersByUsersB = (\n",
        "    orders[orders['group'] == 'B']\n",
        "    .groupby('visitor_id', as_index=False)\n",
        "    .agg({'transaction_id': pd.Series.nunique})\n",
        ")\n",
        "ordersByUsersB.columns = ['user_id', 'orders']\n",
        "\n",
        "sampleA = pd.concat([ordersByUsersA['orders'],pd.Series(0, index=np.arange(data['visitorsPerDateA'].sum() - len(ordersByUsersA['orders'])), name='orders')],axis=0)\n",
        "\n",
        "sampleB = pd.concat([ordersByUsersB['orders'],pd.Series(0, index=np.arange(data['visitorsPerDateB'].sum() - len(ordersByUsersB['orders'])), name='orders')],axis=0)\n",
        "print('P-value:',\"{0:.3f}\".format(stats.mannwhitneyu(sampleA, sampleB)[1]))\n",
        "\n",
        "print('Относительные различия:',\"{0:.3f}\".format((data['ordersPerDateB'].sum()/data['visitorsPerDateB'].sum())/(data['ordersPerDateA'].sum()/data['visitorsPerDateA'].sum())-1))"
      ]
    },
    {
      "cell_type": "markdown",
      "metadata": {
        "id": "zbMTGxQlG_R2"
      },
      "source": [
        "<b>ВЫВОД<b> P-value значительно меньше 0.05, значит стоит отвергнуть нулевую гипотезу. Анализ \"сырых данных\" сообщает, что в среднем количестве заказов между группами есть статистически значимые различия. Относительный прирост среднего количества заказов группы В к группе А равен 13.8%."
      ]
    },
    {
      "cell_type": "markdown",
      "metadata": {
        "id": "D0pGq6phG_R2"
      },
      "source": [
        "11.\tПосчитайте статистическую значимость различий в среднем чеке заказа между группами по «сырым» данным. Сделайте выводы и предположения."
      ]
    },
    {
      "cell_type": "code",
      "execution_count": null,
      "metadata": {
        "id": "2egrwx03G_R3",
        "outputId": "91d7026d-af4b-4e72-a0f5-336e549f3dd3"
      },
      "outputs": [
        {
          "name": "stdout",
          "output_type": "stream",
          "text": [
            "P-value:  0.729\n",
            "Относительные различия: 0.259\n"
          ]
        }
      ],
      "source": [
        "print('P-value: ', '{0:.3f}'.format(stats.mannwhitneyu(orders[orders['group']=='A']['revenue'], orders[orders['group']=='B']['revenue'])[1]))\n",
        "print('Относительные различия:','{0:.3f}'.format(orders[orders['group']=='B']['revenue'].mean()/orders[orders['group']=='A']['revenue'].mean()-1))"
      ]
    },
    {
      "cell_type": "markdown",
      "metadata": {
        "id": "nauq4PALG_R4"
      },
      "source": [
        "<b>ВЫВОД<b> P-value значительно больше 0.05, статистически значимых отличий в среднем чеке между группами нет. Относительное различие между чеками около 26%. Уберем аномалии и посчитаем те же метрики."
      ]
    },
    {
      "cell_type": "markdown",
      "metadata": {
        "id": "8YBKGcPxG_R4"
      },
      "source": [
        "12.\tПосчитаем статистическую значимость различий в среднем количестве заказов на посетителя между группами по «очищенным» данным. Сделаем выводы и предположения."
      ]
    },
    {
      "cell_type": "code",
      "execution_count": null,
      "metadata": {
        "id": "DmFy75ySG_R4",
        "outputId": "f25d6174-ddd4-456a-feb9-436204cc7ebc"
      },
      "outputs": [
        {
          "name": "stdout",
          "output_type": "stream",
          "text": [
            "P-value:  0.013\n",
            "Относительные различия: 0.173\n"
          ]
        }
      ],
      "source": [
        "usersWithManyOrders = pd.concat(\n",
        "    [\n",
        "        ordersByUsersA[ordersByUsersA['orders'] > 2]['user_id'],\n",
        "        ordersByUsersB[ordersByUsersB['orders'] > 2]['user_id'],\n",
        "    ],\n",
        "    axis=0,\n",
        ")\n",
        "usersWithExpensiveOrders = orders[orders['revenue'] > 28000]['visitor_id']\n",
        "abnormalUsers = (\n",
        "    pd.concat([usersWithManyOrders, usersWithExpensiveOrders], axis=0)\n",
        "    .drop_duplicates()\n",
        "    .sort_values()\n",
        ")\n",
        "sampleAFiltered = pd.concat(\n",
        "    [\n",
        "        ordersByUsersA[\n",
        "            np.logical_not(ordersByUsersA['user_id'].isin(abnormalUsers))\n",
        "        ]['orders'],\n",
        "        pd.Series(\n",
        "            0,\n",
        "            index=np.arange(\n",
        "                data['visitorsPerDateA'].sum() - len(ordersByUsersA['orders'])\n",
        "            ),\n",
        "            name='orders',\n",
        "        ),\n",
        "    ],\n",
        "    axis=0,\n",
        ")\n",
        "\n",
        "sampleBFiltered = pd.concat(\n",
        "    [\n",
        "        ordersByUsersB[\n",
        "            np.logical_not(ordersByUsersB['user_id'].isin(abnormalUsers))\n",
        "        ]['orders'],\n",
        "        pd.Series(\n",
        "            0,\n",
        "            index=np.arange(\n",
        "                data['visitorsPerDateB'].sum() - len(ordersByUsersB['orders'])\n",
        "            ),\n",
        "            name='orders',\n",
        "        ),\n",
        "    ],\n",
        "    axis=0,\n",
        ")\n",
        "print('P-value: ','{0:.3f}'.format(stats.mannwhitneyu(sampleAFiltered, sampleBFiltered)[1]))\n",
        "print('Относительные различия:','{0:.3f}'.format(sampleBFiltered.mean()/sampleAFiltered.mean()-1))"
      ]
    },
    {
      "cell_type": "markdown",
      "metadata": {
        "id": "Y9W9bXGZG_R4"
      },
      "source": [
        "<b>ВЫВОД<b> P-value  больше 0.05, статистически значимых отличий в среднем чеке между группами нет. Относительное различие между чеками около 17.3%."
      ]
    },
    {
      "cell_type": "markdown",
      "metadata": {
        "id": "bYijLi5FG_R4"
      },
      "source": [
        "13.\tПосчитаем статистическую значимость различий в среднем чеке заказа между группами по «очищенным» данным. Сделаем выводы и предположения."
      ]
    },
    {
      "cell_type": "code",
      "execution_count": null,
      "metadata": {
        "id": "c2lgT4YaG_R5",
        "outputId": "dc9620b0-282e-45cc-f386-6731ae35117d"
      },
      "outputs": [
        {
          "name": "stdout",
          "output_type": "stream",
          "text": [
            "P-value: 0.738\n",
            "Относительные различия: -0.020\n"
          ]
        }
      ],
      "source": [
        "print('P-value: '\n",
        "    '{0:.3f}'.format(\n",
        "        stats.mannwhitneyu(\n",
        "            orders[\n",
        "                np.logical_and(\n",
        "                    orders['group'] == 'A',\n",
        "                    np.logical_not(orders['visitor_id'].isin(abnormalUsers)),\n",
        "                )\n",
        "            ]['revenue'],\n",
        "            orders[\n",
        "                np.logical_and(\n",
        "                    orders['group'] == 'B',\n",
        "                    np.logical_not(orders['visitor_id'].isin(abnormalUsers)),\n",
        "                )\n",
        "            ]['revenue'],\n",
        "        )[1]\n",
        "    )\n",
        ")\n",
        "\n",
        "print('Относительные различия:',\n",
        "    \"{0:.3f}\".format(\n",
        "        orders[\n",
        "            np.logical_and(\n",
        "                orders['group'] == 'B',\n",
        "                np.logical_not(orders['visitor_id'].isin(abnormalUsers)),\n",
        "            )\n",
        "        ]['revenue'].mean()\n",
        "        / orders[\n",
        "            np.logical_and(\n",
        "                orders['group'] == 'A',\n",
        "                np.logical_not(orders['visitor_id'].isin(abnormalUsers)),\n",
        "            )\n",
        "        ]['revenue'].mean()\n",
        "        - 1\n",
        "    )\n",
        ")"
      ]
    },
    {
      "cell_type": "markdown",
      "metadata": {
        "id": "sE_tFatSG_R5"
      },
      "source": [
        "<b> ВЫВОД <b> Появилась статистически значимость различия среднего чека заказов между группами, что говорит о том, что после удаления выбросов в данных меньше шумов, дисперсия снизилась, и различие стало статистически значимым"
      ]
    },
    {
      "cell_type": "markdown",
      "metadata": {
        "id": "-Tes16cfG_R5"
      },
      "source": [
        "14.\tПринятие решения по результатам теста и объяснение его. Варианты решений:   \n",
        "- Остановить тест, зафиксировать победу одной из групп.  \n",
        "- Остановить тест, зафиксировать отсутствие различий между группами.\n",
        "- Продолжить тест."
      ]
    },
    {
      "cell_type": "markdown",
      "metadata": {
        "id": "FrfugoLpG_R5"
      },
      "source": [
        "<b> Вариант решения: остановить тест, признать победу группы В.  \n",
        "<b>\n",
        "    \n",
        "Есть статистически значимое различие по конверсии между группами как по сырым данным, так и после фильтрации аномалий, это говорит о том, что  изменение, примененное к группе В, увеличивает конверсию пользователей, результаты группы имеют тенденцию к росту, либо зафиксировались около среднего значения.\n",
        "По сырым данным нет статистически значимого различия по среднему чеку между группами, как и после удаления выбросов.\n",
        "График различия среднего чека колеблется: он и позволил вам найти аномалии.\n",
        "Ситуация, когда увеличение , количества покупателей (заказов) растет, а средний чек не уменьшается говорит об успешности экспериментальной группы.\n"
      ]
    },
    {
      "cell_type": "markdown",
      "metadata": {
        "id": "ZaNBIu2yG_R6"
      },
      "source": [
        "## ОБЩИЙ ВЫВОД ##"
      ]
    },
    {
      "cell_type": "markdown",
      "metadata": {
        "id": "cRAcUrpwG_R6"
      },
      "source": [
        "Анализ данных и графиков AB-теста позволяют сделать следующие выводы:  \n",
        "- выручка по группе А почти равномерно увеличивается в течение всего теста, выручка по группе В также растет достаточно равномерно, но имеет резкий всплеск, это может свидетельствовать о всплеске числа заказов, либо о появлении очень дорогих заказов в выборке.\n",
        "- На первой половине графика средних чеков группы в среднем равномерны, а ближе к концу теста график А установился на одном уровне около 7000, а график по группе В показывает резкий скачок и с небольшим падением остается на уровне около 9000. Даже если были крупные заказы, то установление на более высоком уровне говорит, о лучших показателях в группе В после 18.08.2019.  \n",
        "- График кумулятивного среднего чека в нескольких точках отражает различия между сегментами, резко «скачет». Это может быть обусловлено крупными заказами и выбросами. В целом же график отражает преимущество кумулятивного среднего чека группы В.\n",
        "- Графики среднего количество заказов на клиента в первые пять дней наблюдений скачут, затем показатели группы В устанавливаются на более высоком уровне\n",
        "- График кумулятивного среднего заказа показывает, что в начале теста преимущество \"скакало\" между группами, но затем группа В вырвалась вперёд и постепенно растёт, но окончательный вывод по данному графику мы не делаем, т.к. необходимо оценить данные без аномалий.\n",
        "- по точечным графикам и расчетам персентилей определяем, что уровень аномальной выручки - более 28000, а среднее количество заказов (95 персентиль) - не более 2.\n",
        "-  Анализ \"сырых данных\" сообщает, что в среднем количестве заказов между группами есть статистически значимые различия. Относительный прирост среднего количества заказов группы В к группе А равен 13.8%. Cтатистическая значимость различий в среднем чеке заказа между группами по «сырым» данным значительно больше 0.05, статистически значимых отличий в среднем чеке между группами нет. Относительное различие между чеками около 26%.\n",
        "- После очистки данных P-value больше 0.05, статистически значимых отличий в среднем чеке между группами нет. Относительное различие между чеками около 17.3%. Появилась статистически значимость различия среднего чека заказов между группами, что говорит о том, что после удаления выбросов в данных меньше шумов, дисперсия снизилась, и различие стало статистически значимым  \n",
        "\n",
        "В итоге мы можем остановить тест и признать победу группы В.\n",
        "\n",
        "Есть статистически значимое различие по количеству заказов на пользователя между группами как по сырым данным, так и после фильтрации аномалий, это говорит о том, что изменение, примененное к группе В, увеличивает заинтересованность пользователей и количество заказов, результаты группы имеют тенденцию к росту, либо зафиксировались около среднего значения. По сырым данным нет статистически значимого различия по среднему чеку между группами, как и после удаления выбросов. График различия среднего чека колеблется: он и позволил вам найти аномалии. Ситуация, когда увеличение , количества покупателей (заказов) растет, а средний чек не уменьшается говорит об успешности экспериментальной группы."
      ]
    }
  ],
  "metadata": {
    "ExecuteTimeLog": [
      {
        "duration": 1351,
        "start_time": "2024-03-13T19:08:28.115Z"
      },
      {
        "duration": 5,
        "start_time": "2024-03-13T19:38:13.567Z"
      },
      {
        "duration": 92,
        "start_time": "2024-03-13T19:39:02.859Z"
      },
      {
        "duration": 103,
        "start_time": "2024-03-13T21:13:32.690Z"
      },
      {
        "duration": 108,
        "start_time": "2024-03-13T21:18:35.048Z"
      },
      {
        "duration": 96,
        "start_time": "2024-03-13T21:21:34.467Z"
      },
      {
        "duration": 94,
        "start_time": "2024-03-13T21:24:50.252Z"
      },
      {
        "duration": 201,
        "start_time": "2024-03-13T21:24:57.375Z"
      },
      {
        "duration": 13,
        "start_time": "2024-03-13T21:27:11.010Z"
      },
      {
        "duration": 11,
        "start_time": "2024-03-13T21:28:35.703Z"
      },
      {
        "duration": 1507,
        "start_time": "2024-03-13T22:24:27.279Z"
      },
      {
        "duration": 7,
        "start_time": "2024-03-13T22:25:36.660Z"
      },
      {
        "duration": 2,
        "start_time": "2024-03-13T22:25:44.682Z"
      },
      {
        "duration": 8,
        "start_time": "2024-03-13T22:25:47.372Z"
      },
      {
        "duration": 9,
        "start_time": "2024-03-13T22:25:53.937Z"
      },
      {
        "duration": 7,
        "start_time": "2024-03-13T22:27:03.254Z"
      },
      {
        "duration": 1353,
        "start_time": "2024-03-14T06:56:25.643Z"
      },
      {
        "duration": 202,
        "start_time": "2024-03-14T06:56:26.998Z"
      },
      {
        "duration": 6,
        "start_time": "2024-03-14T06:56:29.002Z"
      },
      {
        "duration": 12,
        "start_time": "2024-03-14T06:56:29.496Z"
      },
      {
        "duration": 3,
        "start_time": "2024-03-14T06:56:30.227Z"
      },
      {
        "duration": 11,
        "start_time": "2024-03-14T06:56:31.541Z"
      },
      {
        "duration": 11,
        "start_time": "2024-03-14T06:56:36.268Z"
      },
      {
        "duration": 8,
        "start_time": "2024-03-14T06:56:40.168Z"
      },
      {
        "duration": 16,
        "start_time": "2024-03-14T06:57:19.927Z"
      },
      {
        "duration": 94,
        "start_time": "2024-03-14T07:02:56.936Z"
      },
      {
        "duration": 8,
        "start_time": "2024-03-14T07:03:04.243Z"
      },
      {
        "duration": 8,
        "start_time": "2024-03-14T07:03:26.578Z"
      },
      {
        "duration": 14,
        "start_time": "2024-03-14T07:04:04.806Z"
      },
      {
        "duration": 15,
        "start_time": "2024-03-14T07:04:59.584Z"
      },
      {
        "duration": 1125,
        "start_time": "2024-03-14T07:05:16.073Z"
      },
      {
        "duration": 76,
        "start_time": "2024-03-14T07:05:17.688Z"
      },
      {
        "duration": 5,
        "start_time": "2024-03-14T07:05:19.691Z"
      },
      {
        "duration": 10,
        "start_time": "2024-03-14T07:05:21.125Z"
      },
      {
        "duration": 3,
        "start_time": "2024-03-14T07:05:21.899Z"
      },
      {
        "duration": 12,
        "start_time": "2024-03-14T07:05:22.509Z"
      },
      {
        "duration": 10,
        "start_time": "2024-03-14T07:05:25.810Z"
      },
      {
        "duration": 9,
        "start_time": "2024-03-14T07:05:28.755Z"
      },
      {
        "duration": 16,
        "start_time": "2024-03-14T07:05:32.898Z"
      },
      {
        "duration": 10,
        "start_time": "2024-03-14T07:05:34.049Z"
      },
      {
        "duration": 7,
        "start_time": "2024-03-14T07:05:34.787Z"
      },
      {
        "duration": 92,
        "start_time": "2024-03-14T07:05:36.312Z"
      },
      {
        "duration": 280,
        "start_time": "2024-03-14T07:05:48.063Z"
      },
      {
        "duration": 2,
        "start_time": "2024-03-14T07:06:22.151Z"
      },
      {
        "duration": 75,
        "start_time": "2024-03-14T07:06:23.556Z"
      },
      {
        "duration": 5,
        "start_time": "2024-03-14T07:06:23.951Z"
      },
      {
        "duration": 10,
        "start_time": "2024-03-14T07:06:24.140Z"
      },
      {
        "duration": 3,
        "start_time": "2024-03-14T07:06:24.285Z"
      },
      {
        "duration": 8,
        "start_time": "2024-03-14T07:06:24.469Z"
      },
      {
        "duration": 7,
        "start_time": "2024-03-14T07:06:25.462Z"
      },
      {
        "duration": 9,
        "start_time": "2024-03-14T07:06:26.572Z"
      },
      {
        "duration": 22,
        "start_time": "2024-03-14T07:06:28.860Z"
      },
      {
        "duration": 8,
        "start_time": "2024-03-14T07:06:29.557Z"
      },
      {
        "duration": 7,
        "start_time": "2024-03-14T07:06:29.921Z"
      },
      {
        "duration": 421,
        "start_time": "2024-03-14T07:06:30.925Z"
      },
      {
        "duration": 3,
        "start_time": "2024-03-14T07:07:39.539Z"
      },
      {
        "duration": 76,
        "start_time": "2024-03-14T07:07:39.876Z"
      },
      {
        "duration": 6,
        "start_time": "2024-03-14T07:07:40.255Z"
      },
      {
        "duration": 9,
        "start_time": "2024-03-14T07:07:40.430Z"
      },
      {
        "duration": 2,
        "start_time": "2024-03-14T07:07:40.609Z"
      },
      {
        "duration": 7,
        "start_time": "2024-03-14T07:07:40.773Z"
      },
      {
        "duration": 8,
        "start_time": "2024-03-14T07:07:41.611Z"
      },
      {
        "duration": 8,
        "start_time": "2024-03-14T07:07:42.549Z"
      },
      {
        "duration": 15,
        "start_time": "2024-03-14T07:07:44.569Z"
      },
      {
        "duration": 7,
        "start_time": "2024-03-14T07:07:44.844Z"
      },
      {
        "duration": 7,
        "start_time": "2024-03-14T07:07:45.092Z"
      },
      {
        "duration": 280,
        "start_time": "2024-03-14T07:07:45.951Z"
      },
      {
        "duration": 302,
        "start_time": "2024-03-14T07:08:43.054Z"
      },
      {
        "duration": 11,
        "start_time": "2024-03-14T13:30:01.145Z"
      },
      {
        "duration": 9,
        "start_time": "2024-03-14T13:30:09.201Z"
      },
      {
        "duration": 1171,
        "start_time": "2024-03-14T13:30:44.263Z"
      },
      {
        "duration": 78,
        "start_time": "2024-03-14T13:30:45.435Z"
      },
      {
        "duration": 5,
        "start_time": "2024-03-14T13:30:46.519Z"
      },
      {
        "duration": 11,
        "start_time": "2024-03-14T13:30:47.306Z"
      },
      {
        "duration": 3,
        "start_time": "2024-03-14T13:30:48.091Z"
      },
      {
        "duration": 11,
        "start_time": "2024-03-14T13:30:50.240Z"
      },
      {
        "duration": 8,
        "start_time": "2024-03-14T13:30:59.731Z"
      },
      {
        "duration": 8,
        "start_time": "2024-03-14T13:31:02.624Z"
      },
      {
        "duration": 10,
        "start_time": "2024-03-14T13:31:07.614Z"
      },
      {
        "duration": 9,
        "start_time": "2024-03-14T13:31:09.446Z"
      },
      {
        "duration": 8,
        "start_time": "2024-03-14T13:31:11.858Z"
      },
      {
        "duration": 7,
        "start_time": "2024-03-14T13:31:12.692Z"
      },
      {
        "duration": 383,
        "start_time": "2024-03-14T13:31:14.303Z"
      },
      {
        "duration": 4,
        "start_time": "2024-03-14T13:32:01.623Z"
      },
      {
        "duration": 292,
        "start_time": "2024-03-14T13:32:12.073Z"
      },
      {
        "duration": 3,
        "start_time": "2024-03-14T13:32:28.506Z"
      },
      {
        "duration": 356,
        "start_time": "2024-03-14T13:32:36.416Z"
      },
      {
        "duration": 3,
        "start_time": "2024-03-14T13:33:30.481Z"
      },
      {
        "duration": 301,
        "start_time": "2024-03-14T13:33:37.271Z"
      },
      {
        "duration": 323,
        "start_time": "2024-03-14T13:35:23.329Z"
      },
      {
        "duration": 291,
        "start_time": "2024-03-14T13:38:41.085Z"
      },
      {
        "duration": 14,
        "start_time": "2024-03-14T13:44:57.222Z"
      },
      {
        "duration": 10,
        "start_time": "2024-03-14T13:44:59.056Z"
      },
      {
        "duration": 5,
        "start_time": "2024-03-14T13:46:04.184Z"
      },
      {
        "duration": 285,
        "start_time": "2024-03-14T13:46:45.577Z"
      },
      {
        "duration": 28,
        "start_time": "2024-03-14T13:54:24.115Z"
      },
      {
        "duration": 26,
        "start_time": "2024-03-14T13:55:27.610Z"
      },
      {
        "duration": 285,
        "start_time": "2024-03-14T13:57:03.240Z"
      },
      {
        "duration": 484,
        "start_time": "2024-03-14T13:58:36.867Z"
      },
      {
        "duration": 463,
        "start_time": "2024-03-14T14:01:30.556Z"
      },
      {
        "duration": 743,
        "start_time": "2024-03-14T14:02:06.857Z"
      },
      {
        "duration": 580,
        "start_time": "2024-03-14T14:02:31.403Z"
      },
      {
        "duration": 450,
        "start_time": "2024-03-14T14:03:39.257Z"
      },
      {
        "duration": 454,
        "start_time": "2024-03-14T14:04:24.307Z"
      },
      {
        "duration": 475,
        "start_time": "2024-03-14T14:06:35.408Z"
      },
      {
        "duration": 191,
        "start_time": "2024-03-14T14:12:15.157Z"
      },
      {
        "duration": 191,
        "start_time": "2024-03-14T14:13:25.281Z"
      },
      {
        "duration": 213,
        "start_time": "2024-03-14T14:13:32.788Z"
      },
      {
        "duration": 232,
        "start_time": "2024-03-14T14:13:41.530Z"
      },
      {
        "duration": 461,
        "start_time": "2024-03-14T14:13:46.880Z"
      },
      {
        "duration": 223,
        "start_time": "2024-03-14T14:13:59.159Z"
      },
      {
        "duration": 463,
        "start_time": "2024-03-14T14:14:05.171Z"
      },
      {
        "duration": 280,
        "start_time": "2024-03-14T14:14:33.648Z"
      },
      {
        "duration": 294,
        "start_time": "2024-03-14T14:16:11.594Z"
      },
      {
        "duration": 198,
        "start_time": "2024-03-14T14:28:54.795Z"
      },
      {
        "duration": 195,
        "start_time": "2024-03-14T14:29:20.727Z"
      },
      {
        "duration": 232,
        "start_time": "2024-03-14T14:30:58.742Z"
      },
      {
        "duration": 342,
        "start_time": "2024-03-14T14:33:19.012Z"
      },
      {
        "duration": 466,
        "start_time": "2024-03-14T14:33:27.563Z"
      },
      {
        "duration": 146,
        "start_time": "2024-03-14T15:58:01.860Z"
      },
      {
        "duration": 149,
        "start_time": "2024-03-14T15:58:20.355Z"
      },
      {
        "duration": 185,
        "start_time": "2024-03-14T16:00:14.628Z"
      },
      {
        "duration": 4,
        "start_time": "2024-03-14T16:01:31.576Z"
      },
      {
        "duration": 16,
        "start_time": "2024-03-14T18:29:59.592Z"
      },
      {
        "duration": 15,
        "start_time": "2024-03-14T18:30:33.785Z"
      },
      {
        "duration": 270,
        "start_time": "2024-03-14T18:30:48.782Z"
      },
      {
        "duration": 271,
        "start_time": "2024-03-14T18:33:33.383Z"
      },
      {
        "duration": 154,
        "start_time": "2024-03-14T18:33:47.757Z"
      },
      {
        "duration": 4,
        "start_time": "2024-03-14T18:35:04.668Z"
      },
      {
        "duration": 395,
        "start_time": "2024-03-14T19:00:20.830Z"
      },
      {
        "duration": 271,
        "start_time": "2024-03-14T19:00:56.651Z"
      },
      {
        "duration": 219,
        "start_time": "2024-03-14T19:01:16.827Z"
      },
      {
        "duration": 487,
        "start_time": "2024-03-14T19:01:33.262Z"
      },
      {
        "duration": 328,
        "start_time": "2024-03-14T19:01:56.679Z"
      },
      {
        "duration": 132,
        "start_time": "2024-03-14T20:47:20.074Z"
      },
      {
        "duration": 187,
        "start_time": "2024-03-14T20:48:31.753Z"
      },
      {
        "duration": 4,
        "start_time": "2024-03-14T20:48:40.127Z"
      },
      {
        "duration": 171,
        "start_time": "2024-03-14T20:59:07.596Z"
      },
      {
        "duration": 60,
        "start_time": "2024-03-15T18:20:26.933Z"
      },
      {
        "duration": 13,
        "start_time": "2024-03-15T18:20:50.181Z"
      },
      {
        "duration": 1283,
        "start_time": "2024-03-15T18:21:18.711Z"
      },
      {
        "duration": 187,
        "start_time": "2024-03-15T18:21:20.560Z"
      },
      {
        "duration": 5,
        "start_time": "2024-03-15T18:21:22.655Z"
      },
      {
        "duration": 12,
        "start_time": "2024-03-15T18:21:23.439Z"
      },
      {
        "duration": 2,
        "start_time": "2024-03-15T18:21:24.079Z"
      },
      {
        "duration": 16,
        "start_time": "2024-03-15T18:21:24.873Z"
      },
      {
        "duration": 9,
        "start_time": "2024-03-15T18:21:27.597Z"
      },
      {
        "duration": 8,
        "start_time": "2024-03-15T18:21:29.806Z"
      },
      {
        "duration": 10,
        "start_time": "2024-03-15T18:21:33.778Z"
      },
      {
        "duration": 10,
        "start_time": "2024-03-15T18:22:19.723Z"
      },
      {
        "duration": 7,
        "start_time": "2024-03-15T18:22:21.233Z"
      },
      {
        "duration": 14,
        "start_time": "2024-03-15T18:22:23.510Z"
      },
      {
        "duration": 7,
        "start_time": "2024-03-15T18:22:25.710Z"
      },
      {
        "duration": 6,
        "start_time": "2024-03-15T18:22:28.305Z"
      },
      {
        "duration": 567,
        "start_time": "2024-03-15T18:38:57.645Z"
      },
      {
        "duration": 218,
        "start_time": "2024-03-15T18:39:00.864Z"
      },
      {
        "duration": 402,
        "start_time": "2024-03-15T18:39:03.550Z"
      },
      {
        "duration": 249,
        "start_time": "2024-03-15T18:39:06.472Z"
      },
      {
        "duration": 346,
        "start_time": "2024-03-15T18:39:10.667Z"
      },
      {
        "duration": 136,
        "start_time": "2024-03-15T18:39:14.792Z"
      },
      {
        "duration": 4,
        "start_time": "2024-03-15T18:39:17.661Z"
      },
      {
        "duration": 151,
        "start_time": "2024-03-15T18:39:20.328Z"
      },
      {
        "duration": 4,
        "start_time": "2024-03-15T18:39:24.185Z"
      },
      {
        "duration": 284,
        "start_time": "2024-03-15T18:39:30.074Z"
      },
      {
        "duration": 1643,
        "start_time": "2024-03-15T18:46:39.477Z"
      },
      {
        "duration": 125,
        "start_time": "2024-03-15T18:51:18.373Z"
      },
      {
        "duration": 1619,
        "start_time": "2024-03-15T18:54:19.946Z"
      },
      {
        "duration": 1803,
        "start_time": "2024-03-15T19:37:40.417Z"
      },
      {
        "duration": 24,
        "start_time": "2024-03-15T19:39:50.643Z"
      },
      {
        "duration": 24,
        "start_time": "2024-03-15T19:41:10.895Z"
      },
      {
        "duration": 1908,
        "start_time": "2024-03-15T19:44:44.589Z"
      },
      {
        "duration": 1934,
        "start_time": "2024-03-15T19:57:17.143Z"
      },
      {
        "duration": 319,
        "start_time": "2024-03-15T19:58:50.894Z"
      },
      {
        "duration": 1134,
        "start_time": "2024-03-15T19:59:36.107Z"
      },
      {
        "duration": 73,
        "start_time": "2024-03-15T19:59:37.243Z"
      },
      {
        "duration": 5,
        "start_time": "2024-03-15T19:59:39.021Z"
      },
      {
        "duration": 11,
        "start_time": "2024-03-15T19:59:39.328Z"
      },
      {
        "duration": 3,
        "start_time": "2024-03-15T19:59:39.911Z"
      },
      {
        "duration": 11,
        "start_time": "2024-03-15T19:59:41.285Z"
      },
      {
        "duration": 10,
        "start_time": "2024-03-15T19:59:43.656Z"
      },
      {
        "duration": 9,
        "start_time": "2024-03-15T19:59:45.547Z"
      },
      {
        "duration": 10,
        "start_time": "2024-03-15T19:59:51.830Z"
      },
      {
        "duration": 9,
        "start_time": "2024-03-15T19:59:53.127Z"
      },
      {
        "duration": 13,
        "start_time": "2024-03-15T19:59:54.406Z"
      },
      {
        "duration": 15,
        "start_time": "2024-03-15T19:59:55.177Z"
      },
      {
        "duration": 7,
        "start_time": "2024-03-15T19:59:55.998Z"
      },
      {
        "duration": 5,
        "start_time": "2024-03-15T19:59:56.861Z"
      },
      {
        "duration": 542,
        "start_time": "2024-03-15T19:59:58.975Z"
      },
      {
        "duration": 237,
        "start_time": "2024-03-15T20:00:02.315Z"
      },
      {
        "duration": 350,
        "start_time": "2024-03-15T20:00:06.387Z"
      },
      {
        "duration": 290,
        "start_time": "2024-03-15T20:00:08.988Z"
      },
      {
        "duration": 355,
        "start_time": "2024-03-15T20:00:13.875Z"
      },
      {
        "duration": 160,
        "start_time": "2024-03-15T20:00:19.695Z"
      },
      {
        "duration": 4,
        "start_time": "2024-03-15T20:00:21.658Z"
      },
      {
        "duration": 166,
        "start_time": "2024-03-15T20:00:26.778Z"
      },
      {
        "duration": 4,
        "start_time": "2024-03-15T20:00:31.218Z"
      },
      {
        "duration": 451,
        "start_time": "2024-03-15T20:00:36.815Z"
      },
      {
        "duration": 361,
        "start_time": "2024-03-15T20:17:44.574Z"
      },
      {
        "duration": 404,
        "start_time": "2024-03-15T20:20:11.641Z"
      },
      {
        "duration": 15,
        "start_time": "2024-03-15T20:24:22.081Z"
      },
      {
        "duration": 1845,
        "start_time": "2024-03-15T21:01:44.407Z"
      },
      {
        "duration": 1562,
        "start_time": "2024-03-15T21:02:41.942Z"
      },
      {
        "duration": 34,
        "start_time": "2024-03-15T21:08:13.816Z"
      },
      {
        "duration": 15,
        "start_time": "2024-03-15T21:12:02.712Z"
      },
      {
        "duration": 425,
        "start_time": "2024-03-15T21:13:51.688Z"
      },
      {
        "duration": 102,
        "start_time": "2024-03-15T21:19:15.122Z"
      },
      {
        "duration": 35,
        "start_time": "2024-03-15T21:28:52.842Z"
      },
      {
        "duration": 36,
        "start_time": "2024-03-15T21:35:07.649Z"
      },
      {
        "duration": 26,
        "start_time": "2024-03-15T21:35:25.234Z"
      },
      {
        "duration": 378,
        "start_time": "2024-03-15T21:35:47.331Z"
      },
      {
        "duration": 30,
        "start_time": "2024-03-15T21:36:08.786Z"
      },
      {
        "duration": 399,
        "start_time": "2024-03-15T21:36:23.181Z"
      },
      {
        "duration": 1824,
        "start_time": "2024-03-15T21:37:05.828Z"
      },
      {
        "duration": 1121,
        "start_time": "2024-03-15T21:37:44.041Z"
      },
      {
        "duration": 73,
        "start_time": "2024-03-15T21:37:45.165Z"
      },
      {
        "duration": 9,
        "start_time": "2024-03-15T21:37:47.029Z"
      },
      {
        "duration": 31,
        "start_time": "2024-03-15T21:37:47.909Z"
      },
      {
        "duration": 9,
        "start_time": "2024-03-15T21:37:48.798Z"
      },
      {
        "duration": 3,
        "start_time": "2024-03-15T21:37:51.605Z"
      },
      {
        "duration": 8,
        "start_time": "2024-03-15T21:37:55.465Z"
      },
      {
        "duration": 9,
        "start_time": "2024-03-15T21:37:58.088Z"
      },
      {
        "duration": 33,
        "start_time": "2024-03-15T21:38:01.376Z"
      },
      {
        "duration": 35,
        "start_time": "2024-03-15T21:38:02.558Z"
      },
      {
        "duration": 16,
        "start_time": "2024-03-15T21:38:03.557Z"
      },
      {
        "duration": 8,
        "start_time": "2024-03-15T21:38:09.013Z"
      },
      {
        "duration": 5,
        "start_time": "2024-03-15T21:38:09.927Z"
      },
      {
        "duration": 560,
        "start_time": "2024-03-15T21:38:15.155Z"
      },
      {
        "duration": 497,
        "start_time": "2024-03-15T21:38:30.956Z"
      },
      {
        "duration": 414,
        "start_time": "2024-03-15T21:39:01.265Z"
      },
      {
        "duration": 413,
        "start_time": "2024-03-15T21:39:08.127Z"
      },
      {
        "duration": 1206,
        "start_time": "2024-03-15T21:39:25.555Z"
      },
      {
        "duration": 72,
        "start_time": "2024-03-15T21:39:26.763Z"
      },
      {
        "duration": 6,
        "start_time": "2024-03-15T21:39:26.968Z"
      },
      {
        "duration": 34,
        "start_time": "2024-03-15T21:39:27.606Z"
      },
      {
        "duration": 9,
        "start_time": "2024-03-15T21:39:28.268Z"
      },
      {
        "duration": 3,
        "start_time": "2024-03-15T21:39:29.817Z"
      },
      {
        "duration": 8,
        "start_time": "2024-03-15T21:39:32.520Z"
      },
      {
        "duration": 8,
        "start_time": "2024-03-15T21:39:34.890Z"
      },
      {
        "duration": 30,
        "start_time": "2024-03-15T21:39:37.649Z"
      },
      {
        "duration": 30,
        "start_time": "2024-03-15T21:39:38.290Z"
      },
      {
        "duration": 18,
        "start_time": "2024-03-15T21:39:39.217Z"
      },
      {
        "duration": 1096,
        "start_time": "2024-03-15T21:44:42.726Z"
      },
      {
        "duration": 73,
        "start_time": "2024-03-15T21:44:43.823Z"
      },
      {
        "duration": 6,
        "start_time": "2024-03-15T21:44:44.392Z"
      },
      {
        "duration": 36,
        "start_time": "2024-03-15T21:44:46.051Z"
      },
      {
        "duration": 9,
        "start_time": "2024-03-15T21:44:46.982Z"
      },
      {
        "duration": 3,
        "start_time": "2024-03-15T21:45:00.538Z"
      },
      {
        "duration": 8,
        "start_time": "2024-03-15T21:45:07.568Z"
      },
      {
        "duration": 9,
        "start_time": "2024-03-15T21:45:10.105Z"
      },
      {
        "duration": 29,
        "start_time": "2024-03-15T21:45:20.699Z"
      },
      {
        "duration": 27,
        "start_time": "2024-03-15T21:45:21.435Z"
      },
      {
        "duration": 12,
        "start_time": "2024-03-15T21:45:23.102Z"
      },
      {
        "duration": 4,
        "start_time": "2024-03-15T21:45:24.731Z"
      },
      {
        "duration": 601,
        "start_time": "2024-03-15T21:45:31.941Z"
      },
      {
        "duration": 219,
        "start_time": "2024-03-15T21:47:46.737Z"
      },
      {
        "duration": 229,
        "start_time": "2024-03-15T21:55:32.600Z"
      },
      {
        "duration": 1401,
        "start_time": "2024-03-16T16:57:25.564Z"
      },
      {
        "duration": 202,
        "start_time": "2024-03-16T16:57:27.402Z"
      },
      {
        "duration": 6,
        "start_time": "2024-03-16T16:57:29.485Z"
      },
      {
        "duration": 40,
        "start_time": "2024-03-16T16:57:30.190Z"
      },
      {
        "duration": 2,
        "start_time": "2024-03-16T16:57:32.421Z"
      },
      {
        "duration": 10,
        "start_time": "2024-03-16T16:57:37.288Z"
      },
      {
        "duration": 9,
        "start_time": "2024-03-16T16:57:38.982Z"
      },
      {
        "duration": 33,
        "start_time": "2024-03-16T16:57:41.159Z"
      },
      {
        "duration": 26,
        "start_time": "2024-03-16T16:57:41.670Z"
      },
      {
        "duration": 13,
        "start_time": "2024-03-16T16:57:43.655Z"
      },
      {
        "duration": 5,
        "start_time": "2024-03-16T16:57:44.431Z"
      },
      {
        "duration": 601,
        "start_time": "2024-03-16T16:57:50.661Z"
      },
      {
        "duration": 255,
        "start_time": "2024-03-16T16:57:56.853Z"
      },
      {
        "duration": 442,
        "start_time": "2024-03-16T16:58:03.639Z"
      },
      {
        "duration": 292,
        "start_time": "2024-03-16T16:59:10.891Z"
      },
      {
        "duration": 3,
        "start_time": "2024-03-16T17:09:45.868Z"
      },
      {
        "duration": 137,
        "start_time": "2024-03-16T18:18:54.370Z"
      },
      {
        "duration": 383,
        "start_time": "2024-03-16T18:19:50.749Z"
      },
      {
        "duration": 385,
        "start_time": "2024-03-16T18:29:32.543Z"
      },
      {
        "duration": 1184,
        "start_time": "2024-03-16T18:38:22.798Z"
      },
      {
        "duration": 81,
        "start_time": "2024-03-16T18:38:24.530Z"
      },
      {
        "duration": 8,
        "start_time": "2024-03-16T18:38:27.328Z"
      },
      {
        "duration": 47,
        "start_time": "2024-03-16T18:38:28.065Z"
      },
      {
        "duration": 3,
        "start_time": "2024-03-16T18:38:29.732Z"
      },
      {
        "duration": 9,
        "start_time": "2024-03-16T18:38:32.531Z"
      },
      {
        "duration": 14,
        "start_time": "2024-03-16T18:38:34.421Z"
      },
      {
        "duration": 32,
        "start_time": "2024-03-16T18:38:37.207Z"
      },
      {
        "duration": 28,
        "start_time": "2024-03-16T18:38:38.249Z"
      },
      {
        "duration": 19,
        "start_time": "2024-03-16T18:38:41.405Z"
      },
      {
        "duration": 4,
        "start_time": "2024-03-16T18:38:42.172Z"
      },
      {
        "duration": 701,
        "start_time": "2024-03-16T18:38:44.204Z"
      },
      {
        "duration": 241,
        "start_time": "2024-03-16T18:38:47.701Z"
      },
      {
        "duration": 363,
        "start_time": "2024-03-16T18:38:52.010Z"
      },
      {
        "duration": 278,
        "start_time": "2024-03-16T18:38:54.664Z"
      },
      {
        "duration": 326,
        "start_time": "2024-03-16T18:38:57.023Z"
      },
      {
        "duration": 173,
        "start_time": "2024-03-16T18:38:59.686Z"
      },
      {
        "duration": 5,
        "start_time": "2024-03-16T18:39:02.851Z"
      },
      {
        "duration": 194,
        "start_time": "2024-03-16T18:39:05.610Z"
      },
      {
        "duration": 4,
        "start_time": "2024-03-16T18:39:07.081Z"
      },
      {
        "duration": 428,
        "start_time": "2024-03-16T18:39:10.511Z"
      },
      {
        "duration": 13,
        "start_time": "2024-03-16T18:39:13.237Z"
      },
      {
        "duration": 51,
        "start_time": "2024-03-16T18:39:35.791Z"
      },
      {
        "duration": 18,
        "start_time": "2024-03-16T18:39:37.978Z"
      },
      {
        "duration": 75,
        "start_time": "2024-03-17T07:05:06.278Z"
      },
      {
        "duration": 50,
        "start_time": "2024-03-17T09:40:15.873Z"
      },
      {
        "duration": 97,
        "start_time": "2024-03-17T09:40:18.079Z"
      },
      {
        "duration": 4,
        "start_time": "2024-03-17T09:48:20.771Z"
      },
      {
        "duration": 1308,
        "start_time": "2024-03-17T09:49:39.243Z"
      },
      {
        "duration": 200,
        "start_time": "2024-03-17T09:49:40.553Z"
      },
      {
        "duration": 7,
        "start_time": "2024-03-17T09:49:54.102Z"
      },
      {
        "duration": 50,
        "start_time": "2024-03-17T09:49:58.509Z"
      },
      {
        "duration": 1549,
        "start_time": "2024-03-17T09:54:57.348Z"
      },
      {
        "duration": 4,
        "start_time": "2024-03-17T09:55:20.584Z"
      },
      {
        "duration": 77,
        "start_time": "2024-03-17T09:55:21.350Z"
      },
      {
        "duration": 5,
        "start_time": "2024-03-17T09:55:22.193Z"
      },
      {
        "duration": 29,
        "start_time": "2024-03-17T09:55:22.810Z"
      },
      {
        "duration": 3,
        "start_time": "2024-03-17T09:55:25.815Z"
      },
      {
        "duration": 9,
        "start_time": "2024-03-17T09:55:28.962Z"
      },
      {
        "duration": 104,
        "start_time": "2024-03-17T09:55:50.094Z"
      },
      {
        "duration": 110,
        "start_time": "2024-03-17T09:57:23.120Z"
      },
      {
        "duration": 6,
        "start_time": "2024-03-17T10:03:56.445Z"
      },
      {
        "duration": 100,
        "start_time": "2024-03-17T10:07:21.946Z"
      },
      {
        "duration": 98,
        "start_time": "2024-03-17T10:07:37.209Z"
      },
      {
        "duration": 98,
        "start_time": "2024-03-17T10:09:10.272Z"
      },
      {
        "duration": 4,
        "start_time": "2024-03-17T10:10:03.498Z"
      },
      {
        "duration": 3,
        "start_time": "2024-03-17T10:10:24.912Z"
      },
      {
        "duration": 3,
        "start_time": "2024-03-17T10:10:51.166Z"
      },
      {
        "duration": 3,
        "start_time": "2024-03-17T10:11:23.094Z"
      },
      {
        "duration": 101,
        "start_time": "2024-03-17T10:14:06.453Z"
      },
      {
        "duration": 96,
        "start_time": "2024-03-17T10:15:21.238Z"
      },
      {
        "duration": 13,
        "start_time": "2024-03-17T10:21:08.691Z"
      },
      {
        "duration": 11,
        "start_time": "2024-03-17T10:22:34.048Z"
      },
      {
        "duration": 12,
        "start_time": "2024-03-17T10:22:43.600Z"
      },
      {
        "duration": 105,
        "start_time": "2024-03-17T10:27:26.538Z"
      },
      {
        "duration": 1217,
        "start_time": "2024-03-17T10:33:50.756Z"
      },
      {
        "duration": 78,
        "start_time": "2024-03-17T10:33:51.975Z"
      },
      {
        "duration": 7,
        "start_time": "2024-03-17T10:33:52.508Z"
      },
      {
        "duration": 34,
        "start_time": "2024-03-17T10:33:53.183Z"
      },
      {
        "duration": 6,
        "start_time": "2024-03-17T10:33:56.259Z"
      },
      {
        "duration": 9,
        "start_time": "2024-03-17T10:34:07.087Z"
      },
      {
        "duration": 8,
        "start_time": "2024-03-17T10:34:12.351Z"
      },
      {
        "duration": 3,
        "start_time": "2024-03-17T10:34:13.294Z"
      },
      {
        "duration": 32,
        "start_time": "2024-03-17T10:34:31.348Z"
      },
      {
        "duration": 26,
        "start_time": "2024-03-17T10:34:32.401Z"
      },
      {
        "duration": 13,
        "start_time": "2024-03-17T10:34:34.247Z"
      },
      {
        "duration": 3,
        "start_time": "2024-03-17T10:34:36.000Z"
      },
      {
        "duration": 583,
        "start_time": "2024-03-17T10:34:41.289Z"
      },
      {
        "duration": 237,
        "start_time": "2024-03-17T10:34:45.028Z"
      },
      {
        "duration": 344,
        "start_time": "2024-03-17T10:34:47.775Z"
      },
      {
        "duration": 249,
        "start_time": "2024-03-17T10:34:53.323Z"
      },
      {
        "duration": 332,
        "start_time": "2024-03-17T10:35:03.142Z"
      },
      {
        "duration": 154,
        "start_time": "2024-03-17T10:35:19.266Z"
      },
      {
        "duration": 5,
        "start_time": "2024-03-17T10:35:22.883Z"
      },
      {
        "duration": 104,
        "start_time": "2024-03-17T10:37:51.411Z"
      },
      {
        "duration": 11,
        "start_time": "2024-03-17T10:38:05.945Z"
      },
      {
        "duration": 98,
        "start_time": "2024-03-17T10:38:10.902Z"
      },
      {
        "duration": 4,
        "start_time": "2024-03-17T10:38:38.747Z"
      },
      {
        "duration": 165,
        "start_time": "2024-03-17T10:38:40.844Z"
      },
      {
        "duration": 4,
        "start_time": "2024-03-17T10:38:42.323Z"
      },
      {
        "duration": 383,
        "start_time": "2024-03-17T10:38:46.457Z"
      },
      {
        "duration": 14,
        "start_time": "2024-03-17T10:38:54.714Z"
      },
      {
        "duration": 39,
        "start_time": "2024-03-17T10:39:01.641Z"
      },
      {
        "duration": 14,
        "start_time": "2024-03-17T10:39:05.711Z"
      },
      {
        "duration": 15,
        "start_time": "2024-03-17T10:39:46.213Z"
      },
      {
        "duration": 35,
        "start_time": "2024-03-17T10:39:59.384Z"
      },
      {
        "duration": 90,
        "start_time": "2024-03-17T10:41:11.932Z"
      }
    ],
    "kernelspec": {
      "display_name": "Python 3 (ipykernel)",
      "language": "python",
      "name": "python3"
    },
    "language_info": {
      "codemirror_mode": {
        "name": "ipython",
        "version": 3
      },
      "file_extension": ".py",
      "mimetype": "text/x-python",
      "name": "python",
      "nbconvert_exporter": "python",
      "pygments_lexer": "ipython3",
      "version": "3.9.5"
    },
    "toc": {
      "base_numbering": 1,
      "nav_menu": {},
      "number_sections": true,
      "sideBar": true,
      "skip_h1_title": true,
      "title_cell": "Table of Contents",
      "title_sidebar": "Contents",
      "toc_cell": false,
      "toc_position": {},
      "toc_section_display": true,
      "toc_window_display": false
    },
    "colab": {
      "provenance": []
    }
  },
  "nbformat": 4,
  "nbformat_minor": 0
}