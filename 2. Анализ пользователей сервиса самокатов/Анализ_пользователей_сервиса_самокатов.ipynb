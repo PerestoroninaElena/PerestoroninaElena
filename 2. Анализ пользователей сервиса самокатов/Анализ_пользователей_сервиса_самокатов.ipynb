{
  "cells": [
    {
      "cell_type": "markdown",
      "id": "23d660ad",
      "metadata": {
        "id": "23d660ad"
      },
      "source": [
        "ИССЛЕДОВАНИЕ ДАННЫХ О ПОЛЬЗОВАТЕЛЯХ СЕРВИСА АРЕНДЫ САМОКАТОВ GoFast\n",
        "\n",
        "Данный проект посвящен исследованию данных о пользователях популярного сервиса аренды самокатов GoFast. В нашем распоряжении данные о пользователях из нескольких городов, а также об их поездках и подписках.\n",
        "\n",
        "Цель проекта - проанализировать данные и проверить некоторые гипотезы, которые могут помочь бизнесу вырасти. Чтобы совершать поездки по городу, пользователи сервиса GoFast пользуются мобильным приложением. Сервисом можно пользоваться без подписки (т.е. без абонентской платы - цена одной минуты поездки составляет 8 рублей и стоимость старта 50 рублей) или с подпиской Ultra (абонентская плата 199 рублей) - цена составляет 6 руб./минута, за старт деньги не взимаются.\n",
        "\n",
        "1й датафрейм содержит данные о пользователях, второй - о поездках, 3й - о подписках.\n",
        "\n",
        "В данном проекте данные будут проверены, предобработаны, объединены и проанализированы. Также будут выдвинуты и рассмотрены некоторые гипотезы касательно выручки, расстояния, технической поддержки сервиса."
      ]
    },
    {
      "cell_type": "code",
      "execution_count": null,
      "id": "72576667",
      "metadata": {
        "id": "72576667"
      },
      "outputs": [],
      "source": [
        "# импортируем необходимые библиотеки\n",
        "import pandas as pd\n",
        "import matplotlib.pyplot as plt\n",
        "import numpy as np\n",
        "from scipy import stats as st\n",
        "from math import sqrt\n",
        "import seaborn as sns"
      ]
    },
    {
      "cell_type": "markdown",
      "id": "c42cbe00",
      "metadata": {
        "id": "c42cbe00"
      },
      "source": [
        "#### Шаг 1. Загрузка данных"
      ]
    },
    {
      "cell_type": "code",
      "execution_count": null,
      "id": "eff9f206",
      "metadata": {
        "id": "eff9f206"
      },
      "outputs": [],
      "source": [
        "users=pd.read_csv('/datasets/users_go.csv')\n",
        "rides=pd.read_csv('/datasets/rides_go.csv')\n",
        "subs=pd.read_csv('/datasets/subscriptions_go.csv')"
      ]
    },
    {
      "cell_type": "markdown",
      "id": "e95ebca7",
      "metadata": {
        "id": "e95ebca7"
      },
      "source": [
        "#### Шаг 2. Предобработка данных"
      ]
    },
    {
      "cell_type": "markdown",
      "id": "a4843ba8",
      "metadata": {
        "id": "a4843ba8"
      },
      "source": [
        "1.2 Выведем первые строки каждого набора данных. Изучим общую информацию о каждом датафрейме."
      ]
    },
    {
      "cell_type": "code",
      "execution_count": null,
      "id": "70f20945",
      "metadata": {
        "id": "70f20945",
        "outputId": "266e441c-2823-43a8-ca7f-efb79d391ce7"
      },
      "outputs": [
        {
          "name": "stdout",
          "output_type": "stream",
          "text": [
            "      user_id      name  age            city subscription_type\n",
            "1148     1149     Самир   25    Екатеринбург              free\n",
            "40         41    Данила   21    Екатеринбург             ultra\n",
            "213       214      Иван   20       Краснодар             ultra\n",
            "300       301  Вячеслав   24  Ростов-на-Дону             ultra\n",
            "1506     1507  Вячеслав   26    Екатеринбург              free\n",
            "789       790     Марат   23            Сочи              free\n",
            "1437     1438    Тамара   30       Пятигорск              free\n",
            "983       984  Анжелика   34       Краснодар              free\n",
            "1491     1492  Григорий   36       Краснодар              free\n",
            "785       786  Виолетта   23            Сочи              free\n"
          ]
        }
      ],
      "source": [
        "print (users.sample(10))"
      ]
    },
    {
      "cell_type": "code",
      "execution_count": null,
      "id": "947393c5",
      "metadata": {
        "id": "947393c5",
        "outputId": "e8573f8b-b4a2-4fc6-b8f4-8a06e0bd5272"
      },
      "outputs": [
        {
          "name": "stdout",
          "output_type": "stream",
          "text": [
            "<class 'pandas.core.frame.DataFrame'>\n",
            "RangeIndex: 1565 entries, 0 to 1564\n",
            "Data columns (total 5 columns):\n",
            " #   Column             Non-Null Count  Dtype \n",
            "---  ------             --------------  ----- \n",
            " 0   user_id            1565 non-null   int64 \n",
            " 1   name               1565 non-null   object\n",
            " 2   age                1565 non-null   int64 \n",
            " 3   city               1565 non-null   object\n",
            " 4   subscription_type  1565 non-null   object\n",
            "dtypes: int64(2), object(3)\n",
            "memory usage: 61.3+ KB\n"
          ]
        }
      ],
      "source": [
        "users.info()"
      ]
    },
    {
      "cell_type": "code",
      "execution_count": null,
      "id": "c478e72a",
      "metadata": {
        "id": "c478e72a",
        "outputId": "4800395e-ed64-4450-b288-4f6bc0f811a8"
      },
      "outputs": [
        {
          "data": {
            "text/html": [
              "<div>\n",
              "<style scoped>\n",
              "    .dataframe tbody tr th:only-of-type {\n",
              "        vertical-align: middle;\n",
              "    }\n",
              "\n",
              "    .dataframe tbody tr th {\n",
              "        vertical-align: top;\n",
              "    }\n",
              "\n",
              "    .dataframe thead th {\n",
              "        text-align: right;\n",
              "    }\n",
              "</style>\n",
              "<table border=\"1\" class=\"dataframe\">\n",
              "  <thead>\n",
              "    <tr style=\"text-align: right;\">\n",
              "      <th></th>\n",
              "      <th>user_id</th>\n",
              "      <th>distance</th>\n",
              "      <th>duration</th>\n",
              "      <th>date</th>\n",
              "    </tr>\n",
              "  </thead>\n",
              "  <tbody>\n",
              "    <tr>\n",
              "      <th>0</th>\n",
              "      <td>1</td>\n",
              "      <td>4409.919140</td>\n",
              "      <td>25.599769</td>\n",
              "      <td>2021-01-01</td>\n",
              "    </tr>\n",
              "    <tr>\n",
              "      <th>1</th>\n",
              "      <td>1</td>\n",
              "      <td>2617.592153</td>\n",
              "      <td>15.816871</td>\n",
              "      <td>2021-01-18</td>\n",
              "    </tr>\n",
              "    <tr>\n",
              "      <th>2</th>\n",
              "      <td>1</td>\n",
              "      <td>754.159807</td>\n",
              "      <td>6.232113</td>\n",
              "      <td>2021-04-20</td>\n",
              "    </tr>\n",
              "    <tr>\n",
              "      <th>3</th>\n",
              "      <td>1</td>\n",
              "      <td>2694.783254</td>\n",
              "      <td>18.511000</td>\n",
              "      <td>2021-08-11</td>\n",
              "    </tr>\n",
              "    <tr>\n",
              "      <th>4</th>\n",
              "      <td>1</td>\n",
              "      <td>4028.687306</td>\n",
              "      <td>26.265803</td>\n",
              "      <td>2021-08-28</td>\n",
              "    </tr>\n",
              "  </tbody>\n",
              "</table>\n",
              "</div>"
            ],
            "text/plain": [
              "   user_id     distance   duration        date\n",
              "0        1  4409.919140  25.599769  2021-01-01\n",
              "1        1  2617.592153  15.816871  2021-01-18\n",
              "2        1   754.159807   6.232113  2021-04-20\n",
              "3        1  2694.783254  18.511000  2021-08-11\n",
              "4        1  4028.687306  26.265803  2021-08-28"
            ]
          },
          "execution_count": 5,
          "metadata": {},
          "output_type": "execute_result"
        }
      ],
      "source": [
        "rides.head()"
      ]
    },
    {
      "cell_type": "code",
      "execution_count": null,
      "id": "b651c4c5",
      "metadata": {
        "id": "b651c4c5",
        "outputId": "21bc9c65-37f1-4fd2-c7c1-46733e97c448"
      },
      "outputs": [
        {
          "name": "stdout",
          "output_type": "stream",
          "text": [
            "<class 'pandas.core.frame.DataFrame'>\n",
            "RangeIndex: 18068 entries, 0 to 18067\n",
            "Data columns (total 4 columns):\n",
            " #   Column    Non-Null Count  Dtype  \n",
            "---  ------    --------------  -----  \n",
            " 0   user_id   18068 non-null  int64  \n",
            " 1   distance  18068 non-null  float64\n",
            " 2   duration  18068 non-null  float64\n",
            " 3   date      18068 non-null  object \n",
            "dtypes: float64(2), int64(1), object(1)\n",
            "memory usage: 564.8+ KB\n"
          ]
        }
      ],
      "source": [
        "rides.info()"
      ]
    },
    {
      "cell_type": "code",
      "execution_count": null,
      "id": "3f2ebef7",
      "metadata": {
        "id": "3f2ebef7",
        "outputId": "75825edb-9d04-4439-9ec4-0e855c2296e7"
      },
      "outputs": [
        {
          "data": {
            "text/html": [
              "<div>\n",
              "<style scoped>\n",
              "    .dataframe tbody tr th:only-of-type {\n",
              "        vertical-align: middle;\n",
              "    }\n",
              "\n",
              "    .dataframe tbody tr th {\n",
              "        vertical-align: top;\n",
              "    }\n",
              "\n",
              "    .dataframe thead th {\n",
              "        text-align: right;\n",
              "    }\n",
              "</style>\n",
              "<table border=\"1\" class=\"dataframe\">\n",
              "  <thead>\n",
              "    <tr style=\"text-align: right;\">\n",
              "      <th></th>\n",
              "      <th>subscription_type</th>\n",
              "      <th>minute_price</th>\n",
              "      <th>start_ride_price</th>\n",
              "      <th>subscription_fee</th>\n",
              "    </tr>\n",
              "  </thead>\n",
              "  <tbody>\n",
              "    <tr>\n",
              "      <th>0</th>\n",
              "      <td>free</td>\n",
              "      <td>8</td>\n",
              "      <td>50</td>\n",
              "      <td>0</td>\n",
              "    </tr>\n",
              "    <tr>\n",
              "      <th>1</th>\n",
              "      <td>ultra</td>\n",
              "      <td>6</td>\n",
              "      <td>0</td>\n",
              "      <td>199</td>\n",
              "    </tr>\n",
              "  </tbody>\n",
              "</table>\n",
              "</div>"
            ],
            "text/plain": [
              "  subscription_type  minute_price  start_ride_price  subscription_fee\n",
              "0              free             8                50                 0\n",
              "1             ultra             6                 0               199"
            ]
          },
          "execution_count": 9,
          "metadata": {},
          "output_type": "execute_result"
        }
      ],
      "source": [
        "subs.head()"
      ]
    },
    {
      "cell_type": "code",
      "execution_count": null,
      "id": "2e560463",
      "metadata": {
        "scrolled": true,
        "id": "2e560463",
        "outputId": "9677ed8c-7895-4b50-b4cf-c731ce0df9f5"
      },
      "outputs": [
        {
          "name": "stdout",
          "output_type": "stream",
          "text": [
            "<class 'pandas.core.frame.DataFrame'>\n",
            "RangeIndex: 2 entries, 0 to 1\n",
            "Data columns (total 4 columns):\n",
            " #   Column             Non-Null Count  Dtype \n",
            "---  ------             --------------  ----- \n",
            " 0   subscription_type  2 non-null      object\n",
            " 1   minute_price       2 non-null      int64 \n",
            " 2   start_ride_price   2 non-null      int64 \n",
            " 3   subscription_fee   2 non-null      int64 \n",
            "dtypes: int64(3), object(1)\n",
            "memory usage: 192.0+ bytes\n"
          ]
        }
      ],
      "source": [
        "subs.info()"
      ]
    },
    {
      "cell_type": "markdown",
      "id": "f357578e",
      "metadata": {
        "id": "f357578e"
      },
      "source": [
        "   \n",
        "<b> ПРОМЕЖУТОЧНЫЙ ВЫВОД <b>"
      ]
    },
    {
      "cell_type": "markdown",
      "id": "b9323131",
      "metadata": {
        "id": "b9323131"
      },
      "source": [
        "<div class=\"alert alert-info\"  style=\"border-radius: 15px; box-shadow: 4px 4px 4px; border: 1px solid \">\n",
        "В первом датафрейме содержится 1565 строки с информацией о пользователях. Данные об ID пользователя и возраста - целочисленные, остальное - строчные (object), что никак не мешает обработке.\n",
        "Во втором датафрейме содержится 18068 строк с информацией о поездках данных пользователей. Данные об ID пользователя также целочисленные, информация о продолжительности и расстоянии поездки - float (не противоречит), данные о дате нуждаются в переводе в формат даты.\n",
        "Третий датафрейм - \"сервисный\", в нем всего 2 строки с указанием условий подписки (формат даты тоже нареканий не вызывает)."
      ]
    },
    {
      "cell_type": "markdown",
      "id": "fab866a6",
      "metadata": {
        "id": "fab866a6"
      },
      "source": [
        "2.1 Приводим столбец date к типу даты pandas."
      ]
    },
    {
      "cell_type": "code",
      "execution_count": null,
      "id": "cbaa3a88",
      "metadata": {
        "id": "cbaa3a88"
      },
      "outputs": [],
      "source": [
        "rides['date'] = pd.to_datetime(rides['date'], format='%Y-%m-%d')"
      ]
    },
    {
      "cell_type": "markdown",
      "id": "714acb93",
      "metadata": {
        "id": "714acb93"
      },
      "source": [
        "2.2 Создаем новый столбец с номером месяца на основе столбца date."
      ]
    },
    {
      "cell_type": "markdown",
      "id": "349afd0a",
      "metadata": {
        "id": "349afd0a"
      },
      "source": [
        "Проверяем за какой период данные - чтобы не было дублирования месяцев за разные года"
      ]
    },
    {
      "cell_type": "code",
      "execution_count": null,
      "id": "2a7fd56d",
      "metadata": {
        "scrolled": true,
        "id": "2a7fd56d",
        "outputId": "cd7a5254-2aa3-4f40-9671-da82e1f95400"
      },
      "outputs": [
        {
          "name": "stdout",
          "output_type": "stream",
          "text": [
            "Данные за период с  2021-01-01 00:00:00 по  2021-12-30 00:00:00\n"
          ]
        }
      ],
      "source": [
        "print ('Данные за период с ', rides['date'].min(), 'по ', rides['date'].max())"
      ]
    },
    {
      "cell_type": "code",
      "execution_count": null,
      "id": "a68f0ac5",
      "metadata": {
        "id": "a68f0ac5"
      },
      "outputs": [],
      "source": [
        "rides['month'] = pd.DatetimeIndex(rides['date']).month"
      ]
    },
    {
      "cell_type": "markdown",
      "id": "daa3b51e",
      "metadata": {
        "id": "daa3b51e"
      },
      "source": [
        "2.3 Проверяем наличие пропущенных значений и дубликатов в датафреймах и обрабатываем их, если такие значения присутствуют."
      ]
    },
    {
      "cell_type": "code",
      "execution_count": null,
      "id": "e630b93c",
      "metadata": {
        "id": "e630b93c",
        "outputId": "fedaa2e5-288d-4cce-c970-c0adb9665f8c"
      },
      "outputs": [
        {
          "name": "stdout",
          "output_type": "stream",
          "text": [
            "user_id              0\n",
            "name                 0\n",
            "age                  0\n",
            "city                 0\n",
            "subscription_type    0\n",
            "dtype: int64\n",
            "Число дубликатов: 31\n"
          ]
        }
      ],
      "source": [
        "print (users.isna().sum())\n",
        "print('Число дубликатов:', users.duplicated().sum())"
      ]
    },
    {
      "cell_type": "code",
      "execution_count": null,
      "id": "a65704af",
      "metadata": {
        "id": "a65704af"
      },
      "outputs": [],
      "source": [
        "users=users.drop_duplicates()"
      ]
    },
    {
      "cell_type": "code",
      "execution_count": null,
      "id": "f4ff3483",
      "metadata": {
        "scrolled": true,
        "id": "f4ff3483",
        "outputId": "708ad30b-a7b4-4b77-f477-41789d9e1538"
      },
      "outputs": [
        {
          "name": "stdout",
          "output_type": "stream",
          "text": [
            "user_id     0\n",
            "distance    0\n",
            "duration    0\n",
            "date        0\n",
            "month       0\n",
            "dtype: int64\n",
            "Число дубликатов: 0\n"
          ]
        }
      ],
      "source": [
        "print (rides.isna().sum())\n",
        "print('Число дубликатов:', rides.duplicated().sum())"
      ]
    },
    {
      "cell_type": "markdown",
      "id": "212593c7",
      "metadata": {
        "id": "212593c7"
      },
      "source": [
        "#### Шаг 3. Исследовательский анализ данных"
      ]
    },
    {
      "cell_type": "markdown",
      "id": "857a7174",
      "metadata": {
        "id": "857a7174"
      },
      "source": [
        "Опишем и визуализируем общую информацию о пользователях и поездках:"
      ]
    },
    {
      "cell_type": "markdown",
      "id": "1a74b459",
      "metadata": {
        "id": "1a74b459"
      },
      "source": [
        "3.1 частота встречаемости городов"
      ]
    },
    {
      "cell_type": "code",
      "execution_count": null,
      "id": "81887bb0",
      "metadata": {
        "scrolled": false,
        "id": "81887bb0",
        "outputId": "970c6865-e7c5-4571-f793-14053e9c4312"
      },
      "outputs": [
        {
          "data": {
            "text/plain": [
              "Пятигорск         219\n",
              "Екатеринбург      204\n",
              "Ростов-на-Дону    198\n",
              "Краснодар         193\n",
              "Сочи              189\n",
              "Омск              183\n",
              "Тюмень            180\n",
              "Москва            168\n",
              "Name: city, dtype: int64"
            ]
          },
          "execution_count": 17,
          "metadata": {},
          "output_type": "execute_result"
        }
      ],
      "source": [
        "users['city'].value_counts()"
      ]
    },
    {
      "cell_type": "code",
      "execution_count": null,
      "id": "2f0bff11",
      "metadata": {
        "id": "2f0bff11",
        "outputId": "aebb93ae-426f-46ab-b3d5-de94f784e2a7"
      },
      "outputs": [
        {
          "data": {
            "image/png": "[encoded data removed]",
            "text/plain": [
              "<Figure size 720x360 with 1 Axes>"
            ]
          },
          "metadata": {
            "needs_background": "light"
          },
          "output_type": "display_data"
        }
      ],
      "source": [
        "users['city'].value_counts().plot (kind = 'barh', figsize=(10,5), \\\n",
        "                                   cmap='summer',\\\n",
        "                                   use_index=True,\n",
        "                                   title = 'Количество пользователей по городам');"
      ]
    },
    {
      "cell_type": "code",
      "execution_count": null,
      "id": "3e017be4",
      "metadata": {
        "id": "3e017be4",
        "outputId": "f8ad5616-3536-44d8-8159-15bf1c40f86c"
      },
      "outputs": [
        {
          "data": {
            "image/png": "[encoded data removed]",
            "text/plain": [
              "<Figure size 360x360 with 1 Axes>"
            ]
          },
          "metadata": {},
          "output_type": "display_data"
        }
      ],
      "source": [
        "users['city'].value_counts().plot(\n",
        "    kind = 'pie',\n",
        "    autopct = '%1.0f%%',\n",
        "    figsize=(5,5),\n",
        "    cmap='summer',\n",
        "    title = 'Процентное соотношение пользователей в зависимости от тарифа');"
      ]
    },
    {
      "cell_type": "markdown",
      "id": "bf8902be",
      "metadata": {
        "id": "bf8902be"
      },
      "source": [
        "3.2 соотношение пользователей с подпиской и без подписки"
      ]
    },
    {
      "cell_type": "code",
      "execution_count": null,
      "id": "7788c523",
      "metadata": {
        "id": "7788c523",
        "outputId": "00bce3de-5711-4eb9-cbef-74eba50bb0cb"
      },
      "outputs": [
        {
          "data": {
            "text/plain": [
              "free     835\n",
              "ultra    699\n",
              "Name: subscription_type, dtype: int64"
            ]
          },
          "execution_count": 18,
          "metadata": {},
          "output_type": "execute_result"
        }
      ],
      "source": [
        "users['subscription_type'].value_counts()"
      ]
    },
    {
      "cell_type": "code",
      "execution_count": null,
      "id": "e5afdf13",
      "metadata": {
        "scrolled": false,
        "id": "e5afdf13",
        "outputId": "b40530c6-f1f0-4f0c-ef8c-560ef4976873"
      },
      "outputs": [
        {
          "data": {
            "image/png": "[encoded data removed]",
            "text/plain": [
              "<Figure size 360x360 with 1 Axes>"
            ]
          },
          "metadata": {},
          "output_type": "display_data"
        }
      ],
      "source": [
        "users['subscription_type'].value_counts().plot(\n",
        "    kind = 'pie',\n",
        "    autopct = '%1.0f%%',\n",
        "    figsize=(5,5),\n",
        "    legend=True,\n",
        "    cmap='summer',\n",
        "    title = 'Процентное соотношение пользователей в зависимости от тарифа');"
      ]
    },
    {
      "cell_type": "markdown",
      "id": "d9d08f45",
      "metadata": {
        "id": "d9d08f45"
      },
      "source": [
        "   \n",
        "Изучив базу данных пользователей, мы выяснили, что пользователей без подписки (free) - 835, а пользователей с подпиской ultra - 699, что в процентном соотношении выражается как 54% против 46%."
      ]
    },
    {
      "cell_type": "markdown",
      "id": "d1146942",
      "metadata": {
        "id": "d1146942"
      },
      "source": [
        "3.3 возраст пользователей"
      ]
    },
    {
      "cell_type": "code",
      "execution_count": null,
      "id": "64cc38e2",
      "metadata": {
        "id": "64cc38e2",
        "outputId": "447d9462-3b7d-4f85-f0bd-745f1b890c40"
      },
      "outputs": [
        {
          "name": "stdout",
          "output_type": "stream",
          "text": [
            "Минимальный возраст пользователя:  12\n",
            "Максимальный возраст пользователя:  43\n"
          ]
        }
      ],
      "source": [
        "users['age'].value_counts()\n",
        "print ('Минимальный возраст пользователя: ', users['age'].min())\n",
        "print ('Максимальный возраст пользователя: ', users['age'].max())"
      ]
    },
    {
      "cell_type": "code",
      "execution_count": null,
      "id": "c1a014b4",
      "metadata": {
        "scrolled": false,
        "id": "c1a014b4",
        "outputId": "688cabbe-28a0-462e-c00c-0ccb0ce6ce13"
      },
      "outputs": [
        {
          "data": {
            "image/png": "[encoded data removed]",
            "text/plain": [
              "<Figure size 432x288 with 1 Axes>"
            ]
          },
          "metadata": {
            "needs_background": "light"
          },
          "output_type": "display_data"
        }
      ],
      "source": [
        "plt.hist(users['age'], bins = 15, color='#458B74')\n",
        "plt.title('Возраст пользователей')\n",
        "plt.xlabel('Возраст')\n",
        "plt.ylabel('Количество пользователей')\n",
        "plt.grid()\n",
        "plt.show()\n",
        "\n"
      ]
    },
    {
      "cell_type": "code",
      "execution_count": null,
      "id": "98a89c67",
      "metadata": {
        "id": "98a89c67",
        "outputId": "bc4f9c7b-c43f-40bc-9da9-6ecfeb9f6022"
      },
      "outputs": [
        {
          "data": {
            "text/plain": [
              "count    1534.000000\n",
              "mean       24.903520\n",
              "std         4.572367\n",
              "min        12.000000\n",
              "25%        22.000000\n",
              "50%        25.000000\n",
              "75%        28.000000\n",
              "max        43.000000\n",
              "Name: age, dtype: float64"
            ]
          },
          "execution_count": 22,
          "metadata": {},
          "output_type": "execute_result"
        }
      ],
      "source": [
        "users['age'].describe()"
      ]
    },
    {
      "cell_type": "markdown",
      "id": "ab430db3",
      "metadata": {
        "id": "ab430db3"
      },
      "source": [
        "3.4 расстояние, которое пользователь преодолел за одну поездку"
      ]
    },
    {
      "cell_type": "code",
      "execution_count": null,
      "id": "9026c6c4",
      "metadata": {
        "id": "9026c6c4",
        "outputId": "10d6f492-42b0-4ae3-ecc8-dfef8baadb8c"
      },
      "outputs": [
        {
          "data": {
            "text/plain": [
              "count    18068.000000\n",
              "mean      3070.659976\n",
              "std       1116.831209\n",
              "min          0.855683\n",
              "25%       2543.226360\n",
              "50%       3133.609994\n",
              "75%       3776.222735\n",
              "max       7211.007745\n",
              "Name: distance, dtype: float64"
            ]
          },
          "execution_count": 23,
          "metadata": {},
          "output_type": "execute_result"
        }
      ],
      "source": [
        "rides['distance'].describe()"
      ]
    },
    {
      "cell_type": "code",
      "execution_count": null,
      "id": "ce70ed37",
      "metadata": {
        "id": "ce70ed37"
      },
      "outputs": [],
      "source": []
    },
    {
      "cell_type": "code",
      "execution_count": null,
      "id": "c39ced65",
      "metadata": {
        "id": "c39ced65",
        "outputId": "c52fb570-6626-4ee8-afb5-3b7a2bb75b1d"
      },
      "outputs": [
        {
          "data": {
            "image/png": "[encoded data removed]",
            "text/plain": [
              "<Figure size 432x288 with 1 Axes>"
            ]
          },
          "metadata": {
            "needs_background": "light"
          },
          "output_type": "display_data"
        }
      ],
      "source": [
        "plt.hist(rides['distance'], bins = 50, color='#458B74')\n",
        "plt.title('Дистанция поездок')\n",
        "plt.xlabel('Метров')\n",
        "plt.ylabel('Количество')\n",
        "plt.grid()\n",
        "plt.show()"
      ]
    },
    {
      "cell_type": "code",
      "execution_count": null,
      "id": "db32de66",
      "metadata": {
        "scrolled": true,
        "id": "db32de66",
        "outputId": "992c6205-5834-470e-f9ba-00838d574ac8"
      },
      "outputs": [
        {
          "data": {
            "text/plain": [
              "(600.0, 6000.0)"
            ]
          },
          "execution_count": 25,
          "metadata": {},
          "output_type": "execute_result"
        },
        {
          "data": {
            "image/png": "[encoded data removed]",
            "text/plain": [
              "<Figure size 720x360 with 1 Axes>"
            ]
          },
          "metadata": {
            "needs_background": "light"
          },
          "output_type": "display_data"
        }
      ],
      "source": [
        "rides[['distance']].boxplot(figsize=(10,5))\n",
        "plt.ylim(600, 6000)"
      ]
    },
    {
      "cell_type": "markdown",
      "id": "75f415c2",
      "metadata": {
        "id": "75f415c2"
      },
      "source": [
        "Средняя длина поезди составляет 3071 м., медиана - 3134 м, основная масса поездок в промежутке между 2543 м 3776 м, минимальная дистанция - 0,85м, максимальная - 7211 м. Также наблюдается всплеск на 700 м., можно предположить, что это обусловлено перемещениями между точками аренды в пределах центральной локации всех точек аренды. Выбросы есть как снизу (меньше 680), так и сверху  (5600).."
      ]
    },
    {
      "cell_type": "markdown",
      "id": "94219b31",
      "metadata": {
        "id": "94219b31"
      },
      "source": [
        "3.5. продолжительность поездок"
      ]
    },
    {
      "cell_type": "code",
      "execution_count": null,
      "id": "bf3c8c41",
      "metadata": {
        "id": "bf3c8c41",
        "outputId": "b9ac9e88-76cc-4637-f5d7-09076d7f3305"
      },
      "outputs": [
        {
          "data": {
            "text/plain": [
              "count    18068.000000\n",
              "mean        17.805011\n",
              "std          6.091051\n",
              "min          0.500000\n",
              "25%         13.597563\n",
              "50%         17.678395\n",
              "75%         21.724800\n",
              "max         40.823963\n",
              "Name: duration, dtype: float64"
            ]
          },
          "execution_count": 26,
          "metadata": {},
          "output_type": "execute_result"
        }
      ],
      "source": [
        "rides['duration'].describe()"
      ]
    },
    {
      "cell_type": "code",
      "execution_count": null,
      "id": "0c057b69",
      "metadata": {
        "id": "0c057b69",
        "outputId": "af56b322-9f36-4c58-db0f-a831d521dfd9"
      },
      "outputs": [
        {
          "data": {
            "image/png": "[encoded data removed]",
            "text/plain": [
              "<Figure size 432x288 with 1 Axes>"
            ]
          },
          "metadata": {
            "needs_background": "light"
          },
          "output_type": "display_data"
        }
      ],
      "source": [
        "plt.hist(rides['duration'], bins = 50, color='#458B74')\n",
        "plt.title('Продолжительность поездок, мин')\n",
        "plt.xlabel('минут')\n",
        "plt.ylabel('Количество')\n",
        "plt.grid()\n",
        "plt.show()"
      ]
    },
    {
      "cell_type": "code",
      "execution_count": null,
      "id": "5d8fb52f",
      "metadata": {
        "id": "5d8fb52f",
        "outputId": "b884e512-4068-4704-f6d6-e9ddac80d9a0"
      },
      "outputs": [
        {
          "data": {
            "text/plain": [
              "(0.0, 40.0)"
            ]
          },
          "execution_count": 28,
          "metadata": {},
          "output_type": "execute_result"
        },
        {
          "data": {
            "image/png": "[encoded data removed]",
            "text/plain": [
              "<Figure size 720x360 with 1 Axes>"
            ]
          },
          "metadata": {
            "needs_background": "light"
          },
          "output_type": "display_data"
        }
      ],
      "source": [
        "rides[['duration']].boxplot(figsize=(10,5))\n",
        "plt.ylim(0, 40)"
      ]
    },
    {
      "cell_type": "markdown",
      "id": "fa697055",
      "metadata": {
        "id": "fa697055"
      },
      "source": [
        "   \n",
        "Средняя продолжительность поездки составляет 17,8 минут, медиана - 17,7 мин, основная масса поездок в промежутке между 13,6 и 21,7 минут, минимальная продолжительность - 0,5 мин, максимальная - 40 мин. Также наблюдается всплеск на 1 минуте, можно предположить, это какие-то пробные, ошибочные или \"не разобрался\". Выбросы есть как снизу (меньше 2 минут), так и сверху (свыше 34 минут)"
      ]
    },
    {
      "cell_type": "code",
      "execution_count": null,
      "id": "394e3628",
      "metadata": {
        "id": "394e3628",
        "outputId": "ddf139c4-2cf3-49ad-eacc-8e5cdb781f3c"
      },
      "outputs": [
        {
          "data": {
            "text/html": [
              "<div>\n",
              "<style scoped>\n",
              "    .dataframe tbody tr th:only-of-type {\n",
              "        vertical-align: middle;\n",
              "    }\n",
              "\n",
              "    .dataframe tbody tr th {\n",
              "        vertical-align: top;\n",
              "    }\n",
              "\n",
              "    .dataframe thead th {\n",
              "        text-align: right;\n",
              "    }\n",
              "</style>\n",
              "<table border=\"1\" class=\"dataframe\">\n",
              "  <thead>\n",
              "    <tr style=\"text-align: right;\">\n",
              "      <th></th>\n",
              "      <th>distance</th>\n",
              "      <th>duration</th>\n",
              "      <th>month</th>\n",
              "    </tr>\n",
              "    <tr>\n",
              "      <th>user_id</th>\n",
              "      <th></th>\n",
              "      <th></th>\n",
              "      <th></th>\n",
              "    </tr>\n",
              "  </thead>\n",
              "  <tbody>\n",
              "    <tr>\n",
              "      <th>1</th>\n",
              "      <td>34070.182066</td>\n",
              "      <td>204.604909</td>\n",
              "      <td>99</td>\n",
              "    </tr>\n",
              "    <tr>\n",
              "      <th>2</th>\n",
              "      <td>33964.058614</td>\n",
              "      <td>197.644279</td>\n",
              "      <td>67</td>\n",
              "    </tr>\n",
              "    <tr>\n",
              "      <th>3</th>\n",
              "      <td>36907.597866</td>\n",
              "      <td>233.193513</td>\n",
              "      <td>66</td>\n",
              "    </tr>\n",
              "    <tr>\n",
              "      <th>4</th>\n",
              "      <td>44837.189916</td>\n",
              "      <td>288.563581</td>\n",
              "      <td>107</td>\n",
              "    </tr>\n",
              "    <tr>\n",
              "      <th>5</th>\n",
              "      <td>35556.949649</td>\n",
              "      <td>174.073932</td>\n",
              "      <td>51</td>\n",
              "    </tr>\n",
              "  </tbody>\n",
              "</table>\n",
              "</div>"
            ],
            "text/plain": [
              "             distance    duration  month\n",
              "user_id                                 \n",
              "1        34070.182066  204.604909     99\n",
              "2        33964.058614  197.644279     67\n",
              "3        36907.597866  233.193513     66\n",
              "4        44837.189916  288.563581    107\n",
              "5        35556.949649  174.073932     51"
            ]
          },
          "execution_count": 29,
          "metadata": {},
          "output_type": "execute_result"
        }
      ],
      "source": [
        "total_distance_by_user = rides.groupby(['user_id']).sum()\n",
        "total_distance_by_user.head()"
      ]
    },
    {
      "cell_type": "markdown",
      "id": "4ef51331",
      "metadata": {
        "id": "4ef51331"
      },
      "source": [
        "#### Шаг 4. Объединение данных"
      ]
    },
    {
      "cell_type": "markdown",
      "id": "12517378",
      "metadata": {
        "id": "12517378"
      },
      "source": [
        "4.1 Объединяем данные о пользователях, поездках и подписках в один датафрейм методом merge()."
      ]
    },
    {
      "cell_type": "code",
      "execution_count": null,
      "id": "6bf288b5",
      "metadata": {
        "id": "6bf288b5",
        "outputId": "426be55d-0d39-49e9-f0fd-da2eeb754908"
      },
      "outputs": [
        {
          "data": {
            "text/html": [
              "<div>\n",
              "<style scoped>\n",
              "    .dataframe tbody tr th:only-of-type {\n",
              "        vertical-align: middle;\n",
              "    }\n",
              "\n",
              "    .dataframe tbody tr th {\n",
              "        vertical-align: top;\n",
              "    }\n",
              "\n",
              "    .dataframe thead th {\n",
              "        text-align: right;\n",
              "    }\n",
              "</style>\n",
              "<table border=\"1\" class=\"dataframe\">\n",
              "  <thead>\n",
              "    <tr style=\"text-align: right;\">\n",
              "      <th></th>\n",
              "      <th>user_id</th>\n",
              "      <th>distance</th>\n",
              "      <th>duration</th>\n",
              "      <th>date</th>\n",
              "      <th>month</th>\n",
              "      <th>name</th>\n",
              "      <th>age</th>\n",
              "      <th>city</th>\n",
              "      <th>subscription_type</th>\n",
              "      <th>minute_price</th>\n",
              "      <th>start_ride_price</th>\n",
              "      <th>subscription_fee</th>\n",
              "    </tr>\n",
              "  </thead>\n",
              "  <tbody>\n",
              "    <tr>\n",
              "      <th>7043</th>\n",
              "      <td>737</td>\n",
              "      <td>6386.938020</td>\n",
              "      <td>25.967345</td>\n",
              "      <td>2021-07-31</td>\n",
              "      <td>7</td>\n",
              "      <td>Мелания</td>\n",
              "      <td>27</td>\n",
              "      <td>Ростов-на-Дону</td>\n",
              "      <td>free</td>\n",
              "      <td>8</td>\n",
              "      <td>50</td>\n",
              "      <td>0</td>\n",
              "    </tr>\n",
              "    <tr>\n",
              "      <th>14713</th>\n",
              "      <td>1295</td>\n",
              "      <td>2838.988951</td>\n",
              "      <td>19.308864</td>\n",
              "      <td>2021-07-08</td>\n",
              "      <td>7</td>\n",
              "      <td>Алиса</td>\n",
              "      <td>27</td>\n",
              "      <td>Сочи</td>\n",
              "      <td>free</td>\n",
              "      <td>8</td>\n",
              "      <td>50</td>\n",
              "      <td>0</td>\n",
              "    </tr>\n",
              "    <tr>\n",
              "      <th>9117</th>\n",
              "      <td>895</td>\n",
              "      <td>3401.154358</td>\n",
              "      <td>17.576376</td>\n",
              "      <td>2021-06-19</td>\n",
              "      <td>6</td>\n",
              "      <td>Мирон</td>\n",
              "      <td>25</td>\n",
              "      <td>Сочи</td>\n",
              "      <td>free</td>\n",
              "      <td>8</td>\n",
              "      <td>50</td>\n",
              "      <td>0</td>\n",
              "    </tr>\n",
              "    <tr>\n",
              "      <th>3753</th>\n",
              "      <td>403</td>\n",
              "      <td>3445.142476</td>\n",
              "      <td>14.395843</td>\n",
              "      <td>2021-10-06</td>\n",
              "      <td>10</td>\n",
              "      <td>Полина</td>\n",
              "      <td>19</td>\n",
              "      <td>Сочи</td>\n",
              "      <td>ultra</td>\n",
              "      <td>6</td>\n",
              "      <td>0</td>\n",
              "      <td>199</td>\n",
              "    </tr>\n",
              "    <tr>\n",
              "      <th>7283</th>\n",
              "      <td>755</td>\n",
              "      <td>2094.984245</td>\n",
              "      <td>19.669158</td>\n",
              "      <td>2021-01-01</td>\n",
              "      <td>1</td>\n",
              "      <td>Иван</td>\n",
              "      <td>21</td>\n",
              "      <td>Краснодар</td>\n",
              "      <td>free</td>\n",
              "      <td>8</td>\n",
              "      <td>50</td>\n",
              "      <td>0</td>\n",
              "    </tr>\n",
              "    <tr>\n",
              "      <th>8856</th>\n",
              "      <td>876</td>\n",
              "      <td>2840.132048</td>\n",
              "      <td>22.467107</td>\n",
              "      <td>2021-06-23</td>\n",
              "      <td>6</td>\n",
              "      <td>Никита</td>\n",
              "      <td>18</td>\n",
              "      <td>Екатеринбург</td>\n",
              "      <td>free</td>\n",
              "      <td>8</td>\n",
              "      <td>50</td>\n",
              "      <td>0</td>\n",
              "    </tr>\n",
              "    <tr>\n",
              "      <th>15222</th>\n",
              "      <td>1331</td>\n",
              "      <td>3733.104969</td>\n",
              "      <td>17.199315</td>\n",
              "      <td>2021-10-28</td>\n",
              "      <td>10</td>\n",
              "      <td>Савелий</td>\n",
              "      <td>19</td>\n",
              "      <td>Краснодар</td>\n",
              "      <td>free</td>\n",
              "      <td>8</td>\n",
              "      <td>50</td>\n",
              "      <td>0</td>\n",
              "    </tr>\n",
              "    <tr>\n",
              "      <th>16169</th>\n",
              "      <td>1401</td>\n",
              "      <td>2648.506102</td>\n",
              "      <td>16.945518</td>\n",
              "      <td>2021-05-11</td>\n",
              "      <td>5</td>\n",
              "      <td>Амина</td>\n",
              "      <td>21</td>\n",
              "      <td>Омск</td>\n",
              "      <td>free</td>\n",
              "      <td>8</td>\n",
              "      <td>50</td>\n",
              "      <td>0</td>\n",
              "    </tr>\n",
              "    <tr>\n",
              "      <th>11726</th>\n",
              "      <td>1082</td>\n",
              "      <td>2941.032449</td>\n",
              "      <td>27.705162</td>\n",
              "      <td>2021-05-22</td>\n",
              "      <td>5</td>\n",
              "      <td>Макар</td>\n",
              "      <td>24</td>\n",
              "      <td>Екатеринбург</td>\n",
              "      <td>free</td>\n",
              "      <td>8</td>\n",
              "      <td>50</td>\n",
              "      <td>0</td>\n",
              "    </tr>\n",
              "    <tr>\n",
              "      <th>11763</th>\n",
              "      <td>1085</td>\n",
              "      <td>3797.797917</td>\n",
              "      <td>23.114715</td>\n",
              "      <td>2021-01-12</td>\n",
              "      <td>1</td>\n",
              "      <td>Глеб</td>\n",
              "      <td>24</td>\n",
              "      <td>Пятигорск</td>\n",
              "      <td>free</td>\n",
              "      <td>8</td>\n",
              "      <td>50</td>\n",
              "      <td>0</td>\n",
              "    </tr>\n",
              "  </tbody>\n",
              "</table>\n",
              "</div>"
            ],
            "text/plain": [
              "       user_id     distance   duration       date  month     name  age  \\\n",
              "7043       737  6386.938020  25.967345 2021-07-31      7  Мелания   27   \n",
              "14713     1295  2838.988951  19.308864 2021-07-08      7    Алиса   27   \n",
              "9117       895  3401.154358  17.576376 2021-06-19      6    Мирон   25   \n",
              "3753       403  3445.142476  14.395843 2021-10-06     10   Полина   19   \n",
              "7283       755  2094.984245  19.669158 2021-01-01      1     Иван   21   \n",
              "8856       876  2840.132048  22.467107 2021-06-23      6   Никита   18   \n",
              "15222     1331  3733.104969  17.199315 2021-10-28     10  Савелий   19   \n",
              "16169     1401  2648.506102  16.945518 2021-05-11      5    Амина   21   \n",
              "11726     1082  2941.032449  27.705162 2021-05-22      5    Макар   24   \n",
              "11763     1085  3797.797917  23.114715 2021-01-12      1     Глеб   24   \n",
              "\n",
              "                 city subscription_type  minute_price  start_ride_price  \\\n",
              "7043   Ростов-на-Дону              free             8                50   \n",
              "14713            Сочи              free             8                50   \n",
              "9117             Сочи              free             8                50   \n",
              "3753             Сочи             ultra             6                 0   \n",
              "7283        Краснодар              free             8                50   \n",
              "8856     Екатеринбург              free             8                50   \n",
              "15222       Краснодар              free             8                50   \n",
              "16169            Омск              free             8                50   \n",
              "11726    Екатеринбург              free             8                50   \n",
              "11763       Пятигорск              free             8                50   \n",
              "\n",
              "       subscription_fee  \n",
              "7043                  0  \n",
              "14713                 0  \n",
              "9117                  0  \n",
              "3753                199  \n",
              "7283                  0  \n",
              "8856                  0  \n",
              "15222                 0  \n",
              "16169                 0  \n",
              "11726                 0  \n",
              "11763                 0  "
            ]
          },
          "execution_count": 30,
          "metadata": {},
          "output_type": "execute_result"
        }
      ],
      "source": [
        "two_df = rides.merge(users, on='user_id', how='left')\n",
        "data = two_df.merge (subs, on='subscription_type', how='left')\n",
        "data.sample(10)"
      ]
    },
    {
      "cell_type": "code",
      "execution_count": null,
      "id": "9bbcb7c4",
      "metadata": {
        "id": "9bbcb7c4",
        "outputId": "a2af86ab-c6d6-40c0-f920-f5a740c31030"
      },
      "outputs": [
        {
          "name": "stdout",
          "output_type": "stream",
          "text": [
            "<class 'pandas.core.frame.DataFrame'>\n",
            "Int64Index: 18068 entries, 0 to 18067\n",
            "Data columns (total 12 columns):\n",
            " #   Column             Non-Null Count  Dtype         \n",
            "---  ------             --------------  -----         \n",
            " 0   user_id            18068 non-null  int64         \n",
            " 1   distance           18068 non-null  float64       \n",
            " 2   duration           18068 non-null  float64       \n",
            " 3   date               18068 non-null  datetime64[ns]\n",
            " 4   month              18068 non-null  int64         \n",
            " 5   name               18068 non-null  object        \n",
            " 6   age                18068 non-null  int64         \n",
            " 7   city               18068 non-null  object        \n",
            " 8   subscription_type  18068 non-null  object        \n",
            " 9   minute_price       18068 non-null  int64         \n",
            " 10  start_ride_price   18068 non-null  int64         \n",
            " 11  subscription_fee   18068 non-null  int64         \n",
            "dtypes: datetime64[ns](1), float64(2), int64(6), object(3)\n",
            "memory usage: 1.8+ MB\n"
          ]
        }
      ],
      "source": [
        "data.info()"
      ]
    },
    {
      "cell_type": "markdown",
      "id": "e1156ef9",
      "metadata": {
        "id": "e1156ef9"
      },
      "source": [
        "4.2 Создаем ещё два датафрейма из датафрейма, созданного на этапе 4.1:\n",
        "\n",
        "c данными о пользователях без подписки;\n",
        "\n",
        "с данными о пользователях с подпиской."
      ]
    },
    {
      "cell_type": "code",
      "execution_count": null,
      "id": "61ce71a8",
      "metadata": {
        "scrolled": true,
        "id": "61ce71a8",
        "outputId": "b0f51f45-ab2e-407a-9c5b-c11d4a170b7f"
      },
      "outputs": [
        {
          "data": {
            "text/html": [
              "<div>\n",
              "<style scoped>\n",
              "    .dataframe tbody tr th:only-of-type {\n",
              "        vertical-align: middle;\n",
              "    }\n",
              "\n",
              "    .dataframe tbody tr th {\n",
              "        vertical-align: top;\n",
              "    }\n",
              "\n",
              "    .dataframe thead th {\n",
              "        text-align: right;\n",
              "    }\n",
              "</style>\n",
              "<table border=\"1\" class=\"dataframe\">\n",
              "  <thead>\n",
              "    <tr style=\"text-align: right;\">\n",
              "      <th></th>\n",
              "      <th>user_id</th>\n",
              "      <th>distance</th>\n",
              "      <th>duration</th>\n",
              "      <th>date</th>\n",
              "      <th>month</th>\n",
              "      <th>name</th>\n",
              "      <th>age</th>\n",
              "      <th>city</th>\n",
              "      <th>subscription_type</th>\n",
              "      <th>minute_price</th>\n",
              "      <th>start_ride_price</th>\n",
              "      <th>subscription_fee</th>\n",
              "    </tr>\n",
              "  </thead>\n",
              "  <tbody>\n",
              "    <tr>\n",
              "      <th>15032</th>\n",
              "      <td>1318</td>\n",
              "      <td>2787.678472</td>\n",
              "      <td>17.194841</td>\n",
              "      <td>2021-05-18</td>\n",
              "      <td>5</td>\n",
              "      <td>Мадина</td>\n",
              "      <td>28</td>\n",
              "      <td>Москва</td>\n",
              "      <td>free</td>\n",
              "      <td>8</td>\n",
              "      <td>50</td>\n",
              "      <td>0</td>\n",
              "    </tr>\n",
              "    <tr>\n",
              "      <th>7287</th>\n",
              "      <td>755</td>\n",
              "      <td>4432.003258</td>\n",
              "      <td>21.642364</td>\n",
              "      <td>2021-06-15</td>\n",
              "      <td>6</td>\n",
              "      <td>Иван</td>\n",
              "      <td>21</td>\n",
              "      <td>Краснодар</td>\n",
              "      <td>free</td>\n",
              "      <td>8</td>\n",
              "      <td>50</td>\n",
              "      <td>0</td>\n",
              "    </tr>\n",
              "    <tr>\n",
              "      <th>11388</th>\n",
              "      <td>1057</td>\n",
              "      <td>2334.379206</td>\n",
              "      <td>17.238985</td>\n",
              "      <td>2021-05-19</td>\n",
              "      <td>5</td>\n",
              "      <td>Адель</td>\n",
              "      <td>26</td>\n",
              "      <td>Москва</td>\n",
              "      <td>free</td>\n",
              "      <td>8</td>\n",
              "      <td>50</td>\n",
              "      <td>0</td>\n",
              "    </tr>\n",
              "    <tr>\n",
              "      <th>11812</th>\n",
              "      <td>1088</td>\n",
              "      <td>3139.295520</td>\n",
              "      <td>12.727062</td>\n",
              "      <td>2021-02-01</td>\n",
              "      <td>2</td>\n",
              "      <td>Самир</td>\n",
              "      <td>28</td>\n",
              "      <td>Тюмень</td>\n",
              "      <td>free</td>\n",
              "      <td>8</td>\n",
              "      <td>50</td>\n",
              "      <td>0</td>\n",
              "    </tr>\n",
              "    <tr>\n",
              "      <th>9813</th>\n",
              "      <td>945</td>\n",
              "      <td>4879.620234</td>\n",
              "      <td>18.095766</td>\n",
              "      <td>2021-11-13</td>\n",
              "      <td>11</td>\n",
              "      <td>Александра</td>\n",
              "      <td>31</td>\n",
              "      <td>Сочи</td>\n",
              "      <td>free</td>\n",
              "      <td>8</td>\n",
              "      <td>50</td>\n",
              "      <td>0</td>\n",
              "    </tr>\n",
              "  </tbody>\n",
              "</table>\n",
              "</div>"
            ],
            "text/plain": [
              "       user_id     distance   duration       date  month        name  age  \\\n",
              "15032     1318  2787.678472  17.194841 2021-05-18      5      Мадина   28   \n",
              "7287       755  4432.003258  21.642364 2021-06-15      6        Иван   21   \n",
              "11388     1057  2334.379206  17.238985 2021-05-19      5       Адель   26   \n",
              "11812     1088  3139.295520  12.727062 2021-02-01      2       Самир   28   \n",
              "9813       945  4879.620234  18.095766 2021-11-13     11  Александра   31   \n",
              "\n",
              "            city subscription_type  minute_price  start_ride_price  \\\n",
              "15032     Москва              free             8                50   \n",
              "7287   Краснодар              free             8                50   \n",
              "11388     Москва              free             8                50   \n",
              "11812     Тюмень              free             8                50   \n",
              "9813        Сочи              free             8                50   \n",
              "\n",
              "       subscription_fee  \n",
              "15032                 0  \n",
              "7287                  0  \n",
              "11388                 0  \n",
              "11812                 0  \n",
              "9813                  0  "
            ]
          },
          "execution_count": 32,
          "metadata": {},
          "output_type": "execute_result"
        }
      ],
      "source": [
        "free_users = data.query(\"subscription_type == 'free'\")\n",
        "ultra_users = data.query(\"subscription_type == 'ultra'\")\n",
        "free_users.sample(5)"
      ]
    },
    {
      "cell_type": "code",
      "execution_count": null,
      "id": "9bdffd80",
      "metadata": {
        "scrolled": false,
        "id": "9bdffd80",
        "outputId": "513d3190-09a7-483b-ac52-cd13db032bb3"
      },
      "outputs": [
        {
          "data": {
            "text/html": [
              "<div>\n",
              "<style scoped>\n",
              "    .dataframe tbody tr th:only-of-type {\n",
              "        vertical-align: middle;\n",
              "    }\n",
              "\n",
              "    .dataframe tbody tr th {\n",
              "        vertical-align: top;\n",
              "    }\n",
              "\n",
              "    .dataframe thead th {\n",
              "        text-align: right;\n",
              "    }\n",
              "</style>\n",
              "<table border=\"1\" class=\"dataframe\">\n",
              "  <thead>\n",
              "    <tr style=\"text-align: right;\">\n",
              "      <th></th>\n",
              "      <th>user_id</th>\n",
              "      <th>distance</th>\n",
              "      <th>duration</th>\n",
              "      <th>date</th>\n",
              "      <th>month</th>\n",
              "      <th>name</th>\n",
              "      <th>age</th>\n",
              "      <th>city</th>\n",
              "      <th>subscription_type</th>\n",
              "      <th>minute_price</th>\n",
              "      <th>start_ride_price</th>\n",
              "      <th>subscription_fee</th>\n",
              "    </tr>\n",
              "  </thead>\n",
              "  <tbody>\n",
              "    <tr>\n",
              "      <th>2434</th>\n",
              "      <td>259</td>\n",
              "      <td>3729.146085</td>\n",
              "      <td>20.776251</td>\n",
              "      <td>2021-08-06</td>\n",
              "      <td>8</td>\n",
              "      <td>Карина</td>\n",
              "      <td>27</td>\n",
              "      <td>Краснодар</td>\n",
              "      <td>ultra</td>\n",
              "      <td>6</td>\n",
              "      <td>0</td>\n",
              "      <td>199</td>\n",
              "    </tr>\n",
              "    <tr>\n",
              "      <th>3869</th>\n",
              "      <td>416</td>\n",
              "      <td>3706.619906</td>\n",
              "      <td>20.885514</td>\n",
              "      <td>2021-08-20</td>\n",
              "      <td>8</td>\n",
              "      <td>Милена</td>\n",
              "      <td>31</td>\n",
              "      <td>Ростов-на-Дону</td>\n",
              "      <td>ultra</td>\n",
              "      <td>6</td>\n",
              "      <td>0</td>\n",
              "      <td>199</td>\n",
              "    </tr>\n",
              "    <tr>\n",
              "      <th>5758</th>\n",
              "      <td>614</td>\n",
              "      <td>4208.373208</td>\n",
              "      <td>27.041866</td>\n",
              "      <td>2021-10-10</td>\n",
              "      <td>10</td>\n",
              "      <td>Кристина</td>\n",
              "      <td>26</td>\n",
              "      <td>Ростов-на-Дону</td>\n",
              "      <td>ultra</td>\n",
              "      <td>6</td>\n",
              "      <td>0</td>\n",
              "      <td>199</td>\n",
              "    </tr>\n",
              "    <tr>\n",
              "      <th>409</th>\n",
              "      <td>44</td>\n",
              "      <td>3082.979593</td>\n",
              "      <td>19.561173</td>\n",
              "      <td>2021-02-21</td>\n",
              "      <td>2</td>\n",
              "      <td>Ясмина</td>\n",
              "      <td>25</td>\n",
              "      <td>Ростов-на-Дону</td>\n",
              "      <td>ultra</td>\n",
              "      <td>6</td>\n",
              "      <td>0</td>\n",
              "      <td>199</td>\n",
              "    </tr>\n",
              "    <tr>\n",
              "      <th>3602</th>\n",
              "      <td>387</td>\n",
              "      <td>1234.763317</td>\n",
              "      <td>11.630362</td>\n",
              "      <td>2021-04-27</td>\n",
              "      <td>4</td>\n",
              "      <td>Татьяна</td>\n",
              "      <td>22</td>\n",
              "      <td>Сочи</td>\n",
              "      <td>ultra</td>\n",
              "      <td>6</td>\n",
              "      <td>0</td>\n",
              "      <td>199</td>\n",
              "    </tr>\n",
              "  </tbody>\n",
              "</table>\n",
              "</div>"
            ],
            "text/plain": [
              "      user_id     distance   duration       date  month      name  age  \\\n",
              "2434      259  3729.146085  20.776251 2021-08-06      8    Карина   27   \n",
              "3869      416  3706.619906  20.885514 2021-08-20      8    Милена   31   \n",
              "5758      614  4208.373208  27.041866 2021-10-10     10  Кристина   26   \n",
              "409        44  3082.979593  19.561173 2021-02-21      2    Ясмина   25   \n",
              "3602      387  1234.763317  11.630362 2021-04-27      4   Татьяна   22   \n",
              "\n",
              "                city subscription_type  minute_price  start_ride_price  \\\n",
              "2434       Краснодар             ultra             6                 0   \n",
              "3869  Ростов-на-Дону             ultra             6                 0   \n",
              "5758  Ростов-на-Дону             ultra             6                 0   \n",
              "409   Ростов-на-Дону             ultra             6                 0   \n",
              "3602            Сочи             ultra             6                 0   \n",
              "\n",
              "      subscription_fee  \n",
              "2434               199  \n",
              "3869               199  \n",
              "5758               199  \n",
              "409                199  \n",
              "3602               199  "
            ]
          },
          "execution_count": 33,
          "metadata": {},
          "output_type": "execute_result"
        }
      ],
      "source": [
        "ultra_users.sample(5)"
      ]
    },
    {
      "cell_type": "code",
      "execution_count": null,
      "id": "693c51f3",
      "metadata": {
        "id": "693c51f3",
        "outputId": "df9500d9-0363-4d74-8b91-b3733e31421b"
      },
      "outputs": [
        {
          "name": "stdout",
          "output_type": "stream",
          "text": [
            "<class 'pandas.core.frame.DataFrame'>\n",
            "Int64Index: 6500 entries, 0 to 6499\n",
            "Data columns (total 12 columns):\n",
            " #   Column             Non-Null Count  Dtype         \n",
            "---  ------             --------------  -----         \n",
            " 0   user_id            6500 non-null   int64         \n",
            " 1   distance           6500 non-null   float64       \n",
            " 2   duration           6500 non-null   float64       \n",
            " 3   date               6500 non-null   datetime64[ns]\n",
            " 4   month              6500 non-null   int64         \n",
            " 5   name               6500 non-null   object        \n",
            " 6   age                6500 non-null   int64         \n",
            " 7   city               6500 non-null   object        \n",
            " 8   subscription_type  6500 non-null   object        \n",
            " 9   minute_price       6500 non-null   int64         \n",
            " 10  start_ride_price   6500 non-null   int64         \n",
            " 11  subscription_fee   6500 non-null   int64         \n",
            "dtypes: datetime64[ns](1), float64(2), int64(6), object(3)\n",
            "memory usage: 660.2+ KB\n",
            "<class 'pandas.core.frame.DataFrame'>\n",
            "Int64Index: 11568 entries, 6500 to 18067\n",
            "Data columns (total 12 columns):\n",
            " #   Column             Non-Null Count  Dtype         \n",
            "---  ------             --------------  -----         \n",
            " 0   user_id            11568 non-null  int64         \n",
            " 1   distance           11568 non-null  float64       \n",
            " 2   duration           11568 non-null  float64       \n",
            " 3   date               11568 non-null  datetime64[ns]\n",
            " 4   month              11568 non-null  int64         \n",
            " 5   name               11568 non-null  object        \n",
            " 6   age                11568 non-null  int64         \n",
            " 7   city               11568 non-null  object        \n",
            " 8   subscription_type  11568 non-null  object        \n",
            " 9   minute_price       11568 non-null  int64         \n",
            " 10  start_ride_price   11568 non-null  int64         \n",
            " 11  subscription_fee   11568 non-null  int64         \n",
            "dtypes: datetime64[ns](1), float64(2), int64(6), object(3)\n",
            "memory usage: 1.1+ MB\n"
          ]
        }
      ],
      "source": [
        "ultra_users.info()\n",
        "free_users.info()"
      ]
    },
    {
      "cell_type": "code",
      "execution_count": null,
      "id": "f450c0fc",
      "metadata": {
        "id": "f450c0fc",
        "outputId": "c652bfdb-9456-4118-9eaa-7128b57e01e6"
      },
      "outputs": [
        {
          "data": {
            "text/plain": [
              "18068"
            ]
          },
          "execution_count": 35,
          "metadata": {},
          "output_type": "execute_result"
        }
      ],
      "source": [
        "11568+6500"
      ]
    },
    {
      "cell_type": "markdown",
      "id": "ef5a8f60",
      "metadata": {
        "id": "ef5a8f60"
      },
      "source": [
        "4.3 Визуализируем информацию о расстоянии и времени поездок для пользователей обеих категорий."
      ]
    },
    {
      "cell_type": "code",
      "execution_count": null,
      "id": "8bd04ca2",
      "metadata": {
        "id": "8bd04ca2",
        "outputId": "61e75ee0-151c-40fe-e52c-b4fcac969083"
      },
      "outputs": [
        {
          "data": {
            "text/html": [
              "<div>\n",
              "<style scoped>\n",
              "    .dataframe tbody tr th:only-of-type {\n",
              "        vertical-align: middle;\n",
              "    }\n",
              "\n",
              "    .dataframe tbody tr th {\n",
              "        vertical-align: top;\n",
              "    }\n",
              "\n",
              "    .dataframe thead th {\n",
              "        text-align: right;\n",
              "    }\n",
              "</style>\n",
              "<table border=\"1\" class=\"dataframe\">\n",
              "  <thead>\n",
              "    <tr style=\"text-align: right;\">\n",
              "      <th></th>\n",
              "      <th>distance</th>\n",
              "      <th>duration</th>\n",
              "      <th>month</th>\n",
              "      <th>age</th>\n",
              "      <th>minute_price</th>\n",
              "      <th>start_ride_price</th>\n",
              "      <th>subscription_fee</th>\n",
              "    </tr>\n",
              "    <tr>\n",
              "      <th>user_id</th>\n",
              "      <th></th>\n",
              "      <th></th>\n",
              "      <th></th>\n",
              "      <th></th>\n",
              "      <th></th>\n",
              "      <th></th>\n",
              "      <th></th>\n",
              "    </tr>\n",
              "  </thead>\n",
              "  <tbody>\n",
              "    <tr>\n",
              "      <th>700</th>\n",
              "      <td>52202.109773</td>\n",
              "      <td>273.224942</td>\n",
              "      <td>105</td>\n",
              "      <td>396</td>\n",
              "      <td>144</td>\n",
              "      <td>900</td>\n",
              "      <td>0</td>\n",
              "    </tr>\n",
              "    <tr>\n",
              "      <th>701</th>\n",
              "      <td>62153.018852</td>\n",
              "      <td>289.779073</td>\n",
              "      <td>135</td>\n",
              "      <td>620</td>\n",
              "      <td>160</td>\n",
              "      <td>1000</td>\n",
              "      <td>0</td>\n",
              "    </tr>\n",
              "    <tr>\n",
              "      <th>702</th>\n",
              "      <td>41682.095810</td>\n",
              "      <td>232.031447</td>\n",
              "      <td>78</td>\n",
              "      <td>260</td>\n",
              "      <td>104</td>\n",
              "      <td>650</td>\n",
              "      <td>0</td>\n",
              "    </tr>\n",
              "    <tr>\n",
              "      <th>703</th>\n",
              "      <td>17382.000502</td>\n",
              "      <td>108.253356</td>\n",
              "      <td>50</td>\n",
              "      <td>210</td>\n",
              "      <td>56</td>\n",
              "      <td>350</td>\n",
              "      <td>0</td>\n",
              "    </tr>\n",
              "    <tr>\n",
              "      <th>704</th>\n",
              "      <td>50387.129242</td>\n",
              "      <td>266.533655</td>\n",
              "      <td>116</td>\n",
              "      <td>464</td>\n",
              "      <td>128</td>\n",
              "      <td>800</td>\n",
              "      <td>0</td>\n",
              "    </tr>\n",
              "  </tbody>\n",
              "</table>\n",
              "</div>"
            ],
            "text/plain": [
              "             distance    duration  month  age  minute_price  start_ride_price  \\\n",
              "user_id                                                                         \n",
              "700      52202.109773  273.224942    105  396           144               900   \n",
              "701      62153.018852  289.779073    135  620           160              1000   \n",
              "702      41682.095810  232.031447     78  260           104               650   \n",
              "703      17382.000502  108.253356     50  210            56               350   \n",
              "704      50387.129242  266.533655    116  464           128               800   \n",
              "\n",
              "         subscription_fee  \n",
              "user_id                    \n",
              "700                     0  \n",
              "701                     0  \n",
              "702                     0  \n",
              "703                     0  \n",
              "704                     0  "
            ]
          },
          "execution_count": 36,
          "metadata": {},
          "output_type": "execute_result"
        }
      ],
      "source": [
        "free_users_grouped = free_users.groupby(['user_id']).sum()\n",
        "free_users_grouped.head()"
      ]
    },
    {
      "cell_type": "code",
      "execution_count": null,
      "id": "b9019ce3",
      "metadata": {
        "id": "b9019ce3",
        "outputId": "d2cbd932-9815-41d6-8566-5da35a9f0108"
      },
      "outputs": [
        {
          "data": {
            "text/html": [
              "<div>\n",
              "<style scoped>\n",
              "    .dataframe tbody tr th:only-of-type {\n",
              "        vertical-align: middle;\n",
              "    }\n",
              "\n",
              "    .dataframe tbody tr th {\n",
              "        vertical-align: top;\n",
              "    }\n",
              "\n",
              "    .dataframe thead th {\n",
              "        text-align: right;\n",
              "    }\n",
              "</style>\n",
              "<table border=\"1\" class=\"dataframe\">\n",
              "  <thead>\n",
              "    <tr style=\"text-align: right;\">\n",
              "      <th></th>\n",
              "      <th>distance</th>\n",
              "      <th>duration</th>\n",
              "      <th>month</th>\n",
              "      <th>age</th>\n",
              "      <th>minute_price</th>\n",
              "      <th>start_ride_price</th>\n",
              "      <th>subscription_fee</th>\n",
              "    </tr>\n",
              "  </thead>\n",
              "  <tbody>\n",
              "    <tr>\n",
              "      <th>count</th>\n",
              "      <td>699.000000</td>\n",
              "      <td>699.000000</td>\n",
              "      <td>699.000000</td>\n",
              "      <td>699.000000</td>\n",
              "      <td>699.000000</td>\n",
              "      <td>699.0</td>\n",
              "      <td>699.000000</td>\n",
              "    </tr>\n",
              "    <tr>\n",
              "      <th>mean</th>\n",
              "      <td>28970.522206</td>\n",
              "      <td>172.421894</td>\n",
              "      <td>59.721030</td>\n",
              "      <td>231.476395</td>\n",
              "      <td>55.793991</td>\n",
              "      <td>0.0</td>\n",
              "      <td>1850.500715</td>\n",
              "    </tr>\n",
              "    <tr>\n",
              "      <th>std</th>\n",
              "      <td>10370.610254</td>\n",
              "      <td>61.061422</td>\n",
              "      <td>23.894065</td>\n",
              "      <td>91.748585</td>\n",
              "      <td>19.155611</td>\n",
              "      <td>0.0</td>\n",
              "      <td>635.327773</td>\n",
              "    </tr>\n",
              "    <tr>\n",
              "      <th>min</th>\n",
              "      <td>5530.344048</td>\n",
              "      <td>34.157765</td>\n",
              "      <td>9.000000</td>\n",
              "      <td>40.000000</td>\n",
              "      <td>12.000000</td>\n",
              "      <td>0.0</td>\n",
              "      <td>398.000000</td>\n",
              "    </tr>\n",
              "    <tr>\n",
              "      <th>25%</th>\n",
              "      <td>21411.243798</td>\n",
              "      <td>126.094588</td>\n",
              "      <td>42.000000</td>\n",
              "      <td>163.500000</td>\n",
              "      <td>42.000000</td>\n",
              "      <td>0.0</td>\n",
              "      <td>1393.000000</td>\n",
              "    </tr>\n",
              "    <tr>\n",
              "      <th>50%</th>\n",
              "      <td>28630.341916</td>\n",
              "      <td>169.739505</td>\n",
              "      <td>59.000000</td>\n",
              "      <td>222.000000</td>\n",
              "      <td>54.000000</td>\n",
              "      <td>0.0</td>\n",
              "      <td>1791.000000</td>\n",
              "    </tr>\n",
              "    <tr>\n",
              "      <th>75%</th>\n",
              "      <td>35708.654860</td>\n",
              "      <td>209.445901</td>\n",
              "      <td>75.000000</td>\n",
              "      <td>288.000000</td>\n",
              "      <td>66.000000</td>\n",
              "      <td>0.0</td>\n",
              "      <td>2189.000000</td>\n",
              "    </tr>\n",
              "    <tr>\n",
              "      <th>max</th>\n",
              "      <td>65393.983354</td>\n",
              "      <td>411.822515</td>\n",
              "      <td>159.000000</td>\n",
              "      <td>630.000000</td>\n",
              "      <td>126.000000</td>\n",
              "      <td>0.0</td>\n",
              "      <td>4179.000000</td>\n",
              "    </tr>\n",
              "  </tbody>\n",
              "</table>\n",
              "</div>"
            ],
            "text/plain": [
              "           distance    duration       month         age  minute_price  \\\n",
              "count    699.000000  699.000000  699.000000  699.000000    699.000000   \n",
              "mean   28970.522206  172.421894   59.721030  231.476395     55.793991   \n",
              "std    10370.610254   61.061422   23.894065   91.748585     19.155611   \n",
              "min     5530.344048   34.157765    9.000000   40.000000     12.000000   \n",
              "25%    21411.243798  126.094588   42.000000  163.500000     42.000000   \n",
              "50%    28630.341916  169.739505   59.000000  222.000000     54.000000   \n",
              "75%    35708.654860  209.445901   75.000000  288.000000     66.000000   \n",
              "max    65393.983354  411.822515  159.000000  630.000000    126.000000   \n",
              "\n",
              "       start_ride_price  subscription_fee  \n",
              "count             699.0        699.000000  \n",
              "mean                0.0       1850.500715  \n",
              "std                 0.0        635.327773  \n",
              "min                 0.0        398.000000  \n",
              "25%                 0.0       1393.000000  \n",
              "50%                 0.0       1791.000000  \n",
              "75%                 0.0       2189.000000  \n",
              "max                 0.0       4179.000000  "
            ]
          },
          "execution_count": 37,
          "metadata": {},
          "output_type": "execute_result"
        }
      ],
      "source": [
        "ultra_users_grouped = ultra_users.groupby(['user_id']).sum()\n",
        "ultra_users_grouped.sample(5)\n",
        "ultra_users_grouped.describe()"
      ]
    },
    {
      "cell_type": "code",
      "execution_count": null,
      "id": "2ada029f",
      "metadata": {
        "scrolled": false,
        "id": "2ada029f",
        "outputId": "52d4ab65-692b-40bb-c641-c706d0f1f63f"
      },
      "outputs": [
        {
          "data": {
            "image/png": "[encoded data removed]",
            "text/plain": [
              "<Figure size 432x288 with 1 Axes>"
            ]
          },
          "metadata": {
            "needs_background": "light"
          },
          "output_type": "display_data"
        }
      ],
      "source": [
        "plt.hist (free_users['distance'],bins=100, range=(0, 7000), color='#458B74')\n",
        "plt.hist (ultra_users['distance'],bins=100, range=(0, 7000), color='#FFFF00')\n",
        "plt.figure.figsize=(30, 20)\n",
        "plt.title ('Расстояние для пользователей с подпиской и без')\n",
        "plt.xlabel ('Расстояние,м')\n",
        "plt.ylabel ('Количество')\n",
        "plt.legend (('без подписки', 'с подпиской'))\n",
        "plt.show()"
      ]
    },
    {
      "cell_type": "code",
      "execution_count": null,
      "id": "ac64d73d",
      "metadata": {
        "scrolled": true,
        "id": "ac64d73d",
        "outputId": "06a9b7e4-f9fe-4eb1-f973-b1687746ba81"
      },
      "outputs": [
        {
          "data": {
            "image/png": "[encoded data removed]",
            "text/plain": [
              "<Figure size 432x288 with 1 Axes>"
            ]
          },
          "metadata": {
            "needs_background": "light"
          },
          "output_type": "display_data"
        }
      ],
      "source": [
        "plt.hist (free_users['duration'],bins=100, range=(0, 40), color='#458B74')\n",
        "plt.hist (ultra_users['duration'],bins=100, range=(0, 40), color='#FFFF00')\n",
        "plt.title ('Продолжительность поездок для пользователей с подпиской и без')\n",
        "plt.xlabel ('Продолжительность,мин')\n",
        "plt.ylabel ('Количество')\n",
        "plt.legend (('без подписки', 'с подпиской'))\n",
        "plt.figure.figsize=(30, 20)\n",
        "plt.show()"
      ]
    },
    {
      "cell_type": "code",
      "execution_count": null,
      "id": "7dc3f0fe",
      "metadata": {
        "id": "7dc3f0fe",
        "outputId": "2f59de4e-2458-4793-d956-971a9130bcf7"
      },
      "outputs": [
        {
          "data": {
            "text/plain": [
              "count    11568.000000\n",
              "mean      3045.495282\n",
              "std       1246.173806\n",
              "min          0.855683\n",
              "25%       2366.562689\n",
              "50%       3114.648465\n",
              "75%       3905.697894\n",
              "max       7211.007745\n",
              "Name: distance, dtype: float64"
            ]
          },
          "execution_count": 40,
          "metadata": {},
          "output_type": "execute_result"
        }
      ],
      "source": [
        "free_users['distance'].describe()"
      ]
    },
    {
      "cell_type": "code",
      "execution_count": null,
      "id": "5f483c5f",
      "metadata": {
        "id": "5f483c5f",
        "outputId": "d17ee088-04c8-4307-b18b-59611c134210"
      },
      "outputs": [
        {
          "data": {
            "text/plain": [
              "count    6500.000000\n",
              "mean     3115.445388\n",
              "std       836.895330\n",
              "min       244.210438\n",
              "25%      2785.444017\n",
              "50%      3148.637229\n",
              "75%      3560.574425\n",
              "max      5699.769662\n",
              "Name: distance, dtype: float64"
            ]
          },
          "execution_count": 41,
          "metadata": {},
          "output_type": "execute_result"
        }
      ],
      "source": [
        "ultra_users['distance'].describe()"
      ]
    },
    {
      "cell_type": "markdown",
      "id": "6f7acfc1",
      "metadata": {
        "id": "6f7acfc1"
      },
      "source": [
        "Пользователи без подписки совершили 11568 поездок, средняя дистанция - 3045 м, медиана - 3148 м,  минимальная - 0,85м, максимальная - 7211 м. В промежуток между 1м и 3м квартилем попадает расстояние от 2366 до 3905 м. Пользователи без подписки совершили 6500 поездок на среднюю дистанцию 3115 м., медиана - 3114 м, минимальная была на 244 м., максимальная на 5699 м., в промежуток между 1м и 3м квартилем попадает расстояние от  2785 до 3560 м. В среднем пользователь без подписки совершает 13,85 поездок, а пользователь с подпиской - 9,3 поездки.  \n",
        "    \n",
        "На гистограмме видно, что пользователи без подписки совершают большое количество коротких поездок, \"всплеск\" слева у пользователей без подписки смещен к 500 м., а с подпиской - к 1000 м (что по всем поездкам в п.3.4. дает 700 м). В целом графики расстояний и длительности схожи, за исключением всплеска (около 100) коротких поездок без подписки. Тут возможны варианты: передумали, не разобрались, не понравилось.  \n",
        "    \n",
        "Таким образом, можно зафиксировать, что пользователи без подписки совершили почти вдвое больше поездок, средняя дистанция поездок без подписки незначительно меньше поездок по подписке, а вот разброс минимальных и максимальных значений без подписки гораздо шире, также шире диапазон 1-3й квартилей.\n"
      ]
    },
    {
      "cell_type": "markdown",
      "id": "402d620f",
      "metadata": {
        "id": "402d620f"
      },
      "source": [
        "#### Шаг 5. Подсчёт выручки"
      ]
    },
    {
      "cell_type": "markdown",
      "id": "0d69c134",
      "metadata": {
        "id": "0d69c134"
      },
      "source": [
        "5.1 Создадим датафрейм с агрегированными данными о поездках на основе датафрейма с объединёнными данными из шага 4: найдем суммарное расстояние, количество поездок и суммарное время для каждого пользователя за каждый месяц.\n",
        "\n",
        "Продолжительность каждой поездки в каждой строке исходного датафрейма для подсчёта стоимости округляем до следующего целого числа: например, значения 25.3, 25.5, 26.0 должны быть преобразованы к 26."
      ]
    },
    {
      "cell_type": "code",
      "execution_count": null,
      "id": "f4cac801",
      "metadata": {
        "scrolled": true,
        "id": "f4cac801",
        "outputId": "872f9606-8e5b-4159-aa19-61dde226b329"
      },
      "outputs": [
        {
          "data": {
            "text/html": [
              "<div>\n",
              "<style scoped>\n",
              "    .dataframe tbody tr th:only-of-type {\n",
              "        vertical-align: middle;\n",
              "    }\n",
              "\n",
              "    .dataframe tbody tr th {\n",
              "        vertical-align: top;\n",
              "    }\n",
              "\n",
              "    .dataframe thead th {\n",
              "        text-align: right;\n",
              "    }\n",
              "</style>\n",
              "<table border=\"1\" class=\"dataframe\">\n",
              "  <thead>\n",
              "    <tr style=\"text-align: right;\">\n",
              "      <th></th>\n",
              "      <th></th>\n",
              "      <th>count</th>\n",
              "      <th>distance</th>\n",
              "      <th>duration</th>\n",
              "      <th>minute_price</th>\n",
              "      <th>start_ride_price</th>\n",
              "      <th>subscription_fee</th>\n",
              "    </tr>\n",
              "    <tr>\n",
              "      <th>user_id</th>\n",
              "      <th>month</th>\n",
              "      <th></th>\n",
              "      <th></th>\n",
              "      <th></th>\n",
              "      <th></th>\n",
              "      <th></th>\n",
              "      <th></th>\n",
              "    </tr>\n",
              "  </thead>\n",
              "  <tbody>\n",
              "    <tr>\n",
              "      <th rowspan=\"5\" valign=\"top\">1</th>\n",
              "      <th>1</th>\n",
              "      <td>2</td>\n",
              "      <td>7027.511294</td>\n",
              "      <td>42.0</td>\n",
              "      <td>6.0</td>\n",
              "      <td>0.0</td>\n",
              "      <td>199.0</td>\n",
              "    </tr>\n",
              "    <tr>\n",
              "      <th>4</th>\n",
              "      <td>1</td>\n",
              "      <td>754.159807</td>\n",
              "      <td>7.0</td>\n",
              "      <td>6.0</td>\n",
              "      <td>0.0</td>\n",
              "      <td>199.0</td>\n",
              "    </tr>\n",
              "    <tr>\n",
              "      <th>8</th>\n",
              "      <td>2</td>\n",
              "      <td>6723.470560</td>\n",
              "      <td>46.0</td>\n",
              "      <td>6.0</td>\n",
              "      <td>0.0</td>\n",
              "      <td>199.0</td>\n",
              "    </tr>\n",
              "    <tr>\n",
              "      <th>10</th>\n",
              "      <td>2</td>\n",
              "      <td>5809.911100</td>\n",
              "      <td>32.0</td>\n",
              "      <td>6.0</td>\n",
              "      <td>0.0</td>\n",
              "      <td>199.0</td>\n",
              "    </tr>\n",
              "    <tr>\n",
              "      <th>11</th>\n",
              "      <td>3</td>\n",
              "      <td>7003.499363</td>\n",
              "      <td>56.0</td>\n",
              "      <td>6.0</td>\n",
              "      <td>0.0</td>\n",
              "      <td>199.0</td>\n",
              "    </tr>\n",
              "    <tr>\n",
              "      <th>...</th>\n",
              "      <th>...</th>\n",
              "      <td>...</td>\n",
              "      <td>...</td>\n",
              "      <td>...</td>\n",
              "      <td>...</td>\n",
              "      <td>...</td>\n",
              "      <td>...</td>\n",
              "    </tr>\n",
              "    <tr>\n",
              "      <th rowspan=\"5\" valign=\"top\">1534</th>\n",
              "      <th>6</th>\n",
              "      <td>2</td>\n",
              "      <td>3409.468534</td>\n",
              "      <td>26.0</td>\n",
              "      <td>8.0</td>\n",
              "      <td>50.0</td>\n",
              "      <td>0.0</td>\n",
              "    </tr>\n",
              "    <tr>\n",
              "      <th>8</th>\n",
              "      <td>2</td>\n",
              "      <td>7622.453034</td>\n",
              "      <td>48.0</td>\n",
              "      <td>8.0</td>\n",
              "      <td>50.0</td>\n",
              "      <td>0.0</td>\n",
              "    </tr>\n",
              "    <tr>\n",
              "      <th>9</th>\n",
              "      <td>1</td>\n",
              "      <td>4928.173852</td>\n",
              "      <td>23.0</td>\n",
              "      <td>8.0</td>\n",
              "      <td>50.0</td>\n",
              "      <td>0.0</td>\n",
              "    </tr>\n",
              "    <tr>\n",
              "      <th>11</th>\n",
              "      <td>4</td>\n",
              "      <td>13350.015305</td>\n",
              "      <td>78.0</td>\n",
              "      <td>8.0</td>\n",
              "      <td>50.0</td>\n",
              "      <td>0.0</td>\n",
              "    </tr>\n",
              "    <tr>\n",
              "      <th>12</th>\n",
              "      <td>1</td>\n",
              "      <td>2371.711192</td>\n",
              "      <td>16.0</td>\n",
              "      <td>8.0</td>\n",
              "      <td>50.0</td>\n",
              "      <td>0.0</td>\n",
              "    </tr>\n",
              "  </tbody>\n",
              "</table>\n",
              "<p>11331 rows × 6 columns</p>\n",
              "</div>"
            ],
            "text/plain": [
              "               count      distance  duration  minute_price  start_ride_price  \\\n",
              "user_id month                                                                  \n",
              "1       1          2   7027.511294      42.0           6.0               0.0   \n",
              "        4          1    754.159807       7.0           6.0               0.0   \n",
              "        8          2   6723.470560      46.0           6.0               0.0   \n",
              "        10         2   5809.911100      32.0           6.0               0.0   \n",
              "        11         3   7003.499363      56.0           6.0               0.0   \n",
              "...              ...           ...       ...           ...               ...   \n",
              "1534    6          2   3409.468534      26.0           8.0              50.0   \n",
              "        8          2   7622.453034      48.0           8.0              50.0   \n",
              "        9          1   4928.173852      23.0           8.0              50.0   \n",
              "        11         4  13350.015305      78.0           8.0              50.0   \n",
              "        12         1   2371.711192      16.0           8.0              50.0   \n",
              "\n",
              "               subscription_fee  \n",
              "user_id month                    \n",
              "1       1                 199.0  \n",
              "        4                 199.0  \n",
              "        8                 199.0  \n",
              "        10                199.0  \n",
              "        11                199.0  \n",
              "...                         ...  \n",
              "1534    6                   0.0  \n",
              "        8                   0.0  \n",
              "        9                   0.0  \n",
              "        11                  0.0  \n",
              "        12                  0.0  \n",
              "\n",
              "[11331 rows x 6 columns]"
            ]
          },
          "execution_count": 42,
          "metadata": {},
          "output_type": "execute_result"
        }
      ],
      "source": [
        "# Округление продолжительности поездок в 'duration'\n",
        "data['duration'] = np.ceil(data['duration'])\n",
        "# Создание сводной таблицы\n",
        "users_months_rides = data.pivot_table(\n",
        "    index=('user_id', 'month'),\n",
        "    values=(\n",
        "        'distance',\n",
        "        'duration',\n",
        "        'minute_price',\n",
        "        'start_ride_price',\n",
        "        'subscription_fee'\n",
        "    ),\n",
        "    aggfunc=('count', 'sum'))\n",
        "# Приводим названия в нормальный вид\n",
        "users_months_rides.columns = [\n",
        "    'count', 'distance',\n",
        "    'count2', 'duration',\n",
        "    'count3', 'minute_price',\n",
        "    'count4', 'start_ride_price',\n",
        "    'count5', 'subscription_fee'\n",
        "]\n",
        "users_months_rides = users_months_rides.drop(['count2', 'count3', 'count4', 'count5'], axis=1)\n",
        "\n",
        "users_months_rides['start_ride_price'] = users_months_rides['start_ride_price'] / users_months_rides['count']\n",
        "users_months_rides['minute_price'] = users_months_rides['minute_price'] / users_months_rides['count']\n",
        "\n",
        "users_months_rides['subscription_fee'] = users_months_rides['subscription_fee'] / users_months_rides['count']\n",
        "\n",
        "users_months_rides"
      ]
    },
    {
      "cell_type": "markdown",
      "id": "5a5e7a7b",
      "metadata": {
        "id": "5a5e7a7b"
      },
      "source": [
        "5.2 В этот же датафрейм добавим столбец с помесячной выручкой, которую принёс каждый пользователь. Для этого обращаемся к информации об условиях оплаты для подписчиков и тех, у кого нет подписки."
      ]
    },
    {
      "cell_type": "code",
      "execution_count": null,
      "id": "8d468e5d",
      "metadata": {
        "id": "8d468e5d",
        "outputId": "b3fefde3-ed34-4ed6-afbe-64053a44e8ca"
      },
      "outputs": [
        {
          "data": {
            "text/html": [
              "<div>\n",
              "<style scoped>\n",
              "    .dataframe tbody tr th:only-of-type {\n",
              "        vertical-align: middle;\n",
              "    }\n",
              "\n",
              "    .dataframe tbody tr th {\n",
              "        vertical-align: top;\n",
              "    }\n",
              "\n",
              "    .dataframe thead th {\n",
              "        text-align: right;\n",
              "    }\n",
              "</style>\n",
              "<table border=\"1\" class=\"dataframe\">\n",
              "  <thead>\n",
              "    <tr style=\"text-align: right;\">\n",
              "      <th></th>\n",
              "      <th></th>\n",
              "      <th>count</th>\n",
              "      <th>distance</th>\n",
              "      <th>duration</th>\n",
              "      <th>minute_price</th>\n",
              "      <th>start_ride_price</th>\n",
              "      <th>subscription_fee</th>\n",
              "      <th>revenue</th>\n",
              "    </tr>\n",
              "    <tr>\n",
              "      <th>user_id</th>\n",
              "      <th>month</th>\n",
              "      <th></th>\n",
              "      <th></th>\n",
              "      <th></th>\n",
              "      <th></th>\n",
              "      <th></th>\n",
              "      <th></th>\n",
              "      <th></th>\n",
              "    </tr>\n",
              "  </thead>\n",
              "  <tbody>\n",
              "    <tr>\n",
              "      <th rowspan=\"6\" valign=\"top\">1</th>\n",
              "      <th>1</th>\n",
              "      <td>2</td>\n",
              "      <td>7027.511294</td>\n",
              "      <td>42.0</td>\n",
              "      <td>6.0</td>\n",
              "      <td>0.0</td>\n",
              "      <td>199.0</td>\n",
              "      <td>451</td>\n",
              "    </tr>\n",
              "    <tr>\n",
              "      <th>4</th>\n",
              "      <td>1</td>\n",
              "      <td>754.159807</td>\n",
              "      <td>7.0</td>\n",
              "      <td>6.0</td>\n",
              "      <td>0.0</td>\n",
              "      <td>199.0</td>\n",
              "      <td>241</td>\n",
              "    </tr>\n",
              "    <tr>\n",
              "      <th>8</th>\n",
              "      <td>2</td>\n",
              "      <td>6723.470560</td>\n",
              "      <td>46.0</td>\n",
              "      <td>6.0</td>\n",
              "      <td>0.0</td>\n",
              "      <td>199.0</td>\n",
              "      <td>475</td>\n",
              "    </tr>\n",
              "    <tr>\n",
              "      <th>10</th>\n",
              "      <td>2</td>\n",
              "      <td>5809.911100</td>\n",
              "      <td>32.0</td>\n",
              "      <td>6.0</td>\n",
              "      <td>0.0</td>\n",
              "      <td>199.0</td>\n",
              "      <td>391</td>\n",
              "    </tr>\n",
              "    <tr>\n",
              "      <th>11</th>\n",
              "      <td>3</td>\n",
              "      <td>7003.499363</td>\n",
              "      <td>56.0</td>\n",
              "      <td>6.0</td>\n",
              "      <td>0.0</td>\n",
              "      <td>199.0</td>\n",
              "      <td>535</td>\n",
              "    </tr>\n",
              "    <tr>\n",
              "      <th>12</th>\n",
              "      <td>2</td>\n",
              "      <td>6751.629942</td>\n",
              "      <td>28.0</td>\n",
              "      <td>6.0</td>\n",
              "      <td>0.0</td>\n",
              "      <td>199.0</td>\n",
              "      <td>367</td>\n",
              "    </tr>\n",
              "    <tr>\n",
              "      <th rowspan=\"4\" valign=\"top\">2</th>\n",
              "      <th>3</th>\n",
              "      <td>3</td>\n",
              "      <td>10187.723006</td>\n",
              "      <td>63.0</td>\n",
              "      <td>6.0</td>\n",
              "      <td>0.0</td>\n",
              "      <td>199.0</td>\n",
              "      <td>577</td>\n",
              "    </tr>\n",
              "    <tr>\n",
              "      <th>4</th>\n",
              "      <td>2</td>\n",
              "      <td>6164.381824</td>\n",
              "      <td>40.0</td>\n",
              "      <td>6.0</td>\n",
              "      <td>0.0</td>\n",
              "      <td>199.0</td>\n",
              "      <td>439</td>\n",
              "    </tr>\n",
              "    <tr>\n",
              "      <th>6</th>\n",
              "      <td>1</td>\n",
              "      <td>3255.338202</td>\n",
              "      <td>14.0</td>\n",
              "      <td>6.0</td>\n",
              "      <td>0.0</td>\n",
              "      <td>199.0</td>\n",
              "      <td>283</td>\n",
              "    </tr>\n",
              "    <tr>\n",
              "      <th>7</th>\n",
              "      <td>2</td>\n",
              "      <td>6780.722964</td>\n",
              "      <td>48.0</td>\n",
              "      <td>6.0</td>\n",
              "      <td>0.0</td>\n",
              "      <td>199.0</td>\n",
              "      <td>487</td>\n",
              "    </tr>\n",
              "  </tbody>\n",
              "</table>\n",
              "</div>"
            ],
            "text/plain": [
              "               count      distance  duration  minute_price  start_ride_price  \\\n",
              "user_id month                                                                  \n",
              "1       1          2   7027.511294      42.0           6.0               0.0   \n",
              "        4          1    754.159807       7.0           6.0               0.0   \n",
              "        8          2   6723.470560      46.0           6.0               0.0   \n",
              "        10         2   5809.911100      32.0           6.0               0.0   \n",
              "        11         3   7003.499363      56.0           6.0               0.0   \n",
              "        12         2   6751.629942      28.0           6.0               0.0   \n",
              "2       3          3  10187.723006      63.0           6.0               0.0   \n",
              "        4          2   6164.381824      40.0           6.0               0.0   \n",
              "        6          1   3255.338202      14.0           6.0               0.0   \n",
              "        7          2   6780.722964      48.0           6.0               0.0   \n",
              "\n",
              "               subscription_fee  revenue  \n",
              "user_id month                             \n",
              "1       1                 199.0      451  \n",
              "        4                 199.0      241  \n",
              "        8                 199.0      475  \n",
              "        10                199.0      391  \n",
              "        11                199.0      535  \n",
              "        12                199.0      367  \n",
              "2       3                 199.0      577  \n",
              "        4                 199.0      439  \n",
              "        6                 199.0      283  \n",
              "        7                 199.0      487  "
            ]
          },
          "execution_count": 43,
          "metadata": {},
          "output_type": "execute_result"
        }
      ],
      "source": [
        "users_months_rides['revenue'] = (\n",
        "    (users_months_rides['start_ride_price'] * users_months_rides['count'])\n",
        "    + (users_months_rides['minute_price'] * users_months_rides['duration'])\n",
        "    + users_months_rides['subscription_fee']\n",
        ")\n",
        "users_months_rides['revenue'] = users_months_rides['revenue'].astype('uint16')\n",
        "# Удаление столбцов со вспомогательными данными\n",
        "#users_months_rides = users_months_rides.drop(['start_ride_price', 'minute_price'], axis=1)\n",
        "\n",
        "users_months_rides.head(10)"
      ]
    },
    {
      "cell_type": "markdown",
      "id": "bd97185d",
      "metadata": {
        "id": "bd97185d"
      },
      "source": [
        "Помесячная выручка считается по формуле: стоимость старта поездки ×  количество поездок + стоимость одной минуты поездки\n",
        "× общая продолжительность всех поездок в минутах + стоимость подписки."
      ]
    },
    {
      "cell_type": "markdown",
      "id": "41545ac0",
      "metadata": {
        "id": "41545ac0"
      },
      "source": [
        "#### Шаг 6. Проверка гипотез"
      ]
    },
    {
      "cell_type": "markdown",
      "id": "7b4c4e0a",
      "metadata": {
        "id": "7b4c4e0a"
      },
      "source": [
        "Продакт-менеджеры сервиса хотят увеличить количество пользователей с подпиской. Для этого они будут проводить различные акции, но сначала нужно выяснить несколько важных моментов."
      ]
    },
    {
      "cell_type": "markdown",
      "id": "11006e32",
      "metadata": {
        "id": "11006e32"
      },
      "source": [
        "6.1 Важно понять, тратят ли пользователи с подпиской больше времени на поездки? Если да, то пользователи с подпиской могут быть «выгоднее» для компании. Проверьте гипотезу. Используйте исходные данные о продолжительности каждой сессии — отдельно для подписчиков и тех, у кого нет подписки."
      ]
    },
    {
      "cell_type": "markdown",
      "id": "e2a45dcb",
      "metadata": {
        "id": "e2a45dcb"
      },
      "source": [
        "H_0: Среднее время поездок пользователей с подпиской ultra равно времени  пользователей без подписки\n",
        "\n",
        "H_1: Среднее время поездок пользователей с подпиской ultra больше времени  пользователей без подписки"
      ]
    },
    {
      "cell_type": "code",
      "execution_count": null,
      "id": "134efd59",
      "metadata": {
        "scrolled": false,
        "id": "134efd59",
        "outputId": "aadae1b3-589f-41e8-94f4-ca5ed25466f1"
      },
      "outputs": [
        {
          "name": "stdout",
          "output_type": "stream",
          "text": [
            "p-значение: 5.6757813771289775e-37\n",
            "Отвергаем нулевую гипотезу: среднее значение времени поездок пользователей с подпиской больше, чем пользователей без подписки.\n"
          ]
        }
      ],
      "source": [
        "# H_0: ultra_users_duration > free_users_duration\n",
        "alpha = 0.05 # уровень статистической значимости\n",
        "# если p-value окажется меньше него, отвергнем гипотезу\n",
        "\n",
        "results = st.ttest_ind(\n",
        "    ultra_users['duration'],\n",
        "    free_users['duration'],\n",
        "    alternative='greater',\n",
        "    equal_var=False)\n",
        "\n",
        "print('p-значение:', results.pvalue)\n",
        "\n",
        "if results.pvalue < alpha:\n",
        "    print('Отвергаем нулевую гипотезу: среднее значение времени поездок пользователей с подпиской больше, чем пользователей без подписки.')\n",
        "else:\n",
        "    print('Не получилось отвергнуть нулевую гипотезу, средние значения времени поездок из двух групп одинаковы')"
      ]
    },
    {
      "cell_type": "code",
      "execution_count": null,
      "id": "9c96d972",
      "metadata": {
        "id": "9c96d972",
        "outputId": "4afd68f2-bdb7-4a91-a301-2bc5ce3f2343"
      },
      "outputs": [
        {
          "data": {
            "text/plain": [
              "40.02843442407168"
            ]
          },
          "execution_count": 45,
          "metadata": {},
          "output_type": "execute_result"
        }
      ],
      "source": [
        "import statistics\n",
        "data = free_users['duration']\n",
        "statistics.variance(data)"
      ]
    },
    {
      "cell_type": "markdown",
      "id": "24d2661a",
      "metadata": {
        "id": "24d2661a"
      },
      "source": [
        "  \n",
        "У метода scipy.stats.ttest_ind есть аргумент equal_var (необязательный параметр). Он управляет тем, будет ли метод считать равными дисперсии выборок. Передаётся как equal_var=True или equal_var=False (True — считать, False — не считать). По умолчанию — True. На основании графика в п.4.3. можно предположить, что дисперсии не равны, поэтому мы меняем этот парамент на False"
      ]
    },
    {
      "cell_type": "markdown",
      "id": "238d00d4",
      "metadata": {
        "id": "238d00d4"
      },
      "source": [
        "6.2 Расстояние одной поездки в 3130 метров — оптимальное с точки зрения износа самоката. Можно ли сказать, что среднее расстояние, которое проезжают пользователи с подпиской за одну поездку, не превышает 3130 метров? Проверьте гипотезу и сделайте выводы."
      ]
    },
    {
      "cell_type": "markdown",
      "id": "32b8fa15",
      "metadata": {
        "id": "32b8fa15"
      },
      "source": [
        "H_0: Среднее расстояние (distance), которое проезжают пользователи с подпиской ultra равно 3130 метров\n",
        "\n",
        "H_1: Среднее расстояние (distance), которое проезжают пользователи с подпиской ultra больше 3130 метров"
      ]
    },
    {
      "cell_type": "code",
      "execution_count": null,
      "id": "7126655c",
      "metadata": {
        "scrolled": true,
        "id": "7126655c",
        "outputId": "757e6660-1047-43af-ace4-8fe3dcbb7b6e"
      },
      "outputs": [
        {
          "name": "stdout",
          "output_type": "stream",
          "text": [
            "p-значение: 0.9195368847849785\n",
            "Не отвергаем нулевую гипотезу, пользователи с подпиской проезжают не более 3130 м.\n"
          ]
        }
      ],
      "source": [
        "target_dist = 3130\n",
        "\n",
        "alpha = 0.05 # уровень статистической значимости\n",
        "\n",
        "results = st.ttest_1samp(\n",
        "    ultra_users['distance'],\n",
        "    target_dist,\n",
        "      alternative='greater')\n",
        "\n",
        "print('p-значение:', results.pvalue)\n",
        "\n",
        "if (results.pvalue < alpha):\n",
        "    print('Отвергаем нулевую гипотезу, пользователи с подпиской проезжают больше 3130 м.')\n",
        "else:\n",
        "    print('Не отвергаем нулевую гипотезу, пользователи с подпиской проезжают не более 3130 м.')"
      ]
    },
    {
      "cell_type": "markdown",
      "id": "bcfe4ea5",
      "metadata": {
        "id": "bcfe4ea5"
      },
      "source": [
        "ВЫВОД: износ самокатов не выходит ли за пределы оптимальности, на платной подписке средняя длина поездки примерно равна 3130 м в пределах статистической значимости (а в исследовательской части мы выяснили, что средняя длина = 3115 м), т.о. нулевая теория не отвергается, т.к. не выходит за пределы статистической значимости.\n"
      ]
    },
    {
      "cell_type": "markdown",
      "id": "2db51f6e",
      "metadata": {
        "id": "2db51f6e"
      },
      "source": [
        "6.3 Проверьте гипотезу о том, будет ли помесячная выручка от пользователей с подпиской по месяцам выше, чем выручка от пользователей без подписки. Сделайте вывод."
      ]
    },
    {
      "cell_type": "markdown",
      "id": "cd4e98d0",
      "metadata": {
        "id": "cd4e98d0"
      },
      "source": [
        "H_0: Выручка от пользователей c подпиской ultra равна выручке от пользователей без подписки\n",
        "\n",
        "H_1: Выручка от пользователей с подпиской ultra больше выручки от пользователей без подписки"
      ]
    },
    {
      "cell_type": "code",
      "execution_count": null,
      "id": "babd2d08",
      "metadata": {
        "scrolled": false,
        "id": "babd2d08",
        "outputId": "b98093eb-6e6f-496d-bb0c-3cced5a483f9"
      },
      "outputs": [
        {
          "name": "stdout",
          "output_type": "stream",
          "text": [
            "1.8850394384715216e-31\n",
            "Отвергаем нулевую гипотезу, т.е. выручка от пользователей с подпиской ultra больше выручки от пользователей без подписки\n"
          ]
        }
      ],
      "source": [
        "alpha = 0.05\n",
        "free_rev = users_months_rides.loc[users_months_rides.subscription_fee == 0, 'revenue']\n",
        "\n",
        "ultra_rev = users_months_rides.loc[users_months_rides.subscription_fee > 0, 'revenue']\n",
        "\n",
        "\n",
        "results = st.ttest_ind(ultra_rev,\n",
        "                       free_rev,\n",
        "                       alternative = 'greater')\n",
        "\n",
        "print(results.pvalue)\n",
        "\n",
        "if results.pvalue < alpha:\n",
        "    print('Отвергаем нулевую гипотезу, т.е. выручка от пользователей с подпиской ultra больше выручки от пользователей без подписки')\n",
        "else:\n",
        "    print('Не удалось отвергнуть нулевую гипотезу')"
      ]
    },
    {
      "cell_type": "markdown",
      "id": "c84bdce7",
      "metadata": {
        "id": "c84bdce7"
      },
      "source": [
        "ВЫВОД: Гипотеза о том, что платные и бесплатные пользователи приносят одинаковый доход была отвергнута, проверка показала, что выручка от пользователей c подпиской ultra больше выручки от пользователей без подписки."
      ]
    },
    {
      "cell_type": "markdown",
      "id": "67e9c70b",
      "metadata": {
        "id": "67e9c70b"
      },
      "source": [
        "6.4 Представьте такую ситуацию: техническая команда сервиса обновила сервера, с которыми взаимодействует мобильное приложение. Она надеется, что из-за этого количество обращений в техподдержку значимо снизилось. Некоторый файл содержит для каждого пользователя данные о количестве обращений до обновления и после него. Какой тест вам понадобился бы для проверки этой гипотезы?"
      ]
    },
    {
      "cell_type": "markdown",
      "id": "84f0bfbe",
      "metadata": {
        "id": "84f0bfbe"
      },
      "source": [
        "<div class=\"alert alert-info\"> <b>В данном случае используется гипотеза о равенстве средних для зависимых (парных) выборок </b>\n",
        "\n",
        "Гипотезы в таком случае будут сформулированы так:\n",
        "    \n",
        "H0 :μ1 = μ2\n",
        "    \n",
        "H1 :μ1 ≠ μ2\n",
        "    \n",
        "где μ1 и μ2  — средние значения до и после изменения\n",
        "\n",
        "Чтобы проверить гипотезу о равенстве среднего генеральной совокупности для зависимых (парных) выборок в Python, применяется метод <b>scipy.stats.ttest_rel()<b> </div>"
      ]
    },
    {
      "cell_type": "markdown",
      "id": "61213c5e",
      "metadata": {
        "id": "61213c5e"
      },
      "source": [
        "#### Шаг 7. Распределения"
      ]
    },
    {
      "cell_type": "markdown",
      "id": "52a05f25",
      "metadata": {
        "id": "52a05f25"
      },
      "source": [
        "7.1 Отделу маркетинга GoFast поставили задачу: нужно провести акцию с раздачей промокодов на один бесплатный месяц подписки, в рамках которой как минимум\n",
        "100 существующих клиентов должны продлить эту подписку. То есть по завершении периода действия подписки пользователь может либо отказаться от неё, либо продлить, совершив соответствующий платёж.\n",
        "\n",
        "Эта акция уже проводилась ранее и по итогу выяснилось, что после бесплатного пробного периода подписку продлевают 10 % пользователей. Выясните, какое минимальное количество промокодов нужно разослать, чтобы вероятность не выполнить план была примерно 5 %. Подберите параметры распределения, описывающего эту ситуацию, постройте график распределения и сформулируйте ответ на вопрос о количестве промокодов."
      ]
    },
    {
      "cell_type": "code",
      "execution_count": null,
      "id": "f4edf847",
      "metadata": {
        "scrolled": true,
        "id": "f4edf847",
        "outputId": "6509dcfe-578e-4cb8-e4ee-1ed75e63d2ab"
      },
      "outputs": [
        {
          "name": "stdout",
          "output_type": "stream",
          "text": [
            "вероятность не выполнить план: 0.04976090094990328 при количестве попыток, равном = 1161\n"
          ]
        },
        {
          "data": {
            "text/plain": [
              "<matplotlib.collections.LineCollection at 0x7ff6c4c71820>"
            ]
          },
          "execution_count": 48,
          "metadata": {},
          "output_type": "execute_result"
        },
        {
          "data": {
            "image/png": "[encoded data removed]",
            "text/plain": [
              "<Figure size 432x288 with 1 Axes>"
            ]
          },
          "metadata": {
            "needs_background": "light"
          },
          "output_type": "display_data"
        }
      ],
      "source": [
        "from scipy.stats import binom\n",
        "p=0.1 # вероятность успеха 10%\n",
        "\n",
        "# вероятность неуспеха - то есть когда < 100 промокодов из n активировали\n",
        "def probability_of_fail(n, p):\n",
        "    distr=[]\n",
        "    for k in range(0, 99 + 1):\n",
        "        prob = binom.pmf (k,n,p)\n",
        "        distr.append(prob)\n",
        "    # F(99) = p(x=0) + p(x=1) ... + p(x=99)\n",
        "    # p(x=C) = distr[C]\n",
        "    # F(99) = distr[0] + distr[1] + ... + distr[99]\n",
        "    F99 = 0\n",
        "    for i in range(0, 99 + 1):\n",
        "        F99 += distr[i]\n",
        "    return F99 # P(x <= 99) - вероятность того, что число успехов <= 99\n",
        "\n",
        "for n in range(1000, 1500):\n",
        "    fail_prob = probability_of_fail(n, p)\n",
        "    if fail_prob <= 0.05: # => success_prob = 1 - fail_prob >= 0.95\n",
        "        print('вероятность не выполнить план:', fail_prob, \\\n",
        "              'при количестве попыток, равном =', n)\n",
        "        break\n",
        "fig, ax = plt.subplots(1, 1)\n",
        "d = np.arange(binom.ppf(0.01, n, p),\n",
        "              binom.ppf(0.99, n, p))\n",
        "ax.plot(d, binom.pmf(d, n, p), 'go', ms=4, label='binom pmf')\n",
        "ax.vlines(d, 0, binom.pmf(d, n, p), color='#458B74', lw=5, alpha=0.5)\n",
        "# у меня сломался мозг, я что-то нарисовала, даже зеленого цвета"
      ]
    },
    {
      "cell_type": "markdown",
      "id": "4dbd9963",
      "metadata": {
        "id": "4dbd9963"
      },
      "source": [
        "<div class=\"alert alert-success\" style=\"border-radius: 15px; box-shadow: 4px 4px 4px; border: 1px solid \">\n",
        "<h2> Комментарий ревьюера v_1: <a class=\"tocSkip\"> </h2>\n",
        "    \n",
        "Один из вариантов решения, чтобы рассчитать минимальное количество промокодов, - в цикле выбрать какое-нибудь количество промокодов (n) и увеличивать его на единицу, пока cdf не станет равным или меньше 0.05 (в аргументах функции cdf стоит указать 99, n и p). 99 выбирается, т.к. нужно найти такое минимальное значение, чтобы вероятность не выполнить план (меньше 100) была равна 0.05."
      ]
    },
    {
      "cell_type": "markdown",
      "id": "2de4e58b",
      "metadata": {
        "id": "2de4e58b"
      },
      "source": [
        "7.2 Отдел маркетинга рассылает клиентам push-уведомления в мобильном приложении. Клиенты могут открыть его или не открывать. Известно, что уведомления открывают около 40 % получивших клиентов. Отдел планирует разослать 1 млн уведомлений. С помощью аппроксимации постройте примерный график распределения и оцените вероятность того, что уведомление откроют не более\n",
        "399,5 тыс. пользователей."
      ]
    },
    {
      "cell_type": "code",
      "execution_count": null,
      "id": "e2d7221c",
      "metadata": {
        "scrolled": true,
        "id": "e2d7221c",
        "outputId": "8572b6ed-0218-4ba6-fbba-108eb57d81ad"
      },
      "outputs": [
        {
          "name": "stdout",
          "output_type": "stream",
          "text": [
            "Вероятность того, что не более 399 500 пользователей откроют push-уведомление:  0.15371708296369768\n"
          ]
        },
        {
          "data": {
            "image/png": "[encoded data removed]",
            "text/plain": [
              "<Figure size 432x288 with 1 Axes>"
            ]
          },
          "metadata": {
            "needs_background": "light"
          },
          "output_type": "display_data"
        }
      ],
      "source": [
        "# задаём параметры биномиального распределения\n",
        "n = 1000000\n",
        "p = 0.4\n",
        "\n",
        "# зададим мат.ожидание и ст.отклонение нормального распределения равными\n",
        "# мат.ожиданию и ст.отклонению биномиального распределения\n",
        "mu = n * p\n",
        "sigma = sqrt(n * p * (1 - p))\n",
        "# задаём нормальное распределение\n",
        "distr = st.norm(mu, sigma)\n",
        "\n",
        "# считаем вероятность хвоста справа от 399500 тыс.пользователей\n",
        "result = distr.cdf(399500)\n",
        "print('Вероятность того, что не более 399 500 пользователей откроют push-уведомление: ', result)\n",
        "\n",
        "arange = np.arange((mu - 4 * sigma), (mu + 4 * sigma),1)\n",
        "plt.plot(arange, st.norm.pdf(arange, mu, sigma), 'b-')\n",
        "plt.show()\n",
        "\n",
        "#return result"
      ]
    },
    {
      "cell_type": "markdown",
      "id": "f7537138",
      "metadata": {
        "id": "f7537138"
      },
      "source": [
        "ИТОГОВЫЙ ВЫВОД"
      ]
    },
    {
      "cell_type": "markdown",
      "id": "6c37a4c3",
      "metadata": {
        "id": "6c37a4c3"
      },
      "source": [
        "<div class=\"alert alert-info\">\n",
        "    \n",
        "В данном проекте было изучено 3 датафрейма:\n",
        "\n",
        "1-й на 1565 строк с информацией о пользователях, в целом данные не нуждались в дополнительной предобработке. Во 2м датафрейме содержится 18068 строк с информацией о поездках данных пользователей за один год, данные о дате были переведены в формат даты, были обнаружены и удалены дубликаты (в количестве 31) . Третий датафрейм - \"сервисный\", в нем всего 2 строки с указанием условий подписки.\n",
        "\n",
        "На этапе исследования данных мы объединили 3 датафрейма, для целей анализа добавили столбец с номером месяца, рассмотрели распределение пользователей по городам, их возрастное распределение и изучили дистанции поездок.\n",
        "\n",
        "Самый часто встречающийся возраст - 25 лет, в основном пользователи попадают в категорию от 22 до 28 лет, а все возрастные категории лежат в промежутке от 12 до 43 лет.\n",
        "\n",
        "Пользователи без подписки совершили 11568 поездок, средняя дистанция - 3045 м, медиана - 3148 м,  минимальная - 0,85м, максимальная - 7211 м. В промежуток между 1м и 3м квартилем попадает расстояние от 2366 до 3905 м. Пользователи с подпиской совершили 6500 поездок на среднюю дистанцию 3115 м., медиана - 3114 м, минимальная была на 244 м., максимальная на 5699 м., в промежуток между 1м и 3м квартилем попадает расстояние от  2785 до 3560 м. В среднем пользователь без подписки совершает 13,85 поездок, а пользователь с подпиской - 9,3 поездки.  \n",
        "    \n",
        "На гистограмме видно, что пользователи без подписки совершают большое количество коротких поездок, \"всплеск\" слева на короткие поездки у пользователей без подписки смещен к 500 м., а с подпиской - к 1000 м (что по всем поездкам в п.3.4. дает 700 м). В целом графики расстояний и длительности схожи, за исключением всплеска (около 100) коротких поездок без подписки. Тут возможны варианты: передумали, не разобрались, не понравилось.  \n",
        "    \n",
        "Таким образом, можно зафиксировать, что пользователи без подписки совершили почти вдвое больше поездок, средняя дистанция поездок без подписки незначительно меньше поездок по подписке, а вот разброс минимальных и максимальных значений без подписки гораздо шире, также шире диапазон 1-3й квартилей.\n",
        "\n",
        "Были выдвинуты и проверены следующие гипотезы:\n",
        "ГИПОТЕЗА №1, что среднее время поездок пользователей с подпиской ultra равно времени пользователей без подписки (альтернативная - среднее время поездок пользователей с подпиской ultra больше времени пользователей без подписки).\n",
        "В ходе проверки мы отвергли нулевую гипотезу: среднее значение времени поездок пользователей с подпиской больше, чем пользователей без подписки.\n",
        "\n",
        "ГИПОТЕЗА №2 Среднее расстояние, которое проезжают пользователи с подпиской равно 3130 метров (альтернативная - поезжают БОЛЬШЕ(?) 3130 метров).\n",
        "В ходе проверки нулевую гипотезу не отвергаем, пользователи с подпиской проезжают меньше 3130 м. иными словами износ самокатов не выходит ли за пределы оптимальности, на платной подписке средняя длина поездки не превышает стандарт в 3130 м (а в исследовательской части мы выяснили, что средняя длина = 3115 м), т.о. и нулевая теория не отвергается, т.к. не выходит за пределы статистической значимости.\n",
        "\n",
        "ГИПОТЕЗА №3 Выручка от пользователей c подпиской ultra равна выручке от пользователей без подписки (альтернативная - выручка от пользователей с подпиской ultra больше выручки от пользователей без подписки), в ходе проверки нулевая теория была отвергнута в пользу альтернативной, то есть пользователи с подпиской для сервиса аренды выгоднее."
      ]
    },
    {
      "cell_type": "markdown",
      "id": "0cfbf9b2",
      "metadata": {
        "id": "0cfbf9b2"
      },
      "source": [
        "КОНЕЧНО МОЖНО РЕЗЮМИРОВАТЬ, ЧТО ПОЛЬЗОВАТЕЛИ С ПОДПИСКОЙ ВЫГОДНЕЕ ДЛЯ СЕРВИСА АРЕНДЫ  Выручка от них больше, а самокаты они не \"убивают\". Прекрасные люди."
      ]
    }
  ],
  "metadata": {
    "ExecuteTimeLog": [
      {
        "duration": 1317,
        "start_time": "2023-12-15T18:00:02.031Z"
      },
      {
        "duration": 322,
        "start_time": "2023-12-15T18:00:03.389Z"
      },
      {
        "duration": 14,
        "start_time": "2023-12-15T18:00:06.206Z"
      },
      {
        "duration": 17,
        "start_time": "2023-12-15T18:00:27.559Z"
      },
      {
        "duration": 14,
        "start_time": "2023-12-15T18:00:42.725Z"
      },
      {
        "duration": 5,
        "start_time": "2023-12-15T18:01:49.460Z"
      },
      {
        "duration": 11,
        "start_time": "2023-12-15T18:01:59.646Z"
      },
      {
        "duration": 9,
        "start_time": "2023-12-15T18:02:54.585Z"
      },
      {
        "duration": 6,
        "start_time": "2023-12-15T18:02:57.057Z"
      },
      {
        "duration": 875,
        "start_time": "2023-12-15T18:07:17.523Z"
      },
      {
        "duration": 35,
        "start_time": "2023-12-15T18:07:30.895Z"
      },
      {
        "duration": 20,
        "start_time": "2023-12-15T18:08:00.520Z"
      },
      {
        "duration": 57,
        "start_time": "2023-12-15T18:12:52.348Z"
      },
      {
        "duration": 8,
        "start_time": "2023-12-15T18:17:39.452Z"
      },
      {
        "duration": 7,
        "start_time": "2023-12-15T18:20:16.517Z"
      },
      {
        "duration": 15,
        "start_time": "2023-12-15T18:27:00.691Z"
      },
      {
        "duration": 5,
        "start_time": "2023-12-15T18:27:47.087Z"
      },
      {
        "duration": 8,
        "start_time": "2023-12-15T18:27:49.900Z"
      },
      {
        "duration": 10,
        "start_time": "2023-12-15T18:28:47.152Z"
      },
      {
        "duration": 13,
        "start_time": "2023-12-15T18:42:43.254Z"
      },
      {
        "duration": 4,
        "start_time": "2023-12-15T18:44:25.654Z"
      },
      {
        "duration": 11,
        "start_time": "2023-12-15T18:44:32.022Z"
      },
      {
        "duration": 5,
        "start_time": "2023-12-15T18:44:53.231Z"
      },
      {
        "duration": 3,
        "start_time": "2023-12-15T18:47:52.459Z"
      },
      {
        "duration": 5,
        "start_time": "2023-12-15T18:48:00.834Z"
      },
      {
        "duration": 3,
        "start_time": "2023-12-15T18:55:20.130Z"
      },
      {
        "duration": 4,
        "start_time": "2023-12-15T18:55:25.996Z"
      },
      {
        "duration": 5,
        "start_time": "2023-12-15T18:55:40.991Z"
      },
      {
        "duration": 7,
        "start_time": "2023-12-15T18:56:16.943Z"
      },
      {
        "duration": 5,
        "start_time": "2023-12-15T18:56:36.748Z"
      },
      {
        "duration": 5,
        "start_time": "2023-12-15T18:56:49.495Z"
      },
      {
        "duration": 8,
        "start_time": "2023-12-15T18:58:06.023Z"
      },
      {
        "duration": 10,
        "start_time": "2023-12-15T18:58:33.702Z"
      },
      {
        "duration": 5,
        "start_time": "2023-12-15T18:58:51.964Z"
      },
      {
        "duration": 10,
        "start_time": "2023-12-15T18:59:21.305Z"
      },
      {
        "duration": 8,
        "start_time": "2023-12-15T18:59:55.050Z"
      },
      {
        "duration": 7,
        "start_time": "2023-12-15T19:00:17.963Z"
      },
      {
        "duration": 9,
        "start_time": "2023-12-15T19:13:45.189Z"
      },
      {
        "duration": 3,
        "start_time": "2023-12-15T19:14:15.017Z"
      },
      {
        "duration": 6,
        "start_time": "2023-12-15T19:15:07.890Z"
      },
      {
        "duration": 48,
        "start_time": "2023-12-17T05:32:27.013Z"
      },
      {
        "duration": 1263,
        "start_time": "2023-12-17T05:32:35.921Z"
      },
      {
        "duration": 198,
        "start_time": "2023-12-17T05:32:37.186Z"
      },
      {
        "duration": 8,
        "start_time": "2023-12-17T05:32:37.550Z"
      },
      {
        "duration": 10,
        "start_time": "2023-12-17T05:32:38.590Z"
      },
      {
        "duration": 11,
        "start_time": "2023-12-17T05:32:39.420Z"
      },
      {
        "duration": 167,
        "start_time": "2023-12-17T05:38:28.521Z"
      },
      {
        "duration": 60,
        "start_time": "2023-12-17T05:38:38.225Z"
      },
      {
        "duration": 7,
        "start_time": "2023-12-17T05:39:53.376Z"
      },
      {
        "duration": 3,
        "start_time": "2023-12-17T05:40:00.258Z"
      },
      {
        "duration": 116,
        "start_time": "2023-12-17T05:40:08.146Z"
      },
      {
        "duration": 4,
        "start_time": "2023-12-17T08:26:44.230Z"
      },
      {
        "duration": 127,
        "start_time": "2023-12-17T12:49:30.678Z"
      },
      {
        "duration": 97,
        "start_time": "2023-12-17T12:50:12.673Z"
      },
      {
        "duration": 140,
        "start_time": "2023-12-17T12:50:31.725Z"
      },
      {
        "duration": 136,
        "start_time": "2023-12-17T12:52:53.329Z"
      },
      {
        "duration": 8,
        "start_time": "2023-12-17T12:54:34.623Z"
      },
      {
        "duration": 140,
        "start_time": "2023-12-17T12:54:45.530Z"
      },
      {
        "duration": 132,
        "start_time": "2023-12-17T12:55:01.411Z"
      },
      {
        "duration": 141,
        "start_time": "2023-12-17T12:55:09.156Z"
      },
      {
        "duration": 146,
        "start_time": "2023-12-17T13:44:08.099Z"
      },
      {
        "duration": 6,
        "start_time": "2023-12-17T14:24:01.122Z"
      },
      {
        "duration": 7,
        "start_time": "2023-12-17T14:24:25.476Z"
      },
      {
        "duration": 8,
        "start_time": "2023-12-17T14:24:35.967Z"
      },
      {
        "duration": 11,
        "start_time": "2023-12-17T14:27:10.699Z"
      },
      {
        "duration": 8,
        "start_time": "2023-12-17T14:28:15.057Z"
      },
      {
        "duration": 13,
        "start_time": "2023-12-17T14:28:29.407Z"
      },
      {
        "duration": 12,
        "start_time": "2023-12-17T14:28:42.503Z"
      },
      {
        "duration": 8,
        "start_time": "2023-12-17T14:29:03.301Z"
      },
      {
        "duration": 10,
        "start_time": "2023-12-17T18:14:53.919Z"
      },
      {
        "duration": 18,
        "start_time": "2023-12-17T18:15:35.042Z"
      },
      {
        "duration": 22,
        "start_time": "2023-12-17T18:21:58.495Z"
      },
      {
        "duration": 25,
        "start_time": "2023-12-17T18:22:18.256Z"
      },
      {
        "duration": 4,
        "start_time": "2023-12-17T18:30:19.746Z"
      },
      {
        "duration": 5,
        "start_time": "2023-12-17T18:30:44.940Z"
      },
      {
        "duration": 9,
        "start_time": "2023-12-17T18:47:31.749Z"
      },
      {
        "duration": 10,
        "start_time": "2023-12-17T18:47:58.073Z"
      },
      {
        "duration": 7,
        "start_time": "2023-12-17T18:49:27.640Z"
      },
      {
        "duration": 47,
        "start_time": "2023-12-19T09:43:56.285Z"
      },
      {
        "duration": 1221,
        "start_time": "2023-12-19T09:44:02.670Z"
      },
      {
        "duration": 297,
        "start_time": "2023-12-19T09:44:03.981Z"
      },
      {
        "duration": 9,
        "start_time": "2023-12-19T09:44:07.853Z"
      },
      {
        "duration": 6,
        "start_time": "2023-12-19T09:44:15.681Z"
      },
      {
        "duration": 69,
        "start_time": "2023-12-19T09:46:35.040Z"
      },
      {
        "duration": 8,
        "start_time": "2023-12-19T09:47:01.719Z"
      },
      {
        "duration": 8,
        "start_time": "2023-12-19T09:47:48.924Z"
      },
      {
        "duration": 1006,
        "start_time": "2023-12-20T10:24:40.369Z"
      },
      {
        "duration": 70,
        "start_time": "2023-12-20T10:24:41.377Z"
      },
      {
        "duration": 10,
        "start_time": "2023-12-20T10:24:41.449Z"
      },
      {
        "duration": 19,
        "start_time": "2023-12-20T10:24:41.461Z"
      },
      {
        "duration": 16,
        "start_time": "2023-12-20T10:24:41.481Z"
      },
      {
        "duration": 12,
        "start_time": "2023-12-20T10:24:41.498Z"
      },
      {
        "duration": 10,
        "start_time": "2023-12-20T10:24:41.511Z"
      },
      {
        "duration": 12,
        "start_time": "2023-12-20T10:24:41.522Z"
      },
      {
        "duration": 8,
        "start_time": "2023-12-20T10:24:41.535Z"
      },
      {
        "duration": 5,
        "start_time": "2023-12-20T10:24:41.546Z"
      },
      {
        "duration": 10,
        "start_time": "2023-12-20T10:24:41.552Z"
      },
      {
        "duration": 4,
        "start_time": "2023-12-20T10:24:41.564Z"
      },
      {
        "duration": 51,
        "start_time": "2023-12-20T10:24:41.570Z"
      },
      {
        "duration": 99,
        "start_time": "2023-12-20T10:24:41.622Z"
      },
      {
        "duration": 0,
        "start_time": "2023-12-20T10:24:41.723Z"
      },
      {
        "duration": 0,
        "start_time": "2023-12-20T10:24:41.724Z"
      },
      {
        "duration": 0,
        "start_time": "2023-12-20T10:24:41.725Z"
      },
      {
        "duration": 0,
        "start_time": "2023-12-20T10:24:41.726Z"
      },
      {
        "duration": 0,
        "start_time": "2023-12-20T10:24:41.727Z"
      },
      {
        "duration": 0,
        "start_time": "2023-12-20T10:24:41.728Z"
      },
      {
        "duration": 0,
        "start_time": "2023-12-20T10:24:41.729Z"
      },
      {
        "duration": 0,
        "start_time": "2023-12-20T10:24:41.730Z"
      },
      {
        "duration": 0,
        "start_time": "2023-12-20T10:24:41.731Z"
      },
      {
        "duration": 0,
        "start_time": "2023-12-20T10:24:41.732Z"
      },
      {
        "duration": 0,
        "start_time": "2023-12-20T10:24:41.733Z"
      },
      {
        "duration": 0,
        "start_time": "2023-12-20T10:24:41.734Z"
      },
      {
        "duration": 3,
        "start_time": "2023-12-20T10:24:51.373Z"
      },
      {
        "duration": 67,
        "start_time": "2023-12-20T10:24:51.902Z"
      },
      {
        "duration": 6,
        "start_time": "2023-12-20T10:24:52.621Z"
      },
      {
        "duration": 10,
        "start_time": "2023-12-20T10:24:53.141Z"
      },
      {
        "duration": 8,
        "start_time": "2023-12-20T10:24:53.926Z"
      },
      {
        "duration": 11,
        "start_time": "2023-12-20T10:24:54.680Z"
      },
      {
        "duration": 7,
        "start_time": "2023-12-20T10:24:55.834Z"
      },
      {
        "duration": 9,
        "start_time": "2023-12-20T10:24:56.526Z"
      },
      {
        "duration": 7,
        "start_time": "2023-12-20T10:24:59.003Z"
      },
      {
        "duration": 5,
        "start_time": "2023-12-20T10:25:01.746Z"
      },
      {
        "duration": 7,
        "start_time": "2023-12-20T10:25:04.905Z"
      },
      {
        "duration": 4,
        "start_time": "2023-12-20T10:33:51.118Z"
      },
      {
        "duration": 8,
        "start_time": "2023-12-20T10:34:09.022Z"
      },
      {
        "duration": 6,
        "start_time": "2023-12-20T10:34:09.272Z"
      },
      {
        "duration": 10,
        "start_time": "2023-12-20T10:34:09.462Z"
      },
      {
        "duration": 9,
        "start_time": "2023-12-20T10:34:11.369Z"
      },
      {
        "duration": 8,
        "start_time": "2023-12-20T10:34:13.958Z"
      },
      {
        "duration": 3,
        "start_time": "2023-12-20T10:34:19.950Z"
      },
      {
        "duration": 70,
        "start_time": "2023-12-20T10:34:20.398Z"
      },
      {
        "duration": 6,
        "start_time": "2023-12-20T10:34:21.412Z"
      },
      {
        "duration": 10,
        "start_time": "2023-12-20T10:34:21.818Z"
      },
      {
        "duration": 8,
        "start_time": "2023-12-20T10:34:22.195Z"
      },
      {
        "duration": 11,
        "start_time": "2023-12-20T10:34:22.635Z"
      },
      {
        "duration": 8,
        "start_time": "2023-12-20T10:34:23.021Z"
      },
      {
        "duration": 10,
        "start_time": "2023-12-20T10:34:23.835Z"
      },
      {
        "duration": 8,
        "start_time": "2023-12-20T10:34:25.865Z"
      },
      {
        "duration": 5,
        "start_time": "2023-12-20T10:34:27.050Z"
      },
      {
        "duration": 7,
        "start_time": "2023-12-20T10:34:28.483Z"
      },
      {
        "duration": 5,
        "start_time": "2023-12-20T10:34:29.117Z"
      },
      {
        "duration": 10,
        "start_time": "2023-12-20T10:34:29.938Z"
      },
      {
        "duration": 8,
        "start_time": "2023-12-20T10:34:33.653Z"
      },
      {
        "duration": 8,
        "start_time": "2023-12-20T10:35:32.257Z"
      },
      {
        "duration": 1048,
        "start_time": "2023-12-20T10:35:48.128Z"
      },
      {
        "duration": 74,
        "start_time": "2023-12-20T10:35:49.177Z"
      },
      {
        "duration": 7,
        "start_time": "2023-12-20T10:35:49.253Z"
      },
      {
        "duration": 27,
        "start_time": "2023-12-20T10:35:49.261Z"
      },
      {
        "duration": 21,
        "start_time": "2023-12-20T10:35:49.291Z"
      },
      {
        "duration": 20,
        "start_time": "2023-12-20T10:35:49.313Z"
      },
      {
        "duration": 7,
        "start_time": "2023-12-20T10:35:49.334Z"
      },
      {
        "duration": 17,
        "start_time": "2023-12-20T10:35:49.342Z"
      },
      {
        "duration": 29,
        "start_time": "2023-12-20T10:35:49.360Z"
      },
      {
        "duration": 14,
        "start_time": "2023-12-20T10:35:49.391Z"
      },
      {
        "duration": 18,
        "start_time": "2023-12-20T10:35:49.407Z"
      },
      {
        "duration": 14,
        "start_time": "2023-12-20T10:35:49.426Z"
      },
      {
        "duration": 23,
        "start_time": "2023-12-20T10:35:49.442Z"
      },
      {
        "duration": 89,
        "start_time": "2023-12-20T10:35:49.468Z"
      },
      {
        "duration": 0,
        "start_time": "2023-12-20T10:35:49.559Z"
      },
      {
        "duration": 0,
        "start_time": "2023-12-20T10:35:49.560Z"
      },
      {
        "duration": 0,
        "start_time": "2023-12-20T10:35:49.561Z"
      },
      {
        "duration": 0,
        "start_time": "2023-12-20T10:35:49.562Z"
      },
      {
        "duration": 0,
        "start_time": "2023-12-20T10:35:49.563Z"
      },
      {
        "duration": 0,
        "start_time": "2023-12-20T10:35:49.564Z"
      },
      {
        "duration": 0,
        "start_time": "2023-12-20T10:35:49.565Z"
      },
      {
        "duration": 0,
        "start_time": "2023-12-20T10:35:49.565Z"
      },
      {
        "duration": 0,
        "start_time": "2023-12-20T10:35:49.567Z"
      },
      {
        "duration": 0,
        "start_time": "2023-12-20T10:35:49.567Z"
      },
      {
        "duration": 0,
        "start_time": "2023-12-20T10:35:49.568Z"
      },
      {
        "duration": 0,
        "start_time": "2023-12-20T10:35:49.570Z"
      },
      {
        "duration": 3,
        "start_time": "2023-12-20T10:35:58.465Z"
      },
      {
        "duration": 67,
        "start_time": "2023-12-20T10:35:59.461Z"
      },
      {
        "duration": 2,
        "start_time": "2023-12-20T10:36:03.182Z"
      },
      {
        "duration": 68,
        "start_time": "2023-12-20T10:36:03.702Z"
      },
      {
        "duration": 6,
        "start_time": "2023-12-20T10:36:04.286Z"
      },
      {
        "duration": 11,
        "start_time": "2023-12-20T10:36:04.837Z"
      },
      {
        "duration": 8,
        "start_time": "2023-12-20T10:36:05.270Z"
      },
      {
        "duration": 12,
        "start_time": "2023-12-20T10:36:05.709Z"
      },
      {
        "duration": 7,
        "start_time": "2023-12-20T10:36:06.166Z"
      },
      {
        "duration": 9,
        "start_time": "2023-12-20T10:36:06.671Z"
      },
      {
        "duration": 7,
        "start_time": "2023-12-20T10:36:07.805Z"
      },
      {
        "duration": 5,
        "start_time": "2023-12-20T10:36:08.774Z"
      },
      {
        "duration": 7,
        "start_time": "2023-12-20T10:36:09.758Z"
      },
      {
        "duration": 6,
        "start_time": "2023-12-20T10:36:10.485Z"
      },
      {
        "duration": 10,
        "start_time": "2023-12-20T10:36:11.133Z"
      },
      {
        "duration": 7,
        "start_time": "2023-12-20T10:36:14.086Z"
      },
      {
        "duration": 9,
        "start_time": "2023-12-20T10:36:58.847Z"
      },
      {
        "duration": 7,
        "start_time": "2023-12-20T10:37:00.175Z"
      },
      {
        "duration": 11,
        "start_time": "2023-12-20T10:37:01.567Z"
      },
      {
        "duration": 8,
        "start_time": "2023-12-20T10:37:03.433Z"
      },
      {
        "duration": 8,
        "start_time": "2023-12-20T10:37:04.610Z"
      },
      {
        "duration": 4,
        "start_time": "2023-12-20T10:38:54.097Z"
      },
      {
        "duration": 67,
        "start_time": "2023-12-20T10:38:54.656Z"
      },
      {
        "duration": 6,
        "start_time": "2023-12-20T10:38:55.587Z"
      },
      {
        "duration": 10,
        "start_time": "2023-12-20T10:38:55.913Z"
      },
      {
        "duration": 8,
        "start_time": "2023-12-20T10:38:56.295Z"
      },
      {
        "duration": 11,
        "start_time": "2023-12-20T10:38:56.674Z"
      },
      {
        "duration": 7,
        "start_time": "2023-12-20T10:38:57.033Z"
      },
      {
        "duration": 10,
        "start_time": "2023-12-20T10:38:57.395Z"
      },
      {
        "duration": 6,
        "start_time": "2023-12-20T10:38:58.180Z"
      },
      {
        "duration": 5,
        "start_time": "2023-12-20T10:38:58.918Z"
      },
      {
        "duration": 7,
        "start_time": "2023-12-20T10:38:59.610Z"
      },
      {
        "duration": 4,
        "start_time": "2023-12-20T10:38:59.996Z"
      },
      {
        "duration": 10,
        "start_time": "2023-12-20T10:39:00.393Z"
      },
      {
        "duration": 9,
        "start_time": "2023-12-20T10:39:02.939Z"
      },
      {
        "duration": 8,
        "start_time": "2023-12-20T10:39:17.869Z"
      },
      {
        "duration": 1061,
        "start_time": "2023-12-20T10:40:18.109Z"
      },
      {
        "duration": 68,
        "start_time": "2023-12-20T10:40:19.172Z"
      },
      {
        "duration": 6,
        "start_time": "2023-12-20T10:40:19.242Z"
      },
      {
        "duration": 19,
        "start_time": "2023-12-20T10:40:19.250Z"
      },
      {
        "duration": 25,
        "start_time": "2023-12-20T10:40:19.271Z"
      },
      {
        "duration": 25,
        "start_time": "2023-12-20T10:40:19.297Z"
      },
      {
        "duration": 21,
        "start_time": "2023-12-20T10:40:19.324Z"
      },
      {
        "duration": 37,
        "start_time": "2023-12-20T10:40:19.347Z"
      },
      {
        "duration": 17,
        "start_time": "2023-12-20T10:40:19.385Z"
      },
      {
        "duration": 28,
        "start_time": "2023-12-20T10:40:19.404Z"
      },
      {
        "duration": 17,
        "start_time": "2023-12-20T10:40:19.434Z"
      },
      {
        "duration": 12,
        "start_time": "2023-12-20T10:40:19.452Z"
      },
      {
        "duration": 19,
        "start_time": "2023-12-20T10:40:19.465Z"
      },
      {
        "duration": 87,
        "start_time": "2023-12-20T10:40:19.487Z"
      },
      {
        "duration": 0,
        "start_time": "2023-12-20T10:40:19.576Z"
      },
      {
        "duration": 0,
        "start_time": "2023-12-20T10:40:19.577Z"
      },
      {
        "duration": 0,
        "start_time": "2023-12-20T10:40:19.578Z"
      },
      {
        "duration": 0,
        "start_time": "2023-12-20T10:40:19.578Z"
      },
      {
        "duration": 0,
        "start_time": "2023-12-20T10:40:19.580Z"
      },
      {
        "duration": 0,
        "start_time": "2023-12-20T10:40:19.581Z"
      },
      {
        "duration": 0,
        "start_time": "2023-12-20T10:40:19.582Z"
      },
      {
        "duration": 0,
        "start_time": "2023-12-20T10:40:19.583Z"
      },
      {
        "duration": 0,
        "start_time": "2023-12-20T10:40:19.584Z"
      },
      {
        "duration": 0,
        "start_time": "2023-12-20T10:40:19.585Z"
      },
      {
        "duration": 0,
        "start_time": "2023-12-20T10:40:19.586Z"
      },
      {
        "duration": 0,
        "start_time": "2023-12-20T10:40:19.587Z"
      },
      {
        "duration": 2,
        "start_time": "2023-12-20T10:40:27.201Z"
      },
      {
        "duration": 68,
        "start_time": "2023-12-20T10:40:27.716Z"
      },
      {
        "duration": 6,
        "start_time": "2023-12-20T10:40:28.296Z"
      },
      {
        "duration": 11,
        "start_time": "2023-12-20T10:40:28.489Z"
      },
      {
        "duration": 8,
        "start_time": "2023-12-20T10:40:28.674Z"
      },
      {
        "duration": 12,
        "start_time": "2023-12-20T10:40:28.862Z"
      },
      {
        "duration": 7,
        "start_time": "2023-12-20T10:40:29.055Z"
      },
      {
        "duration": 10,
        "start_time": "2023-12-20T10:40:29.264Z"
      },
      {
        "duration": 8,
        "start_time": "2023-12-20T10:40:29.621Z"
      },
      {
        "duration": 6,
        "start_time": "2023-12-20T10:40:30.031Z"
      },
      {
        "duration": 9,
        "start_time": "2023-12-20T10:40:30.485Z"
      },
      {
        "duration": 5,
        "start_time": "2023-12-20T10:40:30.699Z"
      },
      {
        "duration": 11,
        "start_time": "2023-12-20T10:40:30.914Z"
      },
      {
        "duration": 8,
        "start_time": "2023-12-20T10:40:32.050Z"
      },
      {
        "duration": 9,
        "start_time": "2023-12-20T10:40:37.205Z"
      },
      {
        "duration": 1097,
        "start_time": "2023-12-20T12:45:17.102Z"
      },
      {
        "duration": 68,
        "start_time": "2023-12-20T12:45:18.201Z"
      },
      {
        "duration": 9,
        "start_time": "2023-12-20T12:45:18.270Z"
      },
      {
        "duration": 13,
        "start_time": "2023-12-20T12:45:18.281Z"
      },
      {
        "duration": 20,
        "start_time": "2023-12-20T12:45:18.295Z"
      },
      {
        "duration": 18,
        "start_time": "2023-12-20T12:45:18.317Z"
      },
      {
        "duration": 8,
        "start_time": "2023-12-20T12:45:18.337Z"
      },
      {
        "duration": 13,
        "start_time": "2023-12-20T12:45:18.347Z"
      },
      {
        "duration": 8,
        "start_time": "2023-12-20T12:45:18.362Z"
      },
      {
        "duration": 7,
        "start_time": "2023-12-20T12:45:18.372Z"
      },
      {
        "duration": 38,
        "start_time": "2023-12-20T12:45:18.381Z"
      },
      {
        "duration": 5,
        "start_time": "2023-12-20T12:45:18.421Z"
      },
      {
        "duration": 12,
        "start_time": "2023-12-20T12:45:18.427Z"
      },
      {
        "duration": 116,
        "start_time": "2023-12-20T12:45:18.440Z"
      },
      {
        "duration": 0,
        "start_time": "2023-12-20T12:45:18.558Z"
      },
      {
        "duration": 0,
        "start_time": "2023-12-20T12:45:18.559Z"
      },
      {
        "duration": 0,
        "start_time": "2023-12-20T12:45:18.560Z"
      },
      {
        "duration": 0,
        "start_time": "2023-12-20T12:45:18.561Z"
      },
      {
        "duration": 0,
        "start_time": "2023-12-20T12:45:18.562Z"
      },
      {
        "duration": 0,
        "start_time": "2023-12-20T12:45:18.563Z"
      },
      {
        "duration": 0,
        "start_time": "2023-12-20T12:45:18.564Z"
      },
      {
        "duration": 0,
        "start_time": "2023-12-20T12:45:18.565Z"
      },
      {
        "duration": 0,
        "start_time": "2023-12-20T12:45:18.566Z"
      },
      {
        "duration": 0,
        "start_time": "2023-12-20T12:45:18.567Z"
      },
      {
        "duration": 0,
        "start_time": "2023-12-20T12:45:18.568Z"
      },
      {
        "duration": 0,
        "start_time": "2023-12-20T12:45:18.569Z"
      },
      {
        "duration": 3,
        "start_time": "2023-12-20T12:45:26.484Z"
      },
      {
        "duration": 67,
        "start_time": "2023-12-20T12:45:26.916Z"
      },
      {
        "duration": 6,
        "start_time": "2023-12-20T12:45:27.494Z"
      },
      {
        "duration": 10,
        "start_time": "2023-12-20T12:45:27.710Z"
      },
      {
        "duration": 9,
        "start_time": "2023-12-20T12:45:28.011Z"
      },
      {
        "duration": 12,
        "start_time": "2023-12-20T12:45:28.376Z"
      },
      {
        "duration": 10,
        "start_time": "2023-12-20T12:45:28.756Z"
      },
      {
        "duration": 11,
        "start_time": "2023-12-20T12:45:29.175Z"
      },
      {
        "duration": 7,
        "start_time": "2023-12-20T12:45:30.112Z"
      },
      {
        "duration": 6,
        "start_time": "2023-12-20T12:45:30.896Z"
      },
      {
        "duration": 7,
        "start_time": "2023-12-20T12:45:31.966Z"
      },
      {
        "duration": 6,
        "start_time": "2023-12-20T12:45:32.693Z"
      },
      {
        "duration": 13,
        "start_time": "2023-12-20T12:45:33.411Z"
      },
      {
        "duration": 8,
        "start_time": "2023-12-20T12:45:37.388Z"
      },
      {
        "duration": 11,
        "start_time": "2023-12-20T12:45:42.622Z"
      },
      {
        "duration": 9,
        "start_time": "2023-12-20T12:46:18.014Z"
      },
      {
        "duration": 2,
        "start_time": "2023-12-20T12:46:32.751Z"
      },
      {
        "duration": 68,
        "start_time": "2023-12-20T12:46:33.542Z"
      },
      {
        "duration": 8,
        "start_time": "2023-12-20T12:46:34.374Z"
      },
      {
        "duration": 11,
        "start_time": "2023-12-20T12:46:34.831Z"
      },
      {
        "duration": 9,
        "start_time": "2023-12-20T12:46:35.814Z"
      },
      {
        "duration": 12,
        "start_time": "2023-12-20T12:46:40.757Z"
      },
      {
        "duration": 7,
        "start_time": "2023-12-20T12:46:41.501Z"
      },
      {
        "duration": 11,
        "start_time": "2023-12-20T12:46:43.197Z"
      },
      {
        "duration": 7,
        "start_time": "2023-12-20T12:46:46.438Z"
      },
      {
        "duration": 5,
        "start_time": "2023-12-20T12:46:47.742Z"
      },
      {
        "duration": 7,
        "start_time": "2023-12-20T12:46:50.886Z"
      },
      {
        "duration": 4,
        "start_time": "2023-12-20T12:47:01.311Z"
      },
      {
        "duration": 10,
        "start_time": "2023-12-20T12:47:03.246Z"
      },
      {
        "duration": 8,
        "start_time": "2023-12-20T12:47:13.502Z"
      },
      {
        "duration": 11,
        "start_time": "2023-12-20T12:48:35.927Z"
      },
      {
        "duration": 8,
        "start_time": "2023-12-20T12:48:42.931Z"
      },
      {
        "duration": 12,
        "start_time": "2023-12-20T12:48:51.049Z"
      },
      {
        "duration": 10,
        "start_time": "2023-12-20T12:48:55.535Z"
      },
      {
        "duration": 6,
        "start_time": "2023-12-20T12:48:59.383Z"
      },
      {
        "duration": 8,
        "start_time": "2023-12-20T12:49:07.327Z"
      },
      {
        "duration": 1110,
        "start_time": "2023-12-20T12:49:23.918Z"
      },
      {
        "duration": 72,
        "start_time": "2023-12-20T12:49:25.031Z"
      },
      {
        "duration": 9,
        "start_time": "2023-12-20T12:49:25.105Z"
      },
      {
        "duration": 15,
        "start_time": "2023-12-20T12:49:25.116Z"
      },
      {
        "duration": 31,
        "start_time": "2023-12-20T12:49:25.133Z"
      },
      {
        "duration": 11,
        "start_time": "2023-12-20T12:49:25.166Z"
      },
      {
        "duration": 11,
        "start_time": "2023-12-20T12:49:25.178Z"
      },
      {
        "duration": 12,
        "start_time": "2023-12-20T12:49:25.191Z"
      },
      {
        "duration": 16,
        "start_time": "2023-12-20T12:49:25.205Z"
      },
      {
        "duration": 5,
        "start_time": "2023-12-20T12:49:25.223Z"
      },
      {
        "duration": 15,
        "start_time": "2023-12-20T12:49:25.229Z"
      },
      {
        "duration": 9,
        "start_time": "2023-12-20T12:49:25.245Z"
      },
      {
        "duration": 10,
        "start_time": "2023-12-20T12:49:25.256Z"
      },
      {
        "duration": 108,
        "start_time": "2023-12-20T12:49:25.269Z"
      },
      {
        "duration": 0,
        "start_time": "2023-12-20T12:49:25.379Z"
      },
      {
        "duration": 0,
        "start_time": "2023-12-20T12:49:25.380Z"
      },
      {
        "duration": 0,
        "start_time": "2023-12-20T12:49:25.381Z"
      },
      {
        "duration": 0,
        "start_time": "2023-12-20T12:49:25.382Z"
      },
      {
        "duration": 0,
        "start_time": "2023-12-20T12:49:25.383Z"
      },
      {
        "duration": 0,
        "start_time": "2023-12-20T12:49:25.384Z"
      },
      {
        "duration": 0,
        "start_time": "2023-12-20T12:49:25.385Z"
      },
      {
        "duration": 0,
        "start_time": "2023-12-20T12:49:25.386Z"
      },
      {
        "duration": 0,
        "start_time": "2023-12-20T12:49:25.387Z"
      },
      {
        "duration": 0,
        "start_time": "2023-12-20T12:49:25.388Z"
      },
      {
        "duration": 0,
        "start_time": "2023-12-20T12:49:25.390Z"
      },
      {
        "duration": 0,
        "start_time": "2023-12-20T12:49:25.391Z"
      },
      {
        "duration": 0,
        "start_time": "2023-12-20T12:49:25.393Z"
      },
      {
        "duration": 3,
        "start_time": "2023-12-20T12:49:31.991Z"
      },
      {
        "duration": 67,
        "start_time": "2023-12-20T12:49:32.934Z"
      },
      {
        "duration": 6,
        "start_time": "2023-12-20T12:49:37.734Z"
      },
      {
        "duration": 9,
        "start_time": "2023-12-20T12:49:38.383Z"
      },
      {
        "duration": 9,
        "start_time": "2023-12-20T12:49:39.054Z"
      },
      {
        "duration": 12,
        "start_time": "2023-12-20T12:49:39.615Z"
      },
      {
        "duration": 7,
        "start_time": "2023-12-20T12:49:40.190Z"
      },
      {
        "duration": 10,
        "start_time": "2023-12-20T12:49:40.941Z"
      },
      {
        "duration": 8,
        "start_time": "2023-12-20T12:49:42.230Z"
      },
      {
        "duration": 6,
        "start_time": "2023-12-20T12:49:43.351Z"
      },
      {
        "duration": 9,
        "start_time": "2023-12-20T12:49:44.942Z"
      },
      {
        "duration": 5,
        "start_time": "2023-12-20T12:49:47.143Z"
      },
      {
        "duration": 9,
        "start_time": "2023-12-20T12:49:47.864Z"
      },
      {
        "duration": 8,
        "start_time": "2023-12-20T12:49:51.295Z"
      },
      {
        "duration": 8,
        "start_time": "2023-12-20T12:50:01.423Z"
      },
      {
        "duration": 8,
        "start_time": "2023-12-20T12:50:19.286Z"
      },
      {
        "duration": 8,
        "start_time": "2023-12-20T12:51:52.189Z"
      },
      {
        "duration": 3,
        "start_time": "2023-12-20T12:57:32.271Z"
      },
      {
        "duration": 78,
        "start_time": "2023-12-20T12:57:33.333Z"
      },
      {
        "duration": 7,
        "start_time": "2023-12-20T12:57:34.709Z"
      },
      {
        "duration": 13,
        "start_time": "2023-12-20T12:57:35.445Z"
      },
      {
        "duration": 8,
        "start_time": "2023-12-20T12:57:36.270Z"
      },
      {
        "duration": 12,
        "start_time": "2023-12-20T12:57:36.893Z"
      },
      {
        "duration": 7,
        "start_time": "2023-12-20T12:57:37.677Z"
      },
      {
        "duration": 10,
        "start_time": "2023-12-20T12:57:38.430Z"
      },
      {
        "duration": 7,
        "start_time": "2023-12-20T12:57:39.958Z"
      },
      {
        "duration": 5,
        "start_time": "2023-12-20T12:57:41.013Z"
      },
      {
        "duration": 7,
        "start_time": "2023-12-20T12:57:42.311Z"
      },
      {
        "duration": 5,
        "start_time": "2023-12-20T12:57:43.061Z"
      },
      {
        "duration": 12,
        "start_time": "2023-12-20T12:57:43.820Z"
      },
      {
        "duration": 11,
        "start_time": "2023-12-20T12:57:47.205Z"
      },
      {
        "duration": 8,
        "start_time": "2023-12-20T12:57:49.229Z"
      },
      {
        "duration": 13,
        "start_time": "2023-12-20T13:00:18.514Z"
      },
      {
        "duration": 7,
        "start_time": "2023-12-20T13:00:27.454Z"
      },
      {
        "duration": 9,
        "start_time": "2023-12-20T13:00:41.128Z"
      },
      {
        "duration": 10,
        "start_time": "2023-12-20T13:02:06.876Z"
      },
      {
        "duration": 10,
        "start_time": "2023-12-20T13:02:19.831Z"
      },
      {
        "duration": 3,
        "start_time": "2023-12-20T13:02:28.400Z"
      },
      {
        "duration": 70,
        "start_time": "2023-12-20T13:02:28.895Z"
      },
      {
        "duration": 6,
        "start_time": "2023-12-20T13:02:29.479Z"
      },
      {
        "duration": 10,
        "start_time": "2023-12-20T13:02:29.671Z"
      },
      {
        "duration": 7,
        "start_time": "2023-12-20T13:02:29.983Z"
      },
      {
        "duration": 12,
        "start_time": "2023-12-20T13:02:30.583Z"
      },
      {
        "duration": 7,
        "start_time": "2023-12-20T13:02:31.063Z"
      },
      {
        "duration": 14,
        "start_time": "2023-12-20T13:02:31.720Z"
      },
      {
        "duration": 9,
        "start_time": "2023-12-20T13:02:35.055Z"
      },
      {
        "duration": 5,
        "start_time": "2023-12-20T13:02:36.042Z"
      },
      {
        "duration": 13,
        "start_time": "2023-12-20T13:02:40.815Z"
      },
      {
        "duration": 5,
        "start_time": "2023-12-20T13:02:41.872Z"
      },
      {
        "duration": 11,
        "start_time": "2023-12-20T13:02:46.407Z"
      },
      {
        "duration": 8,
        "start_time": "2023-12-20T13:02:52.670Z"
      },
      {
        "duration": 8,
        "start_time": "2023-12-20T13:04:44.073Z"
      },
      {
        "duration": 7,
        "start_time": "2023-12-20T13:04:56.872Z"
      },
      {
        "duration": 8,
        "start_time": "2023-12-20T13:04:59.783Z"
      },
      {
        "duration": 69,
        "start_time": "2023-12-20T13:05:03.464Z"
      },
      {
        "duration": 6,
        "start_time": "2023-12-20T13:05:05.695Z"
      },
      {
        "duration": 11,
        "start_time": "2023-12-20T13:05:06.672Z"
      },
      {
        "duration": 8,
        "start_time": "2023-12-20T13:05:07.335Z"
      },
      {
        "duration": 11,
        "start_time": "2023-12-20T13:05:08.183Z"
      },
      {
        "duration": 7,
        "start_time": "2023-12-20T13:05:09.128Z"
      },
      {
        "duration": 9,
        "start_time": "2023-12-20T13:05:09.983Z"
      },
      {
        "duration": 11,
        "start_time": "2023-12-20T13:05:11.520Z"
      },
      {
        "duration": 4,
        "start_time": "2023-12-20T13:05:12.536Z"
      },
      {
        "duration": 8,
        "start_time": "2023-12-20T13:05:13.703Z"
      },
      {
        "duration": 6,
        "start_time": "2023-12-20T13:05:14.271Z"
      },
      {
        "duration": 10,
        "start_time": "2023-12-20T13:05:15.027Z"
      },
      {
        "duration": 7,
        "start_time": "2023-12-20T13:05:18.103Z"
      },
      {
        "duration": 9,
        "start_time": "2023-12-20T13:05:19.063Z"
      },
      {
        "duration": 2,
        "start_time": "2023-12-20T13:07:55.441Z"
      },
      {
        "duration": 67,
        "start_time": "2023-12-20T13:07:57.025Z"
      },
      {
        "duration": 8,
        "start_time": "2023-12-20T13:08:01.223Z"
      },
      {
        "duration": 6,
        "start_time": "2023-12-20T13:08:53.090Z"
      },
      {
        "duration": 10,
        "start_time": "2023-12-20T13:08:53.632Z"
      },
      {
        "duration": 8,
        "start_time": "2023-12-20T13:08:54.360Z"
      },
      {
        "duration": 12,
        "start_time": "2023-12-20T13:08:54.964Z"
      },
      {
        "duration": 7,
        "start_time": "2023-12-20T13:08:56.184Z"
      },
      {
        "duration": 10,
        "start_time": "2023-12-20T13:08:57.564Z"
      },
      {
        "duration": 9,
        "start_time": "2023-12-20T13:08:58.927Z"
      },
      {
        "duration": 5,
        "start_time": "2023-12-20T13:09:00.048Z"
      },
      {
        "duration": 7,
        "start_time": "2023-12-20T13:09:02.176Z"
      },
      {
        "duration": 5,
        "start_time": "2023-12-20T13:09:04.687Z"
      },
      {
        "duration": 10,
        "start_time": "2023-12-20T13:09:06.292Z"
      },
      {
        "duration": 11,
        "start_time": "2023-12-20T13:09:10.751Z"
      },
      {
        "duration": 8,
        "start_time": "2023-12-20T13:09:22.785Z"
      },
      {
        "duration": 11,
        "start_time": "2023-12-20T13:09:28.849Z"
      },
      {
        "duration": 15,
        "start_time": "2023-12-20T13:23:09.517Z"
      },
      {
        "duration": 10,
        "start_time": "2023-12-20T13:23:11.476Z"
      },
      {
        "duration": 8,
        "start_time": "2023-12-20T13:23:20.364Z"
      },
      {
        "duration": 9,
        "start_time": "2023-12-20T13:23:21.691Z"
      },
      {
        "duration": 3,
        "start_time": "2023-12-20T13:23:29.963Z"
      },
      {
        "duration": 69,
        "start_time": "2023-12-20T13:23:31.291Z"
      },
      {
        "duration": 6,
        "start_time": "2023-12-20T13:23:35.108Z"
      },
      {
        "duration": 10,
        "start_time": "2023-12-20T13:23:37.564Z"
      },
      {
        "duration": 9,
        "start_time": "2023-12-20T13:23:39.356Z"
      },
      {
        "duration": 18,
        "start_time": "2023-12-20T13:23:41.603Z"
      },
      {
        "duration": 8,
        "start_time": "2023-12-20T13:23:42.660Z"
      },
      {
        "duration": 10,
        "start_time": "2023-12-20T13:23:44.292Z"
      },
      {
        "duration": 7,
        "start_time": "2023-12-20T13:23:46.835Z"
      },
      {
        "duration": 5,
        "start_time": "2023-12-20T13:23:49.340Z"
      },
      {
        "duration": 8,
        "start_time": "2023-12-20T13:23:53.699Z"
      },
      {
        "duration": 6,
        "start_time": "2023-12-20T13:24:01.012Z"
      },
      {
        "duration": 15,
        "start_time": "2023-12-20T13:24:02.915Z"
      },
      {
        "duration": 8,
        "start_time": "2023-12-20T13:24:08.500Z"
      },
      {
        "duration": 10,
        "start_time": "2023-12-20T13:24:10.325Z"
      },
      {
        "duration": 1158,
        "start_time": "2023-12-20T15:10:52.117Z"
      },
      {
        "duration": 72,
        "start_time": "2023-12-20T15:10:53.277Z"
      },
      {
        "duration": 10,
        "start_time": "2023-12-20T15:10:53.351Z"
      },
      {
        "duration": 19,
        "start_time": "2023-12-20T15:10:53.364Z"
      },
      {
        "duration": 17,
        "start_time": "2023-12-20T15:10:53.384Z"
      },
      {
        "duration": 11,
        "start_time": "2023-12-20T15:10:53.403Z"
      },
      {
        "duration": 7,
        "start_time": "2023-12-20T15:10:53.416Z"
      },
      {
        "duration": 15,
        "start_time": "2023-12-20T15:10:53.424Z"
      },
      {
        "duration": 9,
        "start_time": "2023-12-20T15:10:53.441Z"
      },
      {
        "duration": 17,
        "start_time": "2023-12-20T15:10:53.453Z"
      },
      {
        "duration": 11,
        "start_time": "2023-12-20T15:10:53.472Z"
      },
      {
        "duration": 4,
        "start_time": "2023-12-20T15:10:53.485Z"
      },
      {
        "duration": 24,
        "start_time": "2023-12-20T15:10:53.491Z"
      },
      {
        "duration": 106,
        "start_time": "2023-12-20T15:10:53.516Z"
      },
      {
        "duration": 0,
        "start_time": "2023-12-20T15:10:53.624Z"
      },
      {
        "duration": 0,
        "start_time": "2023-12-20T15:10:53.626Z"
      },
      {
        "duration": 0,
        "start_time": "2023-12-20T15:10:53.627Z"
      },
      {
        "duration": 0,
        "start_time": "2023-12-20T15:10:53.628Z"
      },
      {
        "duration": 0,
        "start_time": "2023-12-20T15:10:53.629Z"
      },
      {
        "duration": 0,
        "start_time": "2023-12-20T15:10:53.630Z"
      },
      {
        "duration": 0,
        "start_time": "2023-12-20T15:10:53.631Z"
      },
      {
        "duration": 0,
        "start_time": "2023-12-20T15:10:53.632Z"
      },
      {
        "duration": 0,
        "start_time": "2023-12-20T15:10:53.633Z"
      },
      {
        "duration": 0,
        "start_time": "2023-12-20T15:10:53.634Z"
      },
      {
        "duration": 0,
        "start_time": "2023-12-20T15:10:53.635Z"
      },
      {
        "duration": 0,
        "start_time": "2023-12-20T15:10:53.636Z"
      },
      {
        "duration": 0,
        "start_time": "2023-12-20T15:10:53.637Z"
      },
      {
        "duration": 3,
        "start_time": "2023-12-20T15:11:01.331Z"
      },
      {
        "duration": 79,
        "start_time": "2023-12-20T15:11:02.386Z"
      },
      {
        "duration": 7,
        "start_time": "2023-12-20T15:11:05.977Z"
      },
      {
        "duration": 11,
        "start_time": "2023-12-20T15:11:06.548Z"
      },
      {
        "duration": 11,
        "start_time": "2023-12-20T15:11:07.538Z"
      },
      {
        "duration": 13,
        "start_time": "2023-12-20T15:11:08.171Z"
      },
      {
        "duration": 8,
        "start_time": "2023-12-20T15:11:08.954Z"
      },
      {
        "duration": 10,
        "start_time": "2023-12-20T15:11:09.522Z"
      },
      {
        "duration": 10,
        "start_time": "2023-12-20T15:11:10.962Z"
      },
      {
        "duration": 6,
        "start_time": "2023-12-20T15:11:11.954Z"
      },
      {
        "duration": 9,
        "start_time": "2023-12-20T15:11:13.674Z"
      },
      {
        "duration": 6,
        "start_time": "2023-12-20T15:11:15.098Z"
      },
      {
        "duration": 12,
        "start_time": "2023-12-20T15:11:18.643Z"
      },
      {
        "duration": 9,
        "start_time": "2023-12-20T15:11:22.660Z"
      },
      {
        "duration": 9,
        "start_time": "2023-12-20T15:11:41.339Z"
      },
      {
        "duration": 10,
        "start_time": "2023-12-20T15:11:43.330Z"
      },
      {
        "duration": 1127,
        "start_time": "2023-12-20T20:23:05.427Z"
      },
      {
        "duration": 69,
        "start_time": "2023-12-20T20:23:06.556Z"
      },
      {
        "duration": 8,
        "start_time": "2023-12-20T20:23:06.627Z"
      },
      {
        "duration": 11,
        "start_time": "2023-12-20T20:23:06.636Z"
      },
      {
        "duration": 10,
        "start_time": "2023-12-20T20:23:06.648Z"
      },
      {
        "duration": 10,
        "start_time": "2023-12-20T20:23:06.660Z"
      },
      {
        "duration": 6,
        "start_time": "2023-12-20T20:23:06.672Z"
      },
      {
        "duration": 9,
        "start_time": "2023-12-20T20:23:06.679Z"
      },
      {
        "duration": 7,
        "start_time": "2023-12-20T20:23:06.714Z"
      },
      {
        "duration": 5,
        "start_time": "2023-12-20T20:23:06.723Z"
      },
      {
        "duration": 6,
        "start_time": "2023-12-20T20:23:06.730Z"
      },
      {
        "duration": 8,
        "start_time": "2023-12-20T20:23:06.737Z"
      },
      {
        "duration": 11,
        "start_time": "2023-12-20T20:23:06.747Z"
      },
      {
        "duration": 108,
        "start_time": "2023-12-20T20:23:06.761Z"
      },
      {
        "duration": 0,
        "start_time": "2023-12-20T20:23:06.870Z"
      },
      {
        "duration": 0,
        "start_time": "2023-12-20T20:23:06.872Z"
      },
      {
        "duration": 0,
        "start_time": "2023-12-20T20:23:06.873Z"
      },
      {
        "duration": 0,
        "start_time": "2023-12-20T20:23:06.874Z"
      },
      {
        "duration": 0,
        "start_time": "2023-12-20T20:23:06.875Z"
      },
      {
        "duration": 0,
        "start_time": "2023-12-20T20:23:06.876Z"
      },
      {
        "duration": 0,
        "start_time": "2023-12-20T20:23:06.877Z"
      },
      {
        "duration": 0,
        "start_time": "2023-12-20T20:23:06.879Z"
      },
      {
        "duration": 0,
        "start_time": "2023-12-20T20:23:06.879Z"
      },
      {
        "duration": 0,
        "start_time": "2023-12-20T20:23:06.881Z"
      },
      {
        "duration": 0,
        "start_time": "2023-12-20T20:23:06.882Z"
      },
      {
        "duration": 0,
        "start_time": "2023-12-20T20:23:06.883Z"
      },
      {
        "duration": 0,
        "start_time": "2023-12-20T20:23:06.884Z"
      },
      {
        "duration": 3,
        "start_time": "2023-12-20T20:23:14.561Z"
      },
      {
        "duration": 67,
        "start_time": "2023-12-20T20:23:23.145Z"
      },
      {
        "duration": 6,
        "start_time": "2023-12-20T20:23:37.275Z"
      },
      {
        "duration": 9,
        "start_time": "2023-12-20T20:23:44.522Z"
      },
      {
        "duration": 5,
        "start_time": "2023-12-20T20:26:13.263Z"
      },
      {
        "duration": 15,
        "start_time": "2023-12-20T20:26:14.019Z"
      },
      {
        "duration": 8,
        "start_time": "2023-12-20T20:26:17.909Z"
      },
      {
        "duration": 5,
        "start_time": "2023-12-20T20:26:33.484Z"
      },
      {
        "duration": 4,
        "start_time": "2023-12-20T20:26:36.778Z"
      },
      {
        "duration": 115,
        "start_time": "2023-12-20T20:26:37.231Z"
      },
      {
        "duration": 102,
        "start_time": "2023-12-20T20:26:44.630Z"
      },
      {
        "duration": 5,
        "start_time": "2023-12-20T20:26:45.630Z"
      },
      {
        "duration": 139,
        "start_time": "2023-12-20T20:26:46.501Z"
      },
      {
        "duration": 9,
        "start_time": "2023-12-20T20:26:48.360Z"
      },
      {
        "duration": 10,
        "start_time": "2023-12-20T20:26:49.595Z"
      },
      {
        "duration": 1279,
        "start_time": "2023-12-22T14:59:11.825Z"
      },
      {
        "duration": 200,
        "start_time": "2023-12-22T14:59:13.105Z"
      },
      {
        "duration": 8,
        "start_time": "2023-12-22T14:59:13.306Z"
      },
      {
        "duration": 11,
        "start_time": "2023-12-22T14:59:13.316Z"
      },
      {
        "duration": 25,
        "start_time": "2023-12-22T14:59:13.328Z"
      },
      {
        "duration": 18,
        "start_time": "2023-12-22T14:59:13.355Z"
      },
      {
        "duration": 9,
        "start_time": "2023-12-22T14:59:13.374Z"
      },
      {
        "duration": 26,
        "start_time": "2023-12-22T14:59:13.384Z"
      },
      {
        "duration": 31,
        "start_time": "2023-12-22T14:59:13.411Z"
      },
      {
        "duration": 9,
        "start_time": "2023-12-22T14:59:13.444Z"
      },
      {
        "duration": 20,
        "start_time": "2023-12-22T14:59:13.455Z"
      },
      {
        "duration": 10,
        "start_time": "2023-12-22T14:59:13.476Z"
      },
      {
        "duration": 31,
        "start_time": "2023-12-22T14:59:13.488Z"
      },
      {
        "duration": 15,
        "start_time": "2023-12-22T14:59:13.521Z"
      },
      {
        "duration": 16,
        "start_time": "2023-12-22T14:59:13.539Z"
      },
      {
        "duration": 15,
        "start_time": "2023-12-22T14:59:13.556Z"
      },
      {
        "duration": 11,
        "start_time": "2023-12-22T14:59:13.572Z"
      },
      {
        "duration": 127,
        "start_time": "2023-12-22T14:59:13.584Z"
      },
      {
        "duration": 5,
        "start_time": "2023-12-22T14:59:13.713Z"
      },
      {
        "duration": 156,
        "start_time": "2023-12-22T14:59:13.720Z"
      },
      {
        "duration": 11,
        "start_time": "2023-12-22T14:59:13.877Z"
      },
      {
        "duration": 105,
        "start_time": "2023-12-22T14:59:13.889Z"
      },
      {
        "duration": 0,
        "start_time": "2023-12-22T14:59:13.996Z"
      },
      {
        "duration": 0,
        "start_time": "2023-12-22T14:59:13.997Z"
      },
      {
        "duration": 0,
        "start_time": "2023-12-22T14:59:13.998Z"
      },
      {
        "duration": 0,
        "start_time": "2023-12-22T14:59:13.999Z"
      },
      {
        "duration": 0,
        "start_time": "2023-12-22T14:59:14.001Z"
      },
      {
        "duration": 6,
        "start_time": "2023-12-22T15:10:24.039Z"
      },
      {
        "duration": 10,
        "start_time": "2023-12-22T15:11:02.322Z"
      },
      {
        "duration": 9,
        "start_time": "2023-12-22T15:11:28.305Z"
      },
      {
        "duration": 18,
        "start_time": "2023-12-22T15:12:26.058Z"
      },
      {
        "duration": 16,
        "start_time": "2023-12-22T15:13:55.762Z"
      },
      {
        "duration": 11,
        "start_time": "2023-12-22T15:14:37.785Z"
      },
      {
        "duration": 7,
        "start_time": "2023-12-22T15:14:45.578Z"
      },
      {
        "duration": 7,
        "start_time": "2023-12-22T15:15:04.377Z"
      },
      {
        "duration": 8,
        "start_time": "2023-12-22T15:15:19.247Z"
      },
      {
        "duration": 27,
        "start_time": "2023-12-22T15:15:26.025Z"
      },
      {
        "duration": 14,
        "start_time": "2023-12-22T15:15:31.401Z"
      },
      {
        "duration": 10,
        "start_time": "2023-12-22T15:15:33.905Z"
      },
      {
        "duration": 1071,
        "start_time": "2023-12-22T15:15:44.125Z"
      },
      {
        "duration": 72,
        "start_time": "2023-12-22T15:15:45.197Z"
      },
      {
        "duration": 8,
        "start_time": "2023-12-22T15:15:45.270Z"
      },
      {
        "duration": 18,
        "start_time": "2023-12-22T15:15:45.280Z"
      },
      {
        "duration": 11,
        "start_time": "2023-12-22T15:15:45.300Z"
      },
      {
        "duration": 14,
        "start_time": "2023-12-22T15:15:45.312Z"
      },
      {
        "duration": 12,
        "start_time": "2023-12-22T15:15:45.327Z"
      },
      {
        "duration": 16,
        "start_time": "2023-12-22T15:15:45.340Z"
      },
      {
        "duration": 9,
        "start_time": "2023-12-22T15:15:45.357Z"
      },
      {
        "duration": 4,
        "start_time": "2023-12-22T15:15:45.369Z"
      },
      {
        "duration": 7,
        "start_time": "2023-12-22T15:15:45.388Z"
      },
      {
        "duration": 26,
        "start_time": "2023-12-22T15:15:45.396Z"
      },
      {
        "duration": 40,
        "start_time": "2023-12-22T15:15:45.423Z"
      },
      {
        "duration": 25,
        "start_time": "2023-12-22T15:15:45.465Z"
      },
      {
        "duration": 9,
        "start_time": "2023-12-22T15:15:45.492Z"
      },
      {
        "duration": 11,
        "start_time": "2023-12-22T15:15:45.503Z"
      },
      {
        "duration": 130,
        "start_time": "2023-12-22T15:15:45.515Z"
      },
      {
        "duration": 5,
        "start_time": "2023-12-22T15:15:45.646Z"
      },
      {
        "duration": 168,
        "start_time": "2023-12-22T15:15:45.653Z"
      },
      {
        "duration": 12,
        "start_time": "2023-12-22T15:15:45.823Z"
      },
      {
        "duration": 35,
        "start_time": "2023-12-22T15:15:45.836Z"
      },
      {
        "duration": 24,
        "start_time": "2023-12-22T15:15:45.872Z"
      },
      {
        "duration": 7,
        "start_time": "2023-12-22T15:15:45.898Z"
      },
      {
        "duration": 6,
        "start_time": "2023-12-22T15:15:45.907Z"
      },
      {
        "duration": 5,
        "start_time": "2023-12-22T15:15:45.915Z"
      },
      {
        "duration": 3,
        "start_time": "2023-12-22T15:15:49.992Z"
      },
      {
        "duration": 69,
        "start_time": "2023-12-22T15:15:50.415Z"
      },
      {
        "duration": 6,
        "start_time": "2023-12-22T15:15:50.977Z"
      },
      {
        "duration": 10,
        "start_time": "2023-12-22T15:15:51.169Z"
      },
      {
        "duration": 8,
        "start_time": "2023-12-22T15:15:51.363Z"
      },
      {
        "duration": 12,
        "start_time": "2023-12-22T15:15:51.539Z"
      },
      {
        "duration": 7,
        "start_time": "2023-12-22T15:15:51.749Z"
      },
      {
        "duration": 10,
        "start_time": "2023-12-22T15:15:51.936Z"
      },
      {
        "duration": 7,
        "start_time": "2023-12-22T15:15:52.375Z"
      },
      {
        "duration": 5,
        "start_time": "2023-12-22T15:15:53.129Z"
      },
      {
        "duration": 7,
        "start_time": "2023-12-22T15:15:53.831Z"
      },
      {
        "duration": 4,
        "start_time": "2023-12-22T15:15:54.195Z"
      },
      {
        "duration": 11,
        "start_time": "2023-12-22T15:15:54.779Z"
      },
      {
        "duration": 5,
        "start_time": "2023-12-22T15:15:58.283Z"
      },
      {
        "duration": 9,
        "start_time": "2023-12-22T15:16:25.953Z"
      },
      {
        "duration": 7,
        "start_time": "2023-12-22T15:16:32.159Z"
      },
      {
        "duration": 7,
        "start_time": "2023-12-22T15:16:32.479Z"
      },
      {
        "duration": 1353,
        "start_time": "2023-12-23T07:37:40.172Z"
      },
      {
        "duration": 187,
        "start_time": "2023-12-23T07:37:41.527Z"
      },
      {
        "duration": 9,
        "start_time": "2023-12-23T07:37:42.507Z"
      },
      {
        "duration": 12,
        "start_time": "2023-12-23T07:37:43.505Z"
      },
      {
        "duration": 12,
        "start_time": "2023-12-23T07:37:44.062Z"
      },
      {
        "duration": 12,
        "start_time": "2023-12-23T07:37:45.556Z"
      },
      {
        "duration": 6,
        "start_time": "2023-12-23T07:37:46.150Z"
      },
      {
        "duration": 10,
        "start_time": "2023-12-23T07:37:47.474Z"
      },
      {
        "duration": 7,
        "start_time": "2023-12-23T07:37:49.015Z"
      },
      {
        "duration": 5,
        "start_time": "2023-12-23T07:37:50.076Z"
      },
      {
        "duration": 8,
        "start_time": "2023-12-23T07:37:50.946Z"
      },
      {
        "duration": 4,
        "start_time": "2023-12-23T07:37:51.366Z"
      },
      {
        "duration": 9,
        "start_time": "2023-12-23T07:37:52.444Z"
      },
      {
        "duration": 5,
        "start_time": "2023-12-23T07:37:57.464Z"
      },
      {
        "duration": 5,
        "start_time": "2023-12-23T07:38:05.527Z"
      },
      {
        "duration": 4,
        "start_time": "2023-12-23T07:38:06.423Z"
      },
      {
        "duration": 113,
        "start_time": "2023-12-23T07:38:07.219Z"
      },
      {
        "duration": 5,
        "start_time": "2023-12-23T07:38:08.958Z"
      },
      {
        "duration": 142,
        "start_time": "2023-12-23T07:38:09.588Z"
      },
      {
        "duration": 166,
        "start_time": "2023-12-23T07:39:12.611Z"
      },
      {
        "duration": 150,
        "start_time": "2023-12-23T07:39:15.860Z"
      },
      {
        "duration": 93,
        "start_time": "2023-12-23T07:40:42.470Z"
      },
      {
        "duration": 8,
        "start_time": "2023-12-23T07:40:51.326Z"
      },
      {
        "duration": 3,
        "start_time": "2023-12-23T07:40:59.420Z"
      },
      {
        "duration": 65,
        "start_time": "2023-12-23T07:40:59.867Z"
      },
      {
        "duration": 6,
        "start_time": "2023-12-23T07:41:00.484Z"
      },
      {
        "duration": 11,
        "start_time": "2023-12-23T07:41:00.710Z"
      },
      {
        "duration": 8,
        "start_time": "2023-12-23T07:41:00.920Z"
      },
      {
        "duration": 12,
        "start_time": "2023-12-23T07:41:01.127Z"
      },
      {
        "duration": 7,
        "start_time": "2023-12-23T07:41:01.355Z"
      },
      {
        "duration": 11,
        "start_time": "2023-12-23T07:41:01.578Z"
      },
      {
        "duration": 7,
        "start_time": "2023-12-23T07:41:01.988Z"
      },
      {
        "duration": 6,
        "start_time": "2023-12-23T07:41:02.390Z"
      },
      {
        "duration": 7,
        "start_time": "2023-12-23T07:41:02.803Z"
      },
      {
        "duration": 6,
        "start_time": "2023-12-23T07:41:03.038Z"
      },
      {
        "duration": 11,
        "start_time": "2023-12-23T07:41:03.308Z"
      },
      {
        "duration": 6,
        "start_time": "2023-12-23T07:41:05.219Z"
      },
      {
        "duration": 5,
        "start_time": "2023-12-23T07:41:06.059Z"
      },
      {
        "duration": 4,
        "start_time": "2023-12-23T07:41:06.461Z"
      },
      {
        "duration": 93,
        "start_time": "2023-12-23T07:41:07.221Z"
      },
      {
        "duration": 5,
        "start_time": "2023-12-23T07:41:08.520Z"
      },
      {
        "duration": 151,
        "start_time": "2023-12-23T07:41:08.988Z"
      },
      {
        "duration": 12,
        "start_time": "2023-12-23T07:41:10.223Z"
      },
      {
        "duration": 26,
        "start_time": "2023-12-23T07:41:13.609Z"
      },
      {
        "duration": 12,
        "start_time": "2023-12-23T07:41:15.183Z"
      },
      {
        "duration": 18,
        "start_time": "2023-12-23T08:11:57.448Z"
      },
      {
        "duration": 93,
        "start_time": "2023-12-23T08:13:11.261Z"
      },
      {
        "duration": 7,
        "start_time": "2023-12-23T08:13:16.183Z"
      },
      {
        "duration": 6,
        "start_time": "2023-12-23T08:13:21.406Z"
      },
      {
        "duration": 27,
        "start_time": "2023-12-23T08:48:03.668Z"
      },
      {
        "duration": 31,
        "start_time": "2023-12-23T08:48:19.191Z"
      },
      {
        "duration": 18,
        "start_time": "2023-12-23T08:48:20.385Z"
      },
      {
        "duration": 7,
        "start_time": "2023-12-23T08:48:31.405Z"
      },
      {
        "duration": 6,
        "start_time": "2023-12-23T08:48:32.385Z"
      },
      {
        "duration": 7,
        "start_time": "2023-12-23T08:48:41.209Z"
      },
      {
        "duration": 11,
        "start_time": "2023-12-23T08:49:23.643Z"
      },
      {
        "duration": 13,
        "start_time": "2023-12-23T08:49:32.852Z"
      },
      {
        "duration": 17,
        "start_time": "2023-12-23T08:50:41.853Z"
      },
      {
        "duration": 18,
        "start_time": "2023-12-23T08:50:53.201Z"
      },
      {
        "duration": 11,
        "start_time": "2023-12-23T08:51:15.474Z"
      },
      {
        "duration": 12,
        "start_time": "2023-12-23T08:51:18.068Z"
      },
      {
        "duration": 25,
        "start_time": "2023-12-23T08:51:36.993Z"
      },
      {
        "duration": 18,
        "start_time": "2023-12-23T08:51:38.173Z"
      },
      {
        "duration": 13,
        "start_time": "2023-12-23T08:51:38.986Z"
      },
      {
        "duration": 13,
        "start_time": "2023-12-23T08:51:40.772Z"
      },
      {
        "duration": 15,
        "start_time": "2023-12-23T08:51:54.167Z"
      },
      {
        "duration": 11,
        "start_time": "2023-12-23T09:09:38.072Z"
      },
      {
        "duration": 3,
        "start_time": "2023-12-23T09:09:45.869Z"
      },
      {
        "duration": 64,
        "start_time": "2023-12-23T09:09:48.510Z"
      },
      {
        "duration": 6,
        "start_time": "2023-12-23T09:09:49.051Z"
      },
      {
        "duration": 10,
        "start_time": "2023-12-23T09:09:49.231Z"
      },
      {
        "duration": 7,
        "start_time": "2023-12-23T09:09:49.406Z"
      },
      {
        "duration": 11,
        "start_time": "2023-12-23T09:09:49.574Z"
      },
      {
        "duration": 7,
        "start_time": "2023-12-23T09:09:49.886Z"
      },
      {
        "duration": 10,
        "start_time": "2023-12-23T09:09:50.118Z"
      },
      {
        "duration": 7,
        "start_time": "2023-12-23T09:09:50.566Z"
      },
      {
        "duration": 5,
        "start_time": "2023-12-23T09:09:50.998Z"
      },
      {
        "duration": 6,
        "start_time": "2023-12-23T09:09:51.406Z"
      },
      {
        "duration": 6,
        "start_time": "2023-12-23T09:09:51.598Z"
      },
      {
        "duration": 10,
        "start_time": "2023-12-23T09:09:51.791Z"
      },
      {
        "duration": 5,
        "start_time": "2023-12-23T09:09:52.942Z"
      },
      {
        "duration": 5,
        "start_time": "2023-12-23T09:09:53.382Z"
      },
      {
        "duration": 4,
        "start_time": "2023-12-23T09:09:53.615Z"
      },
      {
        "duration": 87,
        "start_time": "2023-12-23T09:09:53.823Z"
      },
      {
        "duration": 5,
        "start_time": "2023-12-23T09:09:55.175Z"
      },
      {
        "duration": 10,
        "start_time": "2023-12-23T09:09:56.078Z"
      },
      {
        "duration": 143,
        "start_time": "2023-12-23T09:10:02.878Z"
      },
      {
        "duration": 889,
        "start_time": "2023-12-23T09:18:31.416Z"
      },
      {
        "duration": 816,
        "start_time": "2023-12-23T09:18:40.238Z"
      },
      {
        "duration": 939,
        "start_time": "2023-12-23T09:20:13.586Z"
      },
      {
        "duration": 795,
        "start_time": "2023-12-23T09:21:12.762Z"
      },
      {
        "duration": 913,
        "start_time": "2023-12-23T09:21:51.903Z"
      },
      {
        "duration": 10,
        "start_time": "2023-12-23T09:24:14.323Z"
      },
      {
        "duration": 13,
        "start_time": "2023-12-23T09:24:22.720Z"
      },
      {
        "duration": 17,
        "start_time": "2023-12-23T09:25:35.436Z"
      },
      {
        "duration": 9,
        "start_time": "2023-12-23T09:26:05.144Z"
      },
      {
        "duration": 940,
        "start_time": "2023-12-23T09:26:33.052Z"
      },
      {
        "duration": 852,
        "start_time": "2023-12-23T09:39:26.713Z"
      },
      {
        "duration": 913,
        "start_time": "2023-12-23T09:39:36.117Z"
      },
      {
        "duration": 864,
        "start_time": "2023-12-23T09:42:43.378Z"
      },
      {
        "duration": 918,
        "start_time": "2023-12-23T09:43:54.689Z"
      },
      {
        "duration": 1142,
        "start_time": "2023-12-23T10:14:37.413Z"
      },
      {
        "duration": 365,
        "start_time": "2023-12-23T10:15:13.021Z"
      },
      {
        "duration": 258,
        "start_time": "2023-12-23T10:15:59.261Z"
      },
      {
        "duration": 247,
        "start_time": "2023-12-23T10:16:12.074Z"
      },
      {
        "duration": 259,
        "start_time": "2023-12-23T10:16:18.897Z"
      },
      {
        "duration": 132,
        "start_time": "2023-12-23T10:16:46.051Z"
      },
      {
        "duration": 79,
        "start_time": "2023-12-23T10:17:05.668Z"
      },
      {
        "duration": 200,
        "start_time": "2023-12-23T10:17:11.698Z"
      },
      {
        "duration": 135,
        "start_time": "2023-12-23T10:18:24.124Z"
      },
      {
        "duration": 340,
        "start_time": "2023-12-23T10:20:54.356Z"
      },
      {
        "duration": 360,
        "start_time": "2023-12-23T10:21:07.826Z"
      },
      {
        "duration": 375,
        "start_time": "2023-12-23T10:21:54.072Z"
      },
      {
        "duration": 1127,
        "start_time": "2023-12-23T10:23:01.590Z"
      },
      {
        "duration": 71,
        "start_time": "2023-12-23T10:23:02.718Z"
      },
      {
        "duration": 8,
        "start_time": "2023-12-23T10:23:02.790Z"
      },
      {
        "duration": 14,
        "start_time": "2023-12-23T10:23:02.799Z"
      },
      {
        "duration": 15,
        "start_time": "2023-12-23T10:23:02.815Z"
      },
      {
        "duration": 13,
        "start_time": "2023-12-23T10:23:02.832Z"
      },
      {
        "duration": 8,
        "start_time": "2023-12-23T10:23:02.847Z"
      },
      {
        "duration": 17,
        "start_time": "2023-12-23T10:23:02.856Z"
      },
      {
        "duration": 13,
        "start_time": "2023-12-23T10:23:02.876Z"
      },
      {
        "duration": 6,
        "start_time": "2023-12-23T10:23:02.891Z"
      },
      {
        "duration": 8,
        "start_time": "2023-12-23T10:23:02.899Z"
      },
      {
        "duration": 33,
        "start_time": "2023-12-23T10:23:02.909Z"
      },
      {
        "duration": 11,
        "start_time": "2023-12-23T10:23:02.945Z"
      },
      {
        "duration": 7,
        "start_time": "2023-12-23T10:23:02.958Z"
      },
      {
        "duration": 5,
        "start_time": "2023-12-23T10:23:02.966Z"
      },
      {
        "duration": 4,
        "start_time": "2023-12-23T10:23:02.973Z"
      },
      {
        "duration": 134,
        "start_time": "2023-12-23T10:23:02.978Z"
      },
      {
        "duration": 6,
        "start_time": "2023-12-23T10:23:03.113Z"
      },
      {
        "duration": 159,
        "start_time": "2023-12-23T10:23:03.120Z"
      },
      {
        "duration": 9,
        "start_time": "2023-12-23T10:23:03.280Z"
      },
      {
        "duration": 28,
        "start_time": "2023-12-23T10:23:03.291Z"
      },
      {
        "duration": 73,
        "start_time": "2023-12-23T10:23:03.321Z"
      },
      {
        "duration": 202,
        "start_time": "2023-12-23T10:23:03.396Z"
      },
      {
        "duration": 30,
        "start_time": "2023-12-23T10:23:03.599Z"
      },
      {
        "duration": 23,
        "start_time": "2023-12-23T10:23:03.631Z"
      },
      {
        "duration": 395,
        "start_time": "2023-12-23T10:23:03.655Z"
      },
      {
        "duration": 366,
        "start_time": "2023-12-23T10:23:04.051Z"
      },
      {
        "duration": 880,
        "start_time": "2023-12-23T10:23:04.418Z"
      },
      {
        "duration": 3,
        "start_time": "2023-12-23T10:23:05.299Z"
      },
      {
        "duration": 49,
        "start_time": "2023-12-23T10:23:05.303Z"
      },
      {
        "duration": 3,
        "start_time": "2023-12-23T10:23:07.355Z"
      },
      {
        "duration": 72,
        "start_time": "2023-12-23T10:23:07.876Z"
      },
      {
        "duration": 6,
        "start_time": "2023-12-23T10:23:08.455Z"
      },
      {
        "duration": 11,
        "start_time": "2023-12-23T10:23:08.626Z"
      },
      {
        "duration": 8,
        "start_time": "2023-12-23T10:23:08.803Z"
      },
      {
        "duration": 11,
        "start_time": "2023-12-23T10:23:08.982Z"
      },
      {
        "duration": 8,
        "start_time": "2023-12-23T10:23:09.155Z"
      },
      {
        "duration": 10,
        "start_time": "2023-12-23T10:23:09.503Z"
      },
      {
        "duration": 7,
        "start_time": "2023-12-23T10:23:10.124Z"
      },
      {
        "duration": 6,
        "start_time": "2023-12-23T10:23:10.502Z"
      },
      {
        "duration": 7,
        "start_time": "2023-12-23T10:23:10.874Z"
      },
      {
        "duration": 6,
        "start_time": "2023-12-23T10:23:11.053Z"
      },
      {
        "duration": 11,
        "start_time": "2023-12-23T10:23:11.234Z"
      },
      {
        "duration": 6,
        "start_time": "2023-12-23T10:23:12.232Z"
      },
      {
        "duration": 6,
        "start_time": "2023-12-23T10:23:12.817Z"
      },
      {
        "duration": 3,
        "start_time": "2023-12-23T10:23:13.027Z"
      },
      {
        "duration": 100,
        "start_time": "2023-12-23T10:23:13.244Z"
      },
      {
        "duration": 6,
        "start_time": "2023-12-23T10:23:14.452Z"
      },
      {
        "duration": 221,
        "start_time": "2023-12-23T10:23:14.976Z"
      },
      {
        "duration": 9,
        "start_time": "2023-12-23T10:23:16.595Z"
      },
      {
        "duration": 27,
        "start_time": "2023-12-23T10:23:18.758Z"
      },
      {
        "duration": 19,
        "start_time": "2023-12-23T10:23:20.352Z"
      },
      {
        "duration": 17,
        "start_time": "2023-12-23T10:23:22.498Z"
      },
      {
        "duration": 17,
        "start_time": "2023-12-23T10:23:24.924Z"
      },
      {
        "duration": 16,
        "start_time": "2023-12-23T10:23:25.739Z"
      },
      {
        "duration": 362,
        "start_time": "2023-12-23T10:23:26.691Z"
      },
      {
        "duration": 378,
        "start_time": "2023-12-23T10:23:33.333Z"
      },
      {
        "duration": 387,
        "start_time": "2023-12-23T10:23:34.534Z"
      },
      {
        "duration": 430,
        "start_time": "2023-12-23T10:23:52.116Z"
      },
      {
        "duration": 376,
        "start_time": "2023-12-23T10:24:10.865Z"
      },
      {
        "duration": 385,
        "start_time": "2023-12-23T10:24:18.037Z"
      },
      {
        "duration": 368,
        "start_time": "2023-12-23T10:25:38.052Z"
      },
      {
        "duration": 509,
        "start_time": "2023-12-23T10:25:43.876Z"
      },
      {
        "duration": 429,
        "start_time": "2023-12-23T10:26:28.843Z"
      },
      {
        "duration": 423,
        "start_time": "2023-12-23T10:27:02.954Z"
      },
      {
        "duration": 737,
        "start_time": "2023-12-23T10:28:35.202Z"
      },
      {
        "duration": 623,
        "start_time": "2023-12-23T10:28:50.844Z"
      },
      {
        "duration": 428,
        "start_time": "2023-12-23T10:29:02.214Z"
      },
      {
        "duration": 4,
        "start_time": "2023-12-23T10:30:21.291Z"
      },
      {
        "duration": 904,
        "start_time": "2023-12-23T11:08:45.422Z"
      },
      {
        "duration": 2,
        "start_time": "2023-12-23T11:09:55.821Z"
      },
      {
        "duration": 104,
        "start_time": "2023-12-23T11:13:18.587Z"
      },
      {
        "duration": 12,
        "start_time": "2023-12-23T11:13:29.849Z"
      },
      {
        "duration": 3,
        "start_time": "2023-12-23T11:13:46.157Z"
      },
      {
        "duration": 3,
        "start_time": "2023-12-23T11:13:46.793Z"
      },
      {
        "duration": 1740,
        "start_time": "2023-12-23T11:13:47.912Z"
      },
      {
        "duration": 3,
        "start_time": "2023-12-23T11:14:15.362Z"
      },
      {
        "duration": 63,
        "start_time": "2023-12-23T11:14:15.777Z"
      },
      {
        "duration": 9,
        "start_time": "2023-12-23T11:14:16.344Z"
      },
      {
        "duration": 11,
        "start_time": "2023-12-23T11:14:16.571Z"
      },
      {
        "duration": 13,
        "start_time": "2023-12-23T11:14:16.754Z"
      },
      {
        "duration": 11,
        "start_time": "2023-12-23T11:14:16.931Z"
      },
      {
        "duration": 9,
        "start_time": "2023-12-23T11:14:17.141Z"
      },
      {
        "duration": 16,
        "start_time": "2023-12-23T11:14:17.847Z"
      },
      {
        "duration": 8,
        "start_time": "2023-12-23T11:14:18.614Z"
      },
      {
        "duration": 4,
        "start_time": "2023-12-23T11:14:19.105Z"
      },
      {
        "duration": 6,
        "start_time": "2023-12-23T11:14:19.625Z"
      },
      {
        "duration": 5,
        "start_time": "2023-12-23T11:14:19.981Z"
      },
      {
        "duration": 10,
        "start_time": "2023-12-23T11:14:20.367Z"
      },
      {
        "duration": 7,
        "start_time": "2023-12-23T11:14:22.236Z"
      },
      {
        "duration": 6,
        "start_time": "2023-12-23T11:14:22.800Z"
      },
      {
        "duration": 4,
        "start_time": "2023-12-23T11:14:23.284Z"
      },
      {
        "duration": 94,
        "start_time": "2023-12-23T11:14:24.303Z"
      },
      {
        "duration": 7,
        "start_time": "2023-12-23T11:14:28.046Z"
      },
      {
        "duration": 152,
        "start_time": "2023-12-23T11:14:28.918Z"
      },
      {
        "duration": 14,
        "start_time": "2023-12-23T11:14:30.544Z"
      },
      {
        "duration": 10,
        "start_time": "2023-12-23T11:15:14.985Z"
      },
      {
        "duration": 28,
        "start_time": "2023-12-23T11:15:17.782Z"
      },
      {
        "duration": 17,
        "start_time": "2023-12-23T11:15:18.989Z"
      },
      {
        "duration": 13,
        "start_time": "2023-12-23T11:15:19.465Z"
      },
      {
        "duration": 12,
        "start_time": "2023-12-23T11:15:20.965Z"
      },
      {
        "duration": 12,
        "start_time": "2023-12-23T11:15:21.627Z"
      },
      {
        "duration": 608,
        "start_time": "2023-12-23T11:15:22.584Z"
      },
      {
        "duration": 411,
        "start_time": "2023-12-23T11:15:25.523Z"
      },
      {
        "duration": 69,
        "start_time": "2023-12-23T11:15:47.216Z"
      },
      {
        "duration": 469,
        "start_time": "2023-12-23T11:16:02.755Z"
      },
      {
        "duration": 431,
        "start_time": "2023-12-23T11:16:39.018Z"
      },
      {
        "duration": 11,
        "start_time": "2023-12-23T11:18:14.148Z"
      },
      {
        "duration": 9,
        "start_time": "2023-12-23T11:18:49.964Z"
      },
      {
        "duration": 3,
        "start_time": "2023-12-23T11:19:18.699Z"
      },
      {
        "duration": 9,
        "start_time": "2023-12-23T11:19:26.887Z"
      },
      {
        "duration": 1213,
        "start_time": "2023-12-23T11:19:27.291Z"
      },
      {
        "duration": 1221,
        "start_time": "2023-12-23T11:28:48.266Z"
      },
      {
        "duration": 1353,
        "start_time": "2023-12-23T11:30:07.836Z"
      },
      {
        "duration": 76,
        "start_time": "2023-12-23T11:40:40.516Z"
      },
      {
        "duration": 80,
        "start_time": "2023-12-23T11:41:44.408Z"
      },
      {
        "duration": 69,
        "start_time": "2023-12-23T11:41:54.676Z"
      },
      {
        "duration": 5,
        "start_time": "2023-12-23T11:42:10.942Z"
      },
      {
        "duration": 5,
        "start_time": "2023-12-23T11:42:46.209Z"
      },
      {
        "duration": 10,
        "start_time": "2023-12-23T11:45:02.759Z"
      },
      {
        "duration": 12,
        "start_time": "2023-12-23T11:46:45.990Z"
      },
      {
        "duration": 864,
        "start_time": "2023-12-23T11:48:07.181Z"
      },
      {
        "duration": 896,
        "start_time": "2023-12-23T11:50:43.493Z"
      },
      {
        "duration": 851,
        "start_time": "2023-12-23T11:50:57.055Z"
      },
      {
        "duration": 1043,
        "start_time": "2023-12-23T11:51:37.137Z"
      },
      {
        "duration": 936,
        "start_time": "2023-12-23T11:52:53.352Z"
      },
      {
        "duration": 2055,
        "start_time": "2023-12-23T11:53:12.290Z"
      },
      {
        "duration": 924,
        "start_time": "2023-12-23T12:01:37.460Z"
      },
      {
        "duration": 2,
        "start_time": "2023-12-23T12:15:30.375Z"
      },
      {
        "duration": 2,
        "start_time": "2023-12-23T14:16:11.650Z"
      },
      {
        "duration": 5,
        "start_time": "2023-12-23T14:32:58.103Z"
      },
      {
        "duration": 906,
        "start_time": "2023-12-23T14:33:43.383Z"
      },
      {
        "duration": 835,
        "start_time": "2023-12-23T14:34:17.358Z"
      },
      {
        "duration": 815,
        "start_time": "2023-12-23T14:34:41.521Z"
      },
      {
        "duration": 83,
        "start_time": "2023-12-23T14:57:43.573Z"
      },
      {
        "duration": 5,
        "start_time": "2023-12-23T14:57:59.191Z"
      },
      {
        "duration": 5,
        "start_time": "2023-12-23T14:59:48.694Z"
      },
      {
        "duration": 5,
        "start_time": "2023-12-23T15:00:23.132Z"
      },
      {
        "duration": 3716,
        "start_time": "2023-12-23T15:04:24.285Z"
      },
      {
        "duration": 6,
        "start_time": "2023-12-23T15:04:58.281Z"
      },
      {
        "duration": 1447,
        "start_time": "2023-12-23T19:11:30.890Z"
      },
      {
        "duration": 6,
        "start_time": "2023-12-23T19:22:15.719Z"
      },
      {
        "duration": 5,
        "start_time": "2023-12-23T19:22:38.797Z"
      },
      {
        "duration": 5,
        "start_time": "2023-12-23T19:23:52.502Z"
      },
      {
        "duration": 67,
        "start_time": "2023-12-23T19:29:12.828Z"
      },
      {
        "duration": 6,
        "start_time": "2023-12-23T19:29:41.945Z"
      },
      {
        "duration": 5,
        "start_time": "2023-12-23T19:30:16.270Z"
      },
      {
        "duration": 5,
        "start_time": "2023-12-23T19:30:25.085Z"
      },
      {
        "duration": 5,
        "start_time": "2023-12-23T19:38:54.402Z"
      },
      {
        "duration": 6,
        "start_time": "2023-12-23T19:39:56.861Z"
      },
      {
        "duration": 5,
        "start_time": "2023-12-23T19:40:32.323Z"
      },
      {
        "duration": 5,
        "start_time": "2023-12-23T19:42:35.428Z"
      },
      {
        "duration": 5,
        "start_time": "2023-12-23T19:42:47.570Z"
      },
      {
        "duration": 111,
        "start_time": "2023-12-23T19:45:35.189Z"
      },
      {
        "duration": 10,
        "start_time": "2023-12-23T19:46:05.513Z"
      },
      {
        "duration": 112,
        "start_time": "2023-12-23T19:46:24.559Z"
      },
      {
        "duration": 4,
        "start_time": "2023-12-23T19:48:30.502Z"
      },
      {
        "duration": 12,
        "start_time": "2023-12-23T19:48:56.361Z"
      },
      {
        "duration": 10,
        "start_time": "2023-12-23T19:49:03.892Z"
      },
      {
        "duration": 1496,
        "start_time": "2023-12-23T19:52:41.104Z"
      },
      {
        "duration": 269,
        "start_time": "2023-12-23T19:53:00.825Z"
      },
      {
        "duration": 77,
        "start_time": "2023-12-23T19:53:09.669Z"
      },
      {
        "duration": 81,
        "start_time": "2023-12-23T19:53:31.999Z"
      },
      {
        "duration": 184,
        "start_time": "2023-12-23T19:53:45.791Z"
      },
      {
        "duration": 171,
        "start_time": "2023-12-23T19:54:00.184Z"
      },
      {
        "duration": 178,
        "start_time": "2023-12-23T19:54:20.778Z"
      },
      {
        "duration": 322,
        "start_time": "2023-12-23T19:54:32.823Z"
      },
      {
        "duration": 10,
        "start_time": "2023-12-23T19:57:53.640Z"
      },
      {
        "duration": 244,
        "start_time": "2023-12-23T19:58:25.640Z"
      },
      {
        "duration": 252,
        "start_time": "2023-12-23T19:58:45.953Z"
      },
      {
        "duration": 169,
        "start_time": "2023-12-23T19:58:56.418Z"
      },
      {
        "duration": 173,
        "start_time": "2023-12-23T19:59:20.855Z"
      },
      {
        "duration": 222,
        "start_time": "2023-12-23T20:02:03.362Z"
      },
      {
        "duration": 224,
        "start_time": "2023-12-23T20:03:38.205Z"
      },
      {
        "duration": 1100,
        "start_time": "2023-12-23T20:07:09.105Z"
      },
      {
        "duration": 179,
        "start_time": "2023-12-23T20:07:10.207Z"
      },
      {
        "duration": 9,
        "start_time": "2023-12-23T20:07:10.387Z"
      },
      {
        "duration": 30,
        "start_time": "2023-12-23T20:07:10.397Z"
      },
      {
        "duration": 41,
        "start_time": "2023-12-23T20:07:10.429Z"
      },
      {
        "duration": 34,
        "start_time": "2023-12-23T20:07:10.472Z"
      },
      {
        "duration": 7,
        "start_time": "2023-12-23T20:07:10.507Z"
      },
      {
        "duration": 29,
        "start_time": "2023-12-23T20:07:10.516Z"
      },
      {
        "duration": 24,
        "start_time": "2023-12-23T20:07:10.547Z"
      },
      {
        "duration": 32,
        "start_time": "2023-12-23T20:07:10.573Z"
      },
      {
        "duration": 12,
        "start_time": "2023-12-23T20:07:10.606Z"
      },
      {
        "duration": 8,
        "start_time": "2023-12-23T20:07:10.630Z"
      },
      {
        "duration": 18,
        "start_time": "2023-12-23T20:07:10.640Z"
      },
      {
        "duration": 18,
        "start_time": "2023-12-23T20:07:10.661Z"
      },
      {
        "duration": 5,
        "start_time": "2023-12-23T20:07:10.681Z"
      },
      {
        "duration": 18,
        "start_time": "2023-12-23T20:07:10.687Z"
      },
      {
        "duration": 10,
        "start_time": "2023-12-23T20:07:10.706Z"
      },
      {
        "duration": 121,
        "start_time": "2023-12-23T20:07:10.718Z"
      },
      {
        "duration": 5,
        "start_time": "2023-12-23T20:07:10.841Z"
      },
      {
        "duration": 159,
        "start_time": "2023-12-23T20:07:10.847Z"
      },
      {
        "duration": 9,
        "start_time": "2023-12-23T20:07:11.007Z"
      },
      {
        "duration": 45,
        "start_time": "2023-12-23T20:07:11.018Z"
      },
      {
        "duration": 20,
        "start_time": "2023-12-23T20:07:11.065Z"
      },
      {
        "duration": 12,
        "start_time": "2023-12-23T20:07:11.087Z"
      },
      {
        "duration": 21,
        "start_time": "2023-12-23T20:07:11.101Z"
      },
      {
        "duration": 15,
        "start_time": "2023-12-23T20:07:11.142Z"
      },
      {
        "duration": 463,
        "start_time": "2023-12-23T20:07:11.158Z"
      },
      {
        "duration": 465,
        "start_time": "2023-12-23T20:07:11.622Z"
      },
      {
        "duration": 28,
        "start_time": "2023-12-23T20:07:12.089Z"
      },
      {
        "duration": 3,
        "start_time": "2023-12-23T20:07:12.119Z"
      },
      {
        "duration": 20,
        "start_time": "2023-12-23T20:07:12.123Z"
      },
      {
        "duration": 11,
        "start_time": "2023-12-23T20:07:12.145Z"
      },
      {
        "duration": 27,
        "start_time": "2023-12-23T20:07:12.157Z"
      },
      {
        "duration": 22,
        "start_time": "2023-12-23T20:07:12.186Z"
      },
      {
        "duration": 23,
        "start_time": "2023-12-23T20:07:12.209Z"
      },
      {
        "duration": 206,
        "start_time": "2023-12-23T20:07:12.234Z"
      },
      {
        "duration": 275,
        "start_time": "2023-12-23T20:07:12.442Z"
      },
      {
        "duration": 384,
        "start_time": "2023-12-23T20:07:12.719Z"
      },
      {
        "duration": 60,
        "start_time": "2023-12-23T20:43:31.082Z"
      },
      {
        "duration": 16,
        "start_time": "2023-12-23T20:45:50.660Z"
      },
      {
        "duration": 69,
        "start_time": "2023-12-23T21:01:05.560Z"
      },
      {
        "duration": 86,
        "start_time": "2023-12-23T21:01:19.043Z"
      },
      {
        "duration": 72,
        "start_time": "2023-12-23T21:02:08.639Z"
      },
      {
        "duration": 72,
        "start_time": "2023-12-23T21:02:16.327Z"
      },
      {
        "duration": 70,
        "start_time": "2023-12-23T21:02:44.133Z"
      },
      {
        "duration": 80,
        "start_time": "2023-12-23T21:03:37.215Z"
      },
      {
        "duration": 24,
        "start_time": "2023-12-23T21:03:55.462Z"
      },
      {
        "duration": 21,
        "start_time": "2023-12-23T21:04:57.359Z"
      },
      {
        "duration": 23,
        "start_time": "2023-12-23T21:05:21.132Z"
      },
      {
        "duration": 80,
        "start_time": "2023-12-23T21:17:51.006Z"
      },
      {
        "duration": 9,
        "start_time": "2023-12-23T21:17:59.801Z"
      },
      {
        "duration": 9,
        "start_time": "2023-12-23T21:21:34.011Z"
      },
      {
        "duration": 7,
        "start_time": "2023-12-23T21:21:46.029Z"
      },
      {
        "duration": 167,
        "start_time": "2023-12-23T21:42:16.919Z"
      },
      {
        "duration": 83,
        "start_time": "2023-12-23T21:42:28.604Z"
      },
      {
        "duration": 1458,
        "start_time": "2023-12-23T21:42:52.023Z"
      },
      {
        "duration": 268,
        "start_time": "2023-12-23T21:43:10.093Z"
      },
      {
        "duration": 84,
        "start_time": "2023-12-23T21:43:24.451Z"
      },
      {
        "duration": 74,
        "start_time": "2023-12-23T21:43:53.861Z"
      },
      {
        "duration": 84,
        "start_time": "2023-12-23T21:44:56.666Z"
      },
      {
        "duration": 80,
        "start_time": "2023-12-23T21:45:04.254Z"
      },
      {
        "duration": 1507,
        "start_time": "2023-12-23T21:46:49.199Z"
      },
      {
        "duration": 1558,
        "start_time": "2023-12-23T21:47:36.664Z"
      },
      {
        "duration": 254,
        "start_time": "2023-12-23T21:48:06.221Z"
      },
      {
        "duration": 75,
        "start_time": "2023-12-23T21:48:16.836Z"
      },
      {
        "duration": 1547,
        "start_time": "2023-12-23T21:48:41.659Z"
      },
      {
        "duration": 1550,
        "start_time": "2023-12-23T21:50:47.640Z"
      },
      {
        "duration": 11,
        "start_time": "2023-12-23T21:51:22.117Z"
      },
      {
        "duration": 10,
        "start_time": "2023-12-23T21:51:44.849Z"
      },
      {
        "duration": 11,
        "start_time": "2023-12-23T21:51:50.982Z"
      },
      {
        "duration": 101,
        "start_time": "2023-12-23T21:56:05.037Z"
      },
      {
        "duration": 12,
        "start_time": "2023-12-23T21:56:11.869Z"
      },
      {
        "duration": 10,
        "start_time": "2023-12-23T21:56:22.478Z"
      },
      {
        "duration": 11,
        "start_time": "2023-12-23T21:57:10.150Z"
      },
      {
        "duration": 10,
        "start_time": "2023-12-23T21:58:02.281Z"
      },
      {
        "duration": 10,
        "start_time": "2023-12-23T21:58:12.198Z"
      },
      {
        "duration": 81,
        "start_time": "2023-12-23T21:58:32.880Z"
      },
      {
        "duration": 113,
        "start_time": "2023-12-23T21:58:51.674Z"
      },
      {
        "duration": 215,
        "start_time": "2023-12-23T21:59:45.157Z"
      },
      {
        "duration": 225,
        "start_time": "2023-12-23T22:01:09.670Z"
      },
      {
        "duration": 1034,
        "start_time": "2023-12-23T22:01:19.491Z"
      },
      {
        "duration": 65,
        "start_time": "2023-12-23T22:01:20.527Z"
      },
      {
        "duration": 6,
        "start_time": "2023-12-23T22:01:20.594Z"
      },
      {
        "duration": 11,
        "start_time": "2023-12-23T22:01:20.601Z"
      },
      {
        "duration": 34,
        "start_time": "2023-12-23T22:01:20.614Z"
      },
      {
        "duration": 14,
        "start_time": "2023-12-23T22:01:20.649Z"
      },
      {
        "duration": 10,
        "start_time": "2023-12-23T22:01:20.665Z"
      },
      {
        "duration": 16,
        "start_time": "2023-12-23T22:01:20.676Z"
      },
      {
        "duration": 8,
        "start_time": "2023-12-23T22:01:20.693Z"
      },
      {
        "duration": 4,
        "start_time": "2023-12-23T22:01:20.702Z"
      },
      {
        "duration": 26,
        "start_time": "2023-12-23T22:01:20.708Z"
      },
      {
        "duration": 21,
        "start_time": "2023-12-23T22:01:20.736Z"
      },
      {
        "duration": 8,
        "start_time": "2023-12-23T22:01:20.759Z"
      },
      {
        "duration": 18,
        "start_time": "2023-12-23T22:01:20.769Z"
      },
      {
        "duration": 6,
        "start_time": "2023-12-23T22:01:20.788Z"
      },
      {
        "duration": 17,
        "start_time": "2023-12-23T22:01:20.795Z"
      },
      {
        "duration": 6,
        "start_time": "2023-12-23T22:01:20.813Z"
      },
      {
        "duration": 119,
        "start_time": "2023-12-23T22:01:20.821Z"
      },
      {
        "duration": 4,
        "start_time": "2023-12-23T22:01:20.942Z"
      },
      {
        "duration": 186,
        "start_time": "2023-12-23T22:01:20.948Z"
      },
      {
        "duration": 12,
        "start_time": "2023-12-23T22:01:21.136Z"
      },
      {
        "duration": 45,
        "start_time": "2023-12-23T22:01:21.149Z"
      },
      {
        "duration": 60,
        "start_time": "2023-12-23T22:01:21.195Z"
      },
      {
        "duration": 10,
        "start_time": "2023-12-23T22:01:21.257Z"
      },
      {
        "duration": 21,
        "start_time": "2023-12-23T22:01:21.268Z"
      },
      {
        "duration": 11,
        "start_time": "2023-12-23T22:01:21.290Z"
      },
      {
        "duration": 429,
        "start_time": "2023-12-23T22:01:21.303Z"
      },
      {
        "duration": 439,
        "start_time": "2023-12-23T22:01:21.733Z"
      },
      {
        "duration": 73,
        "start_time": "2023-12-23T22:01:22.174Z"
      },
      {
        "duration": 17,
        "start_time": "2023-12-23T22:01:22.248Z"
      },
      {
        "duration": 8,
        "start_time": "2023-12-23T22:01:22.266Z"
      },
      {
        "duration": 22,
        "start_time": "2023-12-23T22:01:22.275Z"
      },
      {
        "duration": 8,
        "start_time": "2023-12-23T22:01:22.298Z"
      },
      {
        "duration": 1437,
        "start_time": "2023-12-23T22:01:22.307Z"
      },
      {
        "duration": 459,
        "start_time": "2023-12-23T22:01:23.746Z"
      },
      {
        "duration": 3,
        "start_time": "2023-12-23T22:01:36.070Z"
      },
      {
        "duration": 61,
        "start_time": "2023-12-23T22:01:37.167Z"
      },
      {
        "duration": 6,
        "start_time": "2023-12-23T22:01:44.309Z"
      },
      {
        "duration": 10,
        "start_time": "2023-12-23T22:01:46.101Z"
      },
      {
        "duration": 8,
        "start_time": "2023-12-23T22:01:48.257Z"
      },
      {
        "duration": 11,
        "start_time": "2023-12-23T22:01:52.064Z"
      },
      {
        "duration": 8,
        "start_time": "2023-12-23T22:01:52.972Z"
      },
      {
        "duration": 11,
        "start_time": "2023-12-23T22:01:54.569Z"
      },
      {
        "duration": 7,
        "start_time": "2023-12-23T22:01:58.893Z"
      },
      {
        "duration": 4,
        "start_time": "2023-12-23T22:02:05.314Z"
      },
      {
        "duration": 5,
        "start_time": "2023-12-23T22:04:18.396Z"
      },
      {
        "duration": 5,
        "start_time": "2023-12-23T22:04:25.793Z"
      },
      {
        "duration": 5,
        "start_time": "2023-12-23T22:04:26.094Z"
      },
      {
        "duration": 7,
        "start_time": "2023-12-23T22:04:28.240Z"
      },
      {
        "duration": 6,
        "start_time": "2023-12-23T22:04:28.794Z"
      },
      {
        "duration": 10,
        "start_time": "2023-12-23T22:04:31.231Z"
      },
      {
        "duration": 6,
        "start_time": "2023-12-23T22:04:35.082Z"
      },
      {
        "duration": 6,
        "start_time": "2023-12-23T22:04:37.752Z"
      },
      {
        "duration": 3,
        "start_time": "2023-12-23T22:04:38.273Z"
      },
      {
        "duration": 89,
        "start_time": "2023-12-23T22:04:39.382Z"
      },
      {
        "duration": 6,
        "start_time": "2023-12-23T22:04:42.107Z"
      },
      {
        "duration": 147,
        "start_time": "2023-12-23T22:04:42.803Z"
      },
      {
        "duration": 9,
        "start_time": "2023-12-23T22:04:51.536Z"
      },
      {
        "duration": 28,
        "start_time": "2023-12-23T22:04:57.228Z"
      },
      {
        "duration": 20,
        "start_time": "2023-12-23T22:05:08.229Z"
      },
      {
        "duration": 14,
        "start_time": "2023-12-23T22:05:10.057Z"
      },
      {
        "duration": 15,
        "start_time": "2023-12-23T22:05:12.893Z"
      },
      {
        "duration": 12,
        "start_time": "2023-12-23T22:05:15.431Z"
      },
      {
        "duration": 473,
        "start_time": "2023-12-23T22:05:18.628Z"
      },
      {
        "duration": 497,
        "start_time": "2023-12-23T22:05:21.044Z"
      },
      {
        "duration": 59,
        "start_time": "2023-12-23T22:07:14.631Z"
      },
      {
        "duration": 5,
        "start_time": "2023-12-23T22:12:28.566Z"
      },
      {
        "duration": 6,
        "start_time": "2023-12-23T22:13:28.128Z"
      },
      {
        "duration": 1425,
        "start_time": "2023-12-23T22:14:32.196Z"
      },
      {
        "duration": 220,
        "start_time": "2023-12-23T22:14:43.478Z"
      },
      {
        "duration": 5,
        "start_time": "2023-12-23T22:15:19.923Z"
      },
      {
        "duration": 5,
        "start_time": "2023-12-23T22:16:55.961Z"
      },
      {
        "duration": 1166,
        "start_time": "2023-12-23T22:17:15.709Z"
      },
      {
        "duration": 1425,
        "start_time": "2023-12-23T22:17:30.654Z"
      },
      {
        "duration": 1140,
        "start_time": "2023-12-23T22:17:57.027Z"
      },
      {
        "duration": 65,
        "start_time": "2023-12-23T22:17:58.169Z"
      },
      {
        "duration": 7,
        "start_time": "2023-12-23T22:17:58.236Z"
      },
      {
        "duration": 9,
        "start_time": "2023-12-23T22:17:58.244Z"
      },
      {
        "duration": 10,
        "start_time": "2023-12-23T22:17:58.256Z"
      },
      {
        "duration": 10,
        "start_time": "2023-12-23T22:17:58.268Z"
      },
      {
        "duration": 6,
        "start_time": "2023-12-23T22:17:58.280Z"
      },
      {
        "duration": 10,
        "start_time": "2023-12-23T22:17:58.287Z"
      },
      {
        "duration": 9,
        "start_time": "2023-12-23T22:17:58.298Z"
      },
      {
        "duration": 4,
        "start_time": "2023-12-23T22:17:58.308Z"
      },
      {
        "duration": 33,
        "start_time": "2023-12-23T22:17:58.313Z"
      },
      {
        "duration": 7,
        "start_time": "2023-12-23T22:17:58.348Z"
      },
      {
        "duration": 8,
        "start_time": "2023-12-23T22:17:58.356Z"
      },
      {
        "duration": 10,
        "start_time": "2023-12-23T22:17:58.366Z"
      },
      {
        "duration": 6,
        "start_time": "2023-12-23T22:17:58.377Z"
      },
      {
        "duration": 6,
        "start_time": "2023-12-23T22:17:58.384Z"
      },
      {
        "duration": 5,
        "start_time": "2023-12-23T22:17:58.391Z"
      },
      {
        "duration": 134,
        "start_time": "2023-12-23T22:17:58.398Z"
      },
      {
        "duration": 4,
        "start_time": "2023-12-23T22:17:58.542Z"
      },
      {
        "duration": 146,
        "start_time": "2023-12-23T22:17:58.548Z"
      },
      {
        "duration": 9,
        "start_time": "2023-12-23T22:17:58.695Z"
      },
      {
        "duration": 44,
        "start_time": "2023-12-23T22:17:58.706Z"
      },
      {
        "duration": 16,
        "start_time": "2023-12-23T22:17:58.752Z"
      },
      {
        "duration": 10,
        "start_time": "2023-12-23T22:17:58.770Z"
      },
      {
        "duration": 14,
        "start_time": "2023-12-23T22:17:58.782Z"
      },
      {
        "duration": 11,
        "start_time": "2023-12-23T22:17:58.797Z"
      },
      {
        "duration": 465,
        "start_time": "2023-12-23T22:17:58.809Z"
      },
      {
        "duration": 440,
        "start_time": "2023-12-23T22:17:59.275Z"
      },
      {
        "duration": 75,
        "start_time": "2023-12-23T22:17:59.716Z"
      },
      {
        "duration": 24,
        "start_time": "2023-12-23T22:17:59.793Z"
      },
      {
        "duration": 23,
        "start_time": "2023-12-23T22:17:59.819Z"
      },
      {
        "duration": 10,
        "start_time": "2023-12-23T22:17:59.844Z"
      },
      {
        "duration": 25,
        "start_time": "2023-12-23T22:17:59.855Z"
      },
      {
        "duration": 1465,
        "start_time": "2023-12-23T22:17:59.881Z"
      },
      {
        "duration": 6,
        "start_time": "2023-12-23T22:18:01.347Z"
      },
      {
        "duration": 1016,
        "start_time": "2023-12-23T22:30:54.534Z"
      },
      {
        "duration": 61,
        "start_time": "2023-12-23T22:30:55.552Z"
      },
      {
        "duration": 7,
        "start_time": "2023-12-23T22:30:55.615Z"
      },
      {
        "duration": 12,
        "start_time": "2023-12-23T22:30:55.624Z"
      },
      {
        "duration": 11,
        "start_time": "2023-12-23T22:30:55.637Z"
      },
      {
        "duration": 9,
        "start_time": "2023-12-23T22:30:55.649Z"
      },
      {
        "duration": 15,
        "start_time": "2023-12-23T22:30:55.659Z"
      },
      {
        "duration": 18,
        "start_time": "2023-12-23T22:30:55.675Z"
      },
      {
        "duration": 30,
        "start_time": "2023-12-23T22:30:55.694Z"
      },
      {
        "duration": 5,
        "start_time": "2023-12-23T22:30:55.726Z"
      },
      {
        "duration": 5,
        "start_time": "2023-12-23T22:30:55.733Z"
      },
      {
        "duration": 6,
        "start_time": "2023-12-23T22:30:55.739Z"
      },
      {
        "duration": 4,
        "start_time": "2023-12-23T22:30:55.746Z"
      },
      {
        "duration": 10,
        "start_time": "2023-12-23T22:30:55.751Z"
      },
      {
        "duration": 5,
        "start_time": "2023-12-23T22:30:55.762Z"
      },
      {
        "duration": 5,
        "start_time": "2023-12-23T22:30:55.768Z"
      },
      {
        "duration": 11,
        "start_time": "2023-12-23T22:30:55.774Z"
      },
      {
        "duration": 96,
        "start_time": "2023-12-23T22:30:55.786Z"
      },
      {
        "duration": 6,
        "start_time": "2023-12-23T22:30:55.883Z"
      },
      {
        "duration": 135,
        "start_time": "2023-12-23T22:30:55.898Z"
      },
      {
        "duration": 8,
        "start_time": "2023-12-23T22:30:56.034Z"
      },
      {
        "duration": 59,
        "start_time": "2023-12-23T22:30:56.043Z"
      },
      {
        "duration": 25,
        "start_time": "2023-12-23T22:30:56.103Z"
      },
      {
        "duration": 12,
        "start_time": "2023-12-23T22:30:56.129Z"
      },
      {
        "duration": 27,
        "start_time": "2023-12-23T22:30:56.142Z"
      },
      {
        "duration": 19,
        "start_time": "2023-12-23T22:30:56.170Z"
      },
      {
        "duration": 391,
        "start_time": "2023-12-23T22:30:56.191Z"
      },
      {
        "duration": 384,
        "start_time": "2023-12-23T22:30:56.585Z"
      },
      {
        "duration": 61,
        "start_time": "2023-12-23T22:30:56.971Z"
      },
      {
        "duration": 16,
        "start_time": "2023-12-23T22:30:57.033Z"
      },
      {
        "duration": 30,
        "start_time": "2023-12-23T22:30:57.051Z"
      },
      {
        "duration": 31,
        "start_time": "2023-12-23T22:30:57.082Z"
      },
      {
        "duration": 36,
        "start_time": "2023-12-23T22:30:57.114Z"
      },
      {
        "duration": 1286,
        "start_time": "2023-12-23T22:30:57.151Z"
      },
      {
        "duration": 5,
        "start_time": "2023-12-23T22:30:58.438Z"
      },
      {
        "duration": 27,
        "start_time": "2023-12-23T22:40:48.960Z"
      },
      {
        "duration": 7,
        "start_time": "2023-12-23T22:41:31.671Z"
      },
      {
        "duration": 99,
        "start_time": "2023-12-23T22:49:48.160Z"
      },
      {
        "duration": 10,
        "start_time": "2023-12-23T22:49:54.173Z"
      },
      {
        "duration": 1086,
        "start_time": "2023-12-23T23:04:27.469Z"
      },
      {
        "duration": 62,
        "start_time": "2023-12-23T23:04:28.557Z"
      },
      {
        "duration": 8,
        "start_time": "2023-12-23T23:04:28.621Z"
      },
      {
        "duration": 10,
        "start_time": "2023-12-23T23:04:28.631Z"
      },
      {
        "duration": 17,
        "start_time": "2023-12-23T23:04:28.642Z"
      },
      {
        "duration": 11,
        "start_time": "2023-12-23T23:04:28.660Z"
      },
      {
        "duration": 6,
        "start_time": "2023-12-23T23:04:28.672Z"
      },
      {
        "duration": 20,
        "start_time": "2023-12-23T23:04:28.679Z"
      },
      {
        "duration": 6,
        "start_time": "2023-12-23T23:04:28.700Z"
      },
      {
        "duration": 18,
        "start_time": "2023-12-23T23:04:28.708Z"
      },
      {
        "duration": 8,
        "start_time": "2023-12-23T23:04:28.727Z"
      },
      {
        "duration": 8,
        "start_time": "2023-12-23T23:04:28.736Z"
      },
      {
        "duration": 4,
        "start_time": "2023-12-23T23:04:28.745Z"
      },
      {
        "duration": 9,
        "start_time": "2023-12-23T23:04:28.750Z"
      },
      {
        "duration": 4,
        "start_time": "2023-12-23T23:04:28.761Z"
      },
      {
        "duration": 7,
        "start_time": "2023-12-23T23:04:28.766Z"
      },
      {
        "duration": 25,
        "start_time": "2023-12-23T23:04:28.774Z"
      },
      {
        "duration": 113,
        "start_time": "2023-12-23T23:04:28.800Z"
      },
      {
        "duration": 5,
        "start_time": "2023-12-23T23:04:28.915Z"
      },
      {
        "duration": 176,
        "start_time": "2023-12-23T23:04:28.921Z"
      },
      {
        "duration": 9,
        "start_time": "2023-12-23T23:04:29.098Z"
      },
      {
        "duration": 67,
        "start_time": "2023-12-23T23:04:29.108Z"
      },
      {
        "duration": 18,
        "start_time": "2023-12-23T23:04:29.177Z"
      },
      {
        "duration": 11,
        "start_time": "2023-12-23T23:04:29.196Z"
      },
      {
        "duration": 12,
        "start_time": "2023-12-23T23:04:29.208Z"
      },
      {
        "duration": 10,
        "start_time": "2023-12-23T23:04:29.222Z"
      },
      {
        "duration": 424,
        "start_time": "2023-12-23T23:04:29.234Z"
      },
      {
        "duration": 425,
        "start_time": "2023-12-23T23:04:29.662Z"
      },
      {
        "duration": 67,
        "start_time": "2023-12-23T23:04:30.089Z"
      },
      {
        "duration": 17,
        "start_time": "2023-12-23T23:04:30.158Z"
      },
      {
        "duration": 61,
        "start_time": "2023-12-23T23:04:30.177Z"
      },
      {
        "duration": 20,
        "start_time": "2023-12-23T23:04:30.240Z"
      },
      {
        "duration": 32,
        "start_time": "2023-12-23T23:04:30.261Z"
      },
      {
        "duration": 1361,
        "start_time": "2023-12-23T23:04:30.294Z"
      },
      {
        "duration": 6,
        "start_time": "2023-12-23T23:04:31.656Z"
      },
      {
        "duration": 1068,
        "start_time": "2023-12-23T23:07:59.278Z"
      },
      {
        "duration": 64,
        "start_time": "2023-12-23T23:08:00.348Z"
      },
      {
        "duration": 8,
        "start_time": "2023-12-23T23:08:00.414Z"
      },
      {
        "duration": 30,
        "start_time": "2023-12-23T23:08:00.424Z"
      },
      {
        "duration": 20,
        "start_time": "2023-12-23T23:08:00.456Z"
      },
      {
        "duration": 40,
        "start_time": "2023-12-23T23:08:00.478Z"
      },
      {
        "duration": 24,
        "start_time": "2023-12-23T23:08:00.520Z"
      },
      {
        "duration": 60,
        "start_time": "2023-12-23T23:08:00.546Z"
      },
      {
        "duration": 79,
        "start_time": "2023-12-23T23:08:00.608Z"
      },
      {
        "duration": 42,
        "start_time": "2023-12-23T23:08:00.690Z"
      },
      {
        "duration": 40,
        "start_time": "2023-12-23T23:08:00.734Z"
      },
      {
        "duration": 42,
        "start_time": "2023-12-23T23:08:00.775Z"
      },
      {
        "duration": 48,
        "start_time": "2023-12-23T23:08:00.819Z"
      },
      {
        "duration": 56,
        "start_time": "2023-12-23T23:08:00.869Z"
      },
      {
        "duration": 55,
        "start_time": "2023-12-23T23:08:00.927Z"
      },
      {
        "duration": 71,
        "start_time": "2023-12-23T23:08:00.983Z"
      },
      {
        "duration": 132,
        "start_time": "2023-12-23T23:08:01.055Z"
      },
      {
        "duration": 156,
        "start_time": "2023-12-23T23:08:01.189Z"
      },
      {
        "duration": 5,
        "start_time": "2023-12-23T23:08:01.346Z"
      },
      {
        "duration": 160,
        "start_time": "2023-12-23T23:08:01.353Z"
      },
      {
        "duration": 10,
        "start_time": "2023-12-23T23:08:01.514Z"
      },
      {
        "duration": 53,
        "start_time": "2023-12-23T23:08:01.525Z"
      },
      {
        "duration": 24,
        "start_time": "2023-12-23T23:08:01.579Z"
      },
      {
        "duration": 75,
        "start_time": "2023-12-23T23:08:01.605Z"
      },
      {
        "duration": 43,
        "start_time": "2023-12-23T23:08:01.682Z"
      },
      {
        "duration": 43,
        "start_time": "2023-12-23T23:08:01.727Z"
      },
      {
        "duration": 427,
        "start_time": "2023-12-23T23:08:01.772Z"
      },
      {
        "duration": 428,
        "start_time": "2023-12-23T23:08:02.202Z"
      },
      {
        "duration": 69,
        "start_time": "2023-12-23T23:08:02.631Z"
      },
      {
        "duration": 16,
        "start_time": "2023-12-23T23:08:02.701Z"
      },
      {
        "duration": 5,
        "start_time": "2023-12-23T23:08:02.718Z"
      },
      {
        "duration": 11,
        "start_time": "2023-12-23T23:08:02.725Z"
      },
      {
        "duration": 7,
        "start_time": "2023-12-23T23:08:02.738Z"
      },
      {
        "duration": 1404,
        "start_time": "2023-12-23T23:08:02.747Z"
      },
      {
        "duration": 5,
        "start_time": "2023-12-23T23:08:04.153Z"
      },
      {
        "duration": 53,
        "start_time": "2023-12-24T11:48:37.473Z"
      },
      {
        "duration": 88,
        "start_time": "2023-12-24T19:05:52.094Z"
      },
      {
        "duration": 1138,
        "start_time": "2023-12-24T19:16:39.982Z"
      },
      {
        "duration": 75,
        "start_time": "2023-12-24T19:39:20.383Z"
      },
      {
        "duration": 85,
        "start_time": "2023-12-24T19:39:57.294Z"
      },
      {
        "duration": 55,
        "start_time": "2023-12-24T19:41:11.204Z"
      },
      {
        "duration": 1083,
        "start_time": "2023-12-24T19:41:22.532Z"
      },
      {
        "duration": 197,
        "start_time": "2023-12-24T19:41:23.617Z"
      },
      {
        "duration": 7,
        "start_time": "2023-12-24T19:41:23.815Z"
      },
      {
        "duration": 16,
        "start_time": "2023-12-24T19:41:23.824Z"
      },
      {
        "duration": 13,
        "start_time": "2023-12-24T19:41:23.842Z"
      },
      {
        "duration": 38,
        "start_time": "2023-12-24T19:41:23.857Z"
      },
      {
        "duration": 7,
        "start_time": "2023-12-24T19:41:23.896Z"
      },
      {
        "duration": 11,
        "start_time": "2023-12-24T19:41:23.905Z"
      },
      {
        "duration": 29,
        "start_time": "2023-12-24T19:41:23.917Z"
      },
      {
        "duration": 5,
        "start_time": "2023-12-24T19:41:23.947Z"
      },
      {
        "duration": 12,
        "start_time": "2023-12-24T19:41:23.954Z"
      },
      {
        "duration": 8,
        "start_time": "2023-12-24T19:41:23.967Z"
      },
      {
        "duration": 9,
        "start_time": "2023-12-24T19:41:23.976Z"
      },
      {
        "duration": 9,
        "start_time": "2023-12-24T19:41:23.988Z"
      },
      {
        "duration": 7,
        "start_time": "2023-12-24T19:41:23.999Z"
      },
      {
        "duration": 190,
        "start_time": "2023-12-24T19:41:24.008Z"
      },
      {
        "duration": 6,
        "start_time": "2023-12-24T19:41:24.199Z"
      },
      {
        "duration": 5,
        "start_time": "2023-12-24T19:41:24.206Z"
      },
      {
        "duration": 112,
        "start_time": "2023-12-24T19:41:24.212Z"
      },
      {
        "duration": 6,
        "start_time": "2023-12-24T19:41:24.326Z"
      },
      {
        "duration": 162,
        "start_time": "2023-12-24T19:41:24.334Z"
      },
      {
        "duration": 10,
        "start_time": "2023-12-24T19:41:24.498Z"
      },
      {
        "duration": 31,
        "start_time": "2023-12-24T19:41:24.510Z"
      },
      {
        "duration": 52,
        "start_time": "2023-12-24T19:41:24.543Z"
      },
      {
        "duration": 19,
        "start_time": "2023-12-24T19:41:24.597Z"
      },
      {
        "duration": 17,
        "start_time": "2023-12-24T19:41:24.618Z"
      },
      {
        "duration": 12,
        "start_time": "2023-12-24T19:41:24.637Z"
      },
      {
        "duration": 489,
        "start_time": "2023-12-24T19:41:24.651Z"
      },
      {
        "duration": 432,
        "start_time": "2023-12-24T19:41:25.142Z"
      },
      {
        "duration": 122,
        "start_time": "2023-12-24T19:41:25.576Z"
      },
      {
        "duration": 13,
        "start_time": "2023-12-24T19:41:25.699Z"
      },
      {
        "duration": 14,
        "start_time": "2023-12-24T19:41:25.713Z"
      },
      {
        "duration": 6,
        "start_time": "2023-12-24T19:41:25.728Z"
      },
      {
        "duration": 7,
        "start_time": "2023-12-24T19:41:25.735Z"
      },
      {
        "duration": 1315,
        "start_time": "2023-12-24T19:41:25.743Z"
      },
      {
        "duration": 5,
        "start_time": "2023-12-24T19:41:27.060Z"
      },
      {
        "duration": 3,
        "start_time": "2023-12-24T19:41:31.598Z"
      },
      {
        "duration": 67,
        "start_time": "2023-12-24T19:41:32.496Z"
      },
      {
        "duration": 5,
        "start_time": "2023-12-24T19:41:33.820Z"
      },
      {
        "duration": 9,
        "start_time": "2023-12-24T19:41:34.155Z"
      },
      {
        "duration": 7,
        "start_time": "2023-12-24T19:41:34.574Z"
      },
      {
        "duration": 11,
        "start_time": "2023-12-24T19:41:35.071Z"
      },
      {
        "duration": 7,
        "start_time": "2023-12-24T19:41:35.537Z"
      },
      {
        "duration": 13,
        "start_time": "2023-12-24T19:41:36.407Z"
      },
      {
        "duration": 7,
        "start_time": "2023-12-24T19:41:39.704Z"
      },
      {
        "duration": 5,
        "start_time": "2023-12-24T19:41:41.836Z"
      },
      {
        "duration": 5,
        "start_time": "2023-12-24T19:41:43.128Z"
      },
      {
        "duration": 7,
        "start_time": "2023-12-24T19:41:45.192Z"
      },
      {
        "duration": 5,
        "start_time": "2023-12-24T19:41:45.832Z"
      },
      {
        "duration": 9,
        "start_time": "2023-12-24T19:41:47.104Z"
      },
      {
        "duration": 5,
        "start_time": "2023-12-24T19:41:58.898Z"
      },
      {
        "duration": 125,
        "start_time": "2023-12-24T19:42:31.711Z"
      },
      {
        "duration": 72,
        "start_time": "2023-12-24T19:44:07.930Z"
      },
      {
        "duration": 138,
        "start_time": "2023-12-24T19:44:17.323Z"
      },
      {
        "duration": 18,
        "start_time": "2023-12-24T19:50:07.935Z"
      },
      {
        "duration": 12,
        "start_time": "2023-12-24T19:52:18.121Z"
      },
      {
        "duration": 11,
        "start_time": "2023-12-24T19:58:29.750Z"
      },
      {
        "duration": 390,
        "start_time": "2023-12-24T20:16:26.205Z"
      },
      {
        "duration": 268,
        "start_time": "2023-12-24T20:16:55.024Z"
      },
      {
        "duration": 294,
        "start_time": "2023-12-24T20:30:56.490Z"
      },
      {
        "duration": 1252,
        "start_time": "2023-12-25T04:15:20.222Z"
      },
      {
        "duration": 198,
        "start_time": "2023-12-25T04:15:21.476Z"
      },
      {
        "duration": 10,
        "start_time": "2023-12-25T04:15:22.944Z"
      },
      {
        "duration": 10,
        "start_time": "2023-12-25T04:15:25.359Z"
      },
      {
        "duration": 10,
        "start_time": "2023-12-25T04:24:40.488Z"
      },
      {
        "duration": 11,
        "start_time": "2023-12-25T04:24:40.996Z"
      },
      {
        "duration": 11,
        "start_time": "2023-12-25T04:24:41.588Z"
      },
      {
        "duration": 7,
        "start_time": "2023-12-25T04:24:42.285Z"
      },
      {
        "duration": 10,
        "start_time": "2023-12-25T04:24:42.980Z"
      },
      {
        "duration": 95,
        "start_time": "2023-12-25T04:25:55.217Z"
      },
      {
        "duration": 152,
        "start_time": "2023-12-25T04:26:08.715Z"
      },
      {
        "duration": 88,
        "start_time": "2023-12-25T04:27:14.355Z"
      },
      {
        "duration": 12,
        "start_time": "2023-12-25T04:27:30.196Z"
      },
      {
        "duration": 5,
        "start_time": "2023-12-25T04:27:35.839Z"
      },
      {
        "duration": 91,
        "start_time": "2023-12-25T04:27:36.465Z"
      },
      {
        "duration": 134,
        "start_time": "2023-12-25T04:28:07.255Z"
      },
      {
        "duration": 153,
        "start_time": "2023-12-25T04:30:15.040Z"
      },
      {
        "duration": 132,
        "start_time": "2023-12-25T04:30:23.164Z"
      },
      {
        "duration": 132,
        "start_time": "2023-12-25T04:30:38.523Z"
      },
      {
        "duration": 8,
        "start_time": "2023-12-25T04:31:35.876Z"
      },
      {
        "duration": 3,
        "start_time": "2023-12-25T04:38:14.143Z"
      },
      {
        "duration": 11,
        "start_time": "2023-12-25T04:38:19.475Z"
      },
      {
        "duration": 114,
        "start_time": "2023-12-25T04:38:27.823Z"
      },
      {
        "duration": 77,
        "start_time": "2023-12-25T04:39:20.182Z"
      },
      {
        "duration": 72,
        "start_time": "2023-12-25T04:39:37.858Z"
      },
      {
        "duration": 112,
        "start_time": "2023-12-25T04:39:42.052Z"
      },
      {
        "duration": 166,
        "start_time": "2023-12-25T04:39:49.307Z"
      },
      {
        "duration": 110,
        "start_time": "2023-12-25T04:41:55.467Z"
      },
      {
        "duration": 125,
        "start_time": "2023-12-25T04:42:04.899Z"
      },
      {
        "duration": 109,
        "start_time": "2023-12-25T04:43:09.620Z"
      },
      {
        "duration": 106,
        "start_time": "2023-12-25T04:43:37.534Z"
      },
      {
        "duration": 12,
        "start_time": "2023-12-25T04:44:12.563Z"
      },
      {
        "duration": 4,
        "start_time": "2023-12-25T04:45:52.518Z"
      },
      {
        "duration": 9,
        "start_time": "2023-12-25T04:47:34.959Z"
      },
      {
        "duration": 8,
        "start_time": "2023-12-25T04:47:41.479Z"
      },
      {
        "duration": 8,
        "start_time": "2023-12-25T04:47:42.016Z"
      },
      {
        "duration": 9,
        "start_time": "2023-12-25T04:47:42.567Z"
      },
      {
        "duration": 1064,
        "start_time": "2023-12-25T04:47:56.678Z"
      },
      {
        "duration": 69,
        "start_time": "2023-12-25T04:47:57.744Z"
      },
      {
        "duration": 9,
        "start_time": "2023-12-25T04:47:57.814Z"
      },
      {
        "duration": 17,
        "start_time": "2023-12-25T04:47:57.824Z"
      },
      {
        "duration": 10,
        "start_time": "2023-12-25T04:47:57.842Z"
      },
      {
        "duration": 13,
        "start_time": "2023-12-25T04:47:57.853Z"
      },
      {
        "duration": 6,
        "start_time": "2023-12-25T04:47:57.867Z"
      },
      {
        "duration": 16,
        "start_time": "2023-12-25T04:47:57.874Z"
      },
      {
        "duration": 24,
        "start_time": "2023-12-25T04:47:57.891Z"
      },
      {
        "duration": 5,
        "start_time": "2023-12-25T04:47:57.917Z"
      },
      {
        "duration": 6,
        "start_time": "2023-12-25T04:47:57.924Z"
      },
      {
        "duration": 16,
        "start_time": "2023-12-25T04:47:57.931Z"
      },
      {
        "duration": 5,
        "start_time": "2023-12-25T04:47:57.949Z"
      },
      {
        "duration": 18,
        "start_time": "2023-12-25T04:47:57.955Z"
      },
      {
        "duration": 11,
        "start_time": "2023-12-25T04:47:57.975Z"
      },
      {
        "duration": 184,
        "start_time": "2023-12-25T04:47:57.987Z"
      },
      {
        "duration": 143,
        "start_time": "2023-12-25T04:47:58.173Z"
      },
      {
        "duration": 6,
        "start_time": "2023-12-25T04:47:58.317Z"
      },
      {
        "duration": 142,
        "start_time": "2023-12-25T04:47:58.324Z"
      },
      {
        "duration": 4,
        "start_time": "2023-12-25T04:47:58.468Z"
      },
      {
        "duration": 143,
        "start_time": "2023-12-25T04:47:58.473Z"
      },
      {
        "duration": 7,
        "start_time": "2023-12-25T04:47:58.617Z"
      },
      {
        "duration": 8,
        "start_time": "2023-12-25T04:47:58.626Z"
      },
      {
        "duration": 129,
        "start_time": "2023-12-25T04:47:58.635Z"
      },
      {
        "duration": 19,
        "start_time": "2023-12-25T04:47:58.765Z"
      },
      {
        "duration": 32,
        "start_time": "2023-12-25T04:47:58.785Z"
      },
      {
        "duration": 13,
        "start_time": "2023-12-25T04:47:58.819Z"
      },
      {
        "duration": 17,
        "start_time": "2023-12-25T04:47:58.835Z"
      },
      {
        "duration": 11,
        "start_time": "2023-12-25T04:47:58.853Z"
      },
      {
        "duration": 21,
        "start_time": "2023-12-25T04:47:58.865Z"
      },
      {
        "duration": 3,
        "start_time": "2023-12-25T04:47:58.914Z"
      },
      {
        "duration": 16,
        "start_time": "2023-12-25T04:47:58.919Z"
      },
      {
        "duration": 27,
        "start_time": "2023-12-25T04:47:58.936Z"
      },
      {
        "duration": 449,
        "start_time": "2023-12-25T04:47:58.965Z"
      },
      {
        "duration": 516,
        "start_time": "2023-12-25T04:47:59.415Z"
      },
      {
        "duration": 56,
        "start_time": "2023-12-25T04:47:59.933Z"
      },
      {
        "duration": 28,
        "start_time": "2023-12-25T04:47:59.991Z"
      },
      {
        "duration": 57,
        "start_time": "2023-12-25T04:48:00.021Z"
      },
      {
        "duration": 32,
        "start_time": "2023-12-25T04:48:00.079Z"
      },
      {
        "duration": 33,
        "start_time": "2023-12-25T04:48:00.112Z"
      },
      {
        "duration": 295,
        "start_time": "2023-12-25T04:48:00.147Z"
      },
      {
        "duration": 5,
        "start_time": "2023-12-25T04:48:00.444Z"
      },
      {
        "duration": 3,
        "start_time": "2023-12-25T04:48:10.808Z"
      },
      {
        "duration": 68,
        "start_time": "2023-12-25T04:48:11.384Z"
      },
      {
        "duration": 6,
        "start_time": "2023-12-25T04:48:12.517Z"
      },
      {
        "duration": 10,
        "start_time": "2023-12-25T04:48:12.919Z"
      },
      {
        "duration": 8,
        "start_time": "2023-12-25T04:48:13.271Z"
      },
      {
        "duration": 11,
        "start_time": "2023-12-25T04:48:13.868Z"
      },
      {
        "duration": 7,
        "start_time": "2023-12-25T04:48:14.664Z"
      },
      {
        "duration": 10,
        "start_time": "2023-12-25T04:48:15.427Z"
      },
      {
        "duration": 7,
        "start_time": "2023-12-25T04:48:31.994Z"
      },
      {
        "duration": 4,
        "start_time": "2023-12-25T04:48:33.504Z"
      },
      {
        "duration": 4,
        "start_time": "2023-12-25T04:48:34.276Z"
      },
      {
        "duration": 9,
        "start_time": "2023-12-25T04:48:34.882Z"
      },
      {
        "duration": 5,
        "start_time": "2023-12-25T04:48:35.567Z"
      },
      {
        "duration": 10,
        "start_time": "2023-12-25T04:48:36.124Z"
      },
      {
        "duration": 5,
        "start_time": "2023-12-25T04:48:41.563Z"
      },
      {
        "duration": 139,
        "start_time": "2023-12-25T04:48:42.447Z"
      },
      {
        "duration": 134,
        "start_time": "2023-12-25T04:48:43.611Z"
      },
      {
        "duration": 6,
        "start_time": "2023-12-25T04:48:46.336Z"
      },
      {
        "duration": 135,
        "start_time": "2023-12-25T04:48:47.092Z"
      },
      {
        "duration": 5,
        "start_time": "2023-12-25T04:48:48.911Z"
      },
      {
        "duration": 134,
        "start_time": "2023-12-25T04:48:49.716Z"
      },
      {
        "duration": 8,
        "start_time": "2023-12-25T04:48:52.159Z"
      },
      {
        "duration": 9,
        "start_time": "2023-12-25T04:48:59.503Z"
      },
      {
        "duration": 111,
        "start_time": "2023-12-25T04:49:21.243Z"
      },
      {
        "duration": 12,
        "start_time": "2023-12-25T04:49:22.471Z"
      },
      {
        "duration": 26,
        "start_time": "2023-12-25T04:49:25.021Z"
      },
      {
        "duration": 15,
        "start_time": "2023-12-25T04:49:46.280Z"
      },
      {
        "duration": 18,
        "start_time": "2023-12-25T04:49:50.362Z"
      },
      {
        "duration": 12,
        "start_time": "2023-12-25T04:49:50.882Z"
      },
      {
        "duration": 21,
        "start_time": "2023-12-25T04:49:51.719Z"
      },
      {
        "duration": 4,
        "start_time": "2023-12-25T04:49:52.642Z"
      },
      {
        "duration": 13,
        "start_time": "2023-12-25T04:50:35.819Z"
      },
      {
        "duration": 31,
        "start_time": "2023-12-25T04:50:36.438Z"
      },
      {
        "duration": 522,
        "start_time": "2023-12-25T04:50:37.087Z"
      },
      {
        "duration": 435,
        "start_time": "2023-12-25T04:50:41.006Z"
      },
      {
        "duration": 56,
        "start_time": "2023-12-25T04:50:47.515Z"
      },
      {
        "duration": 16,
        "start_time": "2023-12-25T04:50:57.063Z"
      },
      {
        "duration": 57,
        "start_time": "2023-12-26T10:13:30.288Z"
      },
      {
        "duration": 39,
        "start_time": "2023-12-26T10:15:06.302Z"
      },
      {
        "duration": 1245,
        "start_time": "2023-12-26T10:15:24.186Z"
      },
      {
        "duration": 297,
        "start_time": "2023-12-26T10:15:25.432Z"
      },
      {
        "duration": 8,
        "start_time": "2023-12-26T10:15:25.730Z"
      },
      {
        "duration": 10,
        "start_time": "2023-12-26T10:15:25.740Z"
      },
      {
        "duration": 11,
        "start_time": "2023-12-26T10:15:25.751Z"
      },
      {
        "duration": 13,
        "start_time": "2023-12-26T10:15:25.764Z"
      },
      {
        "duration": 7,
        "start_time": "2023-12-26T10:15:25.953Z"
      },
      {
        "duration": 9,
        "start_time": "2023-12-26T10:15:26.137Z"
      },
      {
        "duration": 6,
        "start_time": "2023-12-26T10:15:28.242Z"
      },
      {
        "duration": 4,
        "start_time": "2023-12-26T10:15:29.517Z"
      },
      {
        "duration": 4,
        "start_time": "2023-12-26T10:15:30.127Z"
      },
      {
        "duration": 7,
        "start_time": "2023-12-26T10:15:30.757Z"
      },
      {
        "duration": 4,
        "start_time": "2023-12-26T10:15:31.039Z"
      },
      {
        "duration": 9,
        "start_time": "2023-12-26T10:15:31.257Z"
      },
      {
        "duration": 5,
        "start_time": "2023-12-26T10:15:33.735Z"
      },
      {
        "duration": 133,
        "start_time": "2023-12-26T10:15:34.400Z"
      },
      {
        "duration": 117,
        "start_time": "2023-12-26T10:15:34.739Z"
      },
      {
        "duration": 5,
        "start_time": "2023-12-26T10:15:38.046Z"
      },
      {
        "duration": 118,
        "start_time": "2023-12-26T10:15:39.196Z"
      },
      {
        "duration": 5,
        "start_time": "2023-12-26T10:15:42.730Z"
      },
      {
        "duration": 124,
        "start_time": "2023-12-26T10:15:43.511Z"
      },
      {
        "duration": 7,
        "start_time": "2023-12-26T10:15:45.780Z"
      },
      {
        "duration": 8,
        "start_time": "2023-12-26T10:15:48.232Z"
      },
      {
        "duration": 748,
        "start_time": "2023-12-26T10:15:51.556Z"
      },
      {
        "duration": 133,
        "start_time": "2023-12-26T10:16:11.358Z"
      },
      {
        "duration": 171,
        "start_time": "2023-12-26T10:16:18.713Z"
      },
      {
        "duration": 15,
        "start_time": "2023-12-26T13:59:59.499Z"
      },
      {
        "duration": 3,
        "start_time": "2023-12-26T14:00:07.806Z"
      },
      {
        "duration": 71,
        "start_time": "2023-12-26T14:00:08.184Z"
      },
      {
        "duration": 6,
        "start_time": "2023-12-26T14:00:08.724Z"
      },
      {
        "duration": 12,
        "start_time": "2023-12-26T14:00:08.908Z"
      },
      {
        "duration": 8,
        "start_time": "2023-12-26T14:00:09.119Z"
      },
      {
        "duration": 10,
        "start_time": "2023-12-26T14:00:09.326Z"
      },
      {
        "duration": 8,
        "start_time": "2023-12-26T14:00:09.517Z"
      },
      {
        "duration": 13,
        "start_time": "2023-12-26T14:00:09.724Z"
      },
      {
        "duration": 9,
        "start_time": "2023-12-26T14:00:10.745Z"
      },
      {
        "duration": 5,
        "start_time": "2023-12-26T14:00:11.307Z"
      },
      {
        "duration": 5,
        "start_time": "2023-12-26T14:00:11.699Z"
      },
      {
        "duration": 6,
        "start_time": "2023-12-26T14:00:12.113Z"
      },
      {
        "duration": 5,
        "start_time": "2023-12-26T14:00:12.340Z"
      },
      {
        "duration": 10,
        "start_time": "2023-12-26T14:00:12.559Z"
      },
      {
        "duration": 5,
        "start_time": "2023-12-26T14:00:14.808Z"
      },
      {
        "duration": 143,
        "start_time": "2023-12-26T14:00:15.410Z"
      },
      {
        "duration": 125,
        "start_time": "2023-12-26T14:00:17.888Z"
      },
      {
        "duration": 6,
        "start_time": "2023-12-26T14:00:21.363Z"
      },
      {
        "duration": 214,
        "start_time": "2023-12-26T14:00:21.602Z"
      },
      {
        "duration": 5,
        "start_time": "2023-12-26T14:00:23.349Z"
      },
      {
        "duration": 131,
        "start_time": "2023-12-26T14:00:24.007Z"
      },
      {
        "duration": 8,
        "start_time": "2023-12-26T14:00:28.630Z"
      },
      {
        "duration": 9,
        "start_time": "2023-12-26T14:00:28.641Z"
      },
      {
        "duration": 198,
        "start_time": "2023-12-26T14:00:29.761Z"
      },
      {
        "duration": 106,
        "start_time": "2023-12-26T14:00:31.351Z"
      },
      {
        "duration": 16,
        "start_time": "2023-12-26T14:00:32.028Z"
      },
      {
        "duration": 28,
        "start_time": "2023-12-26T14:00:35.165Z"
      },
      {
        "duration": 21,
        "start_time": "2023-12-26T14:00:35.682Z"
      },
      {
        "duration": 18,
        "start_time": "2023-12-26T14:00:38.107Z"
      },
      {
        "duration": 11,
        "start_time": "2023-12-26T14:00:38.586Z"
      },
      {
        "duration": 19,
        "start_time": "2023-12-26T14:00:39.153Z"
      },
      {
        "duration": 4,
        "start_time": "2023-12-26T14:00:40.186Z"
      },
      {
        "duration": 14,
        "start_time": "2023-12-26T14:00:41.590Z"
      },
      {
        "duration": 27,
        "start_time": "2023-12-26T14:00:42.043Z"
      },
      {
        "duration": 432,
        "start_time": "2023-12-26T14:00:42.699Z"
      },
      {
        "duration": 413,
        "start_time": "2023-12-26T14:00:45.964Z"
      },
      {
        "duration": 9,
        "start_time": "2023-12-26T14:00:47.391Z"
      },
      {
        "duration": 8,
        "start_time": "2023-12-26T14:01:05.693Z"
      },
      {
        "duration": 7,
        "start_time": "2023-12-26T14:01:26.722Z"
      },
      {
        "duration": 7,
        "start_time": "2023-12-26T14:01:36.089Z"
      },
      {
        "duration": 10,
        "start_time": "2023-12-26T14:15:57.124Z"
      },
      {
        "duration": 8,
        "start_time": "2023-12-26T14:16:12.516Z"
      },
      {
        "duration": 6,
        "start_time": "2023-12-26T14:16:18.400Z"
      },
      {
        "duration": 6,
        "start_time": "2023-12-26T14:16:36.662Z"
      },
      {
        "duration": 5,
        "start_time": "2023-12-26T14:17:12.725Z"
      },
      {
        "duration": 541,
        "start_time": "2023-12-26T14:19:30.762Z"
      },
      {
        "duration": 397,
        "start_time": "2023-12-26T16:02:46.419Z"
      },
      {
        "duration": 397,
        "start_time": "2023-12-26T16:04:00.873Z"
      },
      {
        "duration": 7,
        "start_time": "2023-12-26T16:35:27.664Z"
      },
      {
        "duration": 68,
        "start_time": "2023-12-26T18:08:37.868Z"
      },
      {
        "duration": 278,
        "start_time": "2023-12-26T18:09:29.614Z"
      },
      {
        "duration": 50,
        "start_time": "2023-12-26T18:27:28.969Z"
      },
      {
        "duration": 15,
        "start_time": "2023-12-26T18:27:42.994Z"
      },
      {
        "duration": 11,
        "start_time": "2023-12-26T18:28:16.588Z"
      },
      {
        "duration": 7,
        "start_time": "2023-12-26T18:28:26.784Z"
      },
      {
        "duration": 6,
        "start_time": "2023-12-26T18:28:33.188Z"
      },
      {
        "duration": 265,
        "start_time": "2023-12-26T18:28:58.951Z"
      },
      {
        "duration": 159,
        "start_time": "2023-12-26T18:30:45.646Z"
      },
      {
        "duration": 211,
        "start_time": "2023-12-26T18:30:54.247Z"
      },
      {
        "duration": 5,
        "start_time": "2023-12-26T18:31:25.926Z"
      },
      {
        "duration": 12,
        "start_time": "2023-12-26T18:31:33.668Z"
      },
      {
        "duration": 167,
        "start_time": "2023-12-26T18:32:53.994Z"
      },
      {
        "duration": 6,
        "start_time": "2023-12-26T19:18:40.019Z"
      },
      {
        "duration": 38,
        "start_time": "2023-12-26T20:40:38.583Z"
      },
      {
        "duration": 4,
        "start_time": "2023-12-26T20:40:42.417Z"
      },
      {
        "duration": 3,
        "start_time": "2023-12-26T20:41:11.026Z"
      },
      {
        "duration": 55,
        "start_time": "2023-12-26T21:31:33.056Z"
      },
      {
        "duration": 16076,
        "start_time": "2023-12-26T21:32:19.694Z"
      },
      {
        "duration": 15843,
        "start_time": "2023-12-26T21:34:17.341Z"
      },
      {
        "duration": 166,
        "start_time": "2023-12-26T21:34:33.397Z"
      },
      {
        "duration": 6633,
        "start_time": "2023-12-26T21:35:06.981Z"
      },
      {
        "duration": 642,
        "start_time": "2023-12-26T21:36:33.418Z"
      },
      {
        "duration": 1557,
        "start_time": "2023-12-26T21:36:51.803Z"
      },
      {
        "duration": 1568,
        "start_time": "2023-12-26T21:41:28.401Z"
      },
      {
        "duration": 1573,
        "start_time": "2023-12-26T21:44:32.871Z"
      },
      {
        "duration": 41,
        "start_time": "2023-12-26T21:46:03.105Z"
      },
      {
        "duration": 2434,
        "start_time": "2023-12-27T06:31:01.029Z"
      },
      {
        "duration": 2109,
        "start_time": "2023-12-27T06:31:11.990Z"
      },
      {
        "duration": 9,
        "start_time": "2023-12-27T06:31:20.737Z"
      },
      {
        "duration": 8,
        "start_time": "2023-12-27T06:31:37.730Z"
      },
      {
        "duration": 634,
        "start_time": "2023-12-27T06:32:45.428Z"
      },
      {
        "duration": 255,
        "start_time": "2023-12-27T06:32:46.064Z"
      },
      {
        "duration": 9,
        "start_time": "2023-12-27T06:32:46.421Z"
      },
      {
        "duration": 12,
        "start_time": "2023-12-27T06:32:46.621Z"
      },
      {
        "duration": 12,
        "start_time": "2023-12-27T06:32:46.801Z"
      },
      {
        "duration": 12,
        "start_time": "2023-12-27T06:32:46.989Z"
      },
      {
        "duration": 8,
        "start_time": "2023-12-27T06:32:47.461Z"
      },
      {
        "duration": 10,
        "start_time": "2023-12-27T06:32:47.715Z"
      },
      {
        "duration": 8,
        "start_time": "2023-12-27T06:32:48.653Z"
      },
      {
        "duration": 6,
        "start_time": "2023-12-27T06:32:49.227Z"
      },
      {
        "duration": 5,
        "start_time": "2023-12-27T06:32:49.592Z"
      },
      {
        "duration": 8,
        "start_time": "2023-12-27T06:32:49.999Z"
      },
      {
        "duration": 5,
        "start_time": "2023-12-27T06:32:50.216Z"
      },
      {
        "duration": 11,
        "start_time": "2023-12-27T06:32:50.428Z"
      },
      {
        "duration": 6,
        "start_time": "2023-12-27T06:32:51.767Z"
      },
      {
        "duration": 159,
        "start_time": "2023-12-27T06:32:51.959Z"
      },
      {
        "duration": 143,
        "start_time": "2023-12-27T06:32:52.175Z"
      },
      {
        "duration": 5,
        "start_time": "2023-12-27T06:32:53.149Z"
      },
      {
        "duration": 144,
        "start_time": "2023-12-27T06:32:53.333Z"
      },
      {
        "duration": 5,
        "start_time": "2023-12-27T06:32:53.809Z"
      },
      {
        "duration": 152,
        "start_time": "2023-12-27T06:32:54.008Z"
      },
      {
        "duration": 8,
        "start_time": "2023-12-27T06:32:54.697Z"
      },
      {
        "duration": 8,
        "start_time": "2023-12-27T06:32:55.560Z"
      },
      {
        "duration": 204,
        "start_time": "2023-12-27T06:32:55.984Z"
      },
      {
        "duration": 120,
        "start_time": "2023-12-27T06:32:56.611Z"
      },
      {
        "duration": 11,
        "start_time": "2023-12-27T06:32:57.197Z"
      },
      {
        "duration": 31,
        "start_time": "2023-12-27T06:32:58.498Z"
      },
      {
        "duration": 13,
        "start_time": "2023-12-27T06:32:58.970Z"
      },
      {
        "duration": 18,
        "start_time": "2023-12-27T06:33:00.778Z"
      },
      {
        "duration": 13,
        "start_time": "2023-12-27T06:33:01.239Z"
      },
      {
        "duration": 542,
        "start_time": "2023-12-27T06:33:01.667Z"
      },
      {
        "duration": 372,
        "start_time": "2023-12-27T06:33:02.459Z"
      },
      {
        "duration": 13,
        "start_time": "2023-12-27T06:33:03.957Z"
      },
      {
        "duration": 34,
        "start_time": "2023-12-27T06:33:04.387Z"
      },
      {
        "duration": 474,
        "start_time": "2023-12-27T06:33:04.730Z"
      },
      {
        "duration": 546,
        "start_time": "2023-12-27T06:33:05.862Z"
      },
      {
        "duration": 14,
        "start_time": "2023-12-27T06:33:06.410Z"
      },
      {
        "duration": 7,
        "start_time": "2023-12-27T06:33:06.834Z"
      },
      {
        "duration": 60,
        "start_time": "2023-12-27T06:33:10.270Z"
      },
      {
        "duration": 17,
        "start_time": "2023-12-27T06:33:12.962Z"
      },
      {
        "duration": 6,
        "start_time": "2023-12-27T06:33:17.406Z"
      },
      {
        "duration": 6,
        "start_time": "2023-12-27T06:33:22.603Z"
      },
      {
        "duration": 8,
        "start_time": "2023-12-27T06:33:26.251Z"
      },
      {
        "duration": 1965,
        "start_time": "2023-12-27T06:33:33.112Z"
      },
      {
        "duration": 1760,
        "start_time": "2023-12-27T06:34:33.142Z"
      },
      {
        "duration": 1683,
        "start_time": "2023-12-27T06:37:14.058Z"
      },
      {
        "duration": 1807,
        "start_time": "2023-12-27T06:39:08.715Z"
      },
      {
        "duration": 1773,
        "start_time": "2023-12-27T06:41:20.248Z"
      },
      {
        "duration": 81,
        "start_time": "2023-12-27T06:45:22.080Z"
      },
      {
        "duration": 3,
        "start_time": "2023-12-27T06:45:52.450Z"
      },
      {
        "duration": 66,
        "start_time": "2023-12-27T06:45:53.365Z"
      },
      {
        "duration": 6,
        "start_time": "2023-12-27T06:45:53.932Z"
      },
      {
        "duration": 11,
        "start_time": "2023-12-27T06:45:54.158Z"
      },
      {
        "duration": 8,
        "start_time": "2023-12-27T06:45:54.356Z"
      },
      {
        "duration": 11,
        "start_time": "2023-12-27T06:45:54.534Z"
      },
      {
        "duration": 8,
        "start_time": "2023-12-27T06:45:54.728Z"
      },
      {
        "duration": 10,
        "start_time": "2023-12-27T06:45:54.985Z"
      },
      {
        "duration": 7,
        "start_time": "2023-12-27T06:45:56.099Z"
      },
      {
        "duration": 4,
        "start_time": "2023-12-27T06:45:56.992Z"
      },
      {
        "duration": 5,
        "start_time": "2023-12-27T06:45:57.584Z"
      },
      {
        "duration": 7,
        "start_time": "2023-12-27T06:45:58.439Z"
      },
      {
        "duration": 4,
        "start_time": "2023-12-27T06:45:58.783Z"
      },
      {
        "duration": 9,
        "start_time": "2023-12-27T06:45:59.110Z"
      },
      {
        "duration": 5,
        "start_time": "2023-12-27T06:46:02.106Z"
      },
      {
        "duration": 138,
        "start_time": "2023-12-27T06:46:02.336Z"
      },
      {
        "duration": 264,
        "start_time": "2023-12-27T06:46:02.534Z"
      },
      {
        "duration": 8,
        "start_time": "2023-12-27T06:46:03.528Z"
      },
      {
        "duration": 142,
        "start_time": "2023-12-27T06:46:03.714Z"
      },
      {
        "duration": 5,
        "start_time": "2023-12-27T06:46:04.083Z"
      },
      {
        "duration": 175,
        "start_time": "2023-12-27T06:46:04.276Z"
      },
      {
        "duration": 9,
        "start_time": "2023-12-27T06:46:04.858Z"
      },
      {
        "duration": 8,
        "start_time": "2023-12-27T06:46:05.639Z"
      },
      {
        "duration": 188,
        "start_time": "2023-12-27T06:46:06.084Z"
      },
      {
        "duration": 113,
        "start_time": "2023-12-27T06:46:06.893Z"
      },
      {
        "duration": 11,
        "start_time": "2023-12-27T06:46:07.273Z"
      },
      {
        "duration": 28,
        "start_time": "2023-12-27T06:46:08.417Z"
      },
      {
        "duration": 13,
        "start_time": "2023-12-27T06:46:08.820Z"
      },
      {
        "duration": 19,
        "start_time": "2023-12-27T06:46:10.410Z"
      },
      {
        "duration": 12,
        "start_time": "2023-12-27T06:46:10.802Z"
      },
      {
        "duration": 27,
        "start_time": "2023-12-27T06:46:11.191Z"
      },
      {
        "duration": 4,
        "start_time": "2023-12-27T06:46:11.600Z"
      },
      {
        "duration": 13,
        "start_time": "2023-12-27T06:46:12.782Z"
      },
      {
        "duration": 29,
        "start_time": "2023-12-27T06:46:13.135Z"
      },
      {
        "duration": 554,
        "start_time": "2023-12-27T06:46:14.412Z"
      },
      {
        "duration": 464,
        "start_time": "2023-12-27T06:46:15.551Z"
      },
      {
        "duration": 9,
        "start_time": "2023-12-27T06:46:16.021Z"
      },
      {
        "duration": 8,
        "start_time": "2023-12-27T06:46:16.368Z"
      },
      {
        "duration": 58,
        "start_time": "2023-12-27T06:46:18.610Z"
      },
      {
        "duration": 16,
        "start_time": "2023-12-27T06:46:21.301Z"
      },
      {
        "duration": 5,
        "start_time": "2023-12-27T06:46:25.722Z"
      },
      {
        "duration": 5,
        "start_time": "2023-12-27T06:46:30.405Z"
      },
      {
        "duration": 7,
        "start_time": "2023-12-27T06:46:36.070Z"
      },
      {
        "duration": 95,
        "start_time": "2023-12-27T06:46:42.465Z"
      },
      {
        "duration": 5,
        "start_time": "2023-12-27T06:46:58.395Z"
      },
      {
        "duration": 74,
        "start_time": "2023-12-27T06:47:06.513Z"
      },
      {
        "duration": 73,
        "start_time": "2023-12-27T06:47:12.744Z"
      },
      {
        "duration": 1888,
        "start_time": "2023-12-27T06:47:18.564Z"
      },
      {
        "duration": 1767,
        "start_time": "2023-12-27T06:47:30.354Z"
      },
      {
        "duration": 1785,
        "start_time": "2023-12-27T06:47:57.774Z"
      },
      {
        "duration": 5,
        "start_time": "2023-12-27T06:48:13.657Z"
      },
      {
        "duration": 1232,
        "start_time": "2023-12-27T16:48:43.988Z"
      },
      {
        "duration": 294,
        "start_time": "2023-12-27T16:48:45.222Z"
      },
      {
        "duration": 8,
        "start_time": "2023-12-27T16:48:45.517Z"
      },
      {
        "duration": 27,
        "start_time": "2023-12-27T16:48:45.528Z"
      },
      {
        "duration": 17,
        "start_time": "2023-12-27T16:48:45.557Z"
      },
      {
        "duration": 22,
        "start_time": "2023-12-27T16:48:45.576Z"
      },
      {
        "duration": 15,
        "start_time": "2023-12-27T16:48:45.599Z"
      },
      {
        "duration": 31,
        "start_time": "2023-12-27T16:48:45.616Z"
      },
      {
        "duration": 64,
        "start_time": "2023-12-27T16:48:45.649Z"
      },
      {
        "duration": 49,
        "start_time": "2023-12-27T16:48:45.715Z"
      },
      {
        "duration": 45,
        "start_time": "2023-12-27T16:48:45.765Z"
      },
      {
        "duration": 21,
        "start_time": "2023-12-27T16:48:45.812Z"
      },
      {
        "duration": 41,
        "start_time": "2023-12-27T16:48:45.834Z"
      },
      {
        "duration": 75,
        "start_time": "2023-12-27T16:48:45.876Z"
      },
      {
        "duration": 5,
        "start_time": "2023-12-27T16:48:45.952Z"
      },
      {
        "duration": 144,
        "start_time": "2023-12-27T16:48:45.959Z"
      },
      {
        "duration": 130,
        "start_time": "2023-12-27T16:48:46.104Z"
      },
      {
        "duration": 5,
        "start_time": "2023-12-27T16:48:46.235Z"
      },
      {
        "duration": 138,
        "start_time": "2023-12-27T16:48:46.241Z"
      },
      {
        "duration": 5,
        "start_time": "2023-12-27T16:48:46.381Z"
      },
      {
        "duration": 139,
        "start_time": "2023-12-27T16:48:46.387Z"
      },
      {
        "duration": 7,
        "start_time": "2023-12-27T16:48:46.528Z"
      },
      {
        "duration": 21,
        "start_time": "2023-12-27T16:48:46.536Z"
      },
      {
        "duration": 183,
        "start_time": "2023-12-27T16:48:46.558Z"
      },
      {
        "duration": 105,
        "start_time": "2023-12-27T16:48:46.742Z"
      },
      {
        "duration": 11,
        "start_time": "2023-12-27T16:48:46.856Z"
      },
      {
        "duration": 26,
        "start_time": "2023-12-27T16:48:46.868Z"
      },
      {
        "duration": 13,
        "start_time": "2023-12-27T16:48:46.897Z"
      },
      {
        "duration": 16,
        "start_time": "2023-12-27T16:48:46.911Z"
      },
      {
        "duration": 37,
        "start_time": "2023-12-27T16:48:46.929Z"
      },
      {
        "duration": 20,
        "start_time": "2023-12-27T16:48:46.968Z"
      },
      {
        "duration": 4,
        "start_time": "2023-12-27T16:48:46.990Z"
      },
      {
        "duration": 16,
        "start_time": "2023-12-27T16:48:46.995Z"
      },
      {
        "duration": 51,
        "start_time": "2023-12-27T16:48:47.013Z"
      },
      {
        "duration": 523,
        "start_time": "2023-12-27T16:48:47.065Z"
      },
      {
        "duration": 438,
        "start_time": "2023-12-27T16:48:47.590Z"
      },
      {
        "duration": 7,
        "start_time": "2023-12-27T16:48:48.029Z"
      },
      {
        "duration": 23,
        "start_time": "2023-12-27T16:48:48.038Z"
      },
      {
        "duration": 56,
        "start_time": "2023-12-27T16:48:48.063Z"
      },
      {
        "duration": 15,
        "start_time": "2023-12-27T16:48:48.120Z"
      },
      {
        "duration": 23,
        "start_time": "2023-12-27T16:48:48.137Z"
      },
      {
        "duration": 11,
        "start_time": "2023-12-27T16:48:48.162Z"
      },
      {
        "duration": 10,
        "start_time": "2023-12-27T16:48:48.175Z"
      },
      {
        "duration": 1843,
        "start_time": "2023-12-27T16:48:48.186Z"
      },
      {
        "duration": 26,
        "start_time": "2023-12-27T16:48:50.031Z"
      },
      {
        "duration": 1065,
        "start_time": "2023-12-27T17:07:45.832Z"
      },
      {
        "duration": 77,
        "start_time": "2023-12-27T17:07:46.898Z"
      },
      {
        "duration": 7,
        "start_time": "2023-12-27T17:07:46.976Z"
      },
      {
        "duration": 13,
        "start_time": "2023-12-27T17:07:46.984Z"
      },
      {
        "duration": 12,
        "start_time": "2023-12-27T17:07:46.999Z"
      },
      {
        "duration": 11,
        "start_time": "2023-12-27T17:07:47.012Z"
      },
      {
        "duration": 6,
        "start_time": "2023-12-27T17:07:47.024Z"
      },
      {
        "duration": 9,
        "start_time": "2023-12-27T17:07:47.031Z"
      },
      {
        "duration": 7,
        "start_time": "2023-12-27T17:07:47.055Z"
      },
      {
        "duration": 10,
        "start_time": "2023-12-27T17:07:47.063Z"
      },
      {
        "duration": 5,
        "start_time": "2023-12-27T17:07:47.074Z"
      },
      {
        "duration": 8,
        "start_time": "2023-12-27T17:07:47.080Z"
      },
      {
        "duration": 4,
        "start_time": "2023-12-27T17:07:47.089Z"
      },
      {
        "duration": 9,
        "start_time": "2023-12-27T17:07:47.096Z"
      },
      {
        "duration": 4,
        "start_time": "2023-12-27T17:07:47.107Z"
      },
      {
        "duration": 164,
        "start_time": "2023-12-27T17:07:47.113Z"
      },
      {
        "duration": 132,
        "start_time": "2023-12-27T17:07:47.279Z"
      },
      {
        "duration": 5,
        "start_time": "2023-12-27T17:07:47.413Z"
      },
      {
        "duration": 144,
        "start_time": "2023-12-27T17:07:47.420Z"
      },
      {
        "duration": 5,
        "start_time": "2023-12-27T17:07:47.566Z"
      },
      {
        "duration": 145,
        "start_time": "2023-12-27T17:07:47.573Z"
      },
      {
        "duration": 7,
        "start_time": "2023-12-27T17:07:47.720Z"
      },
      {
        "duration": 12,
        "start_time": "2023-12-27T17:07:47.729Z"
      },
      {
        "duration": 189,
        "start_time": "2023-12-27T17:07:47.743Z"
      },
      {
        "duration": 115,
        "start_time": "2023-12-27T17:07:47.933Z"
      },
      {
        "duration": 10,
        "start_time": "2023-12-27T17:07:48.055Z"
      },
      {
        "duration": 27,
        "start_time": "2023-12-27T17:07:48.066Z"
      },
      {
        "duration": 12,
        "start_time": "2023-12-27T17:07:48.094Z"
      },
      {
        "duration": 17,
        "start_time": "2023-12-27T17:07:48.107Z"
      },
      {
        "duration": 35,
        "start_time": "2023-12-27T17:07:48.125Z"
      },
      {
        "duration": 22,
        "start_time": "2023-12-27T17:07:48.161Z"
      },
      {
        "duration": 3,
        "start_time": "2023-12-27T17:07:48.184Z"
      },
      {
        "duration": 12,
        "start_time": "2023-12-27T17:07:48.188Z"
      },
      {
        "duration": 25,
        "start_time": "2023-12-27T17:07:48.201Z"
      },
      {
        "duration": 505,
        "start_time": "2023-12-27T17:07:48.227Z"
      },
      {
        "duration": 407,
        "start_time": "2023-12-27T17:07:48.734Z"
      },
      {
        "duration": 16,
        "start_time": "2023-12-27T17:07:49.142Z"
      },
      {
        "duration": 7,
        "start_time": "2023-12-27T17:07:49.159Z"
      },
      {
        "duration": 54,
        "start_time": "2023-12-27T17:07:49.167Z"
      },
      {
        "duration": 35,
        "start_time": "2023-12-27T17:07:49.223Z"
      },
      {
        "duration": 5,
        "start_time": "2023-12-27T17:07:49.262Z"
      },
      {
        "duration": 5,
        "start_time": "2023-12-27T17:07:49.268Z"
      },
      {
        "duration": 8,
        "start_time": "2023-12-27T17:07:49.274Z"
      },
      {
        "duration": 1817,
        "start_time": "2023-12-27T17:07:49.283Z"
      },
      {
        "duration": 5,
        "start_time": "2023-12-27T17:07:51.102Z"
      },
      {
        "duration": 1072,
        "start_time": "2023-12-27T17:09:49.226Z"
      },
      {
        "duration": 65,
        "start_time": "2023-12-27T17:09:50.300Z"
      },
      {
        "duration": 8,
        "start_time": "2023-12-27T17:09:50.367Z"
      },
      {
        "duration": 27,
        "start_time": "2023-12-27T17:09:50.377Z"
      },
      {
        "duration": 19,
        "start_time": "2023-12-27T17:09:50.405Z"
      },
      {
        "duration": 25,
        "start_time": "2023-12-27T17:09:50.425Z"
      },
      {
        "duration": 7,
        "start_time": "2023-12-27T17:09:50.452Z"
      },
      {
        "duration": 44,
        "start_time": "2023-12-27T17:09:50.461Z"
      },
      {
        "duration": 16,
        "start_time": "2023-12-27T17:09:50.506Z"
      },
      {
        "duration": 7,
        "start_time": "2023-12-27T17:09:50.525Z"
      },
      {
        "duration": 7,
        "start_time": "2023-12-27T17:09:50.534Z"
      },
      {
        "duration": 13,
        "start_time": "2023-12-27T17:09:50.542Z"
      },
      {
        "duration": 6,
        "start_time": "2023-12-27T17:09:50.556Z"
      },
      {
        "duration": 36,
        "start_time": "2023-12-27T17:09:50.563Z"
      },
      {
        "duration": 15,
        "start_time": "2023-12-27T17:09:50.600Z"
      },
      {
        "duration": 153,
        "start_time": "2023-12-27T17:09:50.616Z"
      },
      {
        "duration": 137,
        "start_time": "2023-12-27T17:09:50.771Z"
      },
      {
        "duration": 5,
        "start_time": "2023-12-27T17:09:50.909Z"
      },
      {
        "duration": 141,
        "start_time": "2023-12-27T17:09:50.916Z"
      },
      {
        "duration": 6,
        "start_time": "2023-12-27T17:09:51.058Z"
      },
      {
        "duration": 145,
        "start_time": "2023-12-27T17:09:51.065Z"
      },
      {
        "duration": 9,
        "start_time": "2023-12-27T17:09:51.212Z"
      },
      {
        "duration": 11,
        "start_time": "2023-12-27T17:09:51.222Z"
      },
      {
        "duration": 190,
        "start_time": "2023-12-27T17:09:51.234Z"
      },
      {
        "duration": 116,
        "start_time": "2023-12-27T17:09:51.427Z"
      },
      {
        "duration": 17,
        "start_time": "2023-12-27T17:09:51.545Z"
      },
      {
        "duration": 36,
        "start_time": "2023-12-27T17:09:51.563Z"
      },
      {
        "duration": 11,
        "start_time": "2023-12-27T17:09:51.602Z"
      },
      {
        "duration": 19,
        "start_time": "2023-12-27T17:09:51.614Z"
      },
      {
        "duration": 21,
        "start_time": "2023-12-27T17:09:51.634Z"
      },
      {
        "duration": 27,
        "start_time": "2023-12-27T17:09:51.657Z"
      },
      {
        "duration": 20,
        "start_time": "2023-12-27T17:09:51.686Z"
      },
      {
        "duration": 16,
        "start_time": "2023-12-27T17:09:51.708Z"
      },
      {
        "duration": 27,
        "start_time": "2023-12-27T17:09:51.726Z"
      },
      {
        "duration": 492,
        "start_time": "2023-12-27T17:09:51.755Z"
      },
      {
        "duration": 412,
        "start_time": "2023-12-27T17:09:52.249Z"
      },
      {
        "duration": 8,
        "start_time": "2023-12-27T17:09:52.662Z"
      },
      {
        "duration": 24,
        "start_time": "2023-12-27T17:09:52.671Z"
      },
      {
        "duration": 78,
        "start_time": "2023-12-27T17:09:52.696Z"
      },
      {
        "duration": 16,
        "start_time": "2023-12-27T17:09:52.776Z"
      },
      {
        "duration": 22,
        "start_time": "2023-12-27T17:09:52.793Z"
      },
      {
        "duration": 24,
        "start_time": "2023-12-27T17:09:52.817Z"
      },
      {
        "duration": 24,
        "start_time": "2023-12-27T17:09:52.843Z"
      },
      {
        "duration": 1586,
        "start_time": "2023-12-27T17:09:52.868Z"
      },
      {
        "duration": 5,
        "start_time": "2023-12-27T17:09:54.456Z"
      },
      {
        "duration": 46,
        "start_time": "2023-12-27T18:06:31.246Z"
      },
      {
        "duration": 1373,
        "start_time": "2023-12-27T18:06:58.040Z"
      },
      {
        "duration": 292,
        "start_time": "2023-12-27T18:06:59.415Z"
      },
      {
        "duration": 10,
        "start_time": "2023-12-27T18:06:59.818Z"
      },
      {
        "duration": 12,
        "start_time": "2023-12-27T18:07:00.211Z"
      },
      {
        "duration": 12,
        "start_time": "2023-12-27T18:07:00.560Z"
      },
      {
        "duration": 15,
        "start_time": "2023-12-27T18:07:01.053Z"
      },
      {
        "duration": 12,
        "start_time": "2023-12-27T18:07:01.603Z"
      },
      {
        "duration": 10,
        "start_time": "2023-12-27T18:07:02.211Z"
      },
      {
        "duration": 7,
        "start_time": "2023-12-27T18:07:05.626Z"
      },
      {
        "duration": 5,
        "start_time": "2023-12-27T18:07:07.428Z"
      },
      {
        "duration": 5,
        "start_time": "2023-12-27T18:07:08.425Z"
      },
      {
        "duration": 7,
        "start_time": "2023-12-27T18:07:09.597Z"
      },
      {
        "duration": 5,
        "start_time": "2023-12-27T18:07:10.176Z"
      },
      {
        "duration": 11,
        "start_time": "2023-12-27T18:07:11.335Z"
      },
      {
        "duration": 6,
        "start_time": "2023-12-27T18:07:16.201Z"
      },
      {
        "duration": 176,
        "start_time": "2023-12-27T18:07:17.203Z"
      },
      {
        "duration": 136,
        "start_time": "2023-12-27T18:07:17.936Z"
      },
      {
        "duration": 7,
        "start_time": "2023-12-27T18:07:22.549Z"
      },
      {
        "duration": 135,
        "start_time": "2023-12-27T18:07:23.191Z"
      },
      {
        "duration": 6,
        "start_time": "2023-12-27T18:07:30.933Z"
      },
      {
        "duration": 141,
        "start_time": "2023-12-27T18:07:31.904Z"
      },
      {
        "duration": 9,
        "start_time": "2023-12-27T18:07:34.421Z"
      },
      {
        "duration": 12,
        "start_time": "2023-12-27T18:07:38.613Z"
      },
      {
        "duration": 210,
        "start_time": "2023-12-27T18:07:39.984Z"
      },
      {
        "duration": 131,
        "start_time": "2023-12-27T18:07:41.617Z"
      },
      {
        "duration": 125,
        "start_time": "2023-12-27T18:08:06.642Z"
      },
      {
        "duration": 126,
        "start_time": "2023-12-27T18:09:19.871Z"
      },
      {
        "duration": 59,
        "start_time": "2023-12-27T18:25:58.059Z"
      },
      {
        "duration": 765,
        "start_time": "2023-12-27T18:28:01.650Z"
      },
      {
        "duration": 11,
        "start_time": "2023-12-27T18:28:07.604Z"
      },
      {
        "duration": 9,
        "start_time": "2023-12-27T18:28:13.523Z"
      },
      {
        "duration": 698,
        "start_time": "2023-12-27T18:28:13.916Z"
      },
      {
        "duration": 320,
        "start_time": "2023-12-27T18:28:27.905Z"
      },
      {
        "duration": 139,
        "start_time": "2023-12-27T18:29:16.103Z"
      },
      {
        "duration": 14,
        "start_time": "2023-12-27T19:02:25.528Z"
      },
      {
        "duration": 3,
        "start_time": "2023-12-27T19:02:36.109Z"
      },
      {
        "duration": 68,
        "start_time": "2023-12-27T19:02:36.455Z"
      },
      {
        "duration": 9,
        "start_time": "2023-12-27T19:02:37.029Z"
      },
      {
        "duration": 12,
        "start_time": "2023-12-27T19:02:37.203Z"
      },
      {
        "duration": 9,
        "start_time": "2023-12-27T19:02:37.396Z"
      },
      {
        "duration": 16,
        "start_time": "2023-12-27T19:02:37.591Z"
      },
      {
        "duration": 9,
        "start_time": "2023-12-27T19:02:37.777Z"
      },
      {
        "duration": 11,
        "start_time": "2023-12-27T19:02:37.974Z"
      },
      {
        "duration": 8,
        "start_time": "2023-12-27T19:02:39.109Z"
      },
      {
        "duration": 5,
        "start_time": "2023-12-27T19:02:39.713Z"
      },
      {
        "duration": 6,
        "start_time": "2023-12-27T19:02:40.121Z"
      },
      {
        "duration": 8,
        "start_time": "2023-12-27T19:02:40.845Z"
      },
      {
        "duration": 5,
        "start_time": "2023-12-27T19:02:41.067Z"
      },
      {
        "duration": 10,
        "start_time": "2023-12-27T19:02:41.288Z"
      },
      {
        "duration": 7,
        "start_time": "2023-12-27T19:02:43.005Z"
      },
      {
        "duration": 159,
        "start_time": "2023-12-27T19:02:43.130Z"
      },
      {
        "duration": 151,
        "start_time": "2023-12-27T19:02:43.345Z"
      },
      {
        "duration": 7,
        "start_time": "2023-12-27T19:02:45.043Z"
      },
      {
        "duration": 173,
        "start_time": "2023-12-27T19:02:45.517Z"
      },
      {
        "duration": 5,
        "start_time": "2023-12-27T19:02:47.218Z"
      },
      {
        "duration": 165,
        "start_time": "2023-12-27T19:02:47.543Z"
      },
      {
        "duration": 9,
        "start_time": "2023-12-27T19:02:48.164Z"
      },
      {
        "duration": 10,
        "start_time": "2023-12-27T19:02:49.820Z"
      },
      {
        "duration": 210,
        "start_time": "2023-12-27T19:02:51.498Z"
      },
      {
        "duration": 147,
        "start_time": "2023-12-27T19:02:51.803Z"
      },
      {
        "duration": 9,
        "start_time": "2023-12-27T19:02:55.065Z"
      },
      {
        "duration": 213,
        "start_time": "2023-12-27T19:02:55.717Z"
      },
      {
        "duration": 140,
        "start_time": "2023-12-27T19:02:56.141Z"
      },
      {
        "duration": 13,
        "start_time": "2023-12-27T19:02:58.203Z"
      },
      {
        "duration": 30,
        "start_time": "2023-12-27T19:03:03.185Z"
      },
      {
        "duration": 26,
        "start_time": "2023-12-27T19:03:03.418Z"
      },
      {
        "duration": 128,
        "start_time": "2023-12-27T19:03:04.613Z"
      },
      {
        "duration": 14,
        "start_time": "2023-12-27T19:03:05.041Z"
      },
      {
        "duration": 30,
        "start_time": "2023-12-27T19:03:05.493Z"
      },
      {
        "duration": 4,
        "start_time": "2023-12-27T19:03:05.873Z"
      },
      {
        "duration": 14,
        "start_time": "2023-12-27T19:03:07.388Z"
      },
      {
        "duration": 36,
        "start_time": "2023-12-27T19:03:07.609Z"
      },
      {
        "duration": 500,
        "start_time": "2023-12-27T19:03:07.795Z"
      },
      {
        "duration": 496,
        "start_time": "2023-12-27T19:03:08.554Z"
      },
      {
        "duration": 10,
        "start_time": "2023-12-27T19:03:09.052Z"
      },
      {
        "duration": 12,
        "start_time": "2023-12-27T19:03:09.064Z"
      },
      {
        "duration": 63,
        "start_time": "2023-12-27T19:03:11.821Z"
      },
      {
        "duration": 18,
        "start_time": "2023-12-27T19:03:12.493Z"
      },
      {
        "duration": 6,
        "start_time": "2023-12-27T19:03:14.467Z"
      },
      {
        "duration": 5,
        "start_time": "2023-12-27T19:03:19.926Z"
      },
      {
        "duration": 18,
        "start_time": "2023-12-27T19:03:21.357Z"
      },
      {
        "duration": 1854,
        "start_time": "2023-12-27T19:03:24.709Z"
      },
      {
        "duration": 6,
        "start_time": "2023-12-27T19:03:26.565Z"
      },
      {
        "duration": 6,
        "start_time": "2023-12-27T19:12:15.383Z"
      },
      {
        "duration": 1904,
        "start_time": "2023-12-27T19:31:34.899Z"
      },
      {
        "duration": 97,
        "start_time": "2023-12-27T19:32:32.490Z"
      },
      {
        "duration": 79,
        "start_time": "2023-12-27T19:32:34.344Z"
      },
      {
        "duration": 8,
        "start_time": "2023-12-27T19:32:34.906Z"
      },
      {
        "duration": 12,
        "start_time": "2023-12-27T19:32:35.282Z"
      },
      {
        "duration": 11,
        "start_time": "2023-12-27T19:32:35.469Z"
      },
      {
        "duration": 17,
        "start_time": "2023-12-27T19:32:35.647Z"
      },
      {
        "duration": 9,
        "start_time": "2023-12-27T19:32:35.838Z"
      },
      {
        "duration": 12,
        "start_time": "2023-12-27T19:32:36.005Z"
      },
      {
        "duration": 11,
        "start_time": "2023-12-27T19:32:37.205Z"
      },
      {
        "duration": 5,
        "start_time": "2023-12-27T19:32:37.781Z"
      },
      {
        "duration": 6,
        "start_time": "2023-12-27T19:32:38.117Z"
      },
      {
        "duration": 10,
        "start_time": "2023-12-27T19:32:38.423Z"
      },
      {
        "duration": 5,
        "start_time": "2023-12-27T19:32:38.664Z"
      },
      {
        "duration": 12,
        "start_time": "2023-12-27T19:32:38.865Z"
      },
      {
        "duration": 5,
        "start_time": "2023-12-27T19:32:40.420Z"
      },
      {
        "duration": 172,
        "start_time": "2023-12-27T19:32:40.631Z"
      },
      {
        "duration": 191,
        "start_time": "2023-12-27T19:32:40.839Z"
      },
      {
        "duration": 9,
        "start_time": "2023-12-27T19:32:42.028Z"
      },
      {
        "duration": 181,
        "start_time": "2023-12-27T19:32:42.230Z"
      },
      {
        "duration": 6,
        "start_time": "2023-12-27T19:32:43.034Z"
      },
      {
        "duration": 147,
        "start_time": "2023-12-27T19:32:43.249Z"
      },
      {
        "duration": 8,
        "start_time": "2023-12-27T19:32:43.896Z"
      },
      {
        "duration": 10,
        "start_time": "2023-12-27T19:32:45.039Z"
      },
      {
        "duration": 328,
        "start_time": "2023-12-27T19:32:45.473Z"
      },
      {
        "duration": 165,
        "start_time": "2023-12-27T19:32:45.803Z"
      },
      {
        "duration": 11,
        "start_time": "2023-12-27T19:32:46.597Z"
      },
      {
        "duration": 222,
        "start_time": "2023-12-27T19:32:46.816Z"
      },
      {
        "duration": 157,
        "start_time": "2023-12-27T19:32:47.041Z"
      },
      {
        "duration": 14,
        "start_time": "2023-12-27T19:32:47.516Z"
      },
      {
        "duration": 32,
        "start_time": "2023-12-27T19:32:48.237Z"
      },
      {
        "duration": 23,
        "start_time": "2023-12-27T19:32:48.486Z"
      },
      {
        "duration": 20,
        "start_time": "2023-12-27T19:32:49.686Z"
      },
      {
        "duration": 17,
        "start_time": "2023-12-27T19:32:49.926Z"
      },
      {
        "duration": 23,
        "start_time": "2023-12-27T19:32:50.149Z"
      },
      {
        "duration": 4,
        "start_time": "2023-12-27T19:32:50.329Z"
      },
      {
        "duration": 19,
        "start_time": "2023-12-27T19:32:51.083Z"
      },
      {
        "duration": 46,
        "start_time": "2023-12-27T19:32:51.371Z"
      },
      {
        "duration": 504,
        "start_time": "2023-12-27T19:32:51.636Z"
      },
      {
        "duration": 488,
        "start_time": "2023-12-27T19:32:52.334Z"
      },
      {
        "duration": 11,
        "start_time": "2023-12-27T19:32:52.830Z"
      },
      {
        "duration": 12,
        "start_time": "2023-12-27T19:32:52.899Z"
      },
      {
        "duration": 181,
        "start_time": "2023-12-27T19:32:54.332Z"
      },
      {
        "duration": 19,
        "start_time": "2023-12-27T19:32:55.116Z"
      },
      {
        "duration": 8,
        "start_time": "2023-12-27T19:32:57.564Z"
      },
      {
        "duration": 9,
        "start_time": "2023-12-27T19:32:59.746Z"
      },
      {
        "duration": 12,
        "start_time": "2023-12-27T19:33:01.627Z"
      },
      {
        "duration": 1920,
        "start_time": "2023-12-27T19:33:04.856Z"
      },
      {
        "duration": 0,
        "start_time": "2023-12-27T19:33:06.777Z"
      },
      {
        "duration": 1884,
        "start_time": "2023-12-27T19:33:37.739Z"
      },
      {
        "duration": 50,
        "start_time": "2023-12-27T19:37:22.147Z"
      },
      {
        "duration": 44,
        "start_time": "2023-12-27T19:37:28.619Z"
      },
      {
        "duration": 46,
        "start_time": "2023-12-27T19:38:12.746Z"
      },
      {
        "duration": 67,
        "start_time": "2023-12-27T19:38:34.291Z"
      },
      {
        "duration": 53,
        "start_time": "2023-12-27T19:38:48.294Z"
      },
      {
        "duration": 256,
        "start_time": "2023-12-27T19:39:07.452Z"
      },
      {
        "duration": 59,
        "start_time": "2023-12-27T19:43:39.662Z"
      },
      {
        "duration": 222,
        "start_time": "2023-12-27T19:43:59.564Z"
      },
      {
        "duration": 192,
        "start_time": "2023-12-27T19:44:38.024Z"
      },
      {
        "duration": 141,
        "start_time": "2023-12-27T19:45:07.057Z"
      },
      {
        "duration": 1956,
        "start_time": "2023-12-27T19:45:59.494Z"
      },
      {
        "duration": 1857,
        "start_time": "2023-12-27T19:54:58.392Z"
      },
      {
        "duration": 16,
        "start_time": "2023-12-27T20:03:46.282Z"
      },
      {
        "duration": 1863,
        "start_time": "2023-12-27T20:05:40.167Z"
      },
      {
        "duration": 2100,
        "start_time": "2023-12-27T21:00:37.404Z"
      },
      {
        "duration": 1822,
        "start_time": "2023-12-27T21:02:23.208Z"
      },
      {
        "duration": 1984,
        "start_time": "2023-12-27T21:03:23.690Z"
      },
      {
        "duration": 2148,
        "start_time": "2023-12-27T21:04:52.166Z"
      },
      {
        "duration": 2143,
        "start_time": "2023-12-27T21:05:07.881Z"
      },
      {
        "duration": 2147,
        "start_time": "2023-12-27T21:05:45.193Z"
      },
      {
        "duration": 2283,
        "start_time": "2023-12-27T21:06:13.312Z"
      },
      {
        "duration": 1996,
        "start_time": "2023-12-27T21:06:23.485Z"
      },
      {
        "duration": 2254,
        "start_time": "2023-12-27T21:06:39.838Z"
      },
      {
        "duration": 2103,
        "start_time": "2023-12-27T21:06:47.620Z"
      },
      {
        "duration": 2290,
        "start_time": "2023-12-27T21:07:08.556Z"
      },
      {
        "duration": 2030,
        "start_time": "2023-12-27T21:07:17.017Z"
      },
      {
        "duration": 2194,
        "start_time": "2023-12-27T21:07:25.020Z"
      },
      {
        "duration": 2106,
        "start_time": "2023-12-27T21:07:40.011Z"
      },
      {
        "duration": 153,
        "start_time": "2023-12-27T21:08:34.527Z"
      },
      {
        "duration": 146,
        "start_time": "2023-12-27T21:08:55.844Z"
      },
      {
        "duration": 2049,
        "start_time": "2023-12-27T21:16:42.570Z"
      },
      {
        "duration": 2123,
        "start_time": "2023-12-27T21:16:56.600Z"
      },
      {
        "duration": 2155,
        "start_time": "2023-12-27T21:17:34.378Z"
      },
      {
        "duration": 2067,
        "start_time": "2023-12-27T21:17:55.405Z"
      },
      {
        "duration": 2138,
        "start_time": "2023-12-27T21:18:09.871Z"
      },
      {
        "duration": 2118,
        "start_time": "2023-12-27T21:20:44.003Z"
      },
      {
        "duration": 48,
        "start_time": "2023-12-27T23:00:17.109Z"
      },
      {
        "duration": 1264,
        "start_time": "2023-12-27T23:00:22.807Z"
      },
      {
        "duration": 193,
        "start_time": "2023-12-27T23:00:24.073Z"
      },
      {
        "duration": 7,
        "start_time": "2023-12-27T23:00:24.268Z"
      },
      {
        "duration": 18,
        "start_time": "2023-12-27T23:00:24.277Z"
      },
      {
        "duration": 11,
        "start_time": "2023-12-27T23:00:24.297Z"
      },
      {
        "duration": 14,
        "start_time": "2023-12-27T23:00:24.310Z"
      },
      {
        "duration": 7,
        "start_time": "2023-12-27T23:00:24.325Z"
      },
      {
        "duration": 19,
        "start_time": "2023-12-27T23:00:24.333Z"
      },
      {
        "duration": 17,
        "start_time": "2023-12-27T23:00:24.354Z"
      },
      {
        "duration": 5,
        "start_time": "2023-12-27T23:00:24.372Z"
      },
      {
        "duration": 8,
        "start_time": "2023-12-27T23:00:24.378Z"
      },
      {
        "duration": 21,
        "start_time": "2023-12-27T23:00:24.387Z"
      },
      {
        "duration": 24,
        "start_time": "2023-12-27T23:00:24.410Z"
      },
      {
        "duration": 12,
        "start_time": "2023-12-27T23:00:24.439Z"
      },
      {
        "duration": 7,
        "start_time": "2023-12-27T23:00:24.452Z"
      },
      {
        "duration": 185,
        "start_time": "2023-12-27T23:00:24.461Z"
      },
      {
        "duration": 163,
        "start_time": "2023-12-27T23:00:24.647Z"
      },
      {
        "duration": 5,
        "start_time": "2023-12-27T23:00:24.812Z"
      },
      {
        "duration": 146,
        "start_time": "2023-12-27T23:00:24.819Z"
      },
      {
        "duration": 6,
        "start_time": "2023-12-27T23:00:24.967Z"
      },
      {
        "duration": 142,
        "start_time": "2023-12-27T23:00:24.974Z"
      },
      {
        "duration": 8,
        "start_time": "2023-12-27T23:00:25.117Z"
      },
      {
        "duration": 31,
        "start_time": "2023-12-27T23:00:25.126Z"
      },
      {
        "duration": 184,
        "start_time": "2023-12-27T23:00:25.159Z"
      },
      {
        "duration": 123,
        "start_time": "2023-12-27T23:00:25.345Z"
      },
      {
        "duration": 9,
        "start_time": "2023-12-27T23:00:25.469Z"
      },
      {
        "duration": 197,
        "start_time": "2023-12-27T23:00:25.479Z"
      },
      {
        "duration": 218,
        "start_time": "2023-12-27T23:00:25.677Z"
      },
      {
        "duration": 14,
        "start_time": "2023-12-27T23:00:25.897Z"
      },
      {
        "duration": 40,
        "start_time": "2023-12-27T23:00:25.913Z"
      },
      {
        "duration": 18,
        "start_time": "2023-12-27T23:00:25.955Z"
      },
      {
        "duration": 17,
        "start_time": "2023-12-27T23:00:25.975Z"
      },
      {
        "duration": 14,
        "start_time": "2023-12-27T23:00:25.994Z"
      },
      {
        "duration": 36,
        "start_time": "2023-12-27T23:00:26.009Z"
      },
      {
        "duration": 19,
        "start_time": "2023-12-27T23:00:26.047Z"
      },
      {
        "duration": 26,
        "start_time": "2023-12-27T23:00:26.068Z"
      },
      {
        "duration": 27,
        "start_time": "2023-12-27T23:00:26.095Z"
      },
      {
        "duration": 446,
        "start_time": "2023-12-27T23:00:26.124Z"
      },
      {
        "duration": 457,
        "start_time": "2023-12-27T23:00:26.572Z"
      },
      {
        "duration": 8,
        "start_time": "2023-12-27T23:00:27.031Z"
      },
      {
        "duration": 25,
        "start_time": "2023-12-27T23:00:27.044Z"
      },
      {
        "duration": 68,
        "start_time": "2023-12-27T23:00:27.071Z"
      },
      {
        "duration": 32,
        "start_time": "2023-12-27T23:00:27.140Z"
      },
      {
        "duration": 10,
        "start_time": "2023-12-27T23:00:27.173Z"
      },
      {
        "duration": 19,
        "start_time": "2023-12-27T23:00:27.184Z"
      },
      {
        "duration": 5,
        "start_time": "2023-12-27T23:00:27.204Z"
      },
      {
        "duration": 8,
        "start_time": "2023-12-27T23:00:27.210Z"
      },
      {
        "duration": 1896,
        "start_time": "2023-12-27T23:00:27.220Z"
      },
      {
        "duration": 141,
        "start_time": "2023-12-27T23:00:29.117Z"
      },
      {
        "duration": 18,
        "start_time": "2023-12-27T23:00:35.219Z"
      },
      {
        "duration": 40,
        "start_time": "2023-12-27T23:00:47.971Z"
      },
      {
        "duration": 1156,
        "start_time": "2023-12-27T23:06:45.828Z"
      },
      {
        "duration": 66,
        "start_time": "2023-12-27T23:06:46.986Z"
      },
      {
        "duration": 8,
        "start_time": "2023-12-27T23:06:47.053Z"
      },
      {
        "duration": 12,
        "start_time": "2023-12-27T23:06:47.062Z"
      },
      {
        "duration": 10,
        "start_time": "2023-12-27T23:06:47.075Z"
      },
      {
        "duration": 11,
        "start_time": "2023-12-27T23:06:47.086Z"
      },
      {
        "duration": 8,
        "start_time": "2023-12-27T23:06:47.098Z"
      },
      {
        "duration": 13,
        "start_time": "2023-12-27T23:06:47.108Z"
      },
      {
        "duration": 10,
        "start_time": "2023-12-27T23:06:47.123Z"
      },
      {
        "duration": 5,
        "start_time": "2023-12-27T23:06:47.165Z"
      },
      {
        "duration": 6,
        "start_time": "2023-12-27T23:06:47.172Z"
      },
      {
        "duration": 8,
        "start_time": "2023-12-27T23:06:47.180Z"
      },
      {
        "duration": 4,
        "start_time": "2023-12-27T23:06:47.190Z"
      },
      {
        "duration": 14,
        "start_time": "2023-12-27T23:06:47.195Z"
      },
      {
        "duration": 7,
        "start_time": "2023-12-27T23:06:47.211Z"
      },
      {
        "duration": 195,
        "start_time": "2023-12-27T23:06:47.220Z"
      },
      {
        "duration": 138,
        "start_time": "2023-12-27T23:06:47.416Z"
      },
      {
        "duration": 12,
        "start_time": "2023-12-27T23:06:47.555Z"
      },
      {
        "duration": 138,
        "start_time": "2023-12-27T23:06:47.568Z"
      },
      {
        "duration": 6,
        "start_time": "2023-12-27T23:06:47.708Z"
      },
      {
        "duration": 160,
        "start_time": "2023-12-27T23:06:47.715Z"
      },
      {
        "duration": 7,
        "start_time": "2023-12-27T23:06:47.877Z"
      },
      {
        "duration": 7,
        "start_time": "2023-12-27T23:06:47.886Z"
      },
      {
        "duration": 209,
        "start_time": "2023-12-27T23:06:47.895Z"
      },
      {
        "duration": 123,
        "start_time": "2023-12-27T23:06:48.105Z"
      },
      {
        "duration": 9,
        "start_time": "2023-12-27T23:06:48.230Z"
      },
      {
        "duration": 222,
        "start_time": "2023-12-27T23:06:48.240Z"
      },
      {
        "duration": 215,
        "start_time": "2023-12-27T23:06:48.465Z"
      },
      {
        "duration": 11,
        "start_time": "2023-12-27T23:06:48.682Z"
      },
      {
        "duration": 24,
        "start_time": "2023-12-27T23:06:48.695Z"
      },
      {
        "duration": 12,
        "start_time": "2023-12-27T23:06:48.721Z"
      },
      {
        "duration": 17,
        "start_time": "2023-12-27T23:06:48.765Z"
      },
      {
        "duration": 11,
        "start_time": "2023-12-27T23:06:48.783Z"
      },
      {
        "duration": 24,
        "start_time": "2023-12-27T23:06:48.796Z"
      },
      {
        "duration": 3,
        "start_time": "2023-12-27T23:06:48.821Z"
      },
      {
        "duration": 40,
        "start_time": "2023-12-27T23:06:48.826Z"
      },
      {
        "duration": 28,
        "start_time": "2023-12-27T23:06:48.868Z"
      },
      {
        "duration": 429,
        "start_time": "2023-12-27T23:06:48.897Z"
      },
      {
        "duration": 463,
        "start_time": "2023-12-27T23:06:49.328Z"
      },
      {
        "duration": 9,
        "start_time": "2023-12-27T23:06:49.792Z"
      },
      {
        "duration": 29,
        "start_time": "2023-12-27T23:06:49.803Z"
      },
      {
        "duration": 62,
        "start_time": "2023-12-27T23:06:49.834Z"
      },
      {
        "duration": 14,
        "start_time": "2023-12-27T23:06:49.898Z"
      },
      {
        "duration": 11,
        "start_time": "2023-12-27T23:06:49.914Z"
      },
      {
        "duration": 38,
        "start_time": "2023-12-27T23:06:49.927Z"
      },
      {
        "duration": 5,
        "start_time": "2023-12-27T23:06:49.967Z"
      },
      {
        "duration": 32,
        "start_time": "2023-12-27T23:06:49.973Z"
      },
      {
        "duration": 1880,
        "start_time": "2023-12-27T23:06:50.006Z"
      },
      {
        "duration": 143,
        "start_time": "2023-12-27T23:06:51.888Z"
      },
      {
        "duration": 1132,
        "start_time": "2023-12-27T23:07:35.608Z"
      },
      {
        "duration": 67,
        "start_time": "2023-12-27T23:07:36.741Z"
      },
      {
        "duration": 7,
        "start_time": "2023-12-27T23:07:36.810Z"
      },
      {
        "duration": 27,
        "start_time": "2023-12-27T23:07:36.819Z"
      },
      {
        "duration": 24,
        "start_time": "2023-12-27T23:07:36.848Z"
      },
      {
        "duration": 33,
        "start_time": "2023-12-27T23:07:36.874Z"
      },
      {
        "duration": 23,
        "start_time": "2023-12-27T23:07:36.909Z"
      },
      {
        "duration": 32,
        "start_time": "2023-12-27T23:07:36.933Z"
      },
      {
        "duration": 22,
        "start_time": "2023-12-27T23:07:36.966Z"
      },
      {
        "duration": 28,
        "start_time": "2023-12-27T23:07:36.991Z"
      },
      {
        "duration": 34,
        "start_time": "2023-12-27T23:07:37.020Z"
      },
      {
        "duration": 14,
        "start_time": "2023-12-27T23:07:37.056Z"
      },
      {
        "duration": 19,
        "start_time": "2023-12-27T23:07:37.071Z"
      },
      {
        "duration": 17,
        "start_time": "2023-12-27T23:07:37.092Z"
      },
      {
        "duration": 8,
        "start_time": "2023-12-27T23:07:37.111Z"
      },
      {
        "duration": 163,
        "start_time": "2023-12-27T23:07:37.120Z"
      },
      {
        "duration": 132,
        "start_time": "2023-12-27T23:07:37.285Z"
      },
      {
        "duration": 5,
        "start_time": "2023-12-27T23:07:37.419Z"
      },
      {
        "duration": 142,
        "start_time": "2023-12-27T23:07:37.425Z"
      },
      {
        "duration": 5,
        "start_time": "2023-12-27T23:07:37.568Z"
      },
      {
        "duration": 157,
        "start_time": "2023-12-27T23:07:37.575Z"
      },
      {
        "duration": 8,
        "start_time": "2023-12-27T23:07:37.733Z"
      },
      {
        "duration": 25,
        "start_time": "2023-12-27T23:07:37.742Z"
      },
      {
        "duration": 202,
        "start_time": "2023-12-27T23:07:37.769Z"
      },
      {
        "duration": 117,
        "start_time": "2023-12-27T23:07:37.973Z"
      },
      {
        "duration": 8,
        "start_time": "2023-12-27T23:07:38.092Z"
      },
      {
        "duration": 191,
        "start_time": "2023-12-27T23:07:38.101Z"
      },
      {
        "duration": 190,
        "start_time": "2023-12-27T23:07:38.296Z"
      },
      {
        "duration": 10,
        "start_time": "2023-12-27T23:07:38.488Z"
      },
      {
        "duration": 30,
        "start_time": "2023-12-27T23:07:38.499Z"
      },
      {
        "duration": 22,
        "start_time": "2023-12-27T23:07:38.530Z"
      },
      {
        "duration": 29,
        "start_time": "2023-12-27T23:07:38.553Z"
      },
      {
        "duration": 12,
        "start_time": "2023-12-27T23:07:38.584Z"
      },
      {
        "duration": 19,
        "start_time": "2023-12-27T23:07:38.599Z"
      },
      {
        "duration": 3,
        "start_time": "2023-12-27T23:07:38.619Z"
      },
      {
        "duration": 12,
        "start_time": "2023-12-27T23:07:38.624Z"
      },
      {
        "duration": 53,
        "start_time": "2023-12-27T23:07:38.637Z"
      },
      {
        "duration": 448,
        "start_time": "2023-12-27T23:07:38.691Z"
      },
      {
        "duration": 441,
        "start_time": "2023-12-27T23:07:39.141Z"
      },
      {
        "duration": 7,
        "start_time": "2023-12-27T23:07:39.584Z"
      },
      {
        "duration": 6,
        "start_time": "2023-12-27T23:07:39.593Z"
      },
      {
        "duration": 84,
        "start_time": "2023-12-27T23:07:39.601Z"
      },
      {
        "duration": 15,
        "start_time": "2023-12-27T23:07:39.686Z"
      },
      {
        "duration": 11,
        "start_time": "2023-12-27T23:07:39.703Z"
      },
      {
        "duration": 29,
        "start_time": "2023-12-27T23:07:39.716Z"
      },
      {
        "duration": 19,
        "start_time": "2023-12-27T23:07:39.746Z"
      },
      {
        "duration": 9,
        "start_time": "2023-12-27T23:07:39.767Z"
      },
      {
        "duration": 1800,
        "start_time": "2023-12-27T23:07:39.777Z"
      },
      {
        "duration": 150,
        "start_time": "2023-12-27T23:07:41.579Z"
      },
      {
        "duration": 1012,
        "start_time": "2024-01-03T11:45:57.598Z"
      },
      {
        "duration": 192,
        "start_time": "2024-01-03T11:45:58.612Z"
      },
      {
        "duration": 7,
        "start_time": "2024-01-03T11:46:01.919Z"
      },
      {
        "duration": 20,
        "start_time": "2024-01-03T11:46:01.928Z"
      },
      {
        "duration": 40,
        "start_time": "2024-01-03T11:46:01.950Z"
      },
      {
        "duration": 30,
        "start_time": "2024-01-03T11:46:01.992Z"
      },
      {
        "duration": 12,
        "start_time": "2024-01-03T11:46:02.023Z"
      },
      {
        "duration": 31,
        "start_time": "2024-01-03T11:46:02.037Z"
      },
      {
        "duration": 6,
        "start_time": "2024-01-03T11:46:04.105Z"
      },
      {
        "duration": 4,
        "start_time": "2024-01-03T11:46:05.655Z"
      },
      {
        "duration": 4,
        "start_time": "2024-01-03T11:46:07.611Z"
      },
      {
        "duration": 6,
        "start_time": "2024-01-03T11:46:09.377Z"
      },
      {
        "duration": 4,
        "start_time": "2024-01-03T11:46:10.000Z"
      },
      {
        "duration": 9,
        "start_time": "2024-01-03T11:46:10.648Z"
      },
      {
        "duration": 5,
        "start_time": "2024-01-03T11:46:14.575Z"
      },
      {
        "duration": 138,
        "start_time": "2024-01-03T11:46:15.354Z"
      },
      {
        "duration": 124,
        "start_time": "2024-01-03T11:46:16.020Z"
      },
      {
        "duration": 5,
        "start_time": "2024-01-03T11:46:19.246Z"
      },
      {
        "duration": 122,
        "start_time": "2024-01-03T11:46:20.024Z"
      },
      {
        "duration": 4,
        "start_time": "2024-01-03T11:46:22.862Z"
      },
      {
        "duration": 122,
        "start_time": "2024-01-03T11:46:23.657Z"
      },
      {
        "duration": 7,
        "start_time": "2024-01-03T11:46:26.810Z"
      },
      {
        "duration": 7,
        "start_time": "2024-01-03T11:46:31.071Z"
      },
      {
        "duration": 173,
        "start_time": "2024-01-03T11:46:33.293Z"
      },
      {
        "duration": 96,
        "start_time": "2024-01-03T11:46:34.537Z"
      },
      {
        "duration": 8,
        "start_time": "2024-01-03T11:46:48.032Z"
      },
      {
        "duration": 171,
        "start_time": "2024-01-03T11:46:48.775Z"
      },
      {
        "duration": 159,
        "start_time": "2024-01-03T11:46:49.202Z"
      },
      {
        "duration": 10,
        "start_time": "2024-01-03T11:46:50.421Z"
      },
      {
        "duration": 23,
        "start_time": "2024-01-03T11:46:56.241Z"
      },
      {
        "duration": 14,
        "start_time": "2024-01-03T11:46:57.727Z"
      },
      {
        "duration": 17,
        "start_time": "2024-01-03T11:47:01.740Z"
      },
      {
        "duration": 10,
        "start_time": "2024-01-03T11:47:02.853Z"
      },
      {
        "duration": 18,
        "start_time": "2024-01-03T11:47:03.677Z"
      },
      {
        "duration": 3,
        "start_time": "2024-01-03T11:47:04.601Z"
      },
      {
        "duration": 12,
        "start_time": "2024-01-03T11:47:07.623Z"
      },
      {
        "duration": 27,
        "start_time": "2024-01-03T11:47:08.707Z"
      },
      {
        "duration": 402,
        "start_time": "2024-01-03T11:47:09.640Z"
      },
      {
        "duration": 399,
        "start_time": "2024-01-03T11:47:13.214Z"
      },
      {
        "duration": 7,
        "start_time": "2024-01-03T11:47:20.744Z"
      },
      {
        "duration": 7,
        "start_time": "2024-01-03T11:47:22.691Z"
      },
      {
        "duration": 53,
        "start_time": "2024-01-03T11:47:26.962Z"
      },
      {
        "duration": 1155,
        "start_time": "2024-01-12T19:05:40.905Z"
      },
      {
        "duration": 290,
        "start_time": "2024-01-12T19:05:42.062Z"
      },
      {
        "duration": 7,
        "start_time": "2024-01-12T19:05:42.707Z"
      },
      {
        "duration": 11,
        "start_time": "2024-01-12T19:05:43.254Z"
      },
      {
        "duration": 10,
        "start_time": "2024-01-12T19:05:43.875Z"
      },
      {
        "duration": 11,
        "start_time": "2024-01-12T19:05:44.926Z"
      },
      {
        "duration": 6,
        "start_time": "2024-01-12T19:05:45.059Z"
      },
      {
        "duration": 9,
        "start_time": "2024-01-12T19:05:46.812Z"
      },
      {
        "duration": 9,
        "start_time": "2024-01-12T19:05:57.688Z"
      },
      {
        "duration": 11,
        "start_time": "2024-01-12T19:05:58.222Z"
      },
      {
        "duration": 7,
        "start_time": "2024-01-12T19:06:00.207Z"
      },
      {
        "duration": 5,
        "start_time": "2024-01-12T19:06:01.304Z"
      },
      {
        "duration": 5,
        "start_time": "2024-01-12T19:06:02.182Z"
      },
      {
        "duration": 8,
        "start_time": "2024-01-12T19:06:03.116Z"
      },
      {
        "duration": 6,
        "start_time": "2024-01-12T19:06:03.512Z"
      },
      {
        "duration": 9,
        "start_time": "2024-01-12T19:06:04.004Z"
      },
      {
        "duration": 6,
        "start_time": "2024-01-12T19:06:07.336Z"
      },
      {
        "duration": 160,
        "start_time": "2024-01-12T19:06:07.932Z"
      },
      {
        "duration": 124,
        "start_time": "2024-01-12T19:06:09.130Z"
      }
    ],
    "kernelspec": {
      "display_name": "Python 3 (ipykernel)",
      "language": "python",
      "name": "python3"
    },
    "language_info": {
      "codemirror_mode": {
        "name": "ipython",
        "version": 3
      },
      "file_extension": ".py",
      "mimetype": "text/x-python",
      "name": "python",
      "nbconvert_exporter": "python",
      "pygments_lexer": "ipython3",
      "version": "3.9.5"
    },
    "toc": {
      "base_numbering": 1,
      "nav_menu": {},
      "number_sections": true,
      "sideBar": true,
      "skip_h1_title": true,
      "title_cell": "Table of Contents",
      "title_sidebar": "Contents",
      "toc_cell": false,
      "toc_position": {},
      "toc_section_display": true,
      "toc_window_display": false
    },
    "colab": {
      "provenance": []
    }
  },
  "nbformat": 4,
  "nbformat_minor": 5
}