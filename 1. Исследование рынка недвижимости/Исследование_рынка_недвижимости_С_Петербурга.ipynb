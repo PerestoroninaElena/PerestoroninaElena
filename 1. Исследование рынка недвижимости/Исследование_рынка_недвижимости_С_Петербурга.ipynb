{
  "cells": [
    {
      "cell_type": "markdown",
      "metadata": {
        "id": "bmip0vXx7BJL"
      },
      "source": [
        "# Исследование объявлений о продаже квартир\n",
        "\n",
        "В вашем распоряжении данные сервиса Яндекс.Недвижимость — архив объявлений о продаже квартир в Санкт-Петербурге и соседних населённых пунктов за несколько лет. Нужно научиться определять рыночную стоимость объектов недвижимости. Ваша задача — установить параметры. Это позволит построить автоматизированную систему: она отследит аномалии и мошенническую деятельность.\n",
        "\n",
        "По каждой квартире на продажу доступны два вида данных. Первые вписаны пользователем, вторые — получены автоматически на основе картографических данных. Например, расстояние до центра, аэропорта, ближайшего парка и водоёма."
      ]
    },
    {
      "cell_type": "markdown",
      "metadata": {
        "id": "4BfuCDfQ7BJM"
      },
      "source": [
        "*Откроем файл с данными и изучим общую информацию*."
      ]
    },
    {
      "cell_type": "code",
      "execution_count": null,
      "metadata": {
        "id": "Ve9Sueqn7BJM"
      },
      "outputs": [],
      "source": [
        "#import pandas as pd\n",
        "#import matplotlib.pyplot as plt\n",
        "import pandas as pd\n",
        "import numpy as np\n",
        "from matplotlib import pyplot as plt\n",
        "import matplotlib\n",
        "data=pd.read_csv ('/datasets/real_estate_data.csv', sep='\\t')"
      ]
    },
    {
      "cell_type": "markdown",
      "metadata": {
        "id": "fZn1CDeZ7BJN"
      },
      "source": [
        "### Предобработка данных"
      ]
    },
    {
      "cell_type": "code",
      "execution_count": null,
      "metadata": {
        "scrolled": true,
        "id": "xAiPs8fR7BJN",
        "outputId": "a12107a8-2f66-45be-b7b3-3319fd06e1cd"
      },
      "outputs": [
        {
          "name": "stdout",
          "output_type": "stream",
          "text": [
            "<class 'pandas.core.frame.DataFrame'>\n",
            "RangeIndex: 23699 entries, 0 to 23698\n",
            "Data columns (total 22 columns):\n",
            " #   Column                Non-Null Count  Dtype  \n",
            "---  ------                --------------  -----  \n",
            " 0   total_images          23699 non-null  int64  \n",
            " 1   last_price            23699 non-null  float64\n",
            " 2   total_area            23699 non-null  float64\n",
            " 3   first_day_exposition  23699 non-null  object \n",
            " 4   rooms                 23699 non-null  int64  \n",
            " 5   ceiling_height        14504 non-null  float64\n",
            " 6   floors_total          23613 non-null  float64\n",
            " 7   living_area           21796 non-null  float64\n",
            " 8   floor                 23699 non-null  int64  \n",
            " 9   is_apartment          2775 non-null   object \n",
            " 10  studio                23699 non-null  bool   \n",
            " 11  open_plan             23699 non-null  bool   \n",
            " 12  kitchen_area          21421 non-null  float64\n",
            " 13  balcony               12180 non-null  float64\n",
            " 14  locality_name         23650 non-null  object \n",
            " 15  airports_nearest      18157 non-null  float64\n",
            " 16  cityCenters_nearest   18180 non-null  float64\n",
            " 17  parks_around3000      18181 non-null  float64\n",
            " 18  parks_nearest         8079 non-null   float64\n",
            " 19  ponds_around3000      18181 non-null  float64\n",
            " 20  ponds_nearest         9110 non-null   float64\n",
            " 21  days_exposition       20518 non-null  float64\n",
            "dtypes: bool(2), float64(14), int64(3), object(3)\n",
            "memory usage: 3.7+ MB\n",
            "None\n"
          ]
        }
      ],
      "source": [
        "print (data.info())"
      ]
    },
    {
      "cell_type": "code",
      "execution_count": null,
      "metadata": {
        "scrolled": true,
        "id": "mbW51_u_7BJO",
        "outputId": "ee70d8d8-b7b7-41a3-fdad-71c5356a0ae5"
      },
      "outputs": [
        {
          "name": "stdout",
          "output_type": "stream",
          "text": [
            "   total_images  last_price  total_area first_day_exposition  rooms  \\\n",
            "0            20  13000000.0       108.0  2019-03-07T00:00:00      3   \n",
            "1             7   3350000.0        40.4  2018-12-04T00:00:00      1   \n",
            "2            10   5196000.0        56.0  2015-08-20T00:00:00      2   \n",
            "3             0  64900000.0       159.0  2015-07-24T00:00:00      3   \n",
            "4             2  10000000.0       100.0  2018-06-19T00:00:00      2   \n",
            "\n",
            "   ceiling_height  floors_total  living_area  floor is_apartment  ...  \\\n",
            "0            2.70          16.0         51.0      8          NaN  ...   \n",
            "1             NaN          11.0         18.6      1          NaN  ...   \n",
            "2             NaN           5.0         34.3      4          NaN  ...   \n",
            "3             NaN          14.0          NaN      9          NaN  ...   \n",
            "4            3.03          14.0         32.0     13          NaN  ...   \n",
            "\n",
            "   kitchen_area  balcony    locality_name  airports_nearest  \\\n",
            "0          25.0      NaN  Санкт-Петербург           18863.0   \n",
            "1          11.0      2.0   посёлок Шушары           12817.0   \n",
            "2           8.3      0.0  Санкт-Петербург           21741.0   \n",
            "3           NaN      0.0  Санкт-Петербург           28098.0   \n",
            "4          41.0      NaN  Санкт-Петербург           31856.0   \n",
            "\n",
            "  cityCenters_nearest  parks_around3000  parks_nearest  ponds_around3000  \\\n",
            "0             16028.0               1.0          482.0               2.0   \n",
            "1             18603.0               0.0            NaN               0.0   \n",
            "2             13933.0               1.0           90.0               2.0   \n",
            "3              6800.0               2.0           84.0               3.0   \n",
            "4              8098.0               2.0          112.0               1.0   \n",
            "\n",
            "   ponds_nearest  days_exposition  \n",
            "0          755.0              NaN  \n",
            "1            NaN             81.0  \n",
            "2          574.0            558.0  \n",
            "3          234.0            424.0  \n",
            "4           48.0            121.0  \n",
            "\n",
            "[5 rows x 22 columns]\n"
          ]
        }
      ],
      "source": [
        "print (data.head(5))"
      ]
    },
    {
      "cell_type": "markdown",
      "metadata": {
        "id": "TqLNg-Fz7BJP"
      },
      "source": [
        "Построим гистограмму для всех числовых столбцов таблицы на одном графике"
      ]
    },
    {
      "cell_type": "code",
      "execution_count": null,
      "metadata": {
        "id": "tjeB3XTj7BJP",
        "outputId": "0d5cb097-1687-425f-df60-fddf453eb4f3"
      },
      "outputs": [
        {
          "data": {
            "text/plain": [
              "array([[<AxesSubplot:title={'center':'total_images'}>,\n",
              "        <AxesSubplot:title={'center':'last_price'}>,\n",
              "        <AxesSubplot:title={'center':'total_area'}>,\n",
              "        <AxesSubplot:title={'center':'rooms'}>],\n",
              "       [<AxesSubplot:title={'center':'ceiling_height'}>,\n",
              "        <AxesSubplot:title={'center':'floors_total'}>,\n",
              "        <AxesSubplot:title={'center':'living_area'}>,\n",
              "        <AxesSubplot:title={'center':'floor'}>],\n",
              "       [<AxesSubplot:title={'center':'kitchen_area'}>,\n",
              "        <AxesSubplot:title={'center':'balcony'}>,\n",
              "        <AxesSubplot:title={'center':'airports_nearest'}>,\n",
              "        <AxesSubplot:title={'center':'cityCenters_nearest'}>],\n",
              "       [<AxesSubplot:title={'center':'parks_around3000'}>,\n",
              "        <AxesSubplot:title={'center':'parks_nearest'}>,\n",
              "        <AxesSubplot:title={'center':'ponds_around3000'}>,\n",
              "        <AxesSubplot:title={'center':'ponds_nearest'}>],\n",
              "       [<AxesSubplot:title={'center':'days_exposition'}>, <AxesSubplot:>,\n",
              "        <AxesSubplot:>, <AxesSubplot:>]], dtype=object)"
            ]
          },
          "execution_count": 5,
          "metadata": {},
          "output_type": "execute_result"
        },
        {
          "data": {
            "image/png": "[encoded data removed]",
            "text/plain": [
              "<Figure size 1080x1440 with 20 Axes>"
            ]
          },
          "metadata": {},
          "output_type": "display_data"
        }
      ],
      "source": [
        "matplotlib.style.use('seaborn-dark')\n",
        "data.hist(figsize=(15, 20))"
      ]
    },
    {
      "cell_type": "code",
      "execution_count": null,
      "metadata": {
        "id": "TuihYzf_7BJQ",
        "outputId": "1497b8b4-08df-4e90-edff-b44e6d0d4807"
      },
      "outputs": [
        {
          "name": "stdout",
          "output_type": "stream",
          "text": [
            "total_images                0\n",
            "last_price                  0\n",
            "total_area                  0\n",
            "first_day_exposition        0\n",
            "rooms                       0\n",
            "ceiling_height           9195\n",
            "floors_total               86\n",
            "living_area              1903\n",
            "floor                       0\n",
            "is_apartment            20924\n",
            "studio                      0\n",
            "open_plan                   0\n",
            "kitchen_area             2278\n",
            "balcony                 11519\n",
            "locality_name              49\n",
            "airports_nearest         5542\n",
            "cityCenters_nearest      5519\n",
            "parks_around3000         5518\n",
            "parks_nearest           15620\n",
            "ponds_around3000         5518\n",
            "ponds_nearest           14589\n",
            "days_exposition          3181\n",
            "dtype: int64\n",
            "Число дубликатов: 0\n"
          ]
        }
      ],
      "source": [
        "print (data.isna().sum())\n",
        "print('Число дубликатов:', data.duplicated().sum())"
      ]
    },
    {
      "cell_type": "code",
      "execution_count": null,
      "metadata": {
        "id": "jnvKQHVB7BJR",
        "outputId": "e90c6f7e-495c-4a4f-e2c4-8f1b596db2de"
      },
      "outputs": [
        {
          "data": {
            "text/html": [
              "<div>\n",
              "<style scoped>\n",
              "    .dataframe tbody tr th:only-of-type {\n",
              "        vertical-align: middle;\n",
              "    }\n",
              "\n",
              "    .dataframe tbody tr th {\n",
              "        vertical-align: top;\n",
              "    }\n",
              "\n",
              "    .dataframe thead th {\n",
              "        text-align: right;\n",
              "    }\n",
              "</style>\n",
              "<table border=\"1\" class=\"dataframe\">\n",
              "  <thead>\n",
              "    <tr style=\"text-align: right;\">\n",
              "      <th></th>\n",
              "      <th>total_images</th>\n",
              "      <th>last_price</th>\n",
              "      <th>total_area</th>\n",
              "      <th>rooms</th>\n",
              "      <th>ceiling_height</th>\n",
              "      <th>floors_total</th>\n",
              "      <th>living_area</th>\n",
              "      <th>floor</th>\n",
              "      <th>kitchen_area</th>\n",
              "      <th>balcony</th>\n",
              "      <th>airports_nearest</th>\n",
              "      <th>cityCenters_nearest</th>\n",
              "      <th>parks_around3000</th>\n",
              "      <th>parks_nearest</th>\n",
              "      <th>ponds_around3000</th>\n",
              "      <th>ponds_nearest</th>\n",
              "      <th>days_exposition</th>\n",
              "    </tr>\n",
              "  </thead>\n",
              "  <tbody>\n",
              "    <tr>\n",
              "      <th>count</th>\n",
              "      <td>23699.000000</td>\n",
              "      <td>2.369900e+04</td>\n",
              "      <td>23699.000000</td>\n",
              "      <td>23699.000000</td>\n",
              "      <td>14504.000000</td>\n",
              "      <td>23613.000000</td>\n",
              "      <td>21796.000000</td>\n",
              "      <td>23699.000000</td>\n",
              "      <td>21421.000000</td>\n",
              "      <td>12180.000000</td>\n",
              "      <td>18157.000000</td>\n",
              "      <td>18180.000000</td>\n",
              "      <td>18181.000000</td>\n",
              "      <td>8079.000000</td>\n",
              "      <td>18181.000000</td>\n",
              "      <td>9110.000000</td>\n",
              "      <td>20518.000000</td>\n",
              "    </tr>\n",
              "    <tr>\n",
              "      <th>mean</th>\n",
              "      <td>9.858475</td>\n",
              "      <td>6.541549e+06</td>\n",
              "      <td>60.348651</td>\n",
              "      <td>2.070636</td>\n",
              "      <td>2.771499</td>\n",
              "      <td>10.673824</td>\n",
              "      <td>34.457852</td>\n",
              "      <td>5.892358</td>\n",
              "      <td>10.569807</td>\n",
              "      <td>1.150082</td>\n",
              "      <td>28793.672193</td>\n",
              "      <td>14191.277833</td>\n",
              "      <td>0.611408</td>\n",
              "      <td>490.804555</td>\n",
              "      <td>0.770255</td>\n",
              "      <td>517.980900</td>\n",
              "      <td>180.888634</td>\n",
              "    </tr>\n",
              "    <tr>\n",
              "      <th>std</th>\n",
              "      <td>5.682529</td>\n",
              "      <td>1.088701e+07</td>\n",
              "      <td>35.654083</td>\n",
              "      <td>1.078405</td>\n",
              "      <td>1.261056</td>\n",
              "      <td>6.597173</td>\n",
              "      <td>22.030445</td>\n",
              "      <td>4.885249</td>\n",
              "      <td>5.905438</td>\n",
              "      <td>1.071300</td>\n",
              "      <td>12630.880622</td>\n",
              "      <td>8608.386210</td>\n",
              "      <td>0.802074</td>\n",
              "      <td>342.317995</td>\n",
              "      <td>0.938346</td>\n",
              "      <td>277.720643</td>\n",
              "      <td>219.727988</td>\n",
              "    </tr>\n",
              "    <tr>\n",
              "      <th>min</th>\n",
              "      <td>0.000000</td>\n",
              "      <td>1.219000e+04</td>\n",
              "      <td>12.000000</td>\n",
              "      <td>0.000000</td>\n",
              "      <td>1.000000</td>\n",
              "      <td>1.000000</td>\n",
              "      <td>2.000000</td>\n",
              "      <td>1.000000</td>\n",
              "      <td>1.300000</td>\n",
              "      <td>0.000000</td>\n",
              "      <td>0.000000</td>\n",
              "      <td>181.000000</td>\n",
              "      <td>0.000000</td>\n",
              "      <td>1.000000</td>\n",
              "      <td>0.000000</td>\n",
              "      <td>13.000000</td>\n",
              "      <td>1.000000</td>\n",
              "    </tr>\n",
              "    <tr>\n",
              "      <th>25%</th>\n",
              "      <td>6.000000</td>\n",
              "      <td>3.400000e+06</td>\n",
              "      <td>40.000000</td>\n",
              "      <td>1.000000</td>\n",
              "      <td>2.520000</td>\n",
              "      <td>5.000000</td>\n",
              "      <td>18.600000</td>\n",
              "      <td>2.000000</td>\n",
              "      <td>7.000000</td>\n",
              "      <td>0.000000</td>\n",
              "      <td>18585.000000</td>\n",
              "      <td>9238.000000</td>\n",
              "      <td>0.000000</td>\n",
              "      <td>288.000000</td>\n",
              "      <td>0.000000</td>\n",
              "      <td>294.000000</td>\n",
              "      <td>45.000000</td>\n",
              "    </tr>\n",
              "    <tr>\n",
              "      <th>50%</th>\n",
              "      <td>9.000000</td>\n",
              "      <td>4.650000e+06</td>\n",
              "      <td>52.000000</td>\n",
              "      <td>2.000000</td>\n",
              "      <td>2.650000</td>\n",
              "      <td>9.000000</td>\n",
              "      <td>30.000000</td>\n",
              "      <td>4.000000</td>\n",
              "      <td>9.100000</td>\n",
              "      <td>1.000000</td>\n",
              "      <td>26726.000000</td>\n",
              "      <td>13098.500000</td>\n",
              "      <td>0.000000</td>\n",
              "      <td>455.000000</td>\n",
              "      <td>1.000000</td>\n",
              "      <td>502.000000</td>\n",
              "      <td>95.000000</td>\n",
              "    </tr>\n",
              "    <tr>\n",
              "      <th>75%</th>\n",
              "      <td>14.000000</td>\n",
              "      <td>6.800000e+06</td>\n",
              "      <td>69.900000</td>\n",
              "      <td>3.000000</td>\n",
              "      <td>2.800000</td>\n",
              "      <td>16.000000</td>\n",
              "      <td>42.300000</td>\n",
              "      <td>8.000000</td>\n",
              "      <td>12.000000</td>\n",
              "      <td>2.000000</td>\n",
              "      <td>37273.000000</td>\n",
              "      <td>16293.000000</td>\n",
              "      <td>1.000000</td>\n",
              "      <td>612.000000</td>\n",
              "      <td>1.000000</td>\n",
              "      <td>729.000000</td>\n",
              "      <td>232.000000</td>\n",
              "    </tr>\n",
              "    <tr>\n",
              "      <th>max</th>\n",
              "      <td>50.000000</td>\n",
              "      <td>7.630000e+08</td>\n",
              "      <td>900.000000</td>\n",
              "      <td>19.000000</td>\n",
              "      <td>100.000000</td>\n",
              "      <td>60.000000</td>\n",
              "      <td>409.700000</td>\n",
              "      <td>33.000000</td>\n",
              "      <td>112.000000</td>\n",
              "      <td>5.000000</td>\n",
              "      <td>84869.000000</td>\n",
              "      <td>65968.000000</td>\n",
              "      <td>3.000000</td>\n",
              "      <td>3190.000000</td>\n",
              "      <td>3.000000</td>\n",
              "      <td>1344.000000</td>\n",
              "      <td>1580.000000</td>\n",
              "    </tr>\n",
              "  </tbody>\n",
              "</table>\n",
              "</div>"
            ],
            "text/plain": [
              "       total_images    last_price    total_area         rooms  ceiling_height  \\\n",
              "count  23699.000000  2.369900e+04  23699.000000  23699.000000    14504.000000   \n",
              "mean       9.858475  6.541549e+06     60.348651      2.070636        2.771499   \n",
              "std        5.682529  1.088701e+07     35.654083      1.078405        1.261056   \n",
              "min        0.000000  1.219000e+04     12.000000      0.000000        1.000000   \n",
              "25%        6.000000  3.400000e+06     40.000000      1.000000        2.520000   \n",
              "50%        9.000000  4.650000e+06     52.000000      2.000000        2.650000   \n",
              "75%       14.000000  6.800000e+06     69.900000      3.000000        2.800000   \n",
              "max       50.000000  7.630000e+08    900.000000     19.000000      100.000000   \n",
              "\n",
              "       floors_total   living_area         floor  kitchen_area       balcony  \\\n",
              "count  23613.000000  21796.000000  23699.000000  21421.000000  12180.000000   \n",
              "mean      10.673824     34.457852      5.892358     10.569807      1.150082   \n",
              "std        6.597173     22.030445      4.885249      5.905438      1.071300   \n",
              "min        1.000000      2.000000      1.000000      1.300000      0.000000   \n",
              "25%        5.000000     18.600000      2.000000      7.000000      0.000000   \n",
              "50%        9.000000     30.000000      4.000000      9.100000      1.000000   \n",
              "75%       16.000000     42.300000      8.000000     12.000000      2.000000   \n",
              "max       60.000000    409.700000     33.000000    112.000000      5.000000   \n",
              "\n",
              "       airports_nearest  cityCenters_nearest  parks_around3000  parks_nearest  \\\n",
              "count      18157.000000         18180.000000      18181.000000    8079.000000   \n",
              "mean       28793.672193         14191.277833          0.611408     490.804555   \n",
              "std        12630.880622          8608.386210          0.802074     342.317995   \n",
              "min            0.000000           181.000000          0.000000       1.000000   \n",
              "25%        18585.000000          9238.000000          0.000000     288.000000   \n",
              "50%        26726.000000         13098.500000          0.000000     455.000000   \n",
              "75%        37273.000000         16293.000000          1.000000     612.000000   \n",
              "max        84869.000000         65968.000000          3.000000    3190.000000   \n",
              "\n",
              "       ponds_around3000  ponds_nearest  days_exposition  \n",
              "count      18181.000000    9110.000000     20518.000000  \n",
              "mean           0.770255     517.980900       180.888634  \n",
              "std            0.938346     277.720643       219.727988  \n",
              "min            0.000000      13.000000         1.000000  \n",
              "25%            0.000000     294.000000        45.000000  \n",
              "50%            1.000000     502.000000        95.000000  \n",
              "75%            1.000000     729.000000       232.000000  \n",
              "max            3.000000    1344.000000      1580.000000  "
            ]
          },
          "execution_count": 7,
          "metadata": {},
          "output_type": "execute_result"
        }
      ],
      "source": [
        "data.describe()"
      ]
    },
    {
      "cell_type": "markdown",
      "metadata": {
        "id": "Sr5CN-jY7BJR"
      },
      "source": [
        "#### Первые выводы об имеющихся данных:"
      ]
    },
    {
      "cell_type": "markdown",
      "metadata": {
        "id": "WZtftnrx7BJR"
      },
      "source": [
        "Всего у нас имеется 23699 записей, есть пропущенные значения, в том числе в важных для анализа столбцах (жилая площадь и название населенного пункта), а также аномальные значения и неправильные типы данных. Явных дубликатов в данных не обнаружено."
      ]
    },
    {
      "cell_type": "code",
      "execution_count": null,
      "metadata": {
        "id": "6Mb3ThJa7BJR"
      },
      "outputs": [],
      "source": [
        "#Заменим пропуски в столбце Апартаменты на значение False\n",
        "data['is_apartment']=data['is_apartment'].fillna(False)\n",
        "#Предположительно пропуски в столбце Балконы связаны с их отсутствием, заменим на 0\n",
        "data['balcony']=data['balcony'].fillna(0)"
      ]
    },
    {
      "cell_type": "code",
      "execution_count": null,
      "metadata": {
        "id": "IbWVXNBD7BJR"
      },
      "outputs": [],
      "source": [
        "# Убираем строки датафрейма, где отсутствует название локации и этажность\n",
        "data.dropna(subset=['locality_name'], inplace=True)\n",
        "data.dropna(subset=['floors_total'], inplace=True)"
      ]
    },
    {
      "cell_type": "code",
      "execution_count": null,
      "metadata": {
        "id": "8oeWOuR37BJR"
      },
      "outputs": [],
      "source": [
        "# для квартир типа \"студия\" ставим в столбце \"кухня\" О\n",
        "data.loc[data['studio'] == True, 'kitchen_area'] = 0\n",
        "# вычислим коэффициент отношения жилой площади к общей площади и выведем среднее значение\n",
        "living_ratio = data['living_area'].mean() / data['total_area'].mean()\n",
        "# вычислим коэффициент отношения площади кухни к общей площади и выведем среднее значение\n",
        "kitchen_ratio = data['kitchen_area'].mean() / data['total_area'].mean()\n",
        "# пропущенные значения в столбце \"Жилая площадь\" заполним произведением общей площади на коэф-т\n",
        "data['living_area'].fillna(living_ratio * data['total_area'], inplace=True)\n",
        "# пропущенные значения в столбце \"площадь кухни\" заполним произведением общей площади на коэф-т\n",
        "data['kitchen_area'].fillna(kitchen_ratio * data['total_area'], inplace=True)"
      ]
    },
    {
      "cell_type": "markdown",
      "metadata": {
        "id": "nxCoDg7X7BJS"
      },
      "source": [
        "В столбце \"дней экспозиции\" более 3181 пропусков. Возможно квартира была снята с продажи, т.к.продавец передумал или иные обстоятельства. автоматом или это техническая ошибка, которая произошла в момент сбора/выгрузки данных. Данные этого столбца важны для исследования. Заполнить значения нечем, оставим пропуски."
      ]
    },
    {
      "cell_type": "markdown",
      "metadata": {
        "id": "KDmPlpt07BJS"
      },
      "source": [
        "\n",
        "    Ниже мы проведем заполнение высоты потолков (скорректируем явно ошибочные данные, а пропуски заполним медианным значением).\n",
        "    Еще ниже заполним данные о расстоянии до аэропорта (в Питере только Пулково) данными, которые повторят данные для той же локации. Заполнять эти данные цифрами, опираясь на расстояние от центра нельзя, т.к. в этот радиус может попадать несколько районов, скорее лучше решать это с разработчиками.\n",
        "    Данные касательно парков и прудов тоже лучше запросить у разработчиков."
      ]
    },
    {
      "cell_type": "code",
      "execution_count": null,
      "metadata": {
        "id": "UupWvL2H7BJT",
        "outputId": "f5de8df1-ea8f-47ea-ed42-45d76e2215ea"
      },
      "outputs": [
        {
          "name": "stdout",
          "output_type": "stream",
          "text": [
            "[1.0, 2.0, 2.3, 2.4, 2.45, 2.46, 2.48, 2.53, 2.59, 2.62, 2.63, 2.7, nan, 1.2, 1.75, 2.2, 2.25, 2.34, 2.47, 2.49, 2.5, 2.51, 2.52, 2.54, 2.55, 2.56, 2.57, 2.58, 2.6, 2.61, 2.64, 2.65, 2.66, 2.67, 2.68, 2.69, 2.71, 2.72, 2.73, 2.74, 2.75, 2.76, 2.77, 2.78, 2.79, 2.8, 2.81, 2.82, 2.83, 2.84, 2.85, 2.86, 2.87, 2.88, 2.89, 2.9, 2.91, 2.92, 2.93, 2.94, 2.95, 2.96, 2.97, 2.98, 2.99, 3.0, 3.01, 3.02, 3.03, 3.04, 3.05, 3.06, 3.07, 3.08, 3.09, 3.1, 3.11, 3.12, 3.13, 3.14, 3.15, 3.16, 3.17, 3.18, 3.2, 3.21, 3.22, 3.23, 3.24, 3.25, 3.26, 3.27, 3.28, 3.29, 3.3, 3.31, 3.32, 3.33, 3.34, 3.35, 3.36, 3.37, 3.38, 3.39, 3.4, 3.42, 3.43, 3.44, 3.45, 3.46, 3.47, 3.48, 3.49, 3.5, 3.51, 3.52, 3.53, 3.54, 3.55, 3.56, 3.57, 3.58, 3.59, 3.6, 3.62, 3.63, 3.65, 3.66, 3.67, 3.68, 3.69, 3.7, 3.75, 3.76, 3.78, 3.8, 3.82, 3.83, 3.84, 3.85, 3.86, 3.87, 3.88, 3.9, 3.93, 3.95, 3.98, 4.0, 4.06, 4.1, 4.14, 4.15, 4.19, 4.2, 4.25, 4.3, 4.37, 4.4, 4.45, 4.5, 4.65, 4.7, 4.8, 4.9, 5.0, 5.2, 5.3, 5.5, 5.6, 5.8, 6.0, 8.0, 8.3, 10.3, 14.0, 20.0, 22.6, 24.0, 25.0, 26.0, 27.0, 27.5, 32.0, 100.0]\n"
          ]
        }
      ],
      "source": [
        "# После удаления/замены пропусков изменим очевидно натуральные значения данных\n",
        "# в столбцах Всего этажей и балконы с вещественных на целочисленные\n",
        "data['floors_total'] = data['floors_total'].astype(int)\n",
        "data['balcony'] = data['balcony'].astype(int)\n",
        "# оценим, что происходит с потолками, выведя уникальные значения\n",
        "print (sorted(data['ceiling_height'].unique()))"
      ]
    },
    {
      "cell_type": "code",
      "execution_count": null,
      "metadata": {
        "id": "yJjrEHNJ7BJT",
        "outputId": "e23713ea-4539-489d-8489-47b8871730cc"
      },
      "outputs": [
        {
          "data": {
            "text/plain": [
              "(2.0, 3.5)"
            ]
          },
          "execution_count": 12,
          "metadata": {},
          "output_type": "execute_result"
        },
        {
          "data": {
            "image/png": "[encoded data removed]",
            "text/plain": [
              "<Figure size 432x288 with 1 Axes>"
            ]
          },
          "metadata": {},
          "output_type": "display_data"
        }
      ],
      "source": [
        "ceiling = data[['ceiling_height']]\n",
        "ceiling.boxplot()\n",
        "plt.ylim(2, 3.5)"
      ]
    },
    {
      "cell_type": "code",
      "execution_count": null,
      "metadata": {
        "id": "OccNipvy7BJU",
        "outputId": "650d8488-634a-448c-981d-38184fe2f631"
      },
      "outputs": [
        {
          "name": "stdout",
          "output_type": "stream",
          "text": [
            "[2.25, 2.2600000000000002, 2.3, 2.34, 2.4, 2.45, 2.46, 2.47, 2.48, 2.49, 2.5, 2.51, 2.52, 2.53, 2.54, 2.55, 2.56, 2.57, 2.58, 2.59, 2.6, 2.61, 2.62, 2.63, 2.64, 2.65, 2.66, 2.67, 2.68, 2.69, 2.7, 2.71, 2.72, 2.73, 2.74, 2.75, 2.76, 2.77, 2.78, 2.79, 2.8, 2.81, 2.82, 2.83, 2.84, 2.85, 2.86, 2.87, 2.88, 2.89, 2.9, 2.91, 2.92, 2.93, 2.94, 2.95, 2.96, 2.97, 2.98, 2.99, 3.0, 3.01, 3.02, 3.03, 3.04, 3.05, 3.06, 3.07, 3.08, 3.09, 3.1, 3.11, 3.12, 3.13, 3.14, 3.15, 3.16, 3.17, 3.18, 3.2, 3.21, 3.22, 3.23, 3.24, 3.25, 3.26, 3.27, 3.28, 3.29, 3.3, 3.31, 3.32, 3.33, 3.34, 3.35, 3.36, 3.37, 3.38, 3.39, 3.4, 3.42, 3.43, 3.44, 3.45, 3.46, 3.47, 3.48, 3.49, 3.5, 3.51, 3.52, 3.53, 3.54, 3.55, 3.56, 3.57, 3.58, 3.59, 3.6, 3.62, 3.63, 3.65, 3.66, 3.67, 3.68, 3.69, 3.7, 3.75, 3.76, 3.78, 3.8, 3.82, 3.83, 3.84, 3.85, 3.86, 3.87, 3.88, 3.9, 3.93, 3.95, 3.98, 4.0, 4.06, 4.1, 4.14, 4.15, 4.19, 4.2, 4.25, 4.3, 4.37, 4.4, 4.45, 4.5, 4.65, 4.7, 4.8, 4.9, 5.0]\n"
          ]
        }
      ],
      "source": [
        "# аномальные значения в высоте потолков (больше 21) скорее всего\n",
        "# являются опечатками, приведем к нормальынм значениям, поделив на 10\n",
        "data['ceiling_height']=data['ceiling_height'].apply(lambda h:h/10 if h>21 else h)\n",
        "# выведем медиану для значений больше 2,2 и меньше 8 м\n",
        "median=data.loc[(data['ceiling_height'] <=8) & (data['ceiling_height'] >= 2.4), 'ceiling_height'].median()\n",
        "data.loc[(data['ceiling_height'] < 2.2) |(data['ceiling_height'] > 8) | (data['ceiling_height'].isna()), 'ceiling_height'] = median\n",
        "data = data[(data['ceiling_height'] > 2.2) & (data['ceiling_height'] <= 5)]\n",
        "print (sorted(data['ceiling_height'].unique()))"
      ]
    },
    {
      "cell_type": "code",
      "execution_count": null,
      "metadata": {
        "id": "IYFuFa2I7BJV",
        "outputId": "aaa1cbc9-9c80-4996-e935-ab4cf06c04ec"
      },
      "outputs": [
        {
          "name": "stdout",
          "output_type": "stream",
          "text": [
            "['Санкт-Петербург' 'посёлок Шушары' 'городской посёлок Янино-1'\n",
            " 'посёлок Парголово' 'посёлок Мурино' 'Ломоносов' 'Сертолово' 'Петергоф'\n",
            " 'Пушкин' 'деревня Кудрово' 'Коммунар' 'Колпино'\n",
            " 'поселок городского типа Красный Бор' 'Гатчина' 'поселок Мурино'\n",
            " 'деревня Фёдоровское' 'Выборг' 'Кронштадт' 'Кировск'\n",
            " 'деревня Новое Девяткино' 'посёлок Металлострой'\n",
            " 'посёлок городского типа Лебяжье' 'посёлок городского типа Сиверский'\n",
            " 'поселок Молодцово' 'поселок городского типа Кузьмоловский'\n",
            " 'садовое товарищество Новая Ропша' 'Павловск' 'деревня Пикколово'\n",
            " 'Всеволожск' 'Волхов' 'Кингисепп' 'Приозерск' 'Сестрорецк'\n",
            " 'деревня Куттузи' 'посёлок Аннино' 'поселок городского типа Ефимовский'\n",
            " 'посёлок Плодовое' 'деревня Заклинье' 'поселок Торковичи'\n",
            " 'поселок Первомайское' 'Красное Село' 'посёлок Понтонный' 'Сясьстрой'\n",
            " 'деревня Старая' 'деревня Лесколово' 'посёлок Новый Свет' 'Сланцы'\n",
            " 'село Путилово' 'Ивангород' 'Мурино' 'Шлиссельбург' 'Никольское'\n",
            " 'Зеленогорск' 'Сосновый Бор' 'поселок Новый Свет' 'деревня Оржицы'\n",
            " 'деревня Кальтино' 'Кудрово' 'поселок Романовка' 'посёлок Бугры'\n",
            " 'поселок Бугры' 'поселок городского типа Рощино' 'Кириши' 'Луга'\n",
            " 'Волосово' 'Отрадное' 'село Павлово' 'поселок Оредеж' 'село Копорье'\n",
            " 'посёлок городского типа Красный Бор' 'посёлок Молодёжное' 'Тихвин'\n",
            " 'посёлок Победа' 'деревня Нурма' 'поселок городского типа Синявино'\n",
            " 'Тосно' 'посёлок городского типа Кузьмоловский' 'посёлок Стрельна'\n",
            " 'Бокситогорск' 'посёлок Александровская' 'деревня Лопухинка' 'Пикалёво'\n",
            " 'поселок Терволово' 'поселок городского типа Советский' 'Подпорожье'\n",
            " 'посёлок Петровское' 'посёлок городского типа Токсово' 'поселок Сельцо'\n",
            " 'посёлок городского типа Вырица' 'деревня Кипень' 'деревня Келози'\n",
            " 'деревня Вартемяги' 'посёлок Тельмана' 'поселок Севастьяново'\n",
            " 'городской поселок Большая Ижора' 'городской посёлок Павлово'\n",
            " 'деревня Агалатово' 'посёлок Новогорелово'\n",
            " 'городской посёлок Лесогорский' 'деревня Лаголово' 'поселок Цвелодубово'\n",
            " 'поселок городского типа Рахья' 'поселок городского типа Вырица'\n",
            " 'деревня Белогорка' 'поселок Заводской' 'городской посёлок Новоселье'\n",
            " 'деревня Большие Колпаны' 'деревня Горбунки' 'деревня Батово'\n",
            " 'деревня Заневка' 'деревня Иссад' 'Приморск'\n",
            " 'городской посёлок Фёдоровское' 'деревня Мистолово' 'Новая Ладога'\n",
            " 'поселок Зимитицы' 'поселок Барышево' 'деревня Разметелево'\n",
            " 'поселок городского типа имени Свердлова' 'деревня Пеники'\n",
            " 'поселок Рябово' 'деревня Пудомяги' 'поселок станции Корнево'\n",
            " 'деревня Низино' 'деревня Бегуницы' 'посёлок Поляны'\n",
            " 'городской посёлок Мга' 'поселок Елизаветино'\n",
            " 'посёлок городского типа Кузнечное' 'деревня Колтуши'\n",
            " 'поселок Запорожское' 'посёлок городского типа Рощино'\n",
            " 'деревня Гостилицы' 'деревня Малое Карлино' 'посёлок Мичуринское'\n",
            " 'посёлок городского типа имени Морозова' 'посёлок Песочный'\n",
            " 'посёлок Сосново' 'деревня Аро' 'поселок Ильичёво'\n",
            " 'посёлок городского типа Тайцы' 'деревня Малое Верево' 'деревня Извара'\n",
            " 'поселок станции Вещево' 'село Паша' 'деревня Калитино'\n",
            " 'посёлок городского типа Ульяновка' 'деревня Чудской Бор'\n",
            " 'поселок городского типа Дубровка' 'деревня Мины' 'поселок Войсковицы'\n",
            " 'посёлок городского типа имени Свердлова' 'деревня Коркино'\n",
            " 'посёлок Ропша' 'поселок городского типа Приладожский' 'посёлок Щеглово'\n",
            " 'посёлок Гаврилово' 'Лодейное Поле' 'деревня Рабитицы'\n",
            " 'поселок городского типа Никольский' 'деревня Кузьмолово'\n",
            " 'деревня Малые Колпаны' 'поселок Тельмана' 'посёлок Петро-Славянка'\n",
            " 'городской посёлок Назия' 'посёлок Репино' 'посёлок Ильичёво'\n",
            " 'поселок Углово' 'поселок Старая Малукса' 'садовое товарищество Рахья'\n",
            " 'поселок Аннино' 'поселок Победа' 'деревня Меньково'\n",
            " 'деревня Старые Бегуницы' 'посёлок Сапёрный' 'поселок Семрино'\n",
            " 'поселок Гаврилово' 'поселок Глажево' 'поселок Кобринское'\n",
            " 'деревня Гарболово' 'деревня Юкки' 'поселок станции Приветнинское'\n",
            " 'деревня Мануйлово' 'деревня Пчева' 'поселок Поляны' 'поселок Цвылёво'\n",
            " 'поселок Мельниково' 'посёлок Пудость' 'посёлок Усть-Луга' 'Светогорск'\n",
            " 'Любань' 'поселок Селезнёво' 'поселок городского типа Рябово'\n",
            " 'Каменногорск' 'деревня Кривко' 'поселок Глебычево' 'деревня Парицы'\n",
            " 'поселок Жилпосёлок' 'посёлок городского типа Мга'\n",
            " 'городской поселок Янино-1' 'посёлок Войскорово' 'село Никольское'\n",
            " 'посёлок Терволово' 'поселок Стеклянный' 'посёлок городского типа Важины'\n",
            " 'посёлок Мыза-Ивановка' 'село Русско-Высоцкое'\n",
            " 'поселок городского типа Лебяжье' 'поселок городского типа Форносово'\n",
            " 'село Старая Ладога' 'поселок Житково' 'городской посёлок Виллози'\n",
            " 'деревня Лампово' 'деревня Шпаньково' 'деревня Лаврики' 'посёлок Сумино'\n",
            " 'посёлок Возрождение' 'деревня Старосиверская' 'посёлок Кикерино'\n",
            " 'поселок Возрождение' 'деревня Старое Хинколово' 'посёлок Пригородный'\n",
            " 'посёлок Торфяное' 'городской посёлок Будогощь' 'поселок Суходолье'\n",
            " 'поселок Красная Долина' 'деревня Хапо-Ое'\n",
            " 'поселок городского типа Дружная Горка' 'поселок Лисий Нос'\n",
            " 'деревня Яльгелево' 'посёлок Стеклянный' 'село Рождествено'\n",
            " 'деревня Старополье' 'посёлок Левашово' 'деревня Сяськелево'\n",
            " 'деревня Камышовка'\n",
            " 'садоводческое некоммерческое товарищество Лесная Поляна'\n",
            " 'деревня Хязельки' 'поселок Жилгородок' 'посёлок городского типа Павлово'\n",
            " 'деревня Ялгино' 'поселок Новый Учхоз' 'городской посёлок Рощино'\n",
            " 'поселок Гончарово' 'поселок Почап' 'посёлок Сапёрное'\n",
            " 'посёлок Платформа 69-й километр' 'поселок Каложицы' 'деревня Фалилеево'\n",
            " 'деревня Пельгора' 'поселок городского типа Лесогорский'\n",
            " 'деревня Торошковичи' 'посёлок Белоостров' 'посёлок Алексеевка'\n",
            " 'поселок Серебрянский' 'поселок Лукаши' 'поселок Петровское'\n",
            " 'деревня Щеглово' 'поселок Мичуринское' 'деревня Тарасово'\n",
            " 'поселок Кингисеппский' 'посёлок при железнодорожной станции Вещево'\n",
            " 'поселок Ушаки' 'деревня Котлы' 'деревня Сижно' 'деревня Торосово'\n",
            " 'посёлок Форт Красная Горка' 'деревня Новолисино'\n",
            " 'посёлок станции Громово' 'деревня Глинка' 'посёлок Мельниково'\n",
            " 'поселок городского типа Назия' 'деревня Старая Пустошь'\n",
            " 'поселок Коммунары' 'поселок Починок'\n",
            " 'посёлок городского типа Вознесенье' 'деревня Разбегаево'\n",
            " 'посёлок городского типа Рябово' 'поселок Гладкое'\n",
            " 'посёлок при железнодорожной станции Приветнинское' 'поселок Тёсово-4'\n",
            " 'посёлок Жилгородок' 'деревня Бор' 'посёлок Коробицыно'\n",
            " 'деревня Большая Вруда' 'деревня Курковицы' 'посёлок Лисий Нос'\n",
            " 'городской посёлок Советский' 'посёлок Кобралово' 'деревня Суоранда'\n",
            " 'поселок Кобралово' 'поселок городского типа Кондратьево'\n",
            " 'коттеджный поселок Счастье' 'поселок Любань' 'деревня Реброво'\n",
            " 'деревня Зимитицы' 'деревня Тойворово' 'поселок Семиозерье'\n",
            " 'поселок Лесное' 'поселок Совхозный' 'поселок Усть-Луга'\n",
            " 'посёлок Ленинское' 'посёлок Суйда' 'посёлок городского типа Форносово'\n",
            " 'деревня Нижние Осельки' 'посёлок станции Свирь' 'поселок Перово'\n",
            " 'Высоцк' 'поселок Гарболово' 'село Шум' 'поселок Котельский'\n",
            " 'поселок станции Лужайка' 'деревня Большая Пустомержа'\n",
            " 'поселок Красносельское' 'деревня Вахнова Кара' 'деревня Пижма'\n",
            " 'коттеджный поселок Кивеннапа Север' 'поселок Коробицыно'\n",
            " 'поселок Ромашки' 'посёлок Перово' 'деревня Каськово' 'деревня Куровицы'\n",
            " 'посёлок Плоское' 'поселок Сумино'\n",
            " 'поселок городского типа Большая Ижора' 'поселок Кирпичное'\n",
            " 'деревня Ям-Тесово' 'деревня Раздолье' 'деревня Терпилицы'\n",
            " 'поселок городского типа Токсово' 'посёлок Шугозеро' 'деревня Ваганово'\n",
            " 'поселок Пушное' 'садовое товарищество Садко' 'посёлок Усть-Ижора'\n",
            " 'деревня Выскатка' 'городской посёлок Свирьстрой' 'поселок Громово'\n",
            " 'деревня Кисельня' 'посёлок Старая Малукса' 'деревня Трубников Бор'\n",
            " 'поселок Калитино' 'посёлок Высокоключевой'\n",
            " 'садовое товарищество Приладожский' 'посёлок Пансионат Зелёный Бор'\n",
            " 'деревня Ненимяки' 'поселок Пансионат Зелёный Бор' 'деревня Снегирёвка'\n",
            " 'деревня Рапполово' 'деревня Пустынка' 'поселок Рабитицы'\n",
            " 'деревня Большой Сабск' 'деревня Русско' 'деревня Лупполово'\n",
            " 'деревня Большое Рейзино' 'деревня Малая Романовка' 'поселок Дружноселье'\n",
            " 'поселок Пчевжа' 'поселок Володарское' 'деревня Нижняя'\n",
            " 'коттеджный посёлок Лесное' 'деревня Тихковицы' 'деревня Борисова Грива'\n",
            " 'посёлок Дзержинского']\n"
          ]
        }
      ],
      "source": [
        "# Проверим неявные дубликаты в названиях локаций, для чего выведем уникальные называния локаций и\n",
        "# ознакомимся с результатом\n",
        "print (data['locality_name'].unique())"
      ]
    },
    {
      "cell_type": "code",
      "execution_count": null,
      "metadata": {
        "scrolled": true,
        "id": "ODC5NvJh7BJV",
        "outputId": "0e95a66e-5a05-4f1f-9e42-987d2cfe414b"
      },
      "outputs": [
        {
          "name": "stdout",
          "output_type": "stream",
          "text": [
            "['Санкт-Петербург' 'Шушары' 'Янино-1' 'Парголово' 'Мурино' 'Ломоносов'\n",
            " 'Сертолово' 'Петергоф' 'Пушкин' 'Кудрово' 'Коммунар' 'Колпино'\n",
            " 'Красный Бор' 'Гатчина' 'Федоровское' 'Выборг' 'Кронштадт' 'Кировск'\n",
            " 'Новое Девяткино' 'Металлострой' 'Лебяжье' 'Сиверский' 'Молодцово'\n",
            " 'Кузьмоловский' 'садовое товарищество Новая Ропша' 'Павловск' 'Пикколово'\n",
            " 'Всеволожск' 'Волхов' 'Кингисепп' 'Приозерск' 'Сестрорецк' 'Куттузи'\n",
            " 'Аннино' 'Ефимовский' 'Плодовое' 'Заклинье' 'Торковичи' 'Первомайское'\n",
            " 'Красное Село' 'Понтонный' 'Сясьстрой' 'Старая' 'Лесколово' 'Новый Свет'\n",
            " 'Сланцы' 'Путилово' 'Ивангород' 'Шлиссельбург' 'Никольское' 'Зеленогорск'\n",
            " 'Сосновый Бор' 'Оржицы' 'Кальтино' 'Романовка' 'Бугры' 'Рощино' 'Кириши'\n",
            " 'Луга' 'Волосово' 'Отрадное' 'Павлово' 'Оредеж' 'Копорье' 'Молодежное'\n",
            " 'Тихвин' 'Победа' 'Нурма' 'Синявино' 'Тосно' 'Стрельна' 'Бокситогорск'\n",
            " 'Александровская' 'Лопухинка' 'Пикалево' 'Терволово' 'Советский'\n",
            " 'Подпорожье' 'Петровское' 'Токсово' 'Сельцо' 'Вырица' 'Кипень' 'Келози'\n",
            " 'Вартемяги' 'Тельмана' 'Севастьяново' 'Большая Ижора' 'Агалатово'\n",
            " 'Новогорелово' 'Лесогорский' 'Лаголово' 'Цвелодубово' 'Рахья' 'Белогорка'\n",
            " 'Заводской' 'Новоселье' 'Большие Колпаны' 'Горбунки' 'Батово' 'Заневка'\n",
            " 'Иссад' 'Приморск' 'Мистолово' 'Новая Ладога' 'Зимитицы' 'Барышево'\n",
            " 'Разметелево' 'имени Свердлова' 'Пеники' 'Рябово' 'Пудомяги'\n",
            " 'станции Корнево' 'Низино' 'Бегуницы' 'Поляны' 'Мга' 'Елизаветино'\n",
            " 'Кузнечное' 'Колтуши' 'Запорожское' 'Гостилицы' 'Малое Карлино'\n",
            " 'Мичуринское' 'имени Морозова' 'Песочный' 'Сосново' 'Аро' 'Ильичево'\n",
            " 'Тайцы' 'Малое Верево' 'Извара' 'станции Вещево' 'Паша' 'Калитино'\n",
            " 'Ульяновка' 'Чудской Бор' 'Дубровка' 'Мины' 'Войсковицы' 'Коркино'\n",
            " 'Ропша' 'Приладожский' 'Щеглово' 'Гаврилово' 'Лодейное Поле' 'Рабитицы'\n",
            " 'Никольский' 'Кузьмолово' 'Малые Колпаны' 'Петро-Славянка' 'Назия'\n",
            " 'Репино' 'Углово' 'Старая Малукса' 'садовое товарищество Рахья'\n",
            " 'Меньково' 'Старые Бегуницы' 'Саперный' 'Семрино' 'Глажево' 'Кобринское'\n",
            " 'Гарболово' 'Юкки' 'станции Приветнинское' 'Мануйлово' 'Пчева' 'Цвылево'\n",
            " 'Мельниково' 'Пудость' 'Усть-Луга' 'Светогорск' 'Любань' 'Селезнево'\n",
            " 'Каменногорск' 'Кривко' 'Глебычево' 'Парицы' 'Жилпоселок' 'Войскорово'\n",
            " 'Стеклянный' 'Важины' 'Мыза-Ивановка' 'Русско-Высоцкое' 'Форносово'\n",
            " 'Старая Ладога' 'Житково' 'Виллози' 'Лампово' 'Шпаньково' 'Лаврики'\n",
            " 'Сумино' 'Возрождение' 'Старосиверская' 'Кикерино' 'Старое Хинколово'\n",
            " 'Пригородный' 'Торфяное' 'Будогощь' 'Суходолье' 'Красная Долина'\n",
            " 'Хапо-Ое' 'Дружная Горка' 'Лисий Нос' 'Яльгелево' 'Рождествено'\n",
            " 'Старополье' 'Левашово' 'Сяськелево' 'Камышовка'\n",
            " 'садоводческое некоммерческое товарищество Лесная Поляна' 'Хязельки'\n",
            " 'Жилгородок' 'Ялгино' 'Новый Учхоз' 'Гончарово' 'Почап' 'Саперное'\n",
            " 'Платформа 69-й километр' 'Каложицы' 'Фалилеево' 'Пельгора' 'Торошковичи'\n",
            " 'Белоостров' 'Алексеевка' 'Серебрянский' 'Лукаши' 'Тарасово'\n",
            " 'Кингисеппский' 'при железнодорожной станции Вещево' 'Ушаки' 'Котлы'\n",
            " 'Сижно' 'Торосово' 'Форт Красная Горка' 'Новолисино' 'станции Громово'\n",
            " 'Глинка' 'Старая Пустошь' 'Коммунары' 'Починок' 'Вознесенье' 'Разбегаево'\n",
            " 'Гладкое' 'при железнодорожной станции Приветнинское' 'Тесово-4' 'Бор'\n",
            " 'Коробицыно' 'Большая Вруда' 'Курковицы' 'Кобралово' 'Суоранда'\n",
            " 'Кондратьево' 'коттеджный Счастье' 'Реброво' 'Тойворово' 'Семиозерье'\n",
            " 'Лесное' 'Совхозный' 'Ленинское' 'Суйда' 'Нижние Осельки' 'станции Свирь'\n",
            " 'Перово' 'Высоцк' 'Шум' 'Котельский' 'станции Лужайка'\n",
            " 'Большая Пустомержа' 'Красносельское' 'Вахнова Кара' 'Пижма'\n",
            " 'коттеджный Кивеннапа Север' 'Ромашки' 'Каськово' 'Куровицы' 'Плоское'\n",
            " 'Кирпичное' 'Ям-Тесово' 'Раздолье' 'Терпилицы' 'Шугозеро' 'Ваганово'\n",
            " 'Пушное' 'садовое товарищество Садко' 'Усть-Ижора' 'Выскатка'\n",
            " 'Свирьстрой' 'Громово' 'Кисельня' 'Трубников Бор' 'Высокоключевой'\n",
            " 'садовое товарищество Приладожский' 'Пансионат Зеленый Бор' 'Ненимяки'\n",
            " 'Снегиревка' 'Рапполово' 'Пустынка' 'Большой Сабск' 'Русско' 'Лупполово'\n",
            " 'Большое Рейзино' 'Малая Романовка' 'Дружноселье' 'Пчевжа' 'Володарское'\n",
            " 'Нижняя' 'коттеджный Лесное' 'Тихковицы' 'Борисова Грива' 'Дзержинского']\n"
          ]
        }
      ],
      "source": [
        "# У нас есть неявные дубликаты, связанные с различными названиями населенных пунктов типа посёлок\n",
        "# для целей анаиза заменим на универсальное  \"посёлок\" (код сдула из подсказки)\n",
        "# убирать \"деревня\" и \"поселок\" нецелесообразно, там ПГТ и деревни есть с одинаковыми названиями\n",
        "data['locality_name'] = (\n",
        "    data['locality_name']\n",
        "    .str.replace('ё', 'е')\n",
        "    .replace(['посёлок городского типа ', 'поселок городского типа ', 'городской поселок ',\\\n",
        "    'поселок ', 'деревня ', 'село ', 'коттеджный поселок '], '', regex=True)\n",
        ")\n",
        "print (data['locality_name'].unique())"
      ]
    },
    {
      "cell_type": "markdown",
      "metadata": {
        "id": "qHHgUlg87BJW"
      },
      "source": [
        "### Посчитаем и добавим в таблицу новые столбцы"
      ]
    },
    {
      "cell_type": "code",
      "execution_count": null,
      "metadata": {
        "scrolled": false,
        "id": "rLtpL5qQ7BJW"
      },
      "outputs": [],
      "source": [
        "# цена одного квадратного метра (нужно поделить стоимость объекта на его общую площадь,\n",
        "# а затем округлить до двух знаков после запятой);\n",
        "data['sm_price']=data['last_price']/data['total_area'].round(2)\n",
        "# день недели публикации объявления;\n",
        "data['weekday_of_exp']=pd.DatetimeIndex(data['first_day_exposition']).weekday\n",
        "# месяц публикации объявления;\n",
        "data['month_of_exp']=pd.DatetimeIndex(data['first_day_exposition']).month\n",
        "# год публикации объявления;\n",
        "data['year_of_exp']=pd.DatetimeIndex(data['first_day_exposition']).year\n",
        "\n",
        "# тип этажа квартиры (значения — «первый», «последний», «другой»);\n",
        "def floor_group(row):\n",
        "    if row['floor'] == 1:\n",
        "        return 'первый'\n",
        "    elif row['floor'] == row['floors_total']:\n",
        "        return 'последний'\n",
        "    else:\n",
        "        return 'другой'\n",
        "data['floor_type'] = data.apply(floor_group, axis=1)"
      ]
    },
    {
      "cell_type": "markdown",
      "metadata": {
        "id": "A64C6uDS7BJW"
      },
      "source": [
        "Попробуем заполнить и  проанализировать пропуски в расстояниях до центра города. Создаем пустой список non_dist_location и счетчик non_dist,  в цикле найдем для населенных пунктов медианное значение до центра города и вставим туда, где это значение пропущено. В общем, получилось заполнить немного, около 80, однако мы получили список из 286 населенных пунктов, по которым  отсутствует данная информация и можем отправить комментарии для разработчиков"
      ]
    },
    {
      "cell_type": "code",
      "execution_count": null,
      "metadata": {
        "id": "S58ULvVn7BJW"
      },
      "outputs": [],
      "source": [
        "non_dist_location=[]\n",
        "non_dist=0\n",
        "\n",
        "for location in data['locality_name'].unique():\n",
        "    median_location_distance=data.loc[(data['locality_name']==location) & (~data['cityCenters_nearest'].isna()), 'cityCenters_nearest' ].median()\n",
        "    location_distances=data.loc[(data['locality_name']==location) & (~data['cityCenters_nearest'].isna()), 'cityCenters_nearest' ]\n",
        "    if location_distances.count()==0:\n",
        "        non_dist_location.append(location)\n",
        "        non_dist +=1\n",
        "    data.loc[(data['locality_name']==location) & (data['cityCenters_nearest'].isna()), 'cityCenters_nearest']=median_location_distance"
      ]
    },
    {
      "cell_type": "code",
      "execution_count": null,
      "metadata": {
        "id": "R110HX3e7BJW",
        "outputId": "ec8ffd00-ed95-42e3-9ba6-8f2d8484558e"
      },
      "outputs": [
        {
          "name": "stdout",
          "output_type": "stream",
          "text": [
            "       total_images  last_price  total_area first_day_exposition  rooms  \\\n",
            "3565              9   4500000.0       72.00  2017-04-17T00:00:00      4   \n",
            "10954            17   5200000.0       81.00  2017-01-09T00:00:00      3   \n",
            "7923              7   3400000.0       57.00  2015-03-23T00:00:00      2   \n",
            "13949             3   4100000.0       55.79  2017-08-25T00:00:00      3   \n",
            "1435              3   3530000.0       31.00  2016-07-05T00:00:00      1   \n",
            "6591             14  25000000.0      134.00  2015-05-22T00:00:00      4   \n",
            "15771             9   4690000.0       48.00  2017-06-16T00:00:00      2   \n",
            "9284              9   2570000.0       58.90  2018-10-24T00:00:00      3   \n",
            "22541             6   3850000.0       40.00  2016-01-30T00:00:00      1   \n",
            "13898             6   3600000.0       36.70  2017-10-30T00:00:00      1   \n",
            "\n",
            "       ceiling_height  floors_total  living_area  floor  is_apartment  ...  \\\n",
            "3565             2.50             9        47.30      6         False  ...   \n",
            "10954            2.65             9        57.60      6         False  ...   \n",
            "7923             2.80             3        36.00      1         False  ...   \n",
            "13949            2.65             5        41.06      3         False  ...   \n",
            "1435             2.65             9        18.00      4         False  ...   \n",
            "6591             2.65             6        91.00      6         False  ...   \n",
            "15771            2.65            12        27.00     11         False  ...   \n",
            "9284             2.60             5        42.90      4         False  ...   \n",
            "22541            2.70            12        20.10      9         False  ...   \n",
            "13898            2.60            10        17.00      9         False  ...   \n",
            "\n",
            "       parks_nearest  ponds_around3000  ponds_nearest  days_exposition  \\\n",
            "3565             NaN               0.0            NaN             10.0   \n",
            "10954            NaN               0.0            NaN            135.0   \n",
            "7923             NaN               1.0          354.0            484.0   \n",
            "13949            NaN               0.0            NaN             17.0   \n",
            "1435             NaN               1.0          399.0            357.0   \n",
            "6591           483.0               3.0          891.0            447.0   \n",
            "15771            NaN               0.0            NaN             85.0   \n",
            "9284             NaN               NaN            NaN            170.0   \n",
            "22541            NaN               1.0          207.0            172.0   \n",
            "13898            NaN               0.0            NaN             13.0   \n",
            "\n",
            "            sm_price  weekday_of_exp  month_of_exp  year_of_exp  floor_type  \\\n",
            "3565    62500.000000               0             4         2017      другой   \n",
            "10954   64197.530864               0             1         2017      другой   \n",
            "7923    59649.122807               0             3         2015      первый   \n",
            "13949   73489.872737               4             8         2017      другой   \n",
            "1435   113870.967742               1             7         2016      другой   \n",
            "6591   186567.164179               4             5         2015   последний   \n",
            "15771   97708.333333               4             6         2017      другой   \n",
            "9284    43633.276740               2            10         2018      другой   \n",
            "22541   96250.000000               5             1         2016      другой   \n",
            "13898   98092.643052               0            10         2017      другой   \n",
            "\n",
            "       center_km  \n",
            "3565        32.0  \n",
            "10954       29.0  \n",
            "7923         7.0  \n",
            "13949       13.0  \n",
            "1435         7.0  \n",
            "6591         3.0  \n",
            "15771       14.0  \n",
            "9284         NaN  \n",
            "22541       15.0  \n",
            "13898       15.0  \n",
            "\n",
            "[10 rows x 28 columns]\n"
          ]
        }
      ],
      "source": [
        "# расстояние до центра города в километрах (переведите из м в км и округлите до ближайших целых значений)\n",
        "data ['center_km'] = data ['cityCenters_nearest']/1000\n",
        "data ['center_km'] = data ['center_km'].round(0) #map('{:.0f}'.format)\n",
        "# выведем и для разнообразия применим метод sample, который выдает 10 случайных строк датафрейма\n",
        "print (data.sample(10))"
      ]
    },
    {
      "cell_type": "code",
      "execution_count": null,
      "metadata": {
        "id": "X8RHc0cH7BJX",
        "outputId": "7b09b6be-278c-4b8e-b229-cb96cb789c79"
      },
      "outputs": [
        {
          "name": "stdout",
          "output_type": "stream",
          "text": [
            "В 286 населенных пунктах не указано расстояние до центра: \n",
            " ['Янино-1', 'Мурино', 'Сертолово', 'Кудрово', 'Коммунар', 'Красный Бор', 'Гатчина', 'Федоровское', 'Выборг', 'Кировск', 'Новое Девяткино', 'Лебяжье', 'Сиверский', 'Молодцово', 'Кузьмоловский', 'садовое товарищество Новая Ропша', 'Пикколово', 'Всеволожск', 'Волхов', 'Кингисепп', 'Приозерск', 'Куттузи', 'Аннино', 'Ефимовский', 'Плодовое', 'Заклинье', 'Торковичи', 'Первомайское', 'Сясьстрой', 'Старая', 'Лесколово', 'Новый Свет', 'Сланцы', 'Путилово', 'Ивангород', 'Шлиссельбург', 'Никольское', 'Сосновый Бор', 'Оржицы', 'Кальтино', 'Романовка', 'Бугры', 'Рощино', 'Кириши', 'Луга', 'Волосово', 'Отрадное', 'Павлово', 'Оредеж', 'Копорье', 'Тихвин', 'Победа', 'Нурма', 'Синявино', 'Тосно', 'Бокситогорск', 'Лопухинка', 'Пикалево', 'Терволово', 'Советский', 'Подпорожье', 'Петровское', 'Токсово', 'Сельцо', 'Вырица', 'Кипень', 'Келози', 'Вартемяги', 'Тельмана', 'Севастьяново', 'Большая Ижора', 'Агалатово', 'Новогорелово', 'Лесогорский', 'Лаголово', 'Цвелодубово', 'Рахья', 'Белогорка', 'Заводской', 'Новоселье', 'Большие Колпаны', 'Горбунки', 'Батово', 'Заневка', 'Иссад', 'Приморск', 'Мистолово', 'Новая Ладога', 'Зимитицы', 'Барышево', 'Разметелево', 'имени Свердлова', 'Пеники', 'Рябово', 'Пудомяги', 'станции Корнево', 'Низино', 'Бегуницы', 'Поляны', 'Мга', 'Елизаветино', 'Кузнечное', 'Колтуши', 'Запорожское', 'Гостилицы', 'Малое Карлино', 'Мичуринское', 'имени Морозова', 'Сосново', 'Аро', 'Ильичево', 'Тайцы', 'Малое Верево', 'Извара', 'станции Вещево', 'Паша', 'Калитино', 'Ульяновка', 'Чудской Бор', 'Дубровка', 'Мины', 'Войсковицы', 'Коркино', 'Ропша', 'Приладожский', 'Щеглово', 'Гаврилово', 'Лодейное Поле', 'Рабитицы', 'Никольский', 'Кузьмолово', 'Малые Колпаны', 'Назия', 'Углово', 'Старая Малукса', 'садовое товарищество Рахья', 'Меньково', 'Старые Бегуницы', 'Семрино', 'Глажево', 'Кобринское', 'Гарболово', 'Юкки', 'станции Приветнинское', 'Мануйлово', 'Пчева', 'Цвылево', 'Мельниково', 'Пудость', 'Усть-Луга', 'Светогорск', 'Любань', 'Селезнево', 'Каменногорск', 'Кривко', 'Глебычево', 'Парицы', 'Жилпоселок', 'Войскорово', 'Стеклянный', 'Важины', 'Мыза-Ивановка', 'Русско-Высоцкое', 'Форносово', 'Старая Ладога', 'Житково', 'Виллози', 'Лампово', 'Шпаньково', 'Лаврики', 'Сумино', 'Возрождение', 'Старосиверская', 'Кикерино', 'Старое Хинколово', 'Пригородный', 'Торфяное', 'Будогощь', 'Суходолье', 'Красная Долина', 'Хапо-Ое', 'Дружная Горка', 'Яльгелево', 'Рождествено', 'Старополье', 'Сяськелево', 'Камышовка', 'садоводческое некоммерческое товарищество Лесная Поляна', 'Хязельки', 'Жилгородок', 'Ялгино', 'Новый Учхоз', 'Гончарово', 'Почап', 'Саперное', 'Платформа 69-й километр', 'Каложицы', 'Фалилеево', 'Пельгора', 'Торошковичи', 'Алексеевка', 'Серебрянский', 'Лукаши', 'Тарасово', 'Кингисеппский', 'при железнодорожной станции Вещево', 'Ушаки', 'Котлы', 'Сижно', 'Торосово', 'Форт Красная Горка', 'Новолисино', 'станции Громово', 'Глинка', 'Старая Пустошь', 'Коммунары', 'Починок', 'Вознесенье', 'Разбегаево', 'Гладкое', 'при железнодорожной станции Приветнинское', 'Тесово-4', 'Бор', 'Коробицыно', 'Большая Вруда', 'Курковицы', 'Кобралово', 'Суоранда', 'Кондратьево', 'коттеджный Счастье', 'Реброво', 'Тойворово', 'Семиозерье', 'Лесное', 'Совхозный', 'Ленинское', 'Суйда', 'Нижние Осельки', 'станции Свирь', 'Перово', 'Высоцк', 'Шум', 'Котельский', 'станции Лужайка', 'Большая Пустомержа', 'Красносельское', 'Вахнова Кара', 'Пижма', 'коттеджный Кивеннапа Север', 'Ромашки', 'Каськово', 'Куровицы', 'Плоское', 'Кирпичное', 'Ям-Тесово', 'Раздолье', 'Терпилицы', 'Шугозеро', 'Ваганово', 'Пушное', 'садовое товарищество Садко', 'Выскатка', 'Свирьстрой', 'Громово', 'Кисельня', 'Трубников Бор', 'Высокоключевой', 'садовое товарищество Приладожский', 'Пансионат Зеленый Бор', 'Ненимяки', 'Снегиревка', 'Рапполово', 'Пустынка', 'Большой Сабск', 'Русско', 'Лупполово', 'Большое Рейзино', 'Малая Романовка', 'Дружноселье', 'Пчевжа', 'Володарское', 'Нижняя', 'коттеджный Лесное', 'Тихковицы', 'Борисова Грива', 'Дзержинского']\n"
          ]
        }
      ],
      "source": [
        "print (f'В {non_dist} населенных пунктах не указано расстояние до центра: \\n', non_dist_location)"
      ]
    },
    {
      "cell_type": "markdown",
      "metadata": {
        "id": "JFYNiWRc7BJY"
      },
      "source": [
        "### исследовательский анализ данных ###"
      ]
    },
    {
      "cell_type": "code",
      "execution_count": null,
      "metadata": {
        "id": "e_S-Wkvf7BJY",
        "outputId": "af415d7a-14c0-4846-c875-78744905abdc"
      },
      "outputs": [
        {
          "data": {
            "image/png": "[encoded data removed]",
            "text/plain": [
              "<Figure size 1008x432 with 2 Axes>"
            ]
          },
          "metadata": {},
          "output_type": "display_data"
        }
      ],
      "source": [
        "# общая площадь\n",
        "total_area = data[['total_area']]\n",
        "fig, (ax1, ax2) = plt.subplots(1, 2, figsize=(14, 6))\n",
        "\n",
        "ax1.hist(data['total_area'], bins=100, range=(0, 500))\n",
        "# total_area.boxplot()\n",
        "#plt.ylim(10, 125)\n",
        "# ax1.ylim(10, 125)\n",
        "ax1.grid(True)\n",
        "ax1.set_title('Диаграмма распределения по общей площади')\n",
        "#ax1.set_xlabel('Общая площадь')\n",
        "#ax1.set_ylabel('Количество')\n",
        "\n",
        "ax2.boxplot(total_area)\n",
        "plt.ylim(10, 125)\n",
        "plt.show()\n"
      ]
    },
    {
      "cell_type": "markdown",
      "metadata": {
        "id": "NQGNExip7BJY"
      },
      "source": [
        "Больше всего продавали квартиры площадью от 40 до 50 кв.м. Снизу выбросов нет, сверху - выбросы можно считать от 115 м, но с этой отметки могут начинаться элитные квартиры как в исторических домах, так и недавно построенных элитных комплексах, которые представлены на рынке не так, как типовое жилье, однако оказывают существенное влияние на общую оценку рынка недвижимости рассматриваемого города и области."
      ]
    },
    {
      "cell_type": "code",
      "execution_count": null,
      "metadata": {
        "id": "XrWo_hM37BJZ",
        "outputId": "26efd869-ddbd-4ba3-f5ce-49a0861dffcd"
      },
      "outputs": [
        {
          "name": "stdout",
          "output_type": "stream",
          "text": [
            "Корреляция общей площади и кв.м.: 0.3\n",
            "Корреляция общей площади и конечной цены 0.65\n"
          ]
        },
        {
          "data": {
            "image/png": "[encoded data removed]",
            "text/plain": [
              "<Figure size 1008x432 with 2 Axes>"
            ]
          },
          "metadata": {},
          "output_type": "display_data"
        }
      ],
      "source": [
        "fig, (ax1, ax2) = plt.subplots(1, 2, figsize=(14, 6))\n",
        "\n",
        "ax1.hist(data.pivot_table(index='total_area', values='sm_price'), bins=100)\n",
        "ax1.grid(True)\n",
        "ax1.set_title('Диаграмма распределения по общей площади к кв.м.')\n",
        "\n",
        "ax2.hist(data.pivot_table(index='total_area', values='last_price'), bins=100)\n",
        "ax2.grid(True)\n",
        "ax2.set_title('Диаграмма распределения по общей площади к конечной цене')\n",
        "\n",
        "corr_total_area=data['sm_price'].corr(data['total_area']).round(2)\n",
        "corr_total_area1=data['last_price'].corr(data['total_area']).round(2)\n",
        "print ('Корреляция общей площади и кв.м.:', corr_total_area)\n",
        "print ('Корреляция общей площади и конечной цены', corr_total_area1)"
      ]
    },
    {
      "cell_type": "code",
      "execution_count": null,
      "metadata": {
        "scrolled": true,
        "id": "jdXbrtFZ7BJZ",
        "outputId": "48b57273-2cd9-4d60-97fa-b88f4426b391"
      },
      "outputs": [
        {
          "data": {
            "image/png": "[encoded data removed]",
            "text/plain": [
              "<Figure size 360x360 with 1 Axes>"
            ]
          },
          "metadata": {},
          "output_type": "display_data"
        }
      ],
      "source": [
        "data.pivot_table(index='total_area', values='last_price').plot(grid=True, style='o', figsize=(5, 5))\n",
        "plt.show()"
      ]
    },
    {
      "cell_type": "markdown",
      "metadata": {
        "id": "OybU8dUo7BJZ"
      },
      "source": [
        "Коэффициент корреляции общей площади и стоимости квадратного метра (0,3) показывает, что связь есть, но не линейная. Корреляция общей площади и конечной цены является значимым - 0.65, что позволяет сделать вывод, что скорее на рост стоимости объекта при увеличении площади влияют и другие показатели. Например, дорогие объекты с большим метражом скорее находятся в элитных объеках, а не в типовых МКД, возможо с улучшенными качеством постройки и инфраструктурой."
      ]
    },
    {
      "cell_type": "code",
      "execution_count": null,
      "metadata": {
        "id": "hixD3_Yb7BJZ",
        "outputId": "664c4261-d914-4db2-a747-2b268c4e5669"
      },
      "outputs": [
        {
          "name": "stdout",
          "output_type": "stream",
          "text": [
            "Корреляция жилой площади и кв.м.: 0.23\n",
            "Корреляция жилой площади и конечной цены 0.58\n"
          ]
        },
        {
          "data": {
            "image/png": "[encoded data removed]",
            "text/plain": [
              "<Figure size 1008x432 with 2 Axes>"
            ]
          },
          "metadata": {},
          "output_type": "display_data"
        }
      ],
      "source": [
        "fig, (ax1, ax2) = plt.subplots(1, 2, figsize=(14, 6))\n",
        "\n",
        "ax1.hist(data.pivot_table(index='living_area', values='sm_price'), bins=100)\n",
        "ax1.kind = 'scatter'\n",
        "ax1.grid(True)\n",
        "ax1.set_title('Диаграмма распределения по жилой площади к кв.м.')\n",
        "\n",
        "ax2.hist(data.pivot_table(index='living_area', values='last_price'), bins=100)\n",
        "ax2.grid(True)\n",
        "ax2.set_title('Диаграмма распределения по жилой площади к конечной цене')\n",
        "\n",
        "corr_living_area=data['sm_price'].corr(data['living_area']).round(2)\n",
        "corr_living_area1=data['last_price'].corr(data['living_area']).round(2)\n",
        "print ('Корреляция жилой площади и кв.м.:', corr_living_area)\n",
        "print ('Корреляция жилой площади и конечной цены', corr_living_area1)"
      ]
    },
    {
      "cell_type": "markdown",
      "metadata": {
        "id": "0J8YqQzq7BJZ"
      },
      "source": [
        "Коэффициент корреляции жилой площади к  стоимости квадратного метра (0,23) и конечной цене (0.58) практически повторяет аналогичный показатель общей площади и свидетельствует в целом о том же: чем больше жилая площадь - тем дороже объект, а на цену квадратного метра влияние оказывает еще и качество объекта."
      ]
    },
    {
      "cell_type": "code",
      "execution_count": null,
      "metadata": {
        "id": "f0-h-FTP7BJa",
        "outputId": "cb506f4b-574d-49b9-b027-bfb4a6f8aa9b"
      },
      "outputs": [
        {
          "data": {
            "image/png": "[encoded data removed]",
            "text/plain": [
              "<Figure size 1008x432 with 2 Axes>"
            ]
          },
          "metadata": {},
          "output_type": "display_data"
        }
      ],
      "source": [
        "living_area = data[['living_area']]\n",
        "fig, (ax1, ax2) = plt.subplots(1, 2, figsize=(14, 6))\n",
        "\n",
        "ax1.scatter(x=data['living_area'], y=data['sm_price'] ) #bins=10, range=(0, 400))\n",
        "#ax1.\n",
        "ax1.grid(True)\n",
        "ax1.set_title('Диаграмма распределения по жилой площади')\n",
        "ax1.set_xlabel('жилая площадь')\n",
        "ax1.set_ylabel('конечная цена')\n",
        "\n",
        "ax2.boxplot(living_area)\n",
        "plt.ylim(10, 90)\n",
        "plt.show()"
      ]
    },
    {
      "cell_type": "code",
      "execution_count": null,
      "metadata": {
        "id": "P_4Dgx047BJa",
        "outputId": "a4e25458-8f2c-4ab7-a4fc-4d39c675215b"
      },
      "outputs": [
        {
          "data": {
            "image/png": "[encoded data removed]",
            "text/plain": [
              "<Figure size 504x360 with 1 Axes>"
            ]
          },
          "metadata": {},
          "output_type": "display_data"
        }
      ],
      "source": [
        "#data.pivot_table(index='living_area', values='last_price').plot(grid=True, style='o', figsize=(5, 5))\n",
        "plt.show()\n",
        "data.pivot_table(index='living_area', values='last_price').hist(grid=True, bins=50, figsize=(7, 5))\n",
        "plt.show()"
      ]
    },
    {
      "cell_type": "code",
      "execution_count": null,
      "metadata": {
        "id": "u0C81SnG7BJa",
        "outputId": "4f636eee-0795-46f7-c2b2-6c6848cdd363"
      },
      "outputs": [
        {
          "name": "stdout",
          "output_type": "stream",
          "text": [
            "Корреляция площади кухни и кв.м.: 0.3\n",
            "Корреляция площади кухни и конечной цены 0.65\n"
          ]
        },
        {
          "data": {
            "image/png": "[encoded data removed]",
            "text/plain": [
              "<Figure size 1008x432 with 2 Axes>"
            ]
          },
          "metadata": {},
          "output_type": "display_data"
        }
      ],
      "source": [
        "fig, (ax1, ax2) = plt.subplots(1, 2, figsize=(14, 6))\n",
        "\n",
        "ax1.hist(data.pivot_table(index='kitchen_area', values='sm_price'), bins=100)\n",
        "ax1.grid(True)\n",
        "ax1.set_title('Диаграмма распределения по площади кухни к кв.м.')\n",
        "\n",
        "ax2.hist(data.pivot_table(index='kitchen_area', values='last_price'), bins=100)\n",
        "ax2.grid(True)\n",
        "ax2.set_title('Диаграмма распределения по площади кухни к конечной цене')\n",
        "\n",
        "corr_kitchen_area=data['sm_price'].corr(data['kitchen_area']).round(2)\n",
        "corr_kitchen_area1=data['last_price'].corr(data['kitchen_area']).round(2)\n",
        "print ('Корреляция площади кухни и кв.м.:', corr_total_area)\n",
        "print ('Корреляция площади кухни и конечной цены', corr_total_area1)"
      ]
    },
    {
      "cell_type": "code",
      "execution_count": null,
      "metadata": {
        "id": "dDxr0NNK7BJb",
        "outputId": "07428eaa-129f-4570-8bba-c56aa05f18d4"
      },
      "outputs": [
        {
          "data": {
            "image/png": "[encoded data removed]",
            "text/plain": [
              "<Figure size 1008x432 with 2 Axes>"
            ]
          },
          "metadata": {},
          "output_type": "display_data"
        }
      ],
      "source": [
        "kitchen_area = data[['kitchen_area']]\n",
        "fig, (ax1, ax2) = plt.subplots(1, 2, figsize=(14, 6))\n",
        "\n",
        "ax1.scatter(x=data['kitchen_area'], y=data['sm_price'] )\n",
        "ax1.grid(True)\n",
        "ax1.set_title('Диаграмма распределения по площади кухни')\n",
        "ax1.set_xlabel('площадь кухни')\n",
        "ax1.set_ylabel('конечная цена')\n",
        "\n",
        "ax2.boxplot(kitchen_area)\n",
        "plt.ylim(10, 22)\n",
        "plt.show()"
      ]
    },
    {
      "cell_type": "code",
      "execution_count": null,
      "metadata": {
        "id": "IlBgEQIn7BJb",
        "outputId": "d750b269-89f2-408b-ea16-614f5747cd4d"
      },
      "outputs": [
        {
          "data": {
            "image/png": "[encoded data removed]",
            "text/plain": [
              "<Figure size 576x432 with 1 Axes>"
            ]
          },
          "metadata": {},
          "output_type": "display_data"
        }
      ],
      "source": [
        "data.pivot_table(index='kitchen_area', values='last_price').plot(grid=True, style='o', figsize=(8, 6))\n",
        "plt.show()"
      ]
    },
    {
      "cell_type": "markdown",
      "metadata": {
        "id": "e76nQ-Su7BJb"
      },
      "source": [
        "Корреляция площади кухни и кв.м.: 0.3, корреляция площади кухни и конечной цены 0.65, выводы в целом повторяются. На диаграмму размаха достаточно сильно влияет показатель студий, в которых площадь кухни считается как 0 (т.к. отдельно не выделена), поэтому медианное значение сильно смещено и выбросов снизу вообще нет, большая часть квартир имеют площадь кухни от 0 (студии) до 12 метров, с 19 м. уже начинаются выбросы."
      ]
    },
    {
      "cell_type": "code",
      "execution_count": null,
      "metadata": {
        "id": "dFIUx2727BJb",
        "outputId": "082eee49-956c-48de-bf55-d7aafd340bdc"
      },
      "outputs": [
        {
          "data": {
            "image/png": "[encoded data removed]",
            "text/plain": [
              "<Figure size 576x432 with 1 Axes>"
            ]
          },
          "metadata": {},
          "output_type": "display_data"
        },
        {
          "name": "stdout",
          "output_type": "stream",
          "text": [
            "Корреляция цены объекта и квадратного метра: 0.73\n"
          ]
        }
      ],
      "source": [
        "data.pivot_table(index='last_price', values='sm_price').plot(grid=True, style='o', figsize=(8, 6))\n",
        "plt.show()\n",
        "corr_cent=data['last_price'].corr(data['sm_price']).round(2)\n",
        "print('Корреляция цены объекта и квадратного метра:', corr_cent)"
      ]
    },
    {
      "cell_type": "markdown",
      "metadata": {
        "id": "5Ll4V0XK7BJb"
      },
      "source": [
        "Взаимосвязь между ценой квадратного метра и конечной ценой объекта велика, но очевидно, что на цену оказывает влияние еще множество факторов"
      ]
    },
    {
      "cell_type": "code",
      "execution_count": null,
      "metadata": {
        "id": "TyAGULoj7BJc",
        "outputId": "ec1d13ba-00e9-40df-f576-93fed4fc1dc8"
      },
      "outputs": [
        {
          "data": {
            "image/png": "[encoded data removed]",
            "text/plain": [
              "<Figure size 1008x432 with 2 Axes>"
            ]
          },
          "metadata": {},
          "output_type": "display_data"
        },
        {
          "name": "stdout",
          "output_type": "stream",
          "text": [
            "Корреляция цены и количества комнат: 0.05\n"
          ]
        }
      ],
      "source": [
        "rooms_n = data[['rooms']]\n",
        "#data.pivot_table(index='rooms', values='sm_price').plot(grid=True, style='o', figsize=(5, 5))\n",
        "#plt.show()\n",
        "corr_rooms=data['rooms'].corr(data['sm_price']).round(2)\n",
        "\n",
        "fig, (ax1, ax2) = plt.subplots(1, 2, figsize=(14, 6))\n",
        "ax1.hist(data['rooms'], bins=20, range=(0, 8))\n",
        "ax1.grid(True)\n",
        "ax1.set_title('Влияние количества комнат на цену объекта')\n",
        "#ax1.set_xlabel('Общая площадь')\n",
        "#ax1.set_ylabel('Количество')\n",
        "\n",
        "ax2.boxplot(rooms_n)\n",
        "plt.ylim(0, 9)\n",
        "plt.show()\n",
        "\n",
        "print ('Корреляция цены и количества комнат:', corr_rooms)"
      ]
    },
    {
      "cell_type": "markdown",
      "metadata": {
        "id": "tRhXgxd-7BJc"
      },
      "source": [
        "Очевидно, количество комнат не оказывает влияние на конечную цену объекта, а диаграмма размаха показывает, что больше всего продавали 1-3 комнатные квартиры, а 2-комнатные бесспорный лидер продаж, объекты больше 6 комнат встречаются редко."
      ]
    },
    {
      "cell_type": "code",
      "execution_count": null,
      "metadata": {
        "id": "CKMZJlF37BJc",
        "outputId": "b47aaeb7-db26-4490-c07f-9861332d79eb"
      },
      "outputs": [
        {
          "data": {
            "image/png": "[encoded data removed]",
            "text/plain": [
              "<Figure size 360x360 with 1 Axes>"
            ]
          },
          "metadata": {},
          "output_type": "display_data"
        },
        {
          "name": "stdout",
          "output_type": "stream",
          "text": [
            "Корреляция цены и высоты потолков: 0.29\n"
          ]
        },
        {
          "data": {
            "image/png": "[encoded data removed]",
            "text/plain": [
              "<Figure size 432x288 with 1 Axes>"
            ]
          },
          "metadata": {},
          "output_type": "display_data"
        }
      ],
      "source": [
        "data.pivot_table(index='ceiling_height', values='sm_price').plot(grid=True, style='o', figsize=(5, 5))\n",
        "plt.show()\n",
        "corr_ceiling=data['sm_price'].corr(data['ceiling_height']).round(2)\n",
        "ceiling=data[['ceiling_height']]\n",
        "ceiling.boxplot ()\n",
        "print ('Корреляция цены и высоты потолков:', corr_ceiling)"
      ]
    },
    {
      "cell_type": "markdown",
      "metadata": {
        "id": "1BtRapDm7BJc"
      },
      "source": [
        "Высота потолков не оказывает решающего влияния на стоимость квадратного метра. В среднем продавались квартиры с высотой потолков от 2,4 до 2,8 м), есть выбросы в меньшую и большую стороны, встречаются квартиры с высотой потолков до 5 метров, как единичные случаи.  "
      ]
    },
    {
      "cell_type": "code",
      "execution_count": null,
      "metadata": {
        "id": "3fpq_PfT7BJc",
        "outputId": "36a2b155-ce70-4e2a-d35e-eaa1fd9e45c2"
      },
      "outputs": [
        {
          "data": {
            "image/png": "[encoded data removed]",
            "text/plain": [
              "<Figure size 432x432 with 1 Axes>"
            ]
          },
          "metadata": {},
          "output_type": "display_data"
        },
        {
          "name": "stdout",
          "output_type": "stream",
          "text": [
            "Корреляция цены и этажности:  0.15\n"
          ]
        }
      ],
      "source": [
        "data.pivot_table(index='floors_total', values='sm_price').plot(grid=True, style='o', figsize=(6, 6))\n",
        "plt.show()\n",
        "corr_floortot=data['sm_price'].corr(data['floors_total']).round(2)\n",
        "print('Корреляция цены и этажности: ', corr_floortot)"
      ]
    },
    {
      "cell_type": "markdown",
      "metadata": {
        "id": "qANJ1TwL7BJd"
      },
      "source": [
        "Этажность также не оказывает решающего влияния на цену квадратного метра"
      ]
    },
    {
      "cell_type": "code",
      "execution_count": null,
      "metadata": {
        "id": "IOeh7NNB7BJd",
        "outputId": "d24d5736-3e79-41fa-a08f-24aefeba079e"
      },
      "outputs": [
        {
          "name": "stdout",
          "output_type": "stream",
          "text": [
            "           last_price\n",
            "center_km            \n",
            "0.0        17900000.0\n",
            "1.0        11490000.0\n",
            "2.0        10000000.0\n",
            "3.0         8409000.0\n",
            "4.0         9200000.0\n",
            "...               ...\n",
            "61.0        3200000.0\n",
            "62.0        3200000.0\n",
            "63.0        3600000.0\n",
            "65.0        3475000.0\n",
            "66.0        4000000.0\n",
            "\n",
            "[61 rows x 1 columns]\n"
          ]
        },
        {
          "data": {
            "text/plain": [
              "<AxesSubplot:xlabel='center_km'>"
            ]
          },
          "execution_count": 150,
          "metadata": {},
          "output_type": "execute_result"
        },
        {
          "data": {
            "image/png": "[encoded data removed]",
            "text/plain": [
              "<Figure size 432x288 with 1 Axes>"
            ]
          },
          "metadata": {},
          "output_type": "display_data"
        }
      ],
      "source": [
        "pivot_table_center=data.pivot_table(\n",
        "    index='center_km',\n",
        "    values='last_price',\n",
        "    aggfunc='median')\n",
        "print (pivot_table_center)\n",
        "pivot_table_center.plot()"
      ]
    },
    {
      "cell_type": "code",
      "execution_count": null,
      "metadata": {
        "id": "rApJadWH7BJd",
        "outputId": "fc90204c-12fa-47ac-e49c-30ed391b0726"
      },
      "outputs": [
        {
          "data": {
            "text/html": [
              "<div>\n",
              "<style scoped>\n",
              "    .dataframe tbody tr th:only-of-type {\n",
              "        vertical-align: middle;\n",
              "    }\n",
              "\n",
              "    .dataframe tbody tr th {\n",
              "        vertical-align: top;\n",
              "    }\n",
              "\n",
              "    .dataframe thead th {\n",
              "        text-align: right;\n",
              "    }\n",
              "</style>\n",
              "<table border=\"1\" class=\"dataframe\">\n",
              "  <thead>\n",
              "    <tr style=\"text-align: right;\">\n",
              "      <th></th>\n",
              "      <th>mean</th>\n",
              "      <th>count</th>\n",
              "      <th>median</th>\n",
              "    </tr>\n",
              "    <tr>\n",
              "      <th>floor_type</th>\n",
              "      <th></th>\n",
              "      <th></th>\n",
              "      <th></th>\n",
              "    </tr>\n",
              "  </thead>\n",
              "  <tbody>\n",
              "    <tr>\n",
              "      <th>другой</th>\n",
              "      <td>103482.116251</td>\n",
              "      <td>17323</td>\n",
              "      <td>98285.542169</td>\n",
              "    </tr>\n",
              "    <tr>\n",
              "      <th>первый</th>\n",
              "      <td>82001.066757</td>\n",
              "      <td>2908</td>\n",
              "      <td>81236.814346</td>\n",
              "    </tr>\n",
              "    <tr>\n",
              "      <th>последний</th>\n",
              "      <td>93032.283028</td>\n",
              "      <td>3323</td>\n",
              "      <td>87719.298246</td>\n",
              "    </tr>\n",
              "  </tbody>\n",
              "</table>\n",
              "</div>"
            ],
            "text/plain": [
              "                     mean  count        median\n",
              "floor_type                                    \n",
              "другой      103482.116251  17323  98285.542169\n",
              "первый       82001.066757   2908  81236.814346\n",
              "последний    93032.283028   3323  87719.298246"
            ]
          },
          "metadata": {},
          "output_type": "display_data"
        },
        {
          "data": {
            "text/plain": [
              "0.12977556616660085"
            ]
          },
          "metadata": {},
          "output_type": "display_data"
        },
        {
          "data": {
            "text/html": [
              "<div>\n",
              "<style scoped>\n",
              "    .dataframe tbody tr th:only-of-type {\n",
              "        vertical-align: middle;\n",
              "    }\n",
              "\n",
              "    .dataframe tbody tr th {\n",
              "        vertical-align: top;\n",
              "    }\n",
              "\n",
              "    .dataframe thead th {\n",
              "        text-align: right;\n",
              "    }\n",
              "</style>\n",
              "<table border=\"1\" class=\"dataframe\">\n",
              "  <thead>\n",
              "    <tr style=\"text-align: right;\">\n",
              "      <th></th>\n",
              "      <th>mean</th>\n",
              "      <th>count</th>\n",
              "      <th>median</th>\n",
              "    </tr>\n",
              "    <tr>\n",
              "      <th>floor</th>\n",
              "      <th></th>\n",
              "      <th></th>\n",
              "      <th></th>\n",
              "    </tr>\n",
              "  </thead>\n",
              "  <tbody>\n",
              "    <tr>\n",
              "      <th>1</th>\n",
              "      <td>82001.066757</td>\n",
              "      <td>2908</td>\n",
              "      <td>81236.814346</td>\n",
              "    </tr>\n",
              "    <tr>\n",
              "      <th>27</th>\n",
              "      <td>92476.743449</td>\n",
              "      <td>10</td>\n",
              "      <td>87916.214207</td>\n",
              "    </tr>\n",
              "    <tr>\n",
              "      <th>5</th>\n",
              "      <td>96013.464082</td>\n",
              "      <td>2609</td>\n",
              "      <td>90697.674419</td>\n",
              "    </tr>\n",
              "    <tr>\n",
              "      <th>2</th>\n",
              "      <td>94441.261513</td>\n",
              "      <td>3348</td>\n",
              "      <td>90754.985755</td>\n",
              "    </tr>\n",
              "    <tr>\n",
              "      <th>26</th>\n",
              "      <td>95806.505813</td>\n",
              "      <td>24</td>\n",
              "      <td>91176.921460</td>\n",
              "    </tr>\n",
              "  </tbody>\n",
              "</table>\n",
              "</div>"
            ],
            "text/plain": [
              "               mean  count        median\n",
              "floor                                   \n",
              "1      82001.066757   2908  81236.814346\n",
              "27     92476.743449     10  87916.214207\n",
              "5      96013.464082   2609  90697.674419\n",
              "2      94441.261513   3348  90754.985755\n",
              "26     95806.505813     24  91176.921460"
            ]
          },
          "execution_count": 192,
          "metadata": {},
          "output_type": "execute_result"
        },
        {
          "data": {
            "image/png": "[encoded data removed]",
            "text/plain": [
              "<Figure size 432x288 with 1 Axes>"
            ]
          },
          "metadata": {},
          "output_type": "display_data"
        },
        {
          "data": {
            "image/png": "[encoded data removed]",
            "text/plain": [
              "<Figure size 432x288 with 1 Axes>"
            ]
          },
          "metadata": {},
          "output_type": "display_data"
        }
      ],
      "source": [
        "pivot_table_floor_type = data.pivot_table(\n",
        "    index = 'floor_type', values = 'sm_price', aggfunc = ['mean', 'count', 'median'])\n",
        "pivot_table_floor_type.columns = ['mean', 'count', 'median']\n",
        "pivot_table_floor_type.plot(y = 'median')\n",
        "pivot_table_floor = data.pivot_table(\n",
        "    index = 'floor', values = 'sm_price', aggfunc = ['mean', 'count', 'median'])\n",
        "pivot_table_floor.columns = ['mean', 'count', 'median']\n",
        "pivot_table_floor.plot(y = 'median')\n",
        "\n",
        "display(pivot_table_floor_type)\n",
        "display(data['floor'].corr(data['sm_price']))\n",
        "pivot_table_floor.sort_values(by='median').head()"
      ]
    },
    {
      "cell_type": "markdown",
      "metadata": {
        "id": "r4oodLDS7BJd"
      },
      "source": [
        "Средняя цена первого и последнего этажей традиционно снижает среднюю цену квадратного метра"
      ]
    },
    {
      "cell_type": "code",
      "execution_count": null,
      "metadata": {
        "id": "naaIFdCn7BJe",
        "outputId": "72c17c72-c114-4667-cb97-58f3c9d716d2"
      },
      "outputs": [
        {
          "name": "stdout",
          "output_type": "stream",
          "text": [
            "Корреляция удаленности от центра и кв.м.: -0.32\n",
            "Корреляция удаленности от центра и конечной цены -0.21\n"
          ]
        },
        {
          "data": {
            "image/png": "[encoded data removed]",
            "text/plain": [
              "<Figure size 1008x432 with 2 Axes>"
            ]
          },
          "metadata": {},
          "output_type": "display_data"
        }
      ],
      "source": [
        "fig, (ax1, ax2) = plt.subplots(1, 2, figsize=(14, 6))\n",
        "\n",
        "ax1.hist(data.pivot_table(index='cityCenters_nearest', values='sm_price'), bins=100)\n",
        "ax1.grid(True)\n",
        "ax1.set_title('Диаграмма распределения удаленности от центра к кв.м.')\n",
        "\n",
        "ax2.hist(data.pivot_table(index='cityCenters_nearest', values='last_price'), bins=100)\n",
        "ax2.grid(True)\n",
        "ax2.set_title('Диаграмма распределения удаленности от центра к конечной цене')\n",
        "\n",
        "corr_centers=data['sm_price'].corr(data['cityCenters_nearest']).round(2)\n",
        "corr_centers1=data['last_price'].corr(data['cityCenters_nearest']).round(2)\n",
        "print ('Корреляция удаленности от центра и кв.м.:', corr_centers)\n",
        "print ('Корреляция удаленности от центра и конечной цены', corr_centers1)"
      ]
    },
    {
      "cell_type": "code",
      "execution_count": null,
      "metadata": {
        "id": "odyIUYea7BJe",
        "outputId": "4a168ae4-d519-40e5-d319-f1abd15dfc1d"
      },
      "outputs": [
        {
          "data": {
            "image/png": "[encoded data removed]",
            "text/plain": [
              "<Figure size 432x432 with 1 Axes>"
            ]
          },
          "metadata": {},
          "output_type": "display_data"
        },
        {
          "name": "stdout",
          "output_type": "stream",
          "text": [
            "Корреляция цены и удаленности от центра: -0.32\n"
          ]
        }
      ],
      "source": [
        "data.pivot_table(index='cityCenters_nearest', values='sm_price').plot(grid=True, style='o', figsize=(6, 6))\n",
        "plt.show()\n",
        "corr_cent=data['sm_price'].corr(data['cityCenters_nearest']).round(2)\n",
        "print('Корреляция цены и удаленности от центра:', corr_cent)"
      ]
    },
    {
      "cell_type": "markdown",
      "metadata": {
        "id": "oTez0LxI7BJe"
      },
      "source": [
        "Коэффициент корреляции Пирсона равен -0,32, что говорит о слабой взаимосвязи между ценой за кв.м. и удаленностью от центра (отрицательный коэффициент и к конечной цене). Помимо удаленности на цену могут влиять: состояние объекта, т.е. вероятно, какие-то дорогостоящие объекты расположенны в экологичных/красивых/модных локациях (типа Курортный район, Лисий нос, Ольгино?), при этом коэффициент корреляции квадратного метра больше зависит от удаленности от центра, чем коэффициент корреляции общей площади.   "
      ]
    },
    {
      "cell_type": "code",
      "execution_count": null,
      "metadata": {
        "id": "LsYxzklU7BJe",
        "outputId": "4e6af07f-5417-4de9-dd7d-d3f59e757526"
      },
      "outputs": [
        {
          "name": "stdout",
          "output_type": "stream",
          "text": [
            "Корреляция удаленности от парков и кв.м.: 0.01\n",
            "Корреляция удаленности от парков и конечной цены -0.02\n"
          ]
        },
        {
          "data": {
            "image/png": "[encoded data removed]",
            "text/plain": [
              "<Figure size 432x288 with 1 Axes>"
            ]
          },
          "metadata": {},
          "output_type": "display_data"
        }
      ],
      "source": [
        "data.pivot_table(index='parks_nearest',values='last_price').hist(bins=100) #(bins=100,grid(True)\n",
        "\n",
        "corr_parks=data['sm_price'].corr(data['parks_nearest']).round(2)\n",
        "corr_parks1=data['last_price'].corr(data['parks_nearest']).round(2)\n",
        "print ('Корреляция удаленности от парков и кв.м.:', corr_parks)\n",
        "print ('Корреляция удаленности от парков и конечной цены', corr_parks1)"
      ]
    },
    {
      "cell_type": "code",
      "execution_count": null,
      "metadata": {
        "id": "Ty1ibVuI7BJf",
        "outputId": "6db393fa-8ff1-478c-a96f-4b82f41ab90c"
      },
      "outputs": [
        {
          "data": {
            "image/png": "[encoded data removed]",
            "text/plain": [
              "<Figure size 360x360 with 1 Axes>"
            ]
          },
          "metadata": {},
          "output_type": "display_data"
        },
        {
          "name": "stdout",
          "output_type": "stream",
          "text": [
            "Корреляция цены кв.м. и расстояния до ближайшего парка: 0.01\n"
          ]
        }
      ],
      "source": [
        "data.pivot_table(index='parks_nearest', values='sm_price').plot(grid=True, style='o', figsize=(5, 5))\n",
        "plt.show()\n",
        "corr_park=data['sm_price'].corr(data['parks_nearest']).round(2)\n",
        "\n",
        "print ('Корреляция цены кв.м. и расстояния до ближайшего парка:', corr_park)"
      ]
    },
    {
      "cell_type": "markdown",
      "metadata": {
        "id": "PHbT06W_7BJf"
      },
      "source": [
        "Нахождение парка поблизости не влияет на цену квадратного метра объекта, то же самое и по прудам."
      ]
    },
    {
      "cell_type": "code",
      "execution_count": null,
      "metadata": {
        "id": "bmjc2dhd7BJf",
        "outputId": "bb9eb1da-f62f-41b0-fd93-6ea7bec92d23"
      },
      "outputs": [
        {
          "data": {
            "image/png": "[encoded data removed]",
            "text/plain": [
              "<Figure size 432x288 with 1 Axes>"
            ]
          },
          "metadata": {},
          "output_type": "display_data"
        },
        {
          "name": "stdout",
          "output_type": "stream",
          "text": [
            "Среднее время продажи квартиры: 181 дн.\n",
            "Медианное время продажи квартиры: 95 дн.\n"
          ]
        },
        {
          "data": {
            "text/plain": [
              "count    20385.000000\n",
              "mean       180.688398\n",
              "std        219.703492\n",
              "min          1.000000\n",
              "25%         45.000000\n",
              "50%         95.000000\n",
              "75%        231.000000\n",
              "max       1580.000000\n",
              "Name: days_exposition, dtype: float64"
            ]
          },
          "execution_count": 98,
          "metadata": {},
          "output_type": "execute_result"
        },
        {
          "data": {
            "image/png": "[encoded data removed]",
            "text/plain": [
              "<Figure size 432x288 with 1 Axes>"
            ]
          },
          "metadata": {},
          "output_type": "display_data"
        }
      ],
      "source": [
        "#создаем переменную, куда включаем непустые данные о дате экспозиции квартиры\n",
        "sale_period=data[~data['days_exposition'].isna()]\n",
        "# строим гистограмму\n",
        "sale_period['days_exposition'].hist(bins=100, range=(0,200))\n",
        "plt.show()\n",
        "# рассчитываем среднее, медианное время и строим диаграмму размаха\n",
        "print('Среднее время продажи квартиры: {:.0f} дн.'.format(sale_period['days_exposition'].mean()))\n",
        "print('Медианное время продажи квартиры: {:.0f} дн.'.format(sale_period['days_exposition'].median()))\n",
        "sale_period[['days_exposition']].boxplot()\n",
        "plt.ylim(1, 500)\n",
        "data['days_exposition'].describe()"
      ]
    },
    {
      "cell_type": "markdown",
      "metadata": {
        "id": "eu4ZEZLN7BJf"
      },
      "source": [
        "Время продажи в рамках диаграммы размаха составлет от 45 до 231 дня, следовательно продажи до этого срока можно назвать быстрыми, а больше - медленными"
      ]
    },
    {
      "cell_type": "code",
      "execution_count": null,
      "metadata": {
        "id": "wvanj6187BJg",
        "outputId": "9418aee1-2ccd-4a43-b383-25eb62b7e187"
      },
      "outputs": [
        {
          "name": "stdout",
          "output_type": "stream",
          "text": [
            "                      mean          median\n",
            "           days_exposition days_exposition\n",
            "total_area                                \n",
            "12.0            200.000000           200.0\n",
            "13.0            147.666667            24.0\n",
            "13.2             19.000000            19.0\n",
            "14.0              4.000000             4.0\n",
            "15.0             43.500000            43.5\n",
            "...                    ...             ...\n",
            "500.0           176.500000           176.5\n",
            "507.0          1078.000000          1078.0\n",
            "590.0            14.000000            14.0\n",
            "618.0           111.000000           111.0\n",
            "900.0           106.000000           106.0\n",
            "\n",
            "[1997 rows x 2 columns]\n"
          ]
        },
        {
          "data": {
            "image/png": "[encoded data removed]",
            "text/plain": [
              "<Figure size 576x360 with 1 Axes>"
            ]
          },
          "metadata": {},
          "output_type": "display_data"
        }
      ],
      "source": [
        "days_to_total_area = data.pivot_table(\n",
        "    index = 'total_area',\n",
        "    values = 'days_exposition',\n",
        "    aggfunc = ['mean','median'])\n",
        "print (days_to_total_area)\n",
        "data.pivot_table(index='days_exposition', values='total_area').plot(grid=True, style='o', figsize=(8, 5))\n",
        "plt.show()"
      ]
    },
    {
      "cell_type": "markdown",
      "metadata": {
        "id": "5uiY30bM7BJg"
      },
      "source": [
        "Диаграмма рассеивания показывает, что чем больше площадь квартиры - тем больше смещается срок ее продажи в сторону увеличения."
      ]
    },
    {
      "cell_type": "code",
      "execution_count": null,
      "metadata": {
        "id": "32AzqE4T7BJh",
        "outputId": "853a32e7-1c5e-47d7-bcc7-37a975c3d82b"
      },
      "outputs": [
        {
          "name": "stdout",
          "output_type": "stream",
          "text": [
            "Санкт-Петербург    15643\n",
            "Мурино               586\n",
            "Кудрово              470\n",
            "Шушары               439\n",
            "Всеволожск           398\n",
            "Пушкин               369\n",
            "Колпино              338\n",
            "Парголово            327\n",
            "Гатчина              307\n",
            "Выборг               237\n",
            "Name: locality_name, dtype: int64\n"
          ]
        }
      ],
      "source": [
        "print (data['locality_name'].value_counts().head(10))"
      ]
    },
    {
      "cell_type": "code",
      "execution_count": null,
      "metadata": {
        "id": "Hx_QSomV7BJh",
        "outputId": "050df978-b295-45a9-9f5b-060e40fec70e"
      },
      "outputs": [
        {
          "name": "stdout",
          "output_type": "stream",
          "text": [
            "                 sm_price\n",
            "locality_name            \n",
            "Всеволожск          68654\n",
            "Выборг              58141\n",
            "Гатчина             68746\n",
            "Колпино             75424\n",
            "Кудрово             95260\n",
            "Мурино              86041\n",
            "Парголово           90175\n",
            "Пушкин             103125\n",
            "Санкт-Петербург    114795\n",
            "Шушары              78551\n",
            "Минимальная цена квадратного метра составляет: 111.83 рублей\n",
            "Максимальная цена квадратного метра составляет: 1907500.0 рублей\n",
            "Средняя цена квадратного метра составляет: 99355.78 рублей\n"
          ]
        },
        {
          "data": {
            "text/plain": [
              "count      23554.00\n",
              "mean       99355.78\n",
              "std        50189.70\n",
              "min          111.83\n",
              "25%        76563.41\n",
              "50%        95000.00\n",
              "75%       114206.13\n",
              "max      1907500.00\n",
              "Name: sm_price, dtype: float64"
            ]
          },
          "execution_count": 100,
          "metadata": {},
          "output_type": "execute_result"
        },
        {
          "data": {
            "image/png": "[encoded data removed]",
            "text/plain": [
              "<Figure size 432x288 with 1 Axes>"
            ]
          },
          "metadata": {},
          "output_type": "display_data"
        }
      ],
      "source": [
        "# Посчитайте среднюю цену одного квадратного метра в 10 населённых пунктах с наибольшим\n",
        "# числом объявлений — постройте сводную таблицу с количеством объявлений и средней ценой\n",
        "# квадратного метра для этих населенных пунктов.\n",
        "topten = data['locality_name'].value_counts().head(10)\n",
        "locality_sm_price = data.query('locality_name in (@topten.index)').pivot_table(values='sm_price', index='locality_name')\n",
        "locality_sm_price = locality_sm_price.astype(int)\n",
        "locality_sm_price.sort_values('sm_price', ascending=False)\n",
        "print (locality_sm_price)\n",
        "# Выделите населённые пункты с самой высокой и низкой стоимостью квадратного метра.\n",
        "min_sm_price = data['sm_price'].min().round(2)\n",
        "max_sm_price = data['sm_price'].max().round(2)\n",
        "median_sm_price = data['sm_price'].mean().round(2)\n",
        "sm_price = data[['sm_price']]\n",
        "sm_price.boxplot()\n",
        "plt.ylim(1, 200000)\n",
        "print (f'Минимальная цена квадратного метра составляет: {min_sm_price} рублей')\n",
        "print (f'Максимальная цена квадратного метра составляет: {max_sm_price} рублей')\n",
        "print (f'Средняя цена квадратного метра составляет: {median_sm_price} рублей')\n",
        "data['sm_price'].describe().round(2)\n"
      ]
    },
    {
      "cell_type": "code",
      "execution_count": null,
      "metadata": {
        "id": "6weHvga67BJh",
        "outputId": "b6c025d1-179c-468d-bf70-17ecbaf75145"
      },
      "outputs": [
        {
          "data": {
            "text/plain": [
              "'самые дешевые объекты находятся в'"
            ]
          },
          "metadata": {},
          "output_type": "display_data"
        },
        {
          "data": {
            "text/html": [
              "<div>\n",
              "<style scoped>\n",
              "    .dataframe tbody tr th:only-of-type {\n",
              "        vertical-align: middle;\n",
              "    }\n",
              "\n",
              "    .dataframe tbody tr th {\n",
              "        vertical-align: top;\n",
              "    }\n",
              "\n",
              "    .dataframe thead th {\n",
              "        text-align: right;\n",
              "    }\n",
              "</style>\n",
              "<table border=\"1\" class=\"dataframe\">\n",
              "  <thead>\n",
              "    <tr style=\"text-align: right;\">\n",
              "      <th></th>\n",
              "      <th>mean</th>\n",
              "      <th>median</th>\n",
              "    </tr>\n",
              "    <tr>\n",
              "      <th>locality_name</th>\n",
              "      <th></th>\n",
              "      <th></th>\n",
              "    </tr>\n",
              "  </thead>\n",
              "  <tbody>\n",
              "    <tr>\n",
              "      <th>Старополье</th>\n",
              "      <td>11206.221198</td>\n",
              "      <td>11000.0</td>\n",
              "    </tr>\n",
              "  </tbody>\n",
              "</table>\n",
              "</div>"
            ],
            "text/plain": [
              "                       mean   median\n",
              "locality_name                       \n",
              "Старополье     11206.221198  11000.0"
            ]
          },
          "metadata": {},
          "output_type": "display_data"
        },
        {
          "data": {
            "text/plain": [
              "'самые дорогие объекты находятся в'"
            ]
          },
          "metadata": {},
          "output_type": "display_data"
        },
        {
          "data": {
            "text/html": [
              "<div>\n",
              "<style scoped>\n",
              "    .dataframe tbody tr th:only-of-type {\n",
              "        vertical-align: middle;\n",
              "    }\n",
              "\n",
              "    .dataframe tbody tr th {\n",
              "        vertical-align: top;\n",
              "    }\n",
              "\n",
              "    .dataframe thead th {\n",
              "        text-align: right;\n",
              "    }\n",
              "</style>\n",
              "<table border=\"1\" class=\"dataframe\">\n",
              "  <thead>\n",
              "    <tr style=\"text-align: right;\">\n",
              "      <th></th>\n",
              "      <th>mean</th>\n",
              "      <th>median</th>\n",
              "    </tr>\n",
              "    <tr>\n",
              "      <th>locality_name</th>\n",
              "      <th></th>\n",
              "      <th></th>\n",
              "    </tr>\n",
              "  </thead>\n",
              "  <tbody>\n",
              "    <tr>\n",
              "      <th>Зеленогорск</th>\n",
              "      <td>115122.799198</td>\n",
              "      <td>101666.666667</td>\n",
              "    </tr>\n",
              "  </tbody>\n",
              "</table>\n",
              "</div>"
            ],
            "text/plain": [
              "                        mean         median\n",
              "locality_name                              \n",
              "Зеленогорск    115122.799198  101666.666667"
            ]
          },
          "metadata": {},
          "output_type": "display_data"
        }
      ],
      "source": [
        "pivot_table_min_max = data.pivot_table(\n",
        "    index = 'locality_name',\n",
        "    values = 'sm_price',\n",
        "    aggfunc = ['mean','median'])\n",
        "pivot_table_min_max.columns = ['mean','median']\n",
        "display('самые дешевые объекты находятся в',\n",
        "        pivot_table_min_max[pivot_table_min_max['mean'] == pivot_table_min_max['mean'].min()])\n",
        "display('самые дорогие объекты находятся в',\n",
        "        pivot_table_min_max[pivot_table_min_max['mean'] == pivot_table_min_max['mean'].max()])"
      ]
    },
    {
      "cell_type": "markdown",
      "metadata": {
        "id": "w17FM3BR7BJi"
      },
      "source": [
        "    В ходе анализа было установлено, что больше всего предложений было по следующим населенным пунктам:\n",
        "\n",
        "Санкт-Петербург      15651\n",
        "\n",
        "посёлок Мурино         520\n",
        "\n",
        "посёлок Шушары         439\n",
        "\n",
        "Всеволожск             398\n",
        "\n",
        "Пушкин                 369\n",
        "\n",
        "Колпино                338\n",
        "\n",
        "посёлок Парголово      327\n",
        "\n",
        "Гатчина                307\n",
        "\n",
        "деревня Кудрово        299\n",
        "\n",
        "Выборг                 237"
      ]
    },
    {
      "cell_type": "markdown",
      "metadata": {
        "id": "lm-BoZp07BJi"
      },
      "source": [
        "<div class=\"alert alert-info\"> <b>Комментарий студента:</b>\n",
        "Исследуемые данные говорят нам о том, что минимальная цена квадратного метра составляет: 111.83 рублей, максимальная цена квадратного метра составляет: 1 907 500 рублей., а средняя цена квадратного метра составляет: 99 356 рублей, отбросив \"шумы\" будем ориентироваться на цену от 76 563 руб. (первый квантиль) до 114206 руб. (третий квантиль).\n",
        "    \n",
        "    Самые дешевые объекты - в Старополье (средняя цена 11000 руб. за кв.м.), самые дорогие - в Зеленодольске (средняя цена - 101666 руб. за кв.м.) - рассчет ниже"
      ]
    },
    {
      "cell_type": "markdown",
      "metadata": {
        "id": "xv0fKn437BJi"
      },
      "source": [
        "Первый и последний этажи традиционно дешевле остальных на 11-17%\n",
        "\n",
        "другой 98285.5\n",
        "\n",
        "первый 81236.8\n",
        "\n",
        "последний 87719.3"
      ]
    },
    {
      "cell_type": "code",
      "execution_count": null,
      "metadata": {
        "id": "J5HdPvkx7BJj",
        "outputId": "e2ecc1d4-b6c1-473e-d04b-9b33b42f4c1b"
      },
      "outputs": [
        {
          "data": {
            "text/plain": [
              "<AxesSubplot:title={'center':'График цены в зависимости от удаленности от центра'}, xlabel='км от центра'>"
            ]
          },
          "execution_count": 143,
          "metadata": {},
          "output_type": "execute_result"
        },
        {
          "data": {
            "image/png": "[encoded data removed]",
            "text/plain": [
              "<Figure size 432x288 with 1 Axes>"
            ]
          },
          "metadata": {},
          "output_type": "display_data"
        }
      ],
      "source": [
        "center_table=data.pivot_table(index='center_km', values='last_price', aggfunc='mean').round(0)\n",
        "center_table\n",
        "center_table.plot(title='График цены в зависимости от удаленности от центра', xlabel='км от центра')"
      ]
    },
    {
      "cell_type": "code",
      "execution_count": null,
      "metadata": {
        "id": "_5GdKOak7BJj",
        "outputId": "0e003098-ccf0-4c21-b2d4-e527d8220e79"
      },
      "outputs": [
        {
          "data": {
            "image/png": "[encoded data removed]",
            "text/plain": [
              "<Figure size 720x360 with 1 Axes>"
            ]
          },
          "metadata": {},
          "output_type": "display_data"
        }
      ],
      "source": [
        "(\n",
        "    data.pivot_table(index='cityCenters_nearest', values='last_price')\n",
        "    .plot(grid=True, style='o', figsize=(10, 5))\n",
        ")\n",
        "plt.show()"
      ]
    },
    {
      "cell_type": "code",
      "execution_count": null,
      "metadata": {
        "id": "TIcnaNQG7BJj"
      },
      "outputs": [],
      "source": []
    },
    {
      "cell_type": "markdown",
      "metadata": {
        "id": "tgmfZUTI7BJj"
      },
      "source": [
        "### Общий вывод"
      ]
    },
    {
      "cell_type": "markdown",
      "metadata": {
        "id": "3fkIFz1i7BJk"
      },
      "source": [
        "В предоставленном датасете представлено 23699 записей, есть пропущенные значения, в том числе в важных для анализа столбцах (жилая площадь и название населенного пункта), а также аномальные значения и неправильные типы данных. Явных дубликатов в данных не обнаружено.\n",
        "\n",
        "В 297 локациях не указано расстояние до центра, в основном это деревни и поселки, но для целей анализа можно предложить разработчикам поправить это. Также разброс цен при равном расстоянии может указывать на \"элитность\" или \"маргинальность\" тех или иных локаций.\n",
        "\n",
        "В ходе анализа было установлено, что больше всего предложений было по следующим населенным пунктам:\n",
        "\n",
        "Санкт-Петербург      15651\n",
        "\n",
        "посёлок Мурино         520\n",
        "\n",
        "посёлок Шушары         439\n",
        "\n",
        "Всеволожск             398\n",
        "\n",
        "Пушкин                 369\n",
        "\n",
        "Колпино                338\n",
        "\n",
        "посёлок Парголово      327\n",
        "\n",
        "Гатчина                307\n",
        "\n",
        "деревня Кудрово        299\n",
        "\n",
        "Выборг                 237\n",
        "\n",
        "Средняя стимость квадратного метра в 10 локациях с наибольшим предложением - 83576 руб. Самые дешевые объекты - в Старополье (средняя цена 11000 руб. за кв.м.), самые дорогие - в Зеленодольске (средняя цена - 101666 руб. за кв.м.)\n",
        "Время продажи в рамках диаграммы размаха составлет от 45 до 231 дня, следовательно продажи до этого срока можно назвать быстрыми, а больше - медленными.  Диаграмма рассеивания указывает на закономерность: чем больше площадь квартиры - тем больше смещается срок ее продажи в сторону увеличения.\n",
        "\n",
        "Корреляция цены и удаленности от центра: -0.32 говорит о слабой взаимосвязи между ценой за кв.м. и удаленностью от центра (отрицательный коэффициент и к конечной цене). Помимо удаленности на цену могут влиять: состояние объекта, т.е. вероятно, какие-то дорогостоящие объекты расположенны в экологичных/красивых/модных локациях (типа Курортный район, Лисий нос, Ольгино?), при этом коэффициент корреляции квадратного метра больше зависит от удаленности от центра, чем коэффициент корреляции общей площади.\n",
        "\n",
        "Корреляция цены и расстояния до ближайшего парка: 0.01, т.е. Нахождение парка поблизости не влияет на цену квадратного метра объекта, так же как и пруда.\n",
        "\n",
        "Корреляция цены и количества комнат: 0.05, наиболее востребованы 1-3 комнатные квартиры, а 2-комнатные бесспорный лидер продаж. Судя по диаграмме размаха, объекты больше 6 комнат встречаются редко и могут относится к выбросам.\n",
        "\n",
        "Корреляция цены и этажности:  0.15 - этажность также не оказывает решающего влияния на цену квадратного метра\n",
        "\n",
        "Корреляция цены и жилой площади: 0.23\n",
        "\n",
        "Корреляция цены и высоты потолков: 0.29 - влияние не существенное. Высота потолков не оказывает решающего влияния на стоимость квадратного метра. В среднем продавались квартиры с высотой потолков от 2,4 до 2,8 м, есть выбросы в меньшую и большую стороны, встречаются квартиры с высотой потолков до 5 метров, как единичные случаи.\n",
        "\n",
        "Корреляция цены и общей площади: 0.3. Больше всего выставлялось квартир площадью от 40 до 50 кв.м. Также выбросами можно считать квартиры площадью от 115 м, но с этой отметки могут начинаться элитные квартиры как в исторических домах, так и недавно построенных элитных комплексах, которые представлены на рынке не так широко, как типовое жилье, однако оказывают существенное влияние на общую оценку рынка недвижимости рассматриваемого города и области.\n",
        "\n",
        "Корреляция площади кухни и кв.м.: 0.3, корреляция площади кухни и конечной цены 0.65, выводы в целом повторяются. На диаграмму размаха достаточно сильно влияет показатель студий, в которых площадь кухни считается как 0 (т.к. отдельно не выделена), поэтому медианное значение сильно смещено и выбросов снизу вообще нет, большая часть квартир имеют площадь кухни от 0 (студии) до 12 метров, с 19 м. уже начинаются выбросы.\n",
        "\n",
        "Корреляция цены объекта и квадратного метра: 0.73. Очевидно, что чем больше по метражу - тем выше цена, но на цену квадратного метра также оказывает влияние еще ряд факторов.\n",
        "\n",
        "Наименьшее влияние (даже обратная зависимость) наблюдается в отношении расстояния от центра, это характерная для питера черта, так как близость к другим объектам типа Финского залива также играла на повышение цены. Наибольшее влияние на цену квадратного метра оказывает общая цена объекта, что очевидно говорит о том, что квадратный метр дорогого элитного жилья стоит больше обычного.\n",
        "\n",
        "Исследуемые данные говорят нам о том, что минимальная цена квадратного метра составляет: 111.83 рублей, максимальная цена квадратного метра составляет: 1 907 500 рублей., а средняя цена квадратного метра составляет: 99 356 рублей, отбросив \"шумы\" будем ориентироваться на цену от 76 563 руб. (первый квантиль) до 114206 руб. (третий квантиль).\n",
        "\n",
        "Первый и последний этажи традиционно дешевле остальных на 11-17%   \n",
        "\n",
        "другой      98285.542169\n",
        "\n",
        "первый      81236.814346\n",
        "\n",
        "последний   87719.298246\n",
        "\n",
        "Рекомендуется при покупке жилья ориентироваться на средние показатели и коэффициенты, полученые в результате анализа данного датасета."
      ]
    },
    {
      "cell_type": "code",
      "execution_count": null,
      "metadata": {
        "id": "_IeWa-Vo7BJl"
      },
      "outputs": [],
      "source": []
    }
  ],
  "metadata": {
    "ExecuteTimeLog": [
      {
        "duration": 89,
        "start_time": "2023-11-29T16:44:58.214Z"
      },
      {
        "duration": 717,
        "start_time": "2023-11-29T16:45:22.551Z"
      },
      {
        "duration": 16,
        "start_time": "2023-11-29T16:45:28.236Z"
      },
      {
        "duration": 15,
        "start_time": "2023-11-29T16:53:48.234Z"
      },
      {
        "duration": 9,
        "start_time": "2023-11-29T16:55:28.743Z"
      },
      {
        "duration": 2473,
        "start_time": "2023-11-29T16:59:26.008Z"
      },
      {
        "duration": 68,
        "start_time": "2023-11-29T17:03:36.451Z"
      },
      {
        "duration": 5,
        "start_time": "2023-11-29T17:03:50.941Z"
      },
      {
        "duration": 8,
        "start_time": "2023-11-29T17:08:38.120Z"
      },
      {
        "duration": 9,
        "start_time": "2023-11-29T17:08:44.772Z"
      },
      {
        "duration": 50,
        "start_time": "2023-11-29T17:11:28.739Z"
      },
      {
        "duration": 7,
        "start_time": "2023-11-29T17:11:42.403Z"
      },
      {
        "duration": 5,
        "start_time": "2023-11-29T17:12:02.953Z"
      },
      {
        "duration": 13,
        "start_time": "2023-11-29T17:12:22.271Z"
      },
      {
        "duration": 3,
        "start_time": "2023-11-29T17:13:04.679Z"
      },
      {
        "duration": 6,
        "start_time": "2023-11-29T17:14:02.065Z"
      },
      {
        "duration": 7,
        "start_time": "2023-11-29T17:14:09.537Z"
      },
      {
        "duration": 3,
        "start_time": "2023-11-29T17:14:26.187Z"
      },
      {
        "duration": 5,
        "start_time": "2023-11-29T17:14:50.018Z"
      },
      {
        "duration": 8,
        "start_time": "2023-11-29T17:15:12.235Z"
      },
      {
        "duration": 100,
        "start_time": "2023-11-29T18:11:30.801Z"
      },
      {
        "duration": 15,
        "start_time": "2023-11-29T18:11:38.635Z"
      },
      {
        "duration": 92,
        "start_time": "2023-11-29T19:03:15.004Z"
      },
      {
        "duration": 85,
        "start_time": "2023-11-29T19:04:00.392Z"
      },
      {
        "duration": 6,
        "start_time": "2023-11-29T20:45:04.673Z"
      },
      {
        "duration": 110,
        "start_time": "2023-11-29T20:45:29.563Z"
      },
      {
        "duration": 9,
        "start_time": "2023-11-29T20:45:40.614Z"
      },
      {
        "duration": 9,
        "start_time": "2023-11-29T20:46:34.770Z"
      },
      {
        "duration": 28,
        "start_time": "2023-11-29T21:13:09.318Z"
      },
      {
        "duration": 23,
        "start_time": "2023-11-29T21:15:36.653Z"
      },
      {
        "duration": 13,
        "start_time": "2023-11-29T21:20:28.954Z"
      },
      {
        "duration": 12,
        "start_time": "2023-11-29T21:21:16.258Z"
      },
      {
        "duration": 12,
        "start_time": "2023-11-29T21:21:21.820Z"
      },
      {
        "duration": 12,
        "start_time": "2023-11-29T21:22:42.957Z"
      },
      {
        "duration": 4,
        "start_time": "2023-11-29T21:22:52.058Z"
      },
      {
        "duration": 6,
        "start_time": "2023-11-29T21:27:03.070Z"
      },
      {
        "duration": 76,
        "start_time": "2023-11-29T21:30:59.763Z"
      },
      {
        "duration": 111,
        "start_time": "2023-11-29T21:32:06.700Z"
      },
      {
        "duration": 5,
        "start_time": "2023-11-29T21:33:06.798Z"
      },
      {
        "duration": 6,
        "start_time": "2023-11-29T21:34:14.206Z"
      },
      {
        "duration": 100,
        "start_time": "2023-11-29T21:34:47.524Z"
      },
      {
        "duration": 35,
        "start_time": "2023-11-29T21:41:57.736Z"
      },
      {
        "duration": 11,
        "start_time": "2023-11-29T21:50:19.967Z"
      },
      {
        "duration": 9,
        "start_time": "2023-11-29T21:53:52.842Z"
      },
      {
        "duration": 52,
        "start_time": "2023-11-30T14:19:50.909Z"
      },
      {
        "duration": 1255,
        "start_time": "2023-11-30T14:20:03.838Z"
      },
      {
        "duration": 25,
        "start_time": "2023-11-30T14:20:05.096Z"
      },
      {
        "duration": 20,
        "start_time": "2023-11-30T14:20:05.123Z"
      },
      {
        "duration": 2178,
        "start_time": "2023-11-30T14:20:05.144Z"
      },
      {
        "duration": 32,
        "start_time": "2023-11-30T14:20:07.324Z"
      },
      {
        "duration": 102,
        "start_time": "2023-11-30T14:20:07.358Z"
      },
      {
        "duration": 71,
        "start_time": "2023-11-30T14:20:07.462Z"
      },
      {
        "duration": 65,
        "start_time": "2023-11-30T14:20:07.534Z"
      },
      {
        "duration": 46,
        "start_time": "2023-11-30T14:20:07.600Z"
      },
      {
        "duration": 130,
        "start_time": "2023-11-30T14:20:07.648Z"
      },
      {
        "duration": 1606,
        "start_time": "2023-11-30T15:29:43.450Z"
      },
      {
        "duration": 778,
        "start_time": "2023-11-30T15:29:58.257Z"
      },
      {
        "duration": 16,
        "start_time": "2023-11-30T15:29:59.038Z"
      },
      {
        "duration": 15,
        "start_time": "2023-11-30T15:29:59.056Z"
      },
      {
        "duration": 2297,
        "start_time": "2023-11-30T15:29:59.073Z"
      },
      {
        "duration": 51,
        "start_time": "2023-11-30T15:30:01.373Z"
      },
      {
        "duration": 15,
        "start_time": "2023-11-30T15:30:01.426Z"
      },
      {
        "duration": 41,
        "start_time": "2023-11-30T15:30:01.443Z"
      },
      {
        "duration": 39,
        "start_time": "2023-11-30T15:30:01.486Z"
      },
      {
        "duration": 48,
        "start_time": "2023-11-30T15:30:01.527Z"
      },
      {
        "duration": 165,
        "start_time": "2023-11-30T15:30:01.577Z"
      },
      {
        "duration": 2361,
        "start_time": "2023-11-30T15:30:01.744Z"
      },
      {
        "duration": 91,
        "start_time": "2023-11-30T15:30:36.894Z"
      },
      {
        "duration": 1362,
        "start_time": "2023-11-30T15:31:29.478Z"
      },
      {
        "duration": 1545,
        "start_time": "2023-11-30T15:32:28.777Z"
      },
      {
        "duration": 4,
        "start_time": "2023-11-30T15:45:25.305Z"
      },
      {
        "duration": 13,
        "start_time": "2023-11-30T15:45:26.027Z"
      },
      {
        "duration": 5,
        "start_time": "2023-11-30T15:45:26.736Z"
      },
      {
        "duration": 1524,
        "start_time": "2023-11-30T15:46:53.573Z"
      },
      {
        "duration": 100,
        "start_time": "2023-11-30T16:48:59.946Z"
      },
      {
        "duration": 77,
        "start_time": "2023-11-30T16:49:07.031Z"
      },
      {
        "duration": 81,
        "start_time": "2023-11-30T16:52:50.773Z"
      },
      {
        "duration": 83,
        "start_time": "2023-11-30T16:53:26.947Z"
      },
      {
        "duration": 1440,
        "start_time": "2023-11-30T16:53:34.984Z"
      },
      {
        "duration": 1401,
        "start_time": "2023-11-30T16:56:08.425Z"
      },
      {
        "duration": 6,
        "start_time": "2023-11-30T17:20:51.202Z"
      },
      {
        "duration": 71,
        "start_time": "2023-11-30T17:21:33.486Z"
      },
      {
        "duration": 16,
        "start_time": "2023-11-30T17:21:50.136Z"
      },
      {
        "duration": 77,
        "start_time": "2023-11-30T17:22:29.079Z"
      },
      {
        "duration": 5,
        "start_time": "2023-11-30T17:23:15.590Z"
      },
      {
        "duration": 16,
        "start_time": "2023-11-30T17:23:22.789Z"
      },
      {
        "duration": 80,
        "start_time": "2023-11-30T17:27:04.691Z"
      },
      {
        "duration": 789,
        "start_time": "2023-11-30T17:32:18.002Z"
      },
      {
        "duration": 15,
        "start_time": "2023-11-30T17:32:18.793Z"
      },
      {
        "duration": 14,
        "start_time": "2023-11-30T17:32:18.810Z"
      },
      {
        "duration": 2064,
        "start_time": "2023-11-30T17:32:18.826Z"
      },
      {
        "duration": 30,
        "start_time": "2023-11-30T17:32:20.892Z"
      },
      {
        "duration": 20,
        "start_time": "2023-11-30T17:32:20.923Z"
      },
      {
        "duration": 67,
        "start_time": "2023-11-30T17:32:20.945Z"
      },
      {
        "duration": 16,
        "start_time": "2023-11-30T17:32:21.014Z"
      },
      {
        "duration": 23,
        "start_time": "2023-11-30T17:32:21.032Z"
      },
      {
        "duration": 132,
        "start_time": "2023-11-30T17:32:21.058Z"
      },
      {
        "duration": 1461,
        "start_time": "2023-11-30T17:32:21.191Z"
      },
      {
        "duration": 89,
        "start_time": "2023-11-30T17:32:22.654Z"
      },
      {
        "duration": 13,
        "start_time": "2023-11-30T17:32:30.801Z"
      },
      {
        "duration": 3,
        "start_time": "2023-11-30T17:33:37.582Z"
      },
      {
        "duration": 76,
        "start_time": "2023-11-30T17:44:45.793Z"
      },
      {
        "duration": 11,
        "start_time": "2023-11-30T17:45:18.875Z"
      },
      {
        "duration": 18,
        "start_time": "2023-11-30T17:45:32.021Z"
      },
      {
        "duration": 11,
        "start_time": "2023-11-30T17:46:35.464Z"
      },
      {
        "duration": 19,
        "start_time": "2023-11-30T17:47:07.739Z"
      },
      {
        "duration": 13,
        "start_time": "2023-11-30T17:49:23.923Z"
      },
      {
        "duration": 26,
        "start_time": "2023-11-30T18:24:14.348Z"
      },
      {
        "duration": 26,
        "start_time": "2023-11-30T18:24:20.795Z"
      },
      {
        "duration": 105,
        "start_time": "2023-11-30T18:26:20.963Z"
      },
      {
        "duration": 5,
        "start_time": "2023-11-30T18:27:25.042Z"
      },
      {
        "duration": 15,
        "start_time": "2023-11-30T18:27:38.084Z"
      },
      {
        "duration": 15,
        "start_time": "2023-11-30T18:28:50.111Z"
      },
      {
        "duration": 14,
        "start_time": "2023-11-30T18:29:08.766Z"
      },
      {
        "duration": 18,
        "start_time": "2023-11-30T18:29:21.105Z"
      },
      {
        "duration": 16,
        "start_time": "2023-11-30T18:29:41.242Z"
      },
      {
        "duration": 15,
        "start_time": "2023-11-30T18:30:09.429Z"
      },
      {
        "duration": 4,
        "start_time": "2023-11-30T18:31:02.592Z"
      },
      {
        "duration": 6,
        "start_time": "2023-11-30T18:48:11.491Z"
      },
      {
        "duration": 14,
        "start_time": "2023-11-30T18:48:39.283Z"
      },
      {
        "duration": 5,
        "start_time": "2023-11-30T19:17:32.418Z"
      },
      {
        "duration": 4,
        "start_time": "2023-11-30T19:37:42.976Z"
      },
      {
        "duration": 84,
        "start_time": "2023-11-30T19:38:55.716Z"
      },
      {
        "duration": 63,
        "start_time": "2023-11-30T19:39:29.473Z"
      },
      {
        "duration": 94,
        "start_time": "2023-11-30T19:39:48.601Z"
      },
      {
        "duration": 10,
        "start_time": "2023-11-30T19:46:15.025Z"
      },
      {
        "duration": 20,
        "start_time": "2023-11-30T19:46:23.837Z"
      },
      {
        "duration": 21,
        "start_time": "2023-11-30T19:46:41.344Z"
      },
      {
        "duration": 21,
        "start_time": "2023-11-30T19:47:18.357Z"
      },
      {
        "duration": 24,
        "start_time": "2023-11-30T19:47:40.851Z"
      },
      {
        "duration": 354,
        "start_time": "2023-11-30T19:49:59.459Z"
      },
      {
        "duration": 16,
        "start_time": "2023-11-30T19:50:48.139Z"
      },
      {
        "duration": 30,
        "start_time": "2023-11-30T19:51:04.093Z"
      },
      {
        "duration": 24,
        "start_time": "2023-11-30T19:54:15.858Z"
      },
      {
        "duration": 8097,
        "start_time": "2023-11-30T19:55:44.508Z"
      },
      {
        "duration": 7941,
        "start_time": "2023-11-30T19:56:08.425Z"
      },
      {
        "duration": 7933,
        "start_time": "2023-11-30T19:56:21.938Z"
      },
      {
        "duration": 198,
        "start_time": "2023-11-30T19:56:58.302Z"
      },
      {
        "duration": 19,
        "start_time": "2023-11-30T19:57:19.163Z"
      },
      {
        "duration": 21,
        "start_time": "2023-11-30T19:57:46.459Z"
      },
      {
        "duration": 49,
        "start_time": "2023-12-01T10:37:38.345Z"
      },
      {
        "duration": 6,
        "start_time": "2023-12-01T10:38:12.534Z"
      },
      {
        "duration": 951,
        "start_time": "2023-12-01T10:38:20.296Z"
      },
      {
        "duration": 16,
        "start_time": "2023-12-01T10:38:21.249Z"
      },
      {
        "duration": 14,
        "start_time": "2023-12-01T10:38:21.267Z"
      },
      {
        "duration": 1914,
        "start_time": "2023-12-01T10:38:21.282Z"
      },
      {
        "duration": 30,
        "start_time": "2023-12-01T10:38:23.199Z"
      },
      {
        "duration": 73,
        "start_time": "2023-12-01T10:38:23.231Z"
      },
      {
        "duration": 6,
        "start_time": "2023-12-01T10:38:23.306Z"
      },
      {
        "duration": 29,
        "start_time": "2023-12-01T10:38:23.314Z"
      },
      {
        "duration": 5,
        "start_time": "2023-12-01T10:38:23.345Z"
      },
      {
        "duration": 12,
        "start_time": "2023-12-01T10:38:23.352Z"
      },
      {
        "duration": 113,
        "start_time": "2023-12-01T10:38:23.366Z"
      },
      {
        "duration": 1403,
        "start_time": "2023-12-01T10:38:23.481Z"
      },
      {
        "duration": 47,
        "start_time": "2023-12-01T10:38:24.886Z"
      },
      {
        "duration": 31,
        "start_time": "2023-12-01T10:38:24.935Z"
      },
      {
        "duration": 97,
        "start_time": "2023-12-01T10:38:24.968Z"
      },
      {
        "duration": 30,
        "start_time": "2023-12-01T10:51:50.889Z"
      },
      {
        "duration": 34,
        "start_time": "2023-12-01T10:52:16.514Z"
      },
      {
        "duration": 29,
        "start_time": "2023-12-01T10:53:59.158Z"
      },
      {
        "duration": 28,
        "start_time": "2023-12-01T10:55:07.995Z"
      },
      {
        "duration": 135,
        "start_time": "2023-12-01T12:55:33.586Z"
      },
      {
        "duration": 11,
        "start_time": "2023-12-01T12:55:50.197Z"
      },
      {
        "duration": 7,
        "start_time": "2023-12-01T12:55:58.779Z"
      },
      {
        "duration": 48,
        "start_time": "2023-12-01T17:51:05.208Z"
      },
      {
        "duration": 1275,
        "start_time": "2023-12-01T17:51:51.602Z"
      },
      {
        "duration": 7,
        "start_time": "2023-12-01T17:52:04.324Z"
      },
      {
        "duration": 83,
        "start_time": "2023-12-01T17:54:06.027Z"
      },
      {
        "duration": 17,
        "start_time": "2023-12-01T17:55:49.152Z"
      },
      {
        "duration": 7,
        "start_time": "2023-12-01T17:57:08.429Z"
      },
      {
        "duration": 7,
        "start_time": "2023-12-01T17:57:22.595Z"
      },
      {
        "duration": 18,
        "start_time": "2023-12-01T17:57:43.182Z"
      },
      {
        "duration": 13,
        "start_time": "2023-12-01T18:00:53.929Z"
      },
      {
        "duration": 16,
        "start_time": "2023-12-01T18:18:05.020Z"
      },
      {
        "duration": 13,
        "start_time": "2023-12-01T18:18:18.661Z"
      },
      {
        "duration": 6,
        "start_time": "2023-12-01T19:35:37.457Z"
      },
      {
        "duration": 82,
        "start_time": "2023-12-01T19:36:48.139Z"
      },
      {
        "duration": 11,
        "start_time": "2023-12-01T19:40:32.537Z"
      },
      {
        "duration": 12,
        "start_time": "2023-12-01T19:41:05.357Z"
      },
      {
        "duration": 11,
        "start_time": "2023-12-01T19:41:26.867Z"
      },
      {
        "duration": 9,
        "start_time": "2023-12-01T19:41:59.911Z"
      },
      {
        "duration": 13,
        "start_time": "2023-12-01T19:42:23.767Z"
      },
      {
        "duration": 6,
        "start_time": "2023-12-01T19:42:24.475Z"
      },
      {
        "duration": 10,
        "start_time": "2023-12-01T19:42:25.881Z"
      },
      {
        "duration": 736,
        "start_time": "2023-12-01T19:42:34.547Z"
      },
      {
        "duration": 15,
        "start_time": "2023-12-01T19:42:35.285Z"
      },
      {
        "duration": 16,
        "start_time": "2023-12-01T19:42:35.301Z"
      },
      {
        "duration": 1862,
        "start_time": "2023-12-01T19:42:35.330Z"
      },
      {
        "duration": 28,
        "start_time": "2023-12-01T19:42:37.194Z"
      },
      {
        "duration": 72,
        "start_time": "2023-12-01T19:42:37.223Z"
      },
      {
        "duration": 8,
        "start_time": "2023-12-01T19:42:37.297Z"
      },
      {
        "duration": 14,
        "start_time": "2023-12-01T19:42:37.307Z"
      },
      {
        "duration": 7,
        "start_time": "2023-12-01T19:42:37.331Z"
      },
      {
        "duration": 10,
        "start_time": "2023-12-01T19:42:37.339Z"
      },
      {
        "duration": 5,
        "start_time": "2023-12-01T19:42:37.351Z"
      },
      {
        "duration": 110,
        "start_time": "2023-12-01T19:42:37.357Z"
      },
      {
        "duration": 1392,
        "start_time": "2023-12-01T19:42:37.468Z"
      },
      {
        "duration": 66,
        "start_time": "2023-12-01T19:42:38.864Z"
      },
      {
        "duration": 29,
        "start_time": "2023-12-01T19:42:38.932Z"
      },
      {
        "duration": 7,
        "start_time": "2023-12-01T19:42:38.963Z"
      },
      {
        "duration": 95,
        "start_time": "2023-12-01T19:42:38.972Z"
      },
      {
        "duration": 0,
        "start_time": "2023-12-01T19:42:39.069Z"
      },
      {
        "duration": 10,
        "start_time": "2023-12-01T19:44:47.448Z"
      },
      {
        "duration": 746,
        "start_time": "2023-12-01T19:46:56.197Z"
      },
      {
        "duration": 15,
        "start_time": "2023-12-01T19:46:56.944Z"
      },
      {
        "duration": 17,
        "start_time": "2023-12-01T19:46:56.961Z"
      },
      {
        "duration": 1880,
        "start_time": "2023-12-01T19:46:56.980Z"
      },
      {
        "duration": 30,
        "start_time": "2023-12-01T19:46:58.863Z"
      },
      {
        "duration": 75,
        "start_time": "2023-12-01T19:46:58.894Z"
      },
      {
        "duration": 7,
        "start_time": "2023-12-01T19:46:58.971Z"
      },
      {
        "duration": 15,
        "start_time": "2023-12-01T19:46:58.980Z"
      },
      {
        "duration": 8,
        "start_time": "2023-12-01T19:46:58.996Z"
      },
      {
        "duration": 34,
        "start_time": "2023-12-01T19:46:59.006Z"
      },
      {
        "duration": 32,
        "start_time": "2023-12-01T19:46:59.042Z"
      },
      {
        "duration": 103,
        "start_time": "2023-12-01T19:46:59.075Z"
      },
      {
        "duration": 1332,
        "start_time": "2023-12-01T19:46:59.179Z"
      },
      {
        "duration": 61,
        "start_time": "2023-12-01T19:47:00.513Z"
      },
      {
        "duration": 32,
        "start_time": "2023-12-01T19:47:00.576Z"
      },
      {
        "duration": 25,
        "start_time": "2023-12-01T19:47:00.610Z"
      },
      {
        "duration": 106,
        "start_time": "2023-12-01T19:47:00.636Z"
      },
      {
        "duration": 0,
        "start_time": "2023-12-01T19:47:00.745Z"
      },
      {
        "duration": 69,
        "start_time": "2023-12-01T19:51:42.184Z"
      },
      {
        "duration": 14,
        "start_time": "2023-12-01T19:51:54.540Z"
      },
      {
        "duration": 749,
        "start_time": "2023-12-01T19:52:12.148Z"
      },
      {
        "duration": 15,
        "start_time": "2023-12-01T19:52:12.899Z"
      },
      {
        "duration": 33,
        "start_time": "2023-12-01T19:52:12.915Z"
      },
      {
        "duration": 1834,
        "start_time": "2023-12-01T19:52:12.950Z"
      },
      {
        "duration": 30,
        "start_time": "2023-12-01T19:52:14.787Z"
      },
      {
        "duration": 74,
        "start_time": "2023-12-01T19:52:14.818Z"
      },
      {
        "duration": 6,
        "start_time": "2023-12-01T19:52:14.893Z"
      },
      {
        "duration": 31,
        "start_time": "2023-12-01T19:52:14.901Z"
      },
      {
        "duration": 6,
        "start_time": "2023-12-01T19:52:14.933Z"
      },
      {
        "duration": 12,
        "start_time": "2023-12-01T19:52:14.941Z"
      },
      {
        "duration": 25,
        "start_time": "2023-12-01T19:52:14.954Z"
      },
      {
        "duration": 103,
        "start_time": "2023-12-01T19:52:14.980Z"
      },
      {
        "duration": 1289,
        "start_time": "2023-12-01T19:52:15.084Z"
      },
      {
        "duration": 43,
        "start_time": "2023-12-01T19:52:16.375Z"
      },
      {
        "duration": 49,
        "start_time": "2023-12-01T19:52:16.431Z"
      },
      {
        "duration": 7,
        "start_time": "2023-12-01T19:52:16.481Z"
      },
      {
        "duration": 84,
        "start_time": "2023-12-01T19:52:16.490Z"
      },
      {
        "duration": 0,
        "start_time": "2023-12-01T19:52:16.575Z"
      },
      {
        "duration": 19,
        "start_time": "2023-12-01T19:53:02.198Z"
      },
      {
        "duration": 267,
        "start_time": "2023-12-01T19:53:54.769Z"
      },
      {
        "duration": 14,
        "start_time": "2023-12-01T19:55:10.256Z"
      },
      {
        "duration": 12,
        "start_time": "2023-12-01T19:56:13.776Z"
      },
      {
        "duration": 714,
        "start_time": "2023-12-01T19:56:30.762Z"
      },
      {
        "duration": 17,
        "start_time": "2023-12-01T19:56:31.479Z"
      },
      {
        "duration": 23,
        "start_time": "2023-12-01T19:56:31.498Z"
      },
      {
        "duration": 1885,
        "start_time": "2023-12-01T19:56:31.523Z"
      },
      {
        "duration": 29,
        "start_time": "2023-12-01T19:56:33.410Z"
      },
      {
        "duration": 70,
        "start_time": "2023-12-01T19:56:33.440Z"
      },
      {
        "duration": 7,
        "start_time": "2023-12-01T19:56:33.511Z"
      },
      {
        "duration": 14,
        "start_time": "2023-12-01T19:56:33.531Z"
      },
      {
        "duration": 7,
        "start_time": "2023-12-01T19:56:33.546Z"
      },
      {
        "duration": 15,
        "start_time": "2023-12-01T19:56:33.555Z"
      },
      {
        "duration": 6,
        "start_time": "2023-12-01T19:56:33.571Z"
      },
      {
        "duration": 114,
        "start_time": "2023-12-01T19:56:33.579Z"
      },
      {
        "duration": 1339,
        "start_time": "2023-12-01T19:56:33.695Z"
      },
      {
        "duration": 43,
        "start_time": "2023-12-01T19:56:35.037Z"
      },
      {
        "duration": 28,
        "start_time": "2023-12-01T19:56:35.081Z"
      },
      {
        "duration": 26,
        "start_time": "2023-12-01T19:56:35.110Z"
      },
      {
        "duration": 76,
        "start_time": "2023-12-01T19:56:35.137Z"
      },
      {
        "duration": 0,
        "start_time": "2023-12-01T19:56:35.214Z"
      },
      {
        "duration": 20,
        "start_time": "2023-12-01T20:00:04.776Z"
      },
      {
        "duration": 2200,
        "start_time": "2023-12-01T20:00:38.078Z"
      },
      {
        "duration": 16,
        "start_time": "2023-12-01T20:00:40.280Z"
      },
      {
        "duration": 54,
        "start_time": "2023-12-01T20:00:40.297Z"
      },
      {
        "duration": 1924,
        "start_time": "2023-12-01T20:00:40.352Z"
      },
      {
        "duration": 30,
        "start_time": "2023-12-01T20:00:42.279Z"
      },
      {
        "duration": 69,
        "start_time": "2023-12-01T20:00:42.311Z"
      },
      {
        "duration": 6,
        "start_time": "2023-12-01T20:00:42.382Z"
      },
      {
        "duration": 46,
        "start_time": "2023-12-01T20:00:42.390Z"
      },
      {
        "duration": 19,
        "start_time": "2023-12-01T20:00:42.438Z"
      },
      {
        "duration": 25,
        "start_time": "2023-12-01T20:00:42.459Z"
      },
      {
        "duration": 21,
        "start_time": "2023-12-01T20:00:42.485Z"
      },
      {
        "duration": 103,
        "start_time": "2023-12-01T20:00:42.508Z"
      },
      {
        "duration": 1298,
        "start_time": "2023-12-01T20:00:42.613Z"
      },
      {
        "duration": 49,
        "start_time": "2023-12-01T20:00:43.913Z"
      },
      {
        "duration": 29,
        "start_time": "2023-12-01T20:00:43.964Z"
      },
      {
        "duration": 7,
        "start_time": "2023-12-01T20:00:43.994Z"
      },
      {
        "duration": 97,
        "start_time": "2023-12-01T20:00:44.002Z"
      },
      {
        "duration": 0,
        "start_time": "2023-12-01T20:00:44.100Z"
      },
      {
        "duration": 47,
        "start_time": "2023-12-02T06:03:26.685Z"
      },
      {
        "duration": 893,
        "start_time": "2023-12-02T06:03:33.683Z"
      },
      {
        "duration": 16,
        "start_time": "2023-12-02T06:03:34.579Z"
      },
      {
        "duration": 14,
        "start_time": "2023-12-02T06:03:34.597Z"
      },
      {
        "duration": 1827,
        "start_time": "2023-12-02T06:03:34.613Z"
      },
      {
        "duration": 28,
        "start_time": "2023-12-02T06:03:36.442Z"
      },
      {
        "duration": 70,
        "start_time": "2023-12-02T06:03:36.472Z"
      },
      {
        "duration": 6,
        "start_time": "2023-12-02T06:03:36.544Z"
      },
      {
        "duration": 17,
        "start_time": "2023-12-02T06:03:36.552Z"
      },
      {
        "duration": 7,
        "start_time": "2023-12-02T06:03:36.570Z"
      },
      {
        "duration": 14,
        "start_time": "2023-12-02T06:03:36.578Z"
      },
      {
        "duration": 5,
        "start_time": "2023-12-02T06:03:36.594Z"
      },
      {
        "duration": 113,
        "start_time": "2023-12-02T06:03:36.600Z"
      },
      {
        "duration": 1343,
        "start_time": "2023-12-02T06:03:36.715Z"
      },
      {
        "duration": 41,
        "start_time": "2023-12-02T06:03:38.060Z"
      },
      {
        "duration": 43,
        "start_time": "2023-12-02T06:03:38.103Z"
      },
      {
        "duration": 6,
        "start_time": "2023-12-02T06:03:38.147Z"
      },
      {
        "duration": 84,
        "start_time": "2023-12-02T06:03:38.155Z"
      },
      {
        "duration": 0,
        "start_time": "2023-12-02T06:03:38.241Z"
      },
      {
        "duration": 39,
        "start_time": "2023-12-02T09:58:04.030Z"
      },
      {
        "duration": 726,
        "start_time": "2023-12-02T09:58:52.537Z"
      },
      {
        "duration": 17,
        "start_time": "2023-12-02T09:58:53.265Z"
      },
      {
        "duration": 15,
        "start_time": "2023-12-02T09:58:53.283Z"
      },
      {
        "duration": 1904,
        "start_time": "2023-12-02T09:58:53.300Z"
      },
      {
        "duration": 29,
        "start_time": "2023-12-02T09:58:55.206Z"
      },
      {
        "duration": 73,
        "start_time": "2023-12-02T09:58:55.237Z"
      },
      {
        "duration": 21,
        "start_time": "2023-12-02T09:58:55.312Z"
      },
      {
        "duration": 13,
        "start_time": "2023-12-02T09:58:55.334Z"
      },
      {
        "duration": 6,
        "start_time": "2023-12-02T09:58:55.349Z"
      },
      {
        "duration": 25,
        "start_time": "2023-12-02T09:58:55.357Z"
      },
      {
        "duration": 5,
        "start_time": "2023-12-02T09:58:55.384Z"
      },
      {
        "duration": 117,
        "start_time": "2023-12-02T09:58:55.391Z"
      },
      {
        "duration": 47,
        "start_time": "2023-12-02T09:58:55.509Z"
      },
      {
        "duration": 8,
        "start_time": "2023-12-02T09:58:55.558Z"
      },
      {
        "duration": 91,
        "start_time": "2023-12-02T09:58:55.568Z"
      },
      {
        "duration": 0,
        "start_time": "2023-12-02T09:58:55.660Z"
      },
      {
        "duration": 6,
        "start_time": "2023-12-02T10:24:35.106Z"
      },
      {
        "duration": 17,
        "start_time": "2023-12-02T10:24:43.313Z"
      },
      {
        "duration": 8,
        "start_time": "2023-12-02T10:28:59.384Z"
      },
      {
        "duration": 11,
        "start_time": "2023-12-02T10:29:12.900Z"
      },
      {
        "duration": 12,
        "start_time": "2023-12-02T10:30:29.030Z"
      },
      {
        "duration": 11,
        "start_time": "2023-12-02T10:31:16.532Z"
      },
      {
        "duration": 11,
        "start_time": "2023-12-02T10:32:01.211Z"
      },
      {
        "duration": 11,
        "start_time": "2023-12-02T10:33:30.414Z"
      },
      {
        "duration": 21,
        "start_time": "2023-12-02T10:51:13.557Z"
      },
      {
        "duration": 7,
        "start_time": "2023-12-02T10:51:26.376Z"
      },
      {
        "duration": 34,
        "start_time": "2023-12-02T10:52:20.482Z"
      },
      {
        "duration": 43,
        "start_time": "2023-12-02T10:53:27.367Z"
      },
      {
        "duration": 35,
        "start_time": "2023-12-02T10:53:59.221Z"
      },
      {
        "duration": 94,
        "start_time": "2023-12-02T11:05:49.718Z"
      },
      {
        "duration": 84,
        "start_time": "2023-12-02T11:06:11.801Z"
      },
      {
        "duration": 79,
        "start_time": "2023-12-02T11:06:22.493Z"
      },
      {
        "duration": 117,
        "start_time": "2023-12-02T11:08:21.279Z"
      },
      {
        "duration": 79,
        "start_time": "2023-12-02T11:08:26.935Z"
      },
      {
        "duration": 74,
        "start_time": "2023-12-02T11:08:35.912Z"
      },
      {
        "duration": 88,
        "start_time": "2023-12-02T11:26:26.331Z"
      },
      {
        "duration": 76,
        "start_time": "2023-12-02T11:26:42.498Z"
      },
      {
        "duration": 91,
        "start_time": "2023-12-02T11:28:04.045Z"
      },
      {
        "duration": 257,
        "start_time": "2023-12-02T11:28:20.695Z"
      },
      {
        "duration": 68,
        "start_time": "2023-12-02T11:29:31.466Z"
      },
      {
        "duration": 93,
        "start_time": "2023-12-02T11:29:47.719Z"
      },
      {
        "duration": 78,
        "start_time": "2023-12-02T11:29:55.472Z"
      },
      {
        "duration": 90,
        "start_time": "2023-12-02T11:35:20.984Z"
      },
      {
        "duration": 29,
        "start_time": "2023-12-02T11:35:36.682Z"
      },
      {
        "duration": 20,
        "start_time": "2023-12-02T11:35:53.658Z"
      },
      {
        "duration": 19,
        "start_time": "2023-12-02T13:25:06.871Z"
      },
      {
        "duration": 96,
        "start_time": "2023-12-02T13:25:11.012Z"
      },
      {
        "duration": 80,
        "start_time": "2023-12-02T13:25:15.284Z"
      },
      {
        "duration": 79,
        "start_time": "2023-12-02T13:26:03.034Z"
      },
      {
        "duration": 9,
        "start_time": "2023-12-02T13:26:15.127Z"
      },
      {
        "duration": 19,
        "start_time": "2023-12-02T13:27:22.514Z"
      },
      {
        "duration": 30,
        "start_time": "2023-12-02T13:29:56.439Z"
      },
      {
        "duration": 36,
        "start_time": "2023-12-02T13:30:09.548Z"
      },
      {
        "duration": 799,
        "start_time": "2023-12-02T13:38:07.684Z"
      },
      {
        "duration": 743,
        "start_time": "2023-12-02T13:38:36.295Z"
      },
      {
        "duration": 37,
        "start_time": "2023-12-02T13:49:45.275Z"
      },
      {
        "duration": 8,
        "start_time": "2023-12-02T13:52:05.085Z"
      },
      {
        "duration": 45,
        "start_time": "2023-12-03T09:14:26.392Z"
      },
      {
        "duration": 1176,
        "start_time": "2023-12-03T09:14:37.965Z"
      },
      {
        "duration": 19,
        "start_time": "2023-12-03T09:14:39.144Z"
      },
      {
        "duration": 16,
        "start_time": "2023-12-03T09:14:39.165Z"
      },
      {
        "duration": 2051,
        "start_time": "2023-12-03T09:14:39.183Z"
      },
      {
        "duration": 33,
        "start_time": "2023-12-03T09:14:41.237Z"
      },
      {
        "duration": 87,
        "start_time": "2023-12-03T09:14:41.272Z"
      },
      {
        "duration": 7,
        "start_time": "2023-12-03T09:14:41.360Z"
      },
      {
        "duration": 16,
        "start_time": "2023-12-03T09:14:41.368Z"
      },
      {
        "duration": 7,
        "start_time": "2023-12-03T09:14:41.385Z"
      },
      {
        "duration": 29,
        "start_time": "2023-12-03T09:14:41.394Z"
      },
      {
        "duration": 86,
        "start_time": "2023-12-03T09:14:41.425Z"
      },
      {
        "duration": 0,
        "start_time": "2023-12-03T09:14:41.513Z"
      },
      {
        "duration": 0,
        "start_time": "2023-12-03T09:14:41.515Z"
      },
      {
        "duration": 0,
        "start_time": "2023-12-03T09:14:41.516Z"
      },
      {
        "duration": 0,
        "start_time": "2023-12-03T09:14:41.517Z"
      },
      {
        "duration": 0,
        "start_time": "2023-12-03T09:14:41.518Z"
      },
      {
        "duration": 0,
        "start_time": "2023-12-03T09:14:41.519Z"
      },
      {
        "duration": 0,
        "start_time": "2023-12-03T09:14:41.520Z"
      },
      {
        "duration": 0,
        "start_time": "2023-12-03T09:14:41.521Z"
      },
      {
        "duration": 666,
        "start_time": "2023-12-03T09:14:54.217Z"
      },
      {
        "duration": 13,
        "start_time": "2023-12-03T09:15:48.312Z"
      },
      {
        "duration": 119,
        "start_time": "2023-12-03T09:16:27.542Z"
      },
      {
        "duration": 108,
        "start_time": "2023-12-03T09:16:46.917Z"
      },
      {
        "duration": 103,
        "start_time": "2023-12-03T09:21:26.981Z"
      },
      {
        "duration": 186,
        "start_time": "2023-12-03T09:21:39.991Z"
      },
      {
        "duration": 42,
        "start_time": "2023-12-03T09:25:11.802Z"
      },
      {
        "duration": 329,
        "start_time": "2023-12-03T09:51:34.258Z"
      },
      {
        "duration": 145,
        "start_time": "2023-12-03T09:58:29.232Z"
      },
      {
        "duration": 146,
        "start_time": "2023-12-03T10:01:17.082Z"
      },
      {
        "duration": 153,
        "start_time": "2023-12-03T10:02:26.014Z"
      },
      {
        "duration": 299,
        "start_time": "2023-12-03T10:06:23.543Z"
      },
      {
        "duration": 323,
        "start_time": "2023-12-03T10:07:41.943Z"
      },
      {
        "duration": 312,
        "start_time": "2023-12-03T10:08:33.718Z"
      },
      {
        "duration": 298,
        "start_time": "2023-12-03T10:11:19.733Z"
      },
      {
        "duration": 304,
        "start_time": "2023-12-03T10:11:52.157Z"
      },
      {
        "duration": 7,
        "start_time": "2023-12-03T10:17:37.326Z"
      },
      {
        "duration": 131,
        "start_time": "2023-12-03T10:19:26.966Z"
      },
      {
        "duration": 134,
        "start_time": "2023-12-03T10:20:40.289Z"
      },
      {
        "duration": 151,
        "start_time": "2023-12-03T10:20:55.299Z"
      },
      {
        "duration": 26,
        "start_time": "2023-12-03T10:24:46.051Z"
      },
      {
        "duration": 26,
        "start_time": "2023-12-03T10:30:22.531Z"
      },
      {
        "duration": 46,
        "start_time": "2023-12-03T10:33:15.153Z"
      },
      {
        "duration": 21,
        "start_time": "2023-12-03T10:34:11.702Z"
      },
      {
        "duration": 328,
        "start_time": "2023-12-03T10:53:01.082Z"
      },
      {
        "duration": 66,
        "start_time": "2023-12-03T10:57:14.197Z"
      },
      {
        "duration": 114,
        "start_time": "2023-12-03T10:57:31.012Z"
      },
      {
        "duration": 5,
        "start_time": "2023-12-03T10:57:49.709Z"
      },
      {
        "duration": 5,
        "start_time": "2023-12-03T10:58:08.117Z"
      },
      {
        "duration": 145,
        "start_time": "2023-12-03T11:04:07.610Z"
      },
      {
        "duration": 163,
        "start_time": "2023-12-03T11:04:37.434Z"
      },
      {
        "duration": 242,
        "start_time": "2023-12-03T13:59:13.310Z"
      },
      {
        "duration": 8,
        "start_time": "2023-12-03T13:59:58.978Z"
      },
      {
        "duration": 219,
        "start_time": "2023-12-03T14:12:28.572Z"
      },
      {
        "duration": 617,
        "start_time": "2023-12-03T14:26:57.461Z"
      },
      {
        "duration": 628,
        "start_time": "2023-12-03T14:27:10.218Z"
      },
      {
        "duration": 16,
        "start_time": "2023-12-03T14:30:32.420Z"
      },
      {
        "duration": 123,
        "start_time": "2023-12-03T14:31:26.738Z"
      },
      {
        "duration": 126,
        "start_time": "2023-12-03T14:31:35.262Z"
      },
      {
        "duration": 10,
        "start_time": "2023-12-03T14:33:16.766Z"
      },
      {
        "duration": 10,
        "start_time": "2023-12-03T14:33:38.184Z"
      },
      {
        "duration": 1286,
        "start_time": "2023-12-03T14:34:37.630Z"
      },
      {
        "duration": 116,
        "start_time": "2023-12-03T14:37:29.412Z"
      },
      {
        "duration": 14,
        "start_time": "2023-12-03T14:44:44.081Z"
      },
      {
        "duration": 10,
        "start_time": "2023-12-03T14:45:31.873Z"
      },
      {
        "duration": 11,
        "start_time": "2023-12-03T14:45:49.836Z"
      },
      {
        "duration": 111,
        "start_time": "2023-12-03T14:55:33.285Z"
      },
      {
        "duration": 88,
        "start_time": "2023-12-03T15:07:53.204Z"
      },
      {
        "duration": 182,
        "start_time": "2023-12-03T15:10:04.361Z"
      },
      {
        "duration": 81,
        "start_time": "2023-12-03T15:27:37.987Z"
      },
      {
        "duration": 81,
        "start_time": "2023-12-03T15:27:58.487Z"
      },
      {
        "duration": 1507,
        "start_time": "2023-12-03T15:28:57.649Z"
      },
      {
        "duration": 1771,
        "start_time": "2023-12-03T15:30:08.976Z"
      },
      {
        "duration": 1740,
        "start_time": "2023-12-03T15:30:36.825Z"
      },
      {
        "duration": 17,
        "start_time": "2023-12-03T15:31:14.133Z"
      },
      {
        "duration": 16,
        "start_time": "2023-12-03T15:31:54.347Z"
      },
      {
        "duration": 766,
        "start_time": "2023-12-03T15:33:01.615Z"
      },
      {
        "duration": 15,
        "start_time": "2023-12-03T15:33:02.383Z"
      },
      {
        "duration": 37,
        "start_time": "2023-12-03T15:33:02.400Z"
      },
      {
        "duration": 2020,
        "start_time": "2023-12-03T15:33:02.438Z"
      },
      {
        "duration": 30,
        "start_time": "2023-12-03T15:33:04.461Z"
      },
      {
        "duration": 99,
        "start_time": "2023-12-03T15:33:04.492Z"
      },
      {
        "duration": 7,
        "start_time": "2023-12-03T15:33:04.593Z"
      },
      {
        "duration": 101,
        "start_time": "2023-12-03T15:33:04.602Z"
      },
      {
        "duration": 115,
        "start_time": "2023-12-03T15:33:04.704Z"
      },
      {
        "duration": 79,
        "start_time": "2023-12-03T15:33:04.821Z"
      },
      {
        "duration": 296,
        "start_time": "2023-12-03T15:33:04.902Z"
      },
      {
        "duration": 1256,
        "start_time": "2023-12-03T15:33:05.199Z"
      },
      {
        "duration": 0,
        "start_time": "2023-12-03T15:33:06.457Z"
      },
      {
        "duration": 0,
        "start_time": "2023-12-03T15:33:06.458Z"
      },
      {
        "duration": 0,
        "start_time": "2023-12-03T15:33:06.460Z"
      },
      {
        "duration": 0,
        "start_time": "2023-12-03T15:33:06.461Z"
      },
      {
        "duration": 0,
        "start_time": "2023-12-03T15:33:06.462Z"
      },
      {
        "duration": 0,
        "start_time": "2023-12-03T15:33:06.463Z"
      },
      {
        "duration": 0,
        "start_time": "2023-12-03T15:33:06.464Z"
      },
      {
        "duration": 0,
        "start_time": "2023-12-03T15:33:06.466Z"
      },
      {
        "duration": 0,
        "start_time": "2023-12-03T15:33:06.467Z"
      },
      {
        "duration": 0,
        "start_time": "2023-12-03T15:33:06.469Z"
      },
      {
        "duration": 0,
        "start_time": "2023-12-03T15:33:06.471Z"
      },
      {
        "duration": 14,
        "start_time": "2023-12-03T15:33:26.201Z"
      },
      {
        "duration": 1787,
        "start_time": "2023-12-03T15:34:50.780Z"
      },
      {
        "duration": 15,
        "start_time": "2023-12-03T15:34:59.712Z"
      },
      {
        "duration": 2402,
        "start_time": "2023-12-03T15:40:51.627Z"
      },
      {
        "duration": 3,
        "start_time": "2023-12-03T15:41:23.229Z"
      },
      {
        "duration": 71,
        "start_time": "2023-12-03T15:42:19.897Z"
      },
      {
        "duration": 3,
        "start_time": "2023-12-03T15:42:31.471Z"
      },
      {
        "duration": 3,
        "start_time": "2023-12-03T15:42:44.536Z"
      },
      {
        "duration": 2430,
        "start_time": "2023-12-03T15:56:12.419Z"
      },
      {
        "duration": 2437,
        "start_time": "2023-12-03T15:57:14.832Z"
      },
      {
        "duration": 126,
        "start_time": "2023-12-03T15:58:04.209Z"
      },
      {
        "duration": 164,
        "start_time": "2023-12-03T16:26:50.375Z"
      },
      {
        "duration": 2462,
        "start_time": "2023-12-03T16:27:56.085Z"
      },
      {
        "duration": 4,
        "start_time": "2023-12-03T16:29:00.956Z"
      },
      {
        "duration": 26,
        "start_time": "2023-12-03T16:32:53.081Z"
      },
      {
        "duration": 142,
        "start_time": "2023-12-03T16:33:32.305Z"
      },
      {
        "duration": 136,
        "start_time": "2023-12-03T16:37:36.261Z"
      },
      {
        "duration": 144,
        "start_time": "2023-12-03T16:39:09.199Z"
      },
      {
        "duration": 25,
        "start_time": "2023-12-03T16:40:11.789Z"
      },
      {
        "duration": 25,
        "start_time": "2023-12-03T16:40:20.554Z"
      },
      {
        "duration": 84,
        "start_time": "2023-12-03T16:40:26.197Z"
      },
      {
        "duration": 27,
        "start_time": "2023-12-03T16:41:07.955Z"
      },
      {
        "duration": 221,
        "start_time": "2023-12-03T16:41:34.620Z"
      },
      {
        "duration": 148,
        "start_time": "2023-12-03T16:42:58.136Z"
      },
      {
        "duration": 114,
        "start_time": "2023-12-03T16:43:17.034Z"
      },
      {
        "duration": 82,
        "start_time": "2023-12-03T16:43:33.445Z"
      },
      {
        "duration": 76,
        "start_time": "2023-12-03T16:44:15.359Z"
      },
      {
        "duration": 147,
        "start_time": "2023-12-03T16:45:07.946Z"
      },
      {
        "duration": 1144,
        "start_time": "2023-12-03T16:46:35.595Z"
      },
      {
        "duration": 18,
        "start_time": "2023-12-03T18:11:49.875Z"
      },
      {
        "duration": 21,
        "start_time": "2023-12-03T18:12:12.834Z"
      },
      {
        "duration": 803,
        "start_time": "2023-12-03T18:12:18.983Z"
      },
      {
        "duration": 19,
        "start_time": "2023-12-03T18:12:19.788Z"
      },
      {
        "duration": 16,
        "start_time": "2023-12-03T18:12:19.809Z"
      },
      {
        "duration": 2164,
        "start_time": "2023-12-03T18:12:19.826Z"
      },
      {
        "duration": 31,
        "start_time": "2023-12-03T18:12:21.992Z"
      },
      {
        "duration": 87,
        "start_time": "2023-12-03T18:12:22.025Z"
      },
      {
        "duration": 6,
        "start_time": "2023-12-03T18:12:22.114Z"
      },
      {
        "duration": 23,
        "start_time": "2023-12-03T18:12:22.122Z"
      },
      {
        "duration": 7,
        "start_time": "2023-12-03T18:12:22.147Z"
      },
      {
        "duration": 32,
        "start_time": "2023-12-03T18:12:22.156Z"
      },
      {
        "duration": 155,
        "start_time": "2023-12-03T18:12:22.190Z"
      },
      {
        "duration": 19,
        "start_time": "2023-12-03T18:12:22.347Z"
      },
      {
        "duration": 39,
        "start_time": "2023-12-03T18:12:22.367Z"
      },
      {
        "duration": 135,
        "start_time": "2023-12-03T18:12:22.409Z"
      },
      {
        "duration": 94,
        "start_time": "2023-12-03T18:12:22.547Z"
      },
      {
        "duration": 0,
        "start_time": "2023-12-03T18:12:22.642Z"
      },
      {
        "duration": 0,
        "start_time": "2023-12-03T18:12:22.644Z"
      },
      {
        "duration": 0,
        "start_time": "2023-12-03T18:12:22.645Z"
      },
      {
        "duration": 0,
        "start_time": "2023-12-03T18:12:22.646Z"
      },
      {
        "duration": 0,
        "start_time": "2023-12-03T18:12:22.647Z"
      },
      {
        "duration": 0,
        "start_time": "2023-12-03T18:12:22.648Z"
      },
      {
        "duration": 0,
        "start_time": "2023-12-03T18:12:22.649Z"
      },
      {
        "duration": 0,
        "start_time": "2023-12-03T18:12:22.650Z"
      },
      {
        "duration": 100,
        "start_time": "2023-12-03T18:18:43.917Z"
      },
      {
        "duration": 797,
        "start_time": "2023-12-03T18:19:01.986Z"
      },
      {
        "duration": 20,
        "start_time": "2023-12-03T18:19:02.786Z"
      },
      {
        "duration": 24,
        "start_time": "2023-12-03T18:19:02.809Z"
      },
      {
        "duration": 2095,
        "start_time": "2023-12-03T18:19:02.835Z"
      },
      {
        "duration": 31,
        "start_time": "2023-12-03T18:19:04.932Z"
      },
      {
        "duration": 85,
        "start_time": "2023-12-03T18:19:04.964Z"
      },
      {
        "duration": 7,
        "start_time": "2023-12-03T18:19:05.051Z"
      },
      {
        "duration": 26,
        "start_time": "2023-12-03T18:19:05.060Z"
      },
      {
        "duration": 7,
        "start_time": "2023-12-03T18:19:05.088Z"
      },
      {
        "duration": 15,
        "start_time": "2023-12-03T18:19:05.097Z"
      },
      {
        "duration": 136,
        "start_time": "2023-12-03T18:19:05.114Z"
      },
      {
        "duration": 18,
        "start_time": "2023-12-03T18:19:05.251Z"
      },
      {
        "duration": 40,
        "start_time": "2023-12-03T18:19:05.271Z"
      },
      {
        "duration": 119,
        "start_time": "2023-12-03T18:19:05.315Z"
      },
      {
        "duration": 73,
        "start_time": "2023-12-03T18:19:05.436Z"
      },
      {
        "duration": 0,
        "start_time": "2023-12-03T18:19:05.511Z"
      },
      {
        "duration": 0,
        "start_time": "2023-12-03T18:19:05.512Z"
      },
      {
        "duration": 0,
        "start_time": "2023-12-03T18:19:05.513Z"
      },
      {
        "duration": 0,
        "start_time": "2023-12-03T18:19:05.515Z"
      },
      {
        "duration": 0,
        "start_time": "2023-12-03T18:19:05.516Z"
      },
      {
        "duration": 0,
        "start_time": "2023-12-03T18:19:05.517Z"
      },
      {
        "duration": 0,
        "start_time": "2023-12-03T18:19:05.518Z"
      },
      {
        "duration": 0,
        "start_time": "2023-12-03T18:19:05.520Z"
      },
      {
        "duration": 2338,
        "start_time": "2023-12-03T18:19:47.708Z"
      },
      {
        "duration": 2300,
        "start_time": "2023-12-03T18:20:10.156Z"
      },
      {
        "duration": 2261,
        "start_time": "2023-12-03T18:20:13.179Z"
      },
      {
        "duration": 4,
        "start_time": "2023-12-03T18:20:28.266Z"
      },
      {
        "duration": 129,
        "start_time": "2023-12-03T18:35:15.158Z"
      },
      {
        "duration": 167,
        "start_time": "2023-12-03T18:35:23.110Z"
      },
      {
        "duration": 199,
        "start_time": "2023-12-03T18:37:19.799Z"
      },
      {
        "duration": 151,
        "start_time": "2023-12-03T18:38:07.512Z"
      },
      {
        "duration": 19,
        "start_time": "2023-12-03T18:39:36.523Z"
      },
      {
        "duration": 17,
        "start_time": "2023-12-03T18:43:27.945Z"
      },
      {
        "duration": 18,
        "start_time": "2023-12-03T18:44:02.004Z"
      },
      {
        "duration": 19,
        "start_time": "2023-12-03T18:44:25.947Z"
      },
      {
        "duration": 146,
        "start_time": "2023-12-03T18:44:34.083Z"
      },
      {
        "duration": 224,
        "start_time": "2023-12-03T18:45:20.682Z"
      },
      {
        "duration": 146,
        "start_time": "2023-12-03T18:47:13.754Z"
      },
      {
        "duration": 15,
        "start_time": "2023-12-03T18:48:07.402Z"
      },
      {
        "duration": 17,
        "start_time": "2023-12-03T18:48:25.082Z"
      },
      {
        "duration": 20,
        "start_time": "2023-12-03T18:48:36.529Z"
      },
      {
        "duration": 17,
        "start_time": "2023-12-03T18:48:53.396Z"
      },
      {
        "duration": 73,
        "start_time": "2023-12-03T18:51:25.134Z"
      },
      {
        "duration": 89,
        "start_time": "2023-12-03T18:51:32.214Z"
      },
      {
        "duration": 6,
        "start_time": "2023-12-03T18:51:56.381Z"
      },
      {
        "duration": 77,
        "start_time": "2023-12-03T18:53:32.836Z"
      },
      {
        "duration": 72,
        "start_time": "2023-12-03T18:53:42.645Z"
      },
      {
        "duration": 74,
        "start_time": "2023-12-03T18:54:00.618Z"
      },
      {
        "duration": 81,
        "start_time": "2023-12-03T18:54:27.488Z"
      },
      {
        "duration": 75,
        "start_time": "2023-12-03T18:54:34.014Z"
      },
      {
        "duration": 116,
        "start_time": "2023-12-03T18:55:45.406Z"
      },
      {
        "duration": 6,
        "start_time": "2023-12-03T18:56:40.130Z"
      },
      {
        "duration": 76,
        "start_time": "2023-12-03T18:57:03.449Z"
      },
      {
        "duration": 76,
        "start_time": "2023-12-03T18:57:15.099Z"
      },
      {
        "duration": 6,
        "start_time": "2023-12-03T18:57:26.579Z"
      },
      {
        "duration": 154,
        "start_time": "2023-12-03T19:05:50.388Z"
      },
      {
        "duration": 149,
        "start_time": "2023-12-03T19:16:10.663Z"
      },
      {
        "duration": 590,
        "start_time": "2023-12-03T19:16:23.946Z"
      },
      {
        "duration": 689,
        "start_time": "2023-12-03T19:17:22.365Z"
      },
      {
        "duration": 726,
        "start_time": "2023-12-03T19:19:44.152Z"
      },
      {
        "duration": 9,
        "start_time": "2023-12-03T20:07:33.977Z"
      },
      {
        "duration": 162,
        "start_time": "2023-12-03T20:10:32.955Z"
      },
      {
        "duration": 1225,
        "start_time": "2023-12-03T20:21:01.816Z"
      },
      {
        "duration": 47,
        "start_time": "2023-12-04T09:10:04.360Z"
      },
      {
        "duration": 1073,
        "start_time": "2023-12-04T09:10:17.610Z"
      },
      {
        "duration": 13,
        "start_time": "2023-12-04T09:10:18.685Z"
      },
      {
        "duration": 39,
        "start_time": "2023-12-04T09:10:18.699Z"
      },
      {
        "duration": 1643,
        "start_time": "2023-12-04T09:10:18.739Z"
      },
      {
        "duration": 27,
        "start_time": "2023-12-04T09:10:20.384Z"
      },
      {
        "duration": 60,
        "start_time": "2023-12-04T09:10:20.413Z"
      },
      {
        "duration": 6,
        "start_time": "2023-12-04T09:10:20.474Z"
      },
      {
        "duration": 12,
        "start_time": "2023-12-04T09:10:20.481Z"
      },
      {
        "duration": 6,
        "start_time": "2023-12-04T09:10:20.494Z"
      },
      {
        "duration": 5,
        "start_time": "2023-12-04T09:10:20.516Z"
      },
      {
        "duration": 100,
        "start_time": "2023-12-04T09:10:20.522Z"
      },
      {
        "duration": 17,
        "start_time": "2023-12-04T09:10:20.623Z"
      },
      {
        "duration": 5,
        "start_time": "2023-12-04T09:10:20.641Z"
      },
      {
        "duration": 105,
        "start_time": "2023-12-04T09:10:20.647Z"
      },
      {
        "duration": 1692,
        "start_time": "2023-12-04T09:10:20.753Z"
      },
      {
        "duration": 3,
        "start_time": "2023-12-04T09:10:22.446Z"
      },
      {
        "duration": 105,
        "start_time": "2023-12-04T09:10:22.451Z"
      },
      {
        "duration": 119,
        "start_time": "2023-12-04T09:10:22.558Z"
      },
      {
        "duration": 115,
        "start_time": "2023-12-04T09:10:22.679Z"
      },
      {
        "duration": 6,
        "start_time": "2023-12-04T09:10:22.795Z"
      },
      {
        "duration": 135,
        "start_time": "2023-12-04T09:10:22.803Z"
      },
      {
        "duration": 1519,
        "start_time": "2023-12-04T09:10:22.940Z"
      },
      {
        "duration": 0,
        "start_time": "2023-12-04T09:10:24.461Z"
      },
      {
        "duration": 0,
        "start_time": "2023-12-04T09:10:24.462Z"
      },
      {
        "duration": 0,
        "start_time": "2023-12-04T09:10:24.463Z"
      },
      {
        "duration": 0,
        "start_time": "2023-12-04T09:10:24.464Z"
      },
      {
        "duration": 324,
        "start_time": "2023-12-04T09:37:56.008Z"
      },
      {
        "duration": 795,
        "start_time": "2023-12-04T09:40:14.233Z"
      },
      {
        "duration": 269,
        "start_time": "2023-12-04T09:40:54.616Z"
      },
      {
        "duration": 11,
        "start_time": "2023-12-04T09:41:30.263Z"
      },
      {
        "duration": 351,
        "start_time": "2023-12-04T09:41:57.484Z"
      },
      {
        "duration": 371,
        "start_time": "2023-12-04T09:42:22.886Z"
      },
      {
        "duration": 350,
        "start_time": "2023-12-04T09:42:37.357Z"
      },
      {
        "duration": 422,
        "start_time": "2023-12-04T09:42:57.400Z"
      },
      {
        "duration": 288,
        "start_time": "2023-12-04T09:44:31.498Z"
      },
      {
        "duration": 192,
        "start_time": "2023-12-04T09:48:14.495Z"
      },
      {
        "duration": 275,
        "start_time": "2023-12-04T09:48:26.367Z"
      },
      {
        "duration": 120,
        "start_time": "2023-12-04T09:59:29.885Z"
      },
      {
        "duration": 333,
        "start_time": "2023-12-04T10:24:38.366Z"
      },
      {
        "duration": 285,
        "start_time": "2023-12-04T10:25:35.822Z"
      },
      {
        "duration": 112,
        "start_time": "2023-12-04T10:27:52.294Z"
      },
      {
        "duration": 118,
        "start_time": "2023-12-04T10:28:39.777Z"
      },
      {
        "duration": 118,
        "start_time": "2023-12-04T10:29:05.085Z"
      },
      {
        "duration": 629,
        "start_time": "2023-12-04T10:29:33.739Z"
      },
      {
        "duration": 13,
        "start_time": "2023-12-04T10:29:34.369Z"
      },
      {
        "duration": 12,
        "start_time": "2023-12-04T10:29:34.383Z"
      },
      {
        "duration": 1569,
        "start_time": "2023-12-04T10:29:34.396Z"
      },
      {
        "duration": 24,
        "start_time": "2023-12-04T10:29:35.967Z"
      },
      {
        "duration": 58,
        "start_time": "2023-12-04T10:29:35.993Z"
      },
      {
        "duration": 6,
        "start_time": "2023-12-04T10:29:36.052Z"
      },
      {
        "duration": 14,
        "start_time": "2023-12-04T10:29:36.059Z"
      },
      {
        "duration": 6,
        "start_time": "2023-12-04T10:29:36.074Z"
      },
      {
        "duration": 4,
        "start_time": "2023-12-04T10:29:36.082Z"
      },
      {
        "duration": 113,
        "start_time": "2023-12-04T10:29:36.087Z"
      },
      {
        "duration": 20,
        "start_time": "2023-12-04T10:29:36.202Z"
      },
      {
        "duration": 5,
        "start_time": "2023-12-04T10:29:36.223Z"
      },
      {
        "duration": 100,
        "start_time": "2023-12-04T10:29:36.229Z"
      },
      {
        "duration": 1637,
        "start_time": "2023-12-04T10:29:36.330Z"
      },
      {
        "duration": 3,
        "start_time": "2023-12-04T10:29:37.968Z"
      },
      {
        "duration": 102,
        "start_time": "2023-12-04T10:29:37.972Z"
      },
      {
        "duration": 111,
        "start_time": "2023-12-04T10:29:38.075Z"
      },
      {
        "duration": 116,
        "start_time": "2023-12-04T10:29:38.187Z"
      },
      {
        "duration": 12,
        "start_time": "2023-12-04T10:29:38.305Z"
      },
      {
        "duration": 127,
        "start_time": "2023-12-04T10:29:38.318Z"
      },
      {
        "duration": 295,
        "start_time": "2023-12-04T10:29:38.447Z"
      },
      {
        "duration": 0,
        "start_time": "2023-12-04T10:29:38.743Z"
      },
      {
        "duration": 0,
        "start_time": "2023-12-04T10:29:38.744Z"
      },
      {
        "duration": 0,
        "start_time": "2023-12-04T10:29:38.745Z"
      },
      {
        "duration": 0,
        "start_time": "2023-12-04T10:29:38.746Z"
      },
      {
        "duration": 187,
        "start_time": "2023-12-04T10:31:56.214Z"
      },
      {
        "duration": 285,
        "start_time": "2023-12-04T10:32:20.746Z"
      },
      {
        "duration": 120,
        "start_time": "2023-12-04T10:32:57.276Z"
      },
      {
        "duration": 5,
        "start_time": "2023-12-04T10:33:02.570Z"
      },
      {
        "duration": 13,
        "start_time": "2023-12-04T10:33:08.252Z"
      },
      {
        "duration": 8,
        "start_time": "2023-12-04T10:33:23.896Z"
      },
      {
        "duration": 11,
        "start_time": "2023-12-04T10:59:31.852Z"
      },
      {
        "duration": 145,
        "start_time": "2023-12-04T11:01:35.636Z"
      },
      {
        "duration": 415,
        "start_time": "2023-12-04T11:27:09.529Z"
      },
      {
        "duration": 150,
        "start_time": "2023-12-04T11:27:50.298Z"
      },
      {
        "duration": 358,
        "start_time": "2023-12-04T11:28:04.970Z"
      },
      {
        "duration": 285,
        "start_time": "2023-12-04T11:28:21.522Z"
      },
      {
        "duration": 279,
        "start_time": "2023-12-04T11:30:06.223Z"
      },
      {
        "duration": 13,
        "start_time": "2023-12-04T11:31:16.873Z"
      },
      {
        "duration": 1632,
        "start_time": "2023-12-04T11:32:03.601Z"
      },
      {
        "duration": 1640,
        "start_time": "2023-12-04T11:32:25.234Z"
      },
      {
        "duration": 135,
        "start_time": "2023-12-04T13:24:05.257Z"
      },
      {
        "duration": 175,
        "start_time": "2023-12-04T13:26:50.577Z"
      },
      {
        "duration": 149,
        "start_time": "2023-12-04T13:42:15.285Z"
      },
      {
        "duration": 140,
        "start_time": "2023-12-04T13:42:29.052Z"
      },
      {
        "duration": 14,
        "start_time": "2023-12-04T13:42:56.288Z"
      },
      {
        "duration": 4,
        "start_time": "2023-12-04T13:43:08.289Z"
      },
      {
        "duration": 17,
        "start_time": "2023-12-04T13:47:16.827Z"
      },
      {
        "duration": 13,
        "start_time": "2023-12-04T13:49:02.598Z"
      },
      {
        "duration": 5,
        "start_time": "2023-12-04T13:55:27.907Z"
      },
      {
        "duration": 7,
        "start_time": "2023-12-04T13:57:21.402Z"
      },
      {
        "duration": 8,
        "start_time": "2023-12-04T13:57:32.458Z"
      },
      {
        "duration": 128,
        "start_time": "2023-12-04T14:00:44.226Z"
      },
      {
        "duration": 115,
        "start_time": "2023-12-04T14:01:11.239Z"
      },
      {
        "duration": 115,
        "start_time": "2023-12-04T14:01:17.070Z"
      },
      {
        "duration": 145,
        "start_time": "2023-12-04T14:03:29.626Z"
      },
      {
        "duration": 266,
        "start_time": "2023-12-04T14:07:36.493Z"
      },
      {
        "duration": 15,
        "start_time": "2023-12-04T15:19:17.714Z"
      },
      {
        "duration": 8,
        "start_time": "2023-12-04T15:20:02.472Z"
      },
      {
        "duration": 7,
        "start_time": "2023-12-04T15:20:14.604Z"
      },
      {
        "duration": 60,
        "start_time": "2023-12-04T15:25:32.381Z"
      },
      {
        "duration": 106,
        "start_time": "2023-12-04T15:39:30.807Z"
      },
      {
        "duration": 99,
        "start_time": "2023-12-04T15:49:35.192Z"
      },
      {
        "duration": 77,
        "start_time": "2023-12-04T15:49:40.417Z"
      },
      {
        "duration": 116,
        "start_time": "2023-12-04T15:49:51.648Z"
      },
      {
        "duration": 5,
        "start_time": "2023-12-04T15:50:40.206Z"
      },
      {
        "duration": 163,
        "start_time": "2023-12-04T15:51:43.607Z"
      },
      {
        "duration": 1708,
        "start_time": "2023-12-04T16:20:57.492Z"
      },
      {
        "duration": 175,
        "start_time": "2023-12-04T16:21:52.254Z"
      },
      {
        "duration": 8,
        "start_time": "2023-12-04T16:25:54.866Z"
      },
      {
        "duration": 688,
        "start_time": "2023-12-04T16:32:25.567Z"
      },
      {
        "duration": 70,
        "start_time": "2023-12-04T16:32:58.751Z"
      },
      {
        "duration": 6,
        "start_time": "2023-12-04T16:36:54.958Z"
      },
      {
        "duration": 607,
        "start_time": "2023-12-04T16:38:31.862Z"
      },
      {
        "duration": 12,
        "start_time": "2023-12-04T16:38:32.471Z"
      },
      {
        "duration": 11,
        "start_time": "2023-12-04T16:38:32.484Z"
      },
      {
        "duration": 1536,
        "start_time": "2023-12-04T16:38:32.497Z"
      },
      {
        "duration": 25,
        "start_time": "2023-12-04T16:38:34.035Z"
      },
      {
        "duration": 59,
        "start_time": "2023-12-04T16:38:34.061Z"
      },
      {
        "duration": 6,
        "start_time": "2023-12-04T16:38:34.122Z"
      },
      {
        "duration": 34,
        "start_time": "2023-12-04T16:38:34.129Z"
      },
      {
        "duration": 17,
        "start_time": "2023-12-04T16:38:34.164Z"
      },
      {
        "duration": 14,
        "start_time": "2023-12-04T16:38:34.184Z"
      },
      {
        "duration": 105,
        "start_time": "2023-12-04T16:38:34.199Z"
      },
      {
        "duration": 21,
        "start_time": "2023-12-04T16:38:34.305Z"
      },
      {
        "duration": 6,
        "start_time": "2023-12-04T16:38:34.327Z"
      },
      {
        "duration": 99,
        "start_time": "2023-12-04T16:38:34.334Z"
      },
      {
        "duration": 1608,
        "start_time": "2023-12-04T16:38:34.434Z"
      },
      {
        "duration": 2,
        "start_time": "2023-12-04T16:38:36.044Z"
      },
      {
        "duration": 246,
        "start_time": "2023-12-04T16:38:36.048Z"
      },
      {
        "duration": 0,
        "start_time": "2023-12-04T16:38:36.295Z"
      },
      {
        "duration": 0,
        "start_time": "2023-12-04T16:38:36.297Z"
      },
      {
        "duration": 0,
        "start_time": "2023-12-04T16:38:36.298Z"
      },
      {
        "duration": 0,
        "start_time": "2023-12-04T16:38:36.299Z"
      },
      {
        "duration": 0,
        "start_time": "2023-12-04T16:38:36.300Z"
      },
      {
        "duration": 0,
        "start_time": "2023-12-04T16:38:36.314Z"
      },
      {
        "duration": 0,
        "start_time": "2023-12-04T16:38:36.315Z"
      },
      {
        "duration": 0,
        "start_time": "2023-12-04T16:38:36.316Z"
      },
      {
        "duration": 0,
        "start_time": "2023-12-04T16:38:36.317Z"
      },
      {
        "duration": 0,
        "start_time": "2023-12-04T16:38:36.318Z"
      },
      {
        "duration": 0,
        "start_time": "2023-12-04T16:38:36.319Z"
      },
      {
        "duration": 55,
        "start_time": "2023-12-04T16:39:16.304Z"
      },
      {
        "duration": 1690,
        "start_time": "2023-12-04T16:41:21.898Z"
      },
      {
        "duration": 165,
        "start_time": "2023-12-04T16:42:55.974Z"
      },
      {
        "duration": 158,
        "start_time": "2023-12-04T16:43:29.558Z"
      },
      {
        "duration": 162,
        "start_time": "2023-12-04T16:43:44.586Z"
      },
      {
        "duration": 185,
        "start_time": "2023-12-04T16:44:04.303Z"
      },
      {
        "duration": 238,
        "start_time": "2023-12-04T16:44:28.130Z"
      },
      {
        "duration": 162,
        "start_time": "2023-12-04T16:44:39.728Z"
      },
      {
        "duration": 175,
        "start_time": "2023-12-04T16:45:09.646Z"
      },
      {
        "duration": 176,
        "start_time": "2023-12-04T16:45:17.446Z"
      },
      {
        "duration": 105,
        "start_time": "2023-12-04T16:47:49.060Z"
      },
      {
        "duration": 103,
        "start_time": "2023-12-04T16:47:58.193Z"
      },
      {
        "duration": 5,
        "start_time": "2023-12-04T16:48:41.198Z"
      },
      {
        "duration": 140,
        "start_time": "2023-12-04T16:50:06.962Z"
      },
      {
        "duration": 280,
        "start_time": "2023-12-04T16:50:43.937Z"
      },
      {
        "duration": 103,
        "start_time": "2023-12-04T16:51:23.536Z"
      },
      {
        "duration": 94,
        "start_time": "2023-12-04T16:52:18.365Z"
      },
      {
        "duration": 75,
        "start_time": "2023-12-04T16:52:53.154Z"
      },
      {
        "duration": 107,
        "start_time": "2023-12-04T16:53:15.978Z"
      },
      {
        "duration": 3,
        "start_time": "2023-12-04T16:58:02.361Z"
      },
      {
        "duration": 107,
        "start_time": "2023-12-04T16:58:34.276Z"
      },
      {
        "duration": 207,
        "start_time": "2023-12-04T16:59:09.936Z"
      },
      {
        "duration": 129,
        "start_time": "2023-12-04T16:59:23.450Z"
      },
      {
        "duration": 118,
        "start_time": "2023-12-04T17:01:25.990Z"
      },
      {
        "duration": 107,
        "start_time": "2023-12-04T17:07:49.778Z"
      },
      {
        "duration": 120,
        "start_time": "2023-12-04T17:09:29.688Z"
      },
      {
        "duration": 118,
        "start_time": "2023-12-04T17:32:03.000Z"
      },
      {
        "duration": 108,
        "start_time": "2023-12-04T17:32:46.086Z"
      },
      {
        "duration": 73,
        "start_time": "2023-12-04T17:35:34.189Z"
      },
      {
        "duration": 131,
        "start_time": "2023-12-04T17:36:52.138Z"
      },
      {
        "duration": 105,
        "start_time": "2023-12-04T17:56:07.466Z"
      },
      {
        "duration": 9,
        "start_time": "2023-12-04T17:56:27.997Z"
      },
      {
        "duration": 9,
        "start_time": "2023-12-04T17:56:40.874Z"
      },
      {
        "duration": 115,
        "start_time": "2023-12-04T17:57:13.185Z"
      },
      {
        "duration": 116,
        "start_time": "2023-12-04T17:57:47.216Z"
      },
      {
        "duration": 174,
        "start_time": "2023-12-04T18:02:07.610Z"
      },
      {
        "duration": 184,
        "start_time": "2023-12-04T18:02:25.985Z"
      },
      {
        "duration": 163,
        "start_time": "2023-12-04T18:02:50.784Z"
      },
      {
        "duration": 181,
        "start_time": "2023-12-04T18:03:20.642Z"
      },
      {
        "duration": 178,
        "start_time": "2023-12-04T18:03:36.339Z"
      },
      {
        "duration": 264,
        "start_time": "2023-12-04T18:05:16.307Z"
      },
      {
        "duration": 188,
        "start_time": "2023-12-04T18:05:22.615Z"
      },
      {
        "duration": 105,
        "start_time": "2023-12-04T18:07:48.268Z"
      },
      {
        "duration": 103,
        "start_time": "2023-12-04T18:13:31.660Z"
      },
      {
        "duration": 1238,
        "start_time": "2023-12-04T18:19:18.390Z"
      },
      {
        "duration": 1679,
        "start_time": "2023-12-04T18:20:02.784Z"
      },
      {
        "duration": 78,
        "start_time": "2023-12-04T18:20:40.318Z"
      },
      {
        "duration": 1215,
        "start_time": "2023-12-04T18:20:56.039Z"
      },
      {
        "duration": 114,
        "start_time": "2023-12-04T18:21:09.934Z"
      },
      {
        "duration": 107,
        "start_time": "2023-12-04T18:21:53.909Z"
      },
      {
        "duration": 122,
        "start_time": "2023-12-04T18:23:11.582Z"
      },
      {
        "duration": 100,
        "start_time": "2023-12-04T18:23:54.433Z"
      },
      {
        "duration": 120,
        "start_time": "2023-12-04T18:25:32.533Z"
      },
      {
        "duration": 99,
        "start_time": "2023-12-04T18:28:37.125Z"
      },
      {
        "duration": 9,
        "start_time": "2023-12-04T18:28:43.398Z"
      },
      {
        "duration": 130,
        "start_time": "2023-12-04T18:31:55.486Z"
      },
      {
        "duration": 10,
        "start_time": "2023-12-04T18:33:22.858Z"
      },
      {
        "duration": 9,
        "start_time": "2023-12-04T18:33:29.444Z"
      },
      {
        "duration": 11,
        "start_time": "2023-12-04T18:33:36.654Z"
      },
      {
        "duration": 112,
        "start_time": "2023-12-04T18:39:17.592Z"
      },
      {
        "duration": 10,
        "start_time": "2023-12-04T18:42:42.202Z"
      },
      {
        "duration": 2,
        "start_time": "2023-12-04T18:43:08.978Z"
      },
      {
        "duration": 7,
        "start_time": "2023-12-04T18:43:13.741Z"
      },
      {
        "duration": 6,
        "start_time": "2023-12-04T18:44:02.002Z"
      },
      {
        "duration": 139,
        "start_time": "2023-12-04T18:44:10.335Z"
      },
      {
        "duration": 110,
        "start_time": "2023-12-04T18:44:42.678Z"
      },
      {
        "duration": 118,
        "start_time": "2023-12-04T19:12:13.516Z"
      },
      {
        "duration": 2,
        "start_time": "2023-12-04T19:33:10.981Z"
      },
      {
        "duration": 115,
        "start_time": "2023-12-04T19:37:47.577Z"
      },
      {
        "duration": 112,
        "start_time": "2023-12-04T19:38:16.137Z"
      },
      {
        "duration": 1750,
        "start_time": "2023-12-04T19:42:24.114Z"
      },
      {
        "duration": 5,
        "start_time": "2023-12-04T19:43:29.353Z"
      },
      {
        "duration": 15,
        "start_time": "2023-12-04T19:43:45.725Z"
      },
      {
        "duration": 86,
        "start_time": "2023-12-04T19:45:55.330Z"
      },
      {
        "duration": 189,
        "start_time": "2023-12-04T19:47:26.746Z"
      },
      {
        "duration": 667,
        "start_time": "2023-12-05T17:22:53.441Z"
      },
      {
        "duration": 15,
        "start_time": "2023-12-05T17:22:54.110Z"
      },
      {
        "duration": 21,
        "start_time": "2023-12-05T17:22:54.126Z"
      },
      {
        "duration": 1687,
        "start_time": "2023-12-05T17:22:54.149Z"
      },
      {
        "duration": 28,
        "start_time": "2023-12-05T17:22:55.839Z"
      },
      {
        "duration": 66,
        "start_time": "2023-12-05T17:22:55.869Z"
      },
      {
        "duration": 6,
        "start_time": "2023-12-05T17:22:55.936Z"
      },
      {
        "duration": 11,
        "start_time": "2023-12-05T17:22:55.943Z"
      },
      {
        "duration": 6,
        "start_time": "2023-12-05T17:22:55.955Z"
      },
      {
        "duration": 23,
        "start_time": "2023-12-05T17:22:55.962Z"
      },
      {
        "duration": 112,
        "start_time": "2023-12-05T17:22:55.986Z"
      },
      {
        "duration": 16,
        "start_time": "2023-12-05T17:22:56.100Z"
      },
      {
        "duration": 6,
        "start_time": "2023-12-05T17:22:56.117Z"
      },
      {
        "duration": 112,
        "start_time": "2023-12-05T17:22:56.125Z"
      },
      {
        "duration": 1998,
        "start_time": "2023-12-05T17:22:56.239Z"
      },
      {
        "duration": 3,
        "start_time": "2023-12-05T17:22:58.239Z"
      },
      {
        "duration": 195,
        "start_time": "2023-12-05T17:22:58.243Z"
      },
      {
        "duration": 129,
        "start_time": "2023-12-05T17:22:58.439Z"
      },
      {
        "duration": 136,
        "start_time": "2023-12-05T17:22:58.569Z"
      },
      {
        "duration": 139,
        "start_time": "2023-12-05T17:22:58.707Z"
      },
      {
        "duration": 224,
        "start_time": "2023-12-05T17:22:58.848Z"
      },
      {
        "duration": 217,
        "start_time": "2023-12-05T17:22:59.074Z"
      },
      {
        "duration": 131,
        "start_time": "2023-12-05T17:22:59.293Z"
      },
      {
        "duration": 125,
        "start_time": "2023-12-05T17:22:59.426Z"
      },
      {
        "duration": 11,
        "start_time": "2023-12-05T17:22:59.553Z"
      },
      {
        "duration": 179,
        "start_time": "2023-12-05T17:22:59.565Z"
      },
      {
        "duration": 146,
        "start_time": "2023-12-05T17:22:59.746Z"
      },
      {
        "duration": 316,
        "start_time": "2023-12-05T17:22:59.894Z"
      },
      {
        "duration": 8,
        "start_time": "2023-12-05T17:23:00.212Z"
      },
      {
        "duration": 153,
        "start_time": "2023-12-05T17:23:00.221Z"
      },
      {
        "duration": 1107,
        "start_time": "2023-12-07T04:22:26.969Z"
      },
      {
        "duration": 18,
        "start_time": "2023-12-07T04:22:28.078Z"
      },
      {
        "duration": 16,
        "start_time": "2023-12-07T04:22:28.097Z"
      },
      {
        "duration": 1872,
        "start_time": "2023-12-07T04:22:28.114Z"
      },
      {
        "duration": 29,
        "start_time": "2023-12-07T04:22:29.989Z"
      },
      {
        "duration": 74,
        "start_time": "2023-12-07T04:22:30.020Z"
      },
      {
        "duration": 7,
        "start_time": "2023-12-07T04:22:30.095Z"
      },
      {
        "duration": 41,
        "start_time": "2023-12-07T04:22:30.103Z"
      },
      {
        "duration": 21,
        "start_time": "2023-12-07T04:22:30.145Z"
      },
      {
        "duration": 32,
        "start_time": "2023-12-07T04:22:30.168Z"
      },
      {
        "duration": 118,
        "start_time": "2023-12-07T04:22:30.202Z"
      },
      {
        "duration": 22,
        "start_time": "2023-12-07T04:22:30.322Z"
      },
      {
        "duration": 25,
        "start_time": "2023-12-07T04:22:30.346Z"
      },
      {
        "duration": 110,
        "start_time": "2023-12-07T04:22:30.373Z"
      },
      {
        "duration": 2215,
        "start_time": "2023-12-07T04:22:30.484Z"
      },
      {
        "duration": 3,
        "start_time": "2023-12-07T04:22:32.700Z"
      },
      {
        "duration": 229,
        "start_time": "2023-12-07T04:22:32.705Z"
      },
      {
        "duration": 136,
        "start_time": "2023-12-07T04:22:32.935Z"
      },
      {
        "duration": 154,
        "start_time": "2023-12-07T04:22:33.072Z"
      },
      {
        "duration": 149,
        "start_time": "2023-12-07T04:22:33.227Z"
      },
      {
        "duration": 233,
        "start_time": "2023-12-07T04:22:33.379Z"
      },
      {
        "duration": 236,
        "start_time": "2023-12-07T04:22:33.613Z"
      },
      {
        "duration": 130,
        "start_time": "2023-12-07T04:22:33.851Z"
      },
      {
        "duration": 138,
        "start_time": "2023-12-07T04:22:33.983Z"
      },
      {
        "duration": 19,
        "start_time": "2023-12-07T04:22:34.123Z"
      },
      {
        "duration": 162,
        "start_time": "2023-12-07T04:22:34.144Z"
      },
      {
        "duration": 157,
        "start_time": "2023-12-07T04:22:34.307Z"
      },
      {
        "duration": 338,
        "start_time": "2023-12-07T04:22:34.466Z"
      },
      {
        "duration": 7,
        "start_time": "2023-12-07T04:22:34.807Z"
      },
      {
        "duration": 164,
        "start_time": "2023-12-07T04:22:34.816Z"
      },
      {
        "duration": 71,
        "start_time": "2023-12-07T04:25:48.923Z"
      },
      {
        "duration": 7,
        "start_time": "2023-12-07T04:27:25.626Z"
      },
      {
        "duration": 22,
        "start_time": "2023-12-07T04:27:38.703Z"
      },
      {
        "duration": 10,
        "start_time": "2023-12-07T04:27:50.343Z"
      },
      {
        "duration": 10,
        "start_time": "2023-12-07T04:28:13.802Z"
      },
      {
        "duration": 725,
        "start_time": "2023-12-07T04:28:25.466Z"
      },
      {
        "duration": 15,
        "start_time": "2023-12-07T04:28:26.193Z"
      },
      {
        "duration": 14,
        "start_time": "2023-12-07T04:28:26.212Z"
      },
      {
        "duration": 1827,
        "start_time": "2023-12-07T04:28:26.243Z"
      },
      {
        "duration": 28,
        "start_time": "2023-12-07T04:28:28.072Z"
      },
      {
        "duration": 70,
        "start_time": "2023-12-07T04:28:28.102Z"
      },
      {
        "duration": 6,
        "start_time": "2023-12-07T04:28:28.174Z"
      },
      {
        "duration": 14,
        "start_time": "2023-12-07T04:28:28.181Z"
      },
      {
        "duration": 8,
        "start_time": "2023-12-07T04:28:28.196Z"
      },
      {
        "duration": 7,
        "start_time": "2023-12-07T04:28:28.205Z"
      },
      {
        "duration": 132,
        "start_time": "2023-12-07T04:28:28.213Z"
      },
      {
        "duration": 18,
        "start_time": "2023-12-07T04:28:28.346Z"
      },
      {
        "duration": 5,
        "start_time": "2023-12-07T04:28:28.367Z"
      },
      {
        "duration": 114,
        "start_time": "2023-12-07T04:28:28.373Z"
      },
      {
        "duration": 10,
        "start_time": "2023-12-07T04:28:28.489Z"
      },
      {
        "duration": 2204,
        "start_time": "2023-12-07T04:28:28.500Z"
      },
      {
        "duration": 3,
        "start_time": "2023-12-07T04:28:30.706Z"
      },
      {
        "duration": 233,
        "start_time": "2023-12-07T04:28:30.711Z"
      },
      {
        "duration": 144,
        "start_time": "2023-12-07T04:28:30.946Z"
      },
      {
        "duration": 179,
        "start_time": "2023-12-07T04:28:31.091Z"
      },
      {
        "duration": 151,
        "start_time": "2023-12-07T04:28:31.272Z"
      },
      {
        "duration": 238,
        "start_time": "2023-12-07T04:28:31.425Z"
      },
      {
        "duration": 228,
        "start_time": "2023-12-07T04:28:31.664Z"
      },
      {
        "duration": 133,
        "start_time": "2023-12-07T04:28:31.894Z"
      },
      {
        "duration": 137,
        "start_time": "2023-12-07T04:28:32.029Z"
      },
      {
        "duration": 10,
        "start_time": "2023-12-07T04:28:32.168Z"
      },
      {
        "duration": 177,
        "start_time": "2023-12-07T04:28:32.180Z"
      },
      {
        "duration": 153,
        "start_time": "2023-12-07T04:28:32.359Z"
      },
      {
        "duration": 358,
        "start_time": "2023-12-07T04:28:32.513Z"
      },
      {
        "duration": 9,
        "start_time": "2023-12-07T04:28:32.872Z"
      },
      {
        "duration": 163,
        "start_time": "2023-12-07T04:28:32.883Z"
      },
      {
        "duration": 10,
        "start_time": "2023-12-07T04:29:20.659Z"
      },
      {
        "duration": 9,
        "start_time": "2023-12-07T04:57:28.402Z"
      },
      {
        "duration": 74,
        "start_time": "2023-12-07T04:58:37.237Z"
      },
      {
        "duration": 8,
        "start_time": "2023-12-07T04:58:45.054Z"
      },
      {
        "duration": 12,
        "start_time": "2023-12-07T04:59:01.059Z"
      },
      {
        "duration": 8,
        "start_time": "2023-12-07T04:59:13.549Z"
      },
      {
        "duration": 28,
        "start_time": "2023-12-07T05:04:19.020Z"
      },
      {
        "duration": 8,
        "start_time": "2023-12-07T05:04:49.826Z"
      },
      {
        "duration": 55,
        "start_time": "2023-12-09T09:39:57.124Z"
      },
      {
        "duration": 1018,
        "start_time": "2023-12-09T09:40:17.636Z"
      },
      {
        "duration": 19,
        "start_time": "2023-12-09T09:40:18.656Z"
      },
      {
        "duration": 22,
        "start_time": "2023-12-09T09:40:18.676Z"
      },
      {
        "duration": 2008,
        "start_time": "2023-12-09T09:40:18.700Z"
      },
      {
        "duration": 32,
        "start_time": "2023-12-09T09:40:20.710Z"
      },
      {
        "duration": 96,
        "start_time": "2023-12-09T09:40:20.744Z"
      },
      {
        "duration": 11,
        "start_time": "2023-12-09T09:40:20.843Z"
      },
      {
        "duration": 15,
        "start_time": "2023-12-09T09:40:20.856Z"
      },
      {
        "duration": 10,
        "start_time": "2023-12-09T09:40:20.873Z"
      },
      {
        "duration": 48,
        "start_time": "2023-12-09T09:40:20.886Z"
      },
      {
        "duration": 146,
        "start_time": "2023-12-09T09:40:20.935Z"
      },
      {
        "duration": 20,
        "start_time": "2023-12-09T09:40:21.082Z"
      },
      {
        "duration": 14,
        "start_time": "2023-12-09T09:40:21.104Z"
      },
      {
        "duration": 142,
        "start_time": "2023-12-09T09:40:21.120Z"
      },
      {
        "duration": 2457,
        "start_time": "2023-12-09T09:40:21.264Z"
      },
      {
        "duration": 19,
        "start_time": "2023-12-09T09:40:23.723Z"
      },
      {
        "duration": 4,
        "start_time": "2023-12-09T09:40:23.745Z"
      },
      {
        "duration": 254,
        "start_time": "2023-12-09T09:40:23.752Z"
      },
      {
        "duration": 148,
        "start_time": "2023-12-09T09:40:24.008Z"
      },
      {
        "duration": 164,
        "start_time": "2023-12-09T09:40:24.159Z"
      },
      {
        "duration": 149,
        "start_time": "2023-12-09T09:40:24.330Z"
      },
      {
        "duration": 260,
        "start_time": "2023-12-09T09:40:24.480Z"
      },
      {
        "duration": 261,
        "start_time": "2023-12-09T09:40:24.742Z"
      },
      {
        "duration": 154,
        "start_time": "2023-12-09T09:40:25.006Z"
      },
      {
        "duration": 144,
        "start_time": "2023-12-09T09:40:25.161Z"
      },
      {
        "duration": 23,
        "start_time": "2023-12-09T09:40:25.307Z"
      },
      {
        "duration": 179,
        "start_time": "2023-12-09T09:40:25.332Z"
      },
      {
        "duration": 193,
        "start_time": "2023-12-09T09:40:25.515Z"
      },
      {
        "duration": 386,
        "start_time": "2023-12-09T09:40:25.711Z"
      },
      {
        "duration": 7,
        "start_time": "2023-12-09T09:40:26.099Z"
      },
      {
        "duration": 192,
        "start_time": "2023-12-09T09:40:26.108Z"
      },
      {
        "duration": 130,
        "start_time": "2023-12-09T09:41:54.890Z"
      },
      {
        "duration": 150,
        "start_time": "2023-12-09T09:42:22.749Z"
      },
      {
        "duration": 1931,
        "start_time": "2023-12-09T09:51:24.400Z"
      },
      {
        "duration": 275,
        "start_time": "2023-12-09T09:51:30.426Z"
      },
      {
        "duration": 17,
        "start_time": "2023-12-09T09:51:45.889Z"
      },
      {
        "duration": 725,
        "start_time": "2023-12-09T09:52:06.856Z"
      },
      {
        "duration": 17,
        "start_time": "2023-12-09T09:52:07.584Z"
      },
      {
        "duration": 31,
        "start_time": "2023-12-09T09:52:07.603Z"
      },
      {
        "duration": 1800,
        "start_time": "2023-12-09T09:52:07.636Z"
      },
      {
        "duration": 28,
        "start_time": "2023-12-09T09:52:09.437Z"
      },
      {
        "duration": 77,
        "start_time": "2023-12-09T09:52:09.467Z"
      },
      {
        "duration": 8,
        "start_time": "2023-12-09T09:52:09.546Z"
      },
      {
        "duration": 33,
        "start_time": "2023-12-09T09:52:09.556Z"
      },
      {
        "duration": 9,
        "start_time": "2023-12-09T09:52:09.590Z"
      },
      {
        "duration": 11,
        "start_time": "2023-12-09T09:52:09.601Z"
      },
      {
        "duration": 107,
        "start_time": "2023-12-09T09:52:09.613Z"
      },
      {
        "duration": 24,
        "start_time": "2023-12-09T09:52:09.722Z"
      },
      {
        "duration": 12,
        "start_time": "2023-12-09T09:52:09.748Z"
      },
      {
        "duration": 155,
        "start_time": "2023-12-09T09:52:09.761Z"
      },
      {
        "duration": 284,
        "start_time": "2023-12-09T09:52:09.918Z"
      },
      {
        "duration": 1735,
        "start_time": "2023-12-09T09:52:10.204Z"
      },
      {
        "duration": 18,
        "start_time": "2023-12-09T09:52:11.941Z"
      },
      {
        "duration": 3,
        "start_time": "2023-12-09T09:52:11.961Z"
      },
      {
        "duration": 236,
        "start_time": "2023-12-09T09:52:11.965Z"
      },
      {
        "duration": 137,
        "start_time": "2023-12-09T09:52:12.202Z"
      },
      {
        "duration": 148,
        "start_time": "2023-12-09T09:52:12.340Z"
      },
      {
        "duration": 149,
        "start_time": "2023-12-09T09:52:12.489Z"
      },
      {
        "duration": 250,
        "start_time": "2023-12-09T09:52:12.640Z"
      },
      {
        "duration": 216,
        "start_time": "2023-12-09T09:52:12.891Z"
      },
      {
        "duration": 129,
        "start_time": "2023-12-09T09:52:13.109Z"
      },
      {
        "duration": 133,
        "start_time": "2023-12-09T09:52:13.240Z"
      },
      {
        "duration": 12,
        "start_time": "2023-12-09T09:52:13.374Z"
      },
      {
        "duration": 177,
        "start_time": "2023-12-09T09:52:13.388Z"
      },
      {
        "duration": 166,
        "start_time": "2023-12-09T09:52:13.567Z"
      },
      {
        "duration": 330,
        "start_time": "2023-12-09T09:52:13.735Z"
      },
      {
        "duration": 8,
        "start_time": "2023-12-09T09:52:14.067Z"
      },
      {
        "duration": 160,
        "start_time": "2023-12-09T09:52:14.077Z"
      },
      {
        "duration": 96,
        "start_time": "2023-12-09T09:52:46.468Z"
      },
      {
        "duration": 15,
        "start_time": "2023-12-09T09:52:48.900Z"
      },
      {
        "duration": 15,
        "start_time": "2023-12-09T09:52:49.528Z"
      },
      {
        "duration": 1745,
        "start_time": "2023-12-09T09:52:54.936Z"
      },
      {
        "duration": 7,
        "start_time": "2023-12-09T09:53:07.634Z"
      },
      {
        "duration": 13,
        "start_time": "2023-12-09T09:53:08.824Z"
      },
      {
        "duration": 9,
        "start_time": "2023-12-09T09:53:09.436Z"
      },
      {
        "duration": 8,
        "start_time": "2023-12-09T09:55:32.545Z"
      },
      {
        "duration": 98,
        "start_time": "2023-12-09T09:55:33.134Z"
      },
      {
        "duration": 16,
        "start_time": "2023-12-09T09:55:33.974Z"
      },
      {
        "duration": 5,
        "start_time": "2023-12-09T09:55:35.356Z"
      },
      {
        "duration": 138,
        "start_time": "2023-12-09T09:55:36.100Z"
      },
      {
        "duration": 245,
        "start_time": "2023-12-09T10:43:30.285Z"
      },
      {
        "duration": 173,
        "start_time": "2023-12-09T10:45:13.464Z"
      },
      {
        "duration": 711,
        "start_time": "2023-12-09T10:45:58.026Z"
      },
      {
        "duration": 15,
        "start_time": "2023-12-09T10:45:58.738Z"
      },
      {
        "duration": 16,
        "start_time": "2023-12-09T10:45:58.755Z"
      },
      {
        "duration": 1759,
        "start_time": "2023-12-09T10:45:58.773Z"
      },
      {
        "duration": 31,
        "start_time": "2023-12-09T10:46:00.535Z"
      },
      {
        "duration": 91,
        "start_time": "2023-12-09T10:46:00.569Z"
      },
      {
        "duration": 7,
        "start_time": "2023-12-09T10:46:00.662Z"
      },
      {
        "duration": 47,
        "start_time": "2023-12-09T10:46:00.670Z"
      },
      {
        "duration": 14,
        "start_time": "2023-12-09T10:46:00.719Z"
      },
      {
        "duration": 30,
        "start_time": "2023-12-09T10:46:00.735Z"
      },
      {
        "duration": 110,
        "start_time": "2023-12-09T10:46:00.766Z"
      },
      {
        "duration": 17,
        "start_time": "2023-12-09T10:46:00.878Z"
      },
      {
        "duration": 44,
        "start_time": "2023-12-09T10:46:00.896Z"
      },
      {
        "duration": 175,
        "start_time": "2023-12-09T10:46:00.942Z"
      },
      {
        "duration": 301,
        "start_time": "2023-12-09T10:46:01.119Z"
      },
      {
        "duration": 1771,
        "start_time": "2023-12-09T10:46:01.421Z"
      },
      {
        "duration": 18,
        "start_time": "2023-12-09T10:46:03.194Z"
      },
      {
        "duration": 26,
        "start_time": "2023-12-09T10:46:03.214Z"
      },
      {
        "duration": 197,
        "start_time": "2023-12-09T10:46:03.242Z"
      },
      {
        "duration": 283,
        "start_time": "2023-12-09T10:46:03.441Z"
      },
      {
        "duration": 138,
        "start_time": "2023-12-09T10:46:03.731Z"
      },
      {
        "duration": 158,
        "start_time": "2023-12-09T10:46:03.871Z"
      },
      {
        "duration": 214,
        "start_time": "2023-12-09T10:46:04.031Z"
      },
      {
        "duration": 163,
        "start_time": "2023-12-09T10:46:04.247Z"
      },
      {
        "duration": 222,
        "start_time": "2023-12-09T10:46:04.412Z"
      },
      {
        "duration": 132,
        "start_time": "2023-12-09T10:46:04.636Z"
      },
      {
        "duration": 146,
        "start_time": "2023-12-09T10:46:04.770Z"
      },
      {
        "duration": 20,
        "start_time": "2023-12-09T10:46:04.918Z"
      },
      {
        "duration": 181,
        "start_time": "2023-12-09T10:46:04.940Z"
      },
      {
        "duration": 151,
        "start_time": "2023-12-09T10:46:05.123Z"
      },
      {
        "duration": 334,
        "start_time": "2023-12-09T10:46:05.276Z"
      },
      {
        "duration": 7,
        "start_time": "2023-12-09T10:46:05.612Z"
      },
      {
        "duration": 152,
        "start_time": "2023-12-09T10:46:05.630Z"
      },
      {
        "duration": 97,
        "start_time": "2023-12-09T10:46:11.293Z"
      },
      {
        "duration": 15,
        "start_time": "2023-12-09T10:46:11.620Z"
      },
      {
        "duration": 16,
        "start_time": "2023-12-09T10:46:11.803Z"
      },
      {
        "duration": 1788,
        "start_time": "2023-12-09T10:46:12.349Z"
      },
      {
        "duration": 26,
        "start_time": "2023-12-09T10:46:14.139Z"
      },
      {
        "duration": 95,
        "start_time": "2023-12-09T10:46:14.167Z"
      },
      {
        "duration": 7,
        "start_time": "2023-12-09T10:46:14.265Z"
      },
      {
        "duration": 14,
        "start_time": "2023-12-09T10:46:14.274Z"
      },
      {
        "duration": 10,
        "start_time": "2023-12-09T10:46:14.488Z"
      },
      {
        "duration": 8,
        "start_time": "2023-12-09T10:46:17.344Z"
      },
      {
        "duration": 103,
        "start_time": "2023-12-09T10:46:17.900Z"
      },
      {
        "duration": 18,
        "start_time": "2023-12-09T10:46:18.655Z"
      },
      {
        "duration": 6,
        "start_time": "2023-12-09T10:46:20.875Z"
      },
      {
        "duration": 147,
        "start_time": "2023-12-09T10:46:21.446Z"
      },
      {
        "duration": 272,
        "start_time": "2023-12-09T10:46:39.521Z"
      },
      {
        "duration": 1669,
        "start_time": "2023-12-09T10:46:43.221Z"
      },
      {
        "duration": 20,
        "start_time": "2023-12-09T10:46:45.193Z"
      },
      {
        "duration": 3,
        "start_time": "2023-12-09T10:46:47.976Z"
      },
      {
        "duration": 195,
        "start_time": "2023-12-09T10:46:53.731Z"
      },
      {
        "duration": 224,
        "start_time": "2023-12-09T10:51:26.676Z"
      },
      {
        "duration": 290,
        "start_time": "2023-12-09T10:54:22.519Z"
      },
      {
        "duration": 259,
        "start_time": "2023-12-09T10:56:32.494Z"
      },
      {
        "duration": 234,
        "start_time": "2023-12-09T10:56:42.828Z"
      },
      {
        "duration": 269,
        "start_time": "2023-12-09T10:57:06.685Z"
      },
      {
        "duration": 249,
        "start_time": "2023-12-09T10:58:10.596Z"
      },
      {
        "duration": 236,
        "start_time": "2023-12-09T11:55:34.361Z"
      },
      {
        "duration": 248,
        "start_time": "2023-12-09T11:56:04.792Z"
      },
      {
        "duration": 4,
        "start_time": "2023-12-09T11:56:27.793Z"
      },
      {
        "duration": 51,
        "start_time": "2023-12-09T11:56:35.354Z"
      },
      {
        "duration": 53,
        "start_time": "2023-12-09T11:57:07.544Z"
      },
      {
        "duration": 234,
        "start_time": "2023-12-09T11:57:32.688Z"
      },
      {
        "duration": 247,
        "start_time": "2023-12-09T12:02:08.194Z"
      },
      {
        "duration": 315,
        "start_time": "2023-12-09T12:02:47.002Z"
      },
      {
        "duration": 251,
        "start_time": "2023-12-09T12:03:55.931Z"
      },
      {
        "duration": 258,
        "start_time": "2023-12-09T12:05:28.642Z"
      },
      {
        "duration": 181,
        "start_time": "2023-12-09T12:06:49.618Z"
      },
      {
        "duration": 51,
        "start_time": "2023-12-09T12:08:08.540Z"
      },
      {
        "duration": 262,
        "start_time": "2023-12-09T12:08:25.075Z"
      },
      {
        "duration": 267,
        "start_time": "2023-12-09T12:08:44.302Z"
      },
      {
        "duration": 258,
        "start_time": "2023-12-09T12:08:59.084Z"
      },
      {
        "duration": 283,
        "start_time": "2023-12-09T12:09:31.004Z"
      },
      {
        "duration": 270,
        "start_time": "2023-12-09T12:10:14.860Z"
      },
      {
        "duration": 189,
        "start_time": "2023-12-09T12:11:21.092Z"
      },
      {
        "duration": 268,
        "start_time": "2023-12-09T12:11:57.238Z"
      },
      {
        "duration": 429,
        "start_time": "2023-12-09T12:12:25.605Z"
      },
      {
        "duration": 139,
        "start_time": "2023-12-09T12:12:38.628Z"
      },
      {
        "duration": 292,
        "start_time": "2023-12-09T12:24:59.040Z"
      },
      {
        "duration": 272,
        "start_time": "2023-12-09T12:26:12.448Z"
      },
      {
        "duration": 284,
        "start_time": "2023-12-09T12:28:04.586Z"
      },
      {
        "duration": 266,
        "start_time": "2023-12-09T12:28:13.969Z"
      },
      {
        "duration": 252,
        "start_time": "2023-12-09T12:28:39.545Z"
      },
      {
        "duration": 138,
        "start_time": "2023-12-09T12:29:11.517Z"
      },
      {
        "duration": 278,
        "start_time": "2023-12-09T12:29:51.141Z"
      },
      {
        "duration": 267,
        "start_time": "2023-12-09T12:37:45.012Z"
      },
      {
        "duration": 404,
        "start_time": "2023-12-09T12:38:44.413Z"
      },
      {
        "duration": 136,
        "start_time": "2023-12-09T13:30:14.482Z"
      },
      {
        "duration": 124,
        "start_time": "2023-12-09T13:30:38.030Z"
      },
      {
        "duration": 238,
        "start_time": "2023-12-09T13:31:24.544Z"
      },
      {
        "duration": 124,
        "start_time": "2023-12-09T13:31:32.703Z"
      },
      {
        "duration": 51,
        "start_time": "2023-12-14T11:05:07.190Z"
      },
      {
        "duration": 8,
        "start_time": "2023-12-14T11:05:22.971Z"
      },
      {
        "duration": 8,
        "start_time": "2023-12-14T11:05:39.643Z"
      },
      {
        "duration": 1055,
        "start_time": "2023-12-14T11:05:53.155Z"
      },
      {
        "duration": 14,
        "start_time": "2023-12-14T11:05:54.212Z"
      },
      {
        "duration": 54,
        "start_time": "2023-12-14T11:05:54.228Z"
      },
      {
        "duration": 1561,
        "start_time": "2023-12-14T11:05:54.285Z"
      },
      {
        "duration": 26,
        "start_time": "2023-12-14T11:05:55.848Z"
      },
      {
        "duration": 74,
        "start_time": "2023-12-14T11:05:55.875Z"
      },
      {
        "duration": 5,
        "start_time": "2023-12-14T11:05:55.951Z"
      },
      {
        "duration": 40,
        "start_time": "2023-12-14T11:05:55.957Z"
      },
      {
        "duration": 9,
        "start_time": "2023-12-14T11:05:55.999Z"
      },
      {
        "duration": 37,
        "start_time": "2023-12-14T11:05:56.010Z"
      },
      {
        "duration": 91,
        "start_time": "2023-12-14T11:05:56.048Z"
      },
      {
        "duration": 16,
        "start_time": "2023-12-14T11:05:56.148Z"
      },
      {
        "duration": 101,
        "start_time": "2023-12-14T11:05:56.166Z"
      },
      {
        "duration": 179,
        "start_time": "2023-12-14T11:05:56.268Z"
      },
      {
        "duration": 278,
        "start_time": "2023-12-14T11:05:56.449Z"
      },
      {
        "duration": 1332,
        "start_time": "2023-12-14T11:05:56.728Z"
      },
      {
        "duration": 15,
        "start_time": "2023-12-14T11:05:58.061Z"
      },
      {
        "duration": 46,
        "start_time": "2023-12-14T11:05:58.078Z"
      },
      {
        "duration": 211,
        "start_time": "2023-12-14T11:05:58.125Z"
      },
      {
        "duration": 231,
        "start_time": "2023-12-14T11:05:58.337Z"
      },
      {
        "duration": 111,
        "start_time": "2023-12-14T11:05:58.569Z"
      },
      {
        "duration": 236,
        "start_time": "2023-12-14T11:05:58.681Z"
      },
      {
        "duration": 296,
        "start_time": "2023-12-14T11:05:58.918Z"
      },
      {
        "duration": 124,
        "start_time": "2023-12-14T11:05:59.215Z"
      },
      {
        "duration": 263,
        "start_time": "2023-12-14T11:05:59.341Z"
      },
      {
        "duration": 0,
        "start_time": "2023-12-14T11:05:59.606Z"
      },
      {
        "duration": 0,
        "start_time": "2023-12-14T11:05:59.607Z"
      },
      {
        "duration": 0,
        "start_time": "2023-12-14T11:05:59.608Z"
      },
      {
        "duration": 0,
        "start_time": "2023-12-14T11:05:59.609Z"
      },
      {
        "duration": 0,
        "start_time": "2023-12-14T11:05:59.610Z"
      },
      {
        "duration": 0,
        "start_time": "2023-12-14T11:05:59.611Z"
      },
      {
        "duration": 0,
        "start_time": "2023-12-14T11:05:59.612Z"
      },
      {
        "duration": 0,
        "start_time": "2023-12-14T11:05:59.614Z"
      },
      {
        "duration": 0,
        "start_time": "2023-12-14T11:05:59.615Z"
      },
      {
        "duration": 0,
        "start_time": "2023-12-14T11:05:59.616Z"
      },
      {
        "duration": 0,
        "start_time": "2023-12-14T11:05:59.617Z"
      },
      {
        "duration": 0,
        "start_time": "2023-12-14T11:05:59.617Z"
      },
      {
        "duration": 0,
        "start_time": "2023-12-14T11:05:59.618Z"
      },
      {
        "duration": 87,
        "start_time": "2023-12-14T11:06:05.273Z"
      },
      {
        "duration": 13,
        "start_time": "2023-12-14T11:06:05.670Z"
      },
      {
        "duration": 12,
        "start_time": "2023-12-14T11:06:06.164Z"
      },
      {
        "duration": 1564,
        "start_time": "2023-12-14T11:06:07.521Z"
      },
      {
        "duration": 21,
        "start_time": "2023-12-14T11:06:09.190Z"
      },
      {
        "duration": 65,
        "start_time": "2023-12-14T11:06:09.966Z"
      },
      {
        "duration": 6,
        "start_time": "2023-12-14T11:06:12.309Z"
      },
      {
        "duration": 11,
        "start_time": "2023-12-14T11:06:12.893Z"
      },
      {
        "duration": 7,
        "start_time": "2023-12-14T11:06:13.525Z"
      },
      {
        "duration": 6,
        "start_time": "2023-12-14T11:06:17.118Z"
      },
      {
        "duration": 88,
        "start_time": "2023-12-14T11:06:17.815Z"
      },
      {
        "duration": 16,
        "start_time": "2023-12-14T11:06:18.493Z"
      },
      {
        "duration": 6,
        "start_time": "2023-12-14T11:06:20.074Z"
      },
      {
        "duration": 138,
        "start_time": "2023-12-14T11:06:20.815Z"
      },
      {
        "duration": 271,
        "start_time": "2023-12-14T11:06:24.509Z"
      },
      {
        "duration": 1367,
        "start_time": "2023-12-14T11:06:25.878Z"
      },
      {
        "duration": 15,
        "start_time": "2023-12-14T11:06:27.248Z"
      },
      {
        "duration": 3,
        "start_time": "2023-12-14T11:06:30.814Z"
      },
      {
        "duration": 187,
        "start_time": "2023-12-14T11:06:35.516Z"
      },
      {
        "duration": 234,
        "start_time": "2023-12-14T11:06:37.249Z"
      },
      {
        "duration": 112,
        "start_time": "2023-12-14T11:06:38.254Z"
      },
      {
        "duration": 216,
        "start_time": "2023-12-14T11:06:39.657Z"
      },
      {
        "duration": 249,
        "start_time": "2023-12-14T11:06:41.188Z"
      },
      {
        "duration": 120,
        "start_time": "2023-12-14T11:06:42.023Z"
      },
      {
        "duration": 206,
        "start_time": "2023-12-14T11:06:47.211Z"
      },
      {
        "duration": 228,
        "start_time": "2023-12-14T11:29:18.211Z"
      },
      {
        "duration": 323,
        "start_time": "2023-12-14T11:29:28.410Z"
      },
      {
        "duration": 246,
        "start_time": "2023-12-14T11:29:35.675Z"
      },
      {
        "duration": 229,
        "start_time": "2023-12-14T11:29:48.731Z"
      },
      {
        "duration": 230,
        "start_time": "2023-12-14T11:30:26.235Z"
      },
      {
        "duration": 242,
        "start_time": "2023-12-14T11:30:32.987Z"
      },
      {
        "duration": 231,
        "start_time": "2023-12-14T11:30:41.099Z"
      },
      {
        "duration": 330,
        "start_time": "2023-12-14T11:30:59.419Z"
      },
      {
        "duration": 261,
        "start_time": "2023-12-14T11:31:15.571Z"
      },
      {
        "duration": 127,
        "start_time": "2023-12-14T11:32:17.682Z"
      },
      {
        "duration": 265,
        "start_time": "2023-12-14T11:33:47.971Z"
      },
      {
        "duration": 8,
        "start_time": "2023-12-14T11:38:44.915Z"
      },
      {
        "duration": 86,
        "start_time": "2023-12-14T11:39:14.105Z"
      },
      {
        "duration": 13,
        "start_time": "2023-12-14T11:39:14.522Z"
      },
      {
        "duration": 12,
        "start_time": "2023-12-14T11:39:14.644Z"
      },
      {
        "duration": 1587,
        "start_time": "2023-12-14T11:39:15.228Z"
      },
      {
        "duration": 34,
        "start_time": "2023-12-14T11:39:16.816Z"
      },
      {
        "duration": 61,
        "start_time": "2023-12-14T11:39:16.851Z"
      },
      {
        "duration": 5,
        "start_time": "2023-12-14T11:39:16.913Z"
      },
      {
        "duration": 26,
        "start_time": "2023-12-14T11:39:16.920Z"
      },
      {
        "duration": 10,
        "start_time": "2023-12-14T11:39:16.947Z"
      },
      {
        "duration": 7,
        "start_time": "2023-12-14T11:39:18.195Z"
      },
      {
        "duration": 89,
        "start_time": "2023-12-14T11:39:18.438Z"
      },
      {
        "duration": 16,
        "start_time": "2023-12-14T11:39:18.674Z"
      },
      {
        "duration": 5,
        "start_time": "2023-12-14T11:39:19.276Z"
      },
      {
        "duration": 136,
        "start_time": "2023-12-14T11:39:19.562Z"
      },
      {
        "duration": 275,
        "start_time": "2023-12-14T11:39:22.389Z"
      },
      {
        "duration": 1374,
        "start_time": "2023-12-14T11:39:23.307Z"
      },
      {
        "duration": 17,
        "start_time": "2023-12-14T11:39:24.683Z"
      },
      {
        "duration": 4,
        "start_time": "2023-12-14T11:39:26.538Z"
      },
      {
        "duration": 174,
        "start_time": "2023-12-14T11:39:30.370Z"
      },
      {
        "duration": 263,
        "start_time": "2023-12-14T11:39:31.891Z"
      },
      {
        "duration": 109,
        "start_time": "2023-12-14T11:39:33.051Z"
      },
      {
        "duration": 240,
        "start_time": "2023-12-14T11:39:34.045Z"
      },
      {
        "duration": 346,
        "start_time": "2023-12-14T11:39:35.484Z"
      },
      {
        "duration": 135,
        "start_time": "2023-12-14T11:39:35.925Z"
      },
      {
        "duration": 277,
        "start_time": "2023-12-14T11:39:37.450Z"
      },
      {
        "duration": 306,
        "start_time": "2023-12-14T11:39:38.307Z"
      },
      {
        "duration": 111,
        "start_time": "2023-12-14T11:39:39.088Z"
      },
      {
        "duration": 137,
        "start_time": "2023-12-14T11:39:40.904Z"
      },
      {
        "duration": 206,
        "start_time": "2023-12-14T11:39:42.484Z"
      },
      {
        "duration": 117,
        "start_time": "2023-12-14T11:39:43.870Z"
      },
      {
        "duration": 111,
        "start_time": "2023-12-14T11:39:45.190Z"
      },
      {
        "duration": 13,
        "start_time": "2023-12-14T11:39:46.252Z"
      },
      {
        "duration": 243,
        "start_time": "2023-12-14T11:39:47.330Z"
      },
      {
        "duration": 139,
        "start_time": "2023-12-14T11:39:47.816Z"
      },
      {
        "duration": 131,
        "start_time": "2023-12-14T11:39:50.486Z"
      },
      {
        "duration": 381,
        "start_time": "2023-12-14T11:39:56.097Z"
      },
      {
        "duration": 7,
        "start_time": "2023-12-14T11:40:01.593Z"
      },
      {
        "duration": 130,
        "start_time": "2023-12-14T11:40:02.473Z"
      },
      {
        "duration": 9,
        "start_time": "2023-12-14T11:40:06.443Z"
      },
      {
        "duration": 10,
        "start_time": "2023-12-14T11:40:24.442Z"
      },
      {
        "duration": 8,
        "start_time": "2023-12-14T11:41:30.731Z"
      },
      {
        "duration": 11,
        "start_time": "2023-12-14T11:41:44.235Z"
      },
      {
        "duration": 11,
        "start_time": "2023-12-14T11:41:56.171Z"
      },
      {
        "duration": 29,
        "start_time": "2023-12-14T11:42:19.123Z"
      },
      {
        "duration": 79,
        "start_time": "2023-12-14T11:46:54.771Z"
      },
      {
        "duration": 12,
        "start_time": "2023-12-14T12:16:59.111Z"
      },
      {
        "duration": 74,
        "start_time": "2023-12-14T12:19:06.581Z"
      },
      {
        "duration": 116,
        "start_time": "2023-12-14T12:19:18.564Z"
      },
      {
        "duration": 11,
        "start_time": "2023-12-14T12:19:50.014Z"
      },
      {
        "duration": 16,
        "start_time": "2023-12-14T12:20:10.549Z"
      },
      {
        "duration": 10,
        "start_time": "2023-12-14T12:20:35.748Z"
      },
      {
        "duration": 14,
        "start_time": "2023-12-14T12:21:35.252Z"
      },
      {
        "duration": 12,
        "start_time": "2023-12-14T12:21:47.504Z"
      },
      {
        "duration": 11,
        "start_time": "2023-12-14T12:21:52.395Z"
      },
      {
        "duration": 84,
        "start_time": "2023-12-14T12:27:52.170Z"
      },
      {
        "duration": 15,
        "start_time": "2023-12-14T12:28:02.082Z"
      },
      {
        "duration": 13,
        "start_time": "2023-12-14T12:28:30.908Z"
      },
      {
        "duration": 111,
        "start_time": "2023-12-14T12:31:40.555Z"
      },
      {
        "duration": 116,
        "start_time": "2023-12-14T12:33:27.506Z"
      },
      {
        "duration": 7,
        "start_time": "2023-12-14T12:36:25.807Z"
      },
      {
        "duration": 67,
        "start_time": "2023-12-14T12:36:37.506Z"
      },
      {
        "duration": 14,
        "start_time": "2023-12-14T12:44:16.181Z"
      },
      {
        "duration": 12,
        "start_time": "2023-12-14T12:45:14.185Z"
      },
      {
        "duration": 14,
        "start_time": "2023-12-14T12:45:22.964Z"
      },
      {
        "duration": 14,
        "start_time": "2023-12-14T12:45:54.109Z"
      },
      {
        "duration": 8,
        "start_time": "2023-12-14T12:46:18.723Z"
      },
      {
        "duration": 7,
        "start_time": "2023-12-14T12:46:48.529Z"
      },
      {
        "duration": 7,
        "start_time": "2023-12-14T12:47:01.512Z"
      },
      {
        "duration": 11,
        "start_time": "2023-12-14T12:47:15.820Z"
      },
      {
        "duration": 9,
        "start_time": "2023-12-14T12:47:54.498Z"
      },
      {
        "duration": 9,
        "start_time": "2023-12-14T12:48:01.384Z"
      },
      {
        "duration": 145,
        "start_time": "2023-12-14T12:48:58.312Z"
      },
      {
        "duration": 82,
        "start_time": "2023-12-14T12:50:12.359Z"
      },
      {
        "duration": 14,
        "start_time": "2023-12-14T12:50:21.732Z"
      },
      {
        "duration": 9,
        "start_time": "2023-12-14T12:51:04.351Z"
      },
      {
        "duration": 9,
        "start_time": "2023-12-14T12:51:13.616Z"
      },
      {
        "duration": 110,
        "start_time": "2023-12-14T12:53:24.416Z"
      },
      {
        "duration": 110,
        "start_time": "2023-12-14T12:53:43.180Z"
      },
      {
        "duration": 117,
        "start_time": "2023-12-14T12:54:29.311Z"
      },
      {
        "duration": 119,
        "start_time": "2023-12-14T12:55:32.891Z"
      },
      {
        "duration": 123,
        "start_time": "2023-12-14T12:57:21.889Z"
      },
      {
        "duration": 26,
        "start_time": "2023-12-14T12:58:56.913Z"
      },
      {
        "duration": 149,
        "start_time": "2023-12-14T13:05:16.499Z"
      },
      {
        "duration": 183,
        "start_time": "2023-12-14T13:05:33.828Z"
      },
      {
        "duration": 147,
        "start_time": "2023-12-14T13:05:58.032Z"
      },
      {
        "duration": 28,
        "start_time": "2023-12-14T13:09:35.394Z"
      },
      {
        "duration": 7,
        "start_time": "2023-12-14T13:16:31.311Z"
      },
      {
        "duration": 128,
        "start_time": "2023-12-14T13:16:44.259Z"
      },
      {
        "duration": 148,
        "start_time": "2023-12-14T13:17:34.799Z"
      },
      {
        "duration": 117,
        "start_time": "2023-12-14T13:17:58.635Z"
      },
      {
        "duration": 235,
        "start_time": "2023-12-14T13:21:10.804Z"
      },
      {
        "duration": 367,
        "start_time": "2023-12-14T13:21:15.729Z"
      },
      {
        "duration": 233,
        "start_time": "2023-12-14T13:21:35.149Z"
      },
      {
        "duration": 560,
        "start_time": "2023-12-14T13:21:42.476Z"
      },
      {
        "duration": 387,
        "start_time": "2023-12-14T13:22:05.993Z"
      },
      {
        "duration": 405,
        "start_time": "2023-12-14T13:22:46.916Z"
      },
      {
        "duration": 71,
        "start_time": "2023-12-14T13:24:06.706Z"
      },
      {
        "duration": 551,
        "start_time": "2023-12-14T13:25:00.501Z"
      },
      {
        "duration": 393,
        "start_time": "2023-12-14T13:25:09.729Z"
      },
      {
        "duration": 399,
        "start_time": "2023-12-14T13:59:14.642Z"
      },
      {
        "duration": 369,
        "start_time": "2023-12-14T13:59:38.581Z"
      },
      {
        "duration": 529,
        "start_time": "2023-12-14T14:00:58.937Z"
      },
      {
        "duration": 305,
        "start_time": "2023-12-14T14:03:11.447Z"
      },
      {
        "duration": 389,
        "start_time": "2023-12-14T14:03:53.719Z"
      },
      {
        "duration": 5,
        "start_time": "2023-12-14T14:04:39.550Z"
      },
      {
        "duration": 324,
        "start_time": "2023-12-14T14:04:47.978Z"
      },
      {
        "duration": 521,
        "start_time": "2023-12-14T14:04:55.560Z"
      },
      {
        "duration": 96,
        "start_time": "2023-12-14T14:07:16.130Z"
      },
      {
        "duration": 262,
        "start_time": "2023-12-14T14:40:22.904Z"
      },
      {
        "duration": 203,
        "start_time": "2023-12-14T14:40:40.116Z"
      },
      {
        "duration": 205,
        "start_time": "2023-12-14T14:40:54.504Z"
      },
      {
        "duration": 210,
        "start_time": "2023-12-14T14:41:02.755Z"
      },
      {
        "duration": 289,
        "start_time": "2023-12-14T14:45:18.136Z"
      },
      {
        "duration": 274,
        "start_time": "2023-12-14T14:47:57.077Z"
      },
      {
        "duration": 401,
        "start_time": "2023-12-14T14:48:03.475Z"
      },
      {
        "duration": 270,
        "start_time": "2023-12-14T14:48:10.319Z"
      },
      {
        "duration": 282,
        "start_time": "2023-12-14T14:49:29.613Z"
      },
      {
        "duration": 78,
        "start_time": "2023-12-14T15:29:15.720Z"
      },
      {
        "duration": 68,
        "start_time": "2023-12-14T15:29:34.063Z"
      },
      {
        "duration": 70,
        "start_time": "2023-12-14T15:30:07.215Z"
      },
      {
        "duration": 75,
        "start_time": "2023-12-14T15:30:37.032Z"
      },
      {
        "duration": 88,
        "start_time": "2023-12-14T15:33:40.320Z"
      },
      {
        "duration": 122,
        "start_time": "2023-12-14T15:34:01.068Z"
      },
      {
        "duration": 112,
        "start_time": "2023-12-14T15:34:11.102Z"
      },
      {
        "duration": 107,
        "start_time": "2023-12-14T15:34:42.624Z"
      },
      {
        "duration": 179,
        "start_time": "2023-12-14T15:34:58.225Z"
      },
      {
        "duration": 180,
        "start_time": "2023-12-14T15:35:15.817Z"
      },
      {
        "duration": 319,
        "start_time": "2023-12-14T15:35:33.964Z"
      },
      {
        "duration": 246,
        "start_time": "2023-12-14T15:52:34.469Z"
      },
      {
        "duration": 249,
        "start_time": "2023-12-14T15:53:03.613Z"
      },
      {
        "duration": 167,
        "start_time": "2023-12-14T18:19:57.125Z"
      },
      {
        "duration": 136,
        "start_time": "2023-12-14T18:21:28.863Z"
      },
      {
        "duration": 79,
        "start_time": "2023-12-14T18:26:10.869Z"
      },
      {
        "duration": 267,
        "start_time": "2023-12-14T18:27:10.378Z"
      },
      {
        "duration": 116,
        "start_time": "2023-12-14T18:27:58.947Z"
      },
      {
        "duration": 131,
        "start_time": "2023-12-14T18:28:17.579Z"
      },
      {
        "duration": 164,
        "start_time": "2023-12-14T18:28:26.019Z"
      },
      {
        "duration": 75,
        "start_time": "2023-12-14T18:28:57.425Z"
      },
      {
        "duration": 174,
        "start_time": "2023-12-14T18:29:11.252Z"
      },
      {
        "duration": 171,
        "start_time": "2023-12-14T18:29:22.554Z"
      },
      {
        "duration": 182,
        "start_time": "2023-12-14T18:29:40.604Z"
      },
      {
        "duration": 14,
        "start_time": "2023-12-14T18:37:48.954Z"
      },
      {
        "duration": 22,
        "start_time": "2023-12-14T18:38:05.000Z"
      },
      {
        "duration": 24,
        "start_time": "2023-12-14T18:38:28.264Z"
      },
      {
        "duration": 24,
        "start_time": "2023-12-14T18:39:57.745Z"
      },
      {
        "duration": 150,
        "start_time": "2023-12-14T18:44:08.072Z"
      },
      {
        "duration": 27,
        "start_time": "2023-12-14T18:44:25.203Z"
      },
      {
        "duration": 32,
        "start_time": "2023-12-14T18:44:37.388Z"
      },
      {
        "duration": 143,
        "start_time": "2023-12-14T18:44:50.259Z"
      },
      {
        "duration": 277,
        "start_time": "2023-12-14T18:45:00.051Z"
      },
      {
        "duration": 255,
        "start_time": "2023-12-14T18:45:23.206Z"
      },
      {
        "duration": 461,
        "start_time": "2023-12-14T18:45:30.279Z"
      },
      {
        "duration": 36,
        "start_time": "2023-12-14T18:48:02.984Z"
      },
      {
        "duration": 1364,
        "start_time": "2023-12-14T18:48:43.547Z"
      },
      {
        "duration": 1351,
        "start_time": "2023-12-14T18:49:32.973Z"
      },
      {
        "duration": 29,
        "start_time": "2023-12-14T18:49:58.442Z"
      },
      {
        "duration": 29,
        "start_time": "2023-12-14T18:50:45.880Z"
      },
      {
        "duration": 144,
        "start_time": "2023-12-14T18:53:03.976Z"
      },
      {
        "duration": 183,
        "start_time": "2023-12-14T18:54:48.151Z"
      },
      {
        "duration": 135,
        "start_time": "2023-12-14T19:07:31.805Z"
      },
      {
        "duration": 155,
        "start_time": "2023-12-14T19:08:31.580Z"
      },
      {
        "duration": 233,
        "start_time": "2023-12-14T19:19:21.231Z"
      },
      {
        "duration": 228,
        "start_time": "2023-12-14T19:20:00.660Z"
      },
      {
        "duration": 212,
        "start_time": "2023-12-14T19:20:56.962Z"
      },
      {
        "duration": 214,
        "start_time": "2023-12-14T19:21:49.318Z"
      },
      {
        "duration": 223,
        "start_time": "2023-12-14T19:22:01.631Z"
      },
      {
        "duration": 53,
        "start_time": "2024-01-08T18:51:45.711Z"
      },
      {
        "duration": 976,
        "start_time": "2024-01-08T18:51:51.368Z"
      },
      {
        "duration": 15,
        "start_time": "2024-01-08T18:51:52.346Z"
      },
      {
        "duration": 15,
        "start_time": "2024-01-08T18:51:52.362Z"
      },
      {
        "duration": 1747,
        "start_time": "2024-01-08T18:51:52.421Z"
      },
      {
        "duration": 27,
        "start_time": "2024-01-08T18:51:54.170Z"
      },
      {
        "duration": 86,
        "start_time": "2024-01-08T18:51:54.199Z"
      },
      {
        "duration": 6,
        "start_time": "2024-01-08T18:51:54.287Z"
      },
      {
        "duration": 12,
        "start_time": "2024-01-08T18:51:54.294Z"
      },
      {
        "duration": 7,
        "start_time": "2024-01-08T18:51:54.308Z"
      },
      {
        "duration": 7,
        "start_time": "2024-01-08T18:51:55.393Z"
      },
      {
        "duration": 103,
        "start_time": "2024-01-08T18:51:55.594Z"
      },
      {
        "duration": 16,
        "start_time": "2024-01-08T18:51:55.835Z"
      },
      {
        "duration": 5,
        "start_time": "2024-01-08T18:51:56.254Z"
      },
      {
        "duration": 152,
        "start_time": "2024-01-08T18:51:56.474Z"
      },
      {
        "duration": 288,
        "start_time": "2024-01-08T18:51:57.917Z"
      },
      {
        "duration": 1754,
        "start_time": "2024-01-08T18:51:59.129Z"
      },
      {
        "duration": 19,
        "start_time": "2024-01-08T18:52:00.884Z"
      },
      {
        "duration": 4,
        "start_time": "2024-01-08T18:52:01.557Z"
      },
      {
        "duration": 9,
        "start_time": "2024-01-08T18:52:04.235Z"
      },
      {
        "duration": 7,
        "start_time": "2024-01-08T18:52:13.395Z"
      },
      {
        "duration": 48,
        "start_time": "2024-01-08T18:52:58.084Z"
      },
      {
        "duration": 8,
        "start_time": "2024-01-08T18:53:30.379Z"
      },
      {
        "duration": 3,
        "start_time": "2024-01-08T18:53:37.663Z"
      }
    ],
    "kernelspec": {
      "display_name": "Python 3 (ipykernel)",
      "language": "python",
      "name": "python3"
    },
    "language_info": {
      "codemirror_mode": {
        "name": "ipython",
        "version": 3
      },
      "file_extension": ".py",
      "mimetype": "text/x-python",
      "name": "python",
      "nbconvert_exporter": "python",
      "pygments_lexer": "ipython3",
      "version": "3.9.5"
    },
    "toc": {
      "base_numbering": 1,
      "nav_menu": {},
      "number_sections": true,
      "sideBar": true,
      "skip_h1_title": true,
      "title_cell": "Table of Contents",
      "title_sidebar": "Contents",
      "toc_cell": false,
      "toc_position": {},
      "toc_section_display": true,
      "toc_window_display": false
    },
    "colab": {
      "provenance": [],
      "name": "Исследование рынка недвижимости С.-Петербурга.ipynb"
    }
  },
  "nbformat": 4,
  "nbformat_minor": 0
}